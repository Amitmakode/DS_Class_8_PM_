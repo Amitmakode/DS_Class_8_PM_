{
 "cells": [
  {
   "cell_type": "markdown",
   "id": "0db273d0-7faa-4edd-bf4b-ccdabf49f605",
   "metadata": {},
   "source": [
    "### List"
   ]
  },
  {
   "cell_type": "code",
   "execution_count": 3,
   "id": "d9aa517b-27ba-4ac4-95f7-0301a07f91b9",
   "metadata": {},
   "outputs": [],
   "source": [
    "fruits = [ \"Apple\", \"Banana\", \"Mango\", \"Orange\", \"Grapes\", \n",
    "    \"Pineapple\", \"Watermelon\", \"Papaya\", \"Guava\", \"Pomegranate\",\n",
    "    \"Lemon\", \"Lime\", \"Sweet Lime\", \"Grapefruit\", \"Peach\"]"
   ]
  },
  {
   "cell_type": "code",
   "execution_count": 4,
   "id": "3e64ef95-eb59-4327-8c9d-909faab5e38d",
   "metadata": {},
   "outputs": [],
   "source": [
    "lis = [1,2,3,4,5,6]"
   ]
  },
  {
   "cell_type": "code",
   "execution_count": 5,
   "id": "20dabe62-58a8-482b-a8d0-9ef1587b723e",
   "metadata": {},
   "outputs": [
    {
     "data": {
      "text/plain": [
       "'Grapes'"
      ]
     },
     "execution_count": 5,
     "metadata": {},
     "output_type": "execute_result"
    }
   ],
   "source": [
    "fruits[4]"
   ]
  },
  {
   "cell_type": "code",
   "execution_count": 6,
   "id": "5e4f68d9-089c-4a75-8fa8-bf756e19b267",
   "metadata": {},
   "outputs": [
    {
     "data": {
      "text/plain": [
       "'Sweet Lime'"
      ]
     },
     "execution_count": 6,
     "metadata": {},
     "output_type": "execute_result"
    }
   ],
   "source": [
    "fruits[-3]"
   ]
  },
  {
   "cell_type": "code",
   "execution_count": 7,
   "id": "bed126eb-9d8c-447f-ad24-860f031e84f9",
   "metadata": {},
   "outputs": [
    {
     "data": {
      "text/plain": [
       "['Orange', 'Grapes', 'Pineapple', 'Watermelon', 'Papaya', 'Guava']"
      ]
     },
     "execution_count": 7,
     "metadata": {},
     "output_type": "execute_result"
    }
   ],
   "source": [
    "fruits[3:9]"
   ]
  },
  {
   "cell_type": "code",
   "execution_count": 9,
   "id": "b822b8e7-355f-4d7c-84bd-48b98d10a062",
   "metadata": {},
   "outputs": [
    {
     "data": {
      "text/plain": [
       "['Apple',\n",
       " 'Banana',\n",
       " 'Mango',\n",
       " 'Orange',\n",
       " 'Grapes',\n",
       " 'Pineapple',\n",
       " 'Watermelon',\n",
       " 'Papaya',\n",
       " 'Guava',\n",
       " 'Pomegranate',\n",
       " 'Lemon',\n",
       " 'Lime',\n",
       " 'Sweet Lime',\n",
       " 'Grapefruit',\n",
       " 'Peach']"
      ]
     },
     "execution_count": 9,
     "metadata": {},
     "output_type": "execute_result"
    }
   ],
   "source": [
    "fruits"
   ]
  },
  {
   "cell_type": "code",
   "execution_count": 8,
   "id": "8ad709eb-5b65-4cbb-9af3-426c97c21ac0",
   "metadata": {},
   "outputs": [
    {
     "data": {
      "text/plain": [
       "['Apple',\n",
       " 'Mango',\n",
       " 'Grapes',\n",
       " 'Watermelon',\n",
       " 'Guava',\n",
       " 'Lemon',\n",
       " 'Sweet Lime',\n",
       " 'Peach']"
      ]
     },
     "execution_count": 8,
     "metadata": {},
     "output_type": "execute_result"
    }
   ],
   "source": [
    "fruits[::2]"
   ]
  },
  {
   "cell_type": "code",
   "execution_count": 10,
   "id": "f1ccac8b-a7ad-4628-bfe9-69f324e7886f",
   "metadata": {},
   "outputs": [
    {
     "data": {
      "text/plain": [
       "['Peach',\n",
       " 'Grapefruit',\n",
       " 'Sweet Lime',\n",
       " 'Lime',\n",
       " 'Lemon',\n",
       " 'Pomegranate',\n",
       " 'Guava',\n",
       " 'Papaya',\n",
       " 'Watermelon',\n",
       " 'Pineapple',\n",
       " 'Grapes',\n",
       " 'Orange',\n",
       " 'Mango',\n",
       " 'Banana',\n",
       " 'Apple']"
      ]
     },
     "execution_count": 10,
     "metadata": {},
     "output_type": "execute_result"
    }
   ],
   "source": [
    "fruits[::-1]"
   ]
  },
  {
   "cell_type": "code",
   "execution_count": 11,
   "id": "49c43842-37a7-41c1-a620-c0ec4a9f1e10",
   "metadata": {},
   "outputs": [
    {
     "data": {
      "text/plain": [
       "[1,\n",
       " 2,\n",
       " 3,\n",
       " 4,\n",
       " 5,\n",
       " 6,\n",
       " 'Apple',\n",
       " 'Banana',\n",
       " 'Mango',\n",
       " 'Orange',\n",
       " 'Grapes',\n",
       " 'Pineapple',\n",
       " 'Watermelon',\n",
       " 'Papaya',\n",
       " 'Guava',\n",
       " 'Pomegranate',\n",
       " 'Lemon',\n",
       " 'Lime',\n",
       " 'Sweet Lime',\n",
       " 'Grapefruit',\n",
       " 'Peach']"
      ]
     },
     "execution_count": 11,
     "metadata": {},
     "output_type": "execute_result"
    }
   ],
   "source": [
    "lis + fruits"
   ]
  },
  {
   "cell_type": "code",
   "execution_count": 12,
   "id": "626f7d2d-9575-47c4-992a-9d04794abed6",
   "metadata": {},
   "outputs": [
    {
     "data": {
      "text/plain": [
       "[1, 2, 3, 4, 5, 6, 1, 2, 3, 4, 5, 6, 1, 2, 3, 4, 5, 6]"
      ]
     },
     "execution_count": 12,
     "metadata": {},
     "output_type": "execute_result"
    }
   ],
   "source": [
    "lis*3"
   ]
  },
  {
   "cell_type": "code",
   "execution_count": 14,
   "id": "cfc24750-b35e-47d7-b069-8dd9a9a71470",
   "metadata": {},
   "outputs": [],
   "source": [
    "lis[3] = 44"
   ]
  },
  {
   "cell_type": "code",
   "execution_count": 15,
   "id": "31fde87d-a450-4133-87c5-c82685fdb06c",
   "metadata": {},
   "outputs": [
    {
     "data": {
      "text/plain": [
       "[1, 2, 3, 44, 5, 6]"
      ]
     },
     "execution_count": 15,
     "metadata": {},
     "output_type": "execute_result"
    }
   ],
   "source": [
    "lis"
   ]
  },
  {
   "cell_type": "code",
   "execution_count": 16,
   "id": "5f69b3bb-dc6b-4d90-a19a-67f5cc123f0e",
   "metadata": {},
   "outputs": [],
   "source": [
    "lis.append(77)"
   ]
  },
  {
   "cell_type": "code",
   "execution_count": 17,
   "id": "29752726-846e-4bf9-a216-e7bb17e1af61",
   "metadata": {},
   "outputs": [
    {
     "data": {
      "text/plain": [
       "[1, 2, 3, 44, 5, 6, 77]"
      ]
     },
     "execution_count": 17,
     "metadata": {},
     "output_type": "execute_result"
    }
   ],
   "source": [
    "lis"
   ]
  },
  {
   "cell_type": "code",
   "execution_count": 18,
   "id": "e95f53d4-f0d8-4bfd-81b4-56ff8111b1d7",
   "metadata": {},
   "outputs": [],
   "source": [
    "lis.append([8,8])"
   ]
  },
  {
   "cell_type": "code",
   "execution_count": 19,
   "id": "0352c497-8c2f-483f-a6b7-6b9843a60b46",
   "metadata": {},
   "outputs": [
    {
     "data": {
      "text/plain": [
       "[1, 2, 3, 44, 5, 6, 77, [8, 8]]"
      ]
     },
     "execution_count": 19,
     "metadata": {},
     "output_type": "execute_result"
    }
   ],
   "source": [
    "lis"
   ]
  },
  {
   "cell_type": "code",
   "execution_count": 20,
   "id": "30e60bba-29c4-4f33-a460-c0eb112b41a6",
   "metadata": {},
   "outputs": [
    {
     "ename": "TypeError",
     "evalue": "'int' object is not iterable",
     "output_type": "error",
     "traceback": [
      "\u001b[1;31m---------------------------------------------------------------------------\u001b[0m",
      "\u001b[1;31mTypeError\u001b[0m                                 Traceback (most recent call last)",
      "Cell \u001b[1;32mIn[20], line 1\u001b[0m\n\u001b[1;32m----> 1\u001b[0m lis\u001b[38;5;241m.\u001b[39mextend(\u001b[38;5;241m99\u001b[39m)\n",
      "\u001b[1;31mTypeError\u001b[0m: 'int' object is not iterable"
     ]
    }
   ],
   "source": [
    "lis.extend(99)"
   ]
  },
  {
   "cell_type": "code",
   "execution_count": 21,
   "id": "9121d131-7249-4c0f-880c-d37a9237cec7",
   "metadata": {},
   "outputs": [],
   "source": [
    "lis.extend([9,9])"
   ]
  },
  {
   "cell_type": "code",
   "execution_count": 22,
   "id": "7dc6480a-82a6-4286-9d1a-b5c4492f139f",
   "metadata": {},
   "outputs": [
    {
     "data": {
      "text/plain": [
       "[1, 2, 3, 44, 5, 6, 77, [8, 8], 9, 9]"
      ]
     },
     "execution_count": 22,
     "metadata": {},
     "output_type": "execute_result"
    }
   ],
   "source": [
    "lis"
   ]
  },
  {
   "cell_type": "code",
   "execution_count": 23,
   "id": "73b96bf5-8efd-4d40-96cd-fb751d357e19",
   "metadata": {},
   "outputs": [],
   "source": [
    "lis.insert(3, 33)"
   ]
  },
  {
   "cell_type": "code",
   "execution_count": 24,
   "id": "1a44c864-95e1-41a9-bf3f-e018a9e92da9",
   "metadata": {},
   "outputs": [
    {
     "data": {
      "text/plain": [
       "[1, 2, 3, 33, 44, 5, 6, 77, [8, 8], 9, 9]"
      ]
     },
     "execution_count": 24,
     "metadata": {},
     "output_type": "execute_result"
    }
   ],
   "source": [
    "lis"
   ]
  },
  {
   "cell_type": "code",
   "execution_count": 26,
   "id": "4caf12f6-aff9-41ea-b1d9-0bea55bd928f",
   "metadata": {},
   "outputs": [
    {
     "data": {
      "text/plain": [
       "9"
      ]
     },
     "execution_count": 26,
     "metadata": {},
     "output_type": "execute_result"
    }
   ],
   "source": [
    "lis.pop()"
   ]
  },
  {
   "cell_type": "code",
   "execution_count": 28,
   "id": "85b2b9d1-03d6-4551-977d-21845603bf40",
   "metadata": {},
   "outputs": [
    {
     "data": {
      "text/plain": [
       "9"
      ]
     },
     "execution_count": 28,
     "metadata": {},
     "output_type": "execute_result"
    }
   ],
   "source": [
    "lis.pop()"
   ]
  },
  {
   "cell_type": "code",
   "execution_count": 31,
   "id": "e8c2f80b-42d3-4a83-9201-8e25dd9ae19b",
   "metadata": {},
   "outputs": [
    {
     "ename": "ValueError",
     "evalue": "list.remove(x): x not in list",
     "output_type": "error",
     "traceback": [
      "\u001b[1;31m---------------------------------------------------------------------------\u001b[0m",
      "\u001b[1;31mValueError\u001b[0m                                Traceback (most recent call last)",
      "Cell \u001b[1;32mIn[31], line 1\u001b[0m\n\u001b[1;32m----> 1\u001b[0m lis\u001b[38;5;241m.\u001b[39mremove([\u001b[38;5;241m8\u001b[39m])\n",
      "\u001b[1;31mValueError\u001b[0m: list.remove(x): x not in list"
     ]
    }
   ],
   "source": [
    "lis.remove([8])"
   ]
  },
  {
   "cell_type": "code",
   "execution_count": 32,
   "id": "b812e9a2-6f97-474f-8c3d-20d4042c1930",
   "metadata": {},
   "outputs": [],
   "source": [
    "lis.remove(44)"
   ]
  },
  {
   "cell_type": "code",
   "execution_count": 34,
   "id": "eb69c1c8-d548-45b5-bedb-da942b51fbbc",
   "metadata": {},
   "outputs": [],
   "source": [
    "lis.remove(77)"
   ]
  },
  {
   "cell_type": "code",
   "execution_count": 36,
   "id": "15cf9651-23cd-4ca3-b111-b58530813f2d",
   "metadata": {},
   "outputs": [],
   "source": [
    "lis.remove([8,8])"
   ]
  },
  {
   "cell_type": "code",
   "execution_count": 37,
   "id": "3533518e-7a66-4e10-8736-81c6fde688e8",
   "metadata": {},
   "outputs": [
    {
     "data": {
      "text/plain": [
       "[1, 2, 3, 33, 5, 6]"
      ]
     },
     "execution_count": 37,
     "metadata": {},
     "output_type": "execute_result"
    }
   ],
   "source": [
    "lis"
   ]
  },
  {
   "cell_type": "code",
   "execution_count": 38,
   "id": "2be80eb2-a480-4b8a-a295-5efa6e356318",
   "metadata": {},
   "outputs": [],
   "source": [
    "l2 = lis.copy()"
   ]
  },
  {
   "cell_type": "code",
   "execution_count": 41,
   "id": "151c3da5-966d-4bb4-8190-e65ec07f6cc1",
   "metadata": {},
   "outputs": [],
   "source": [
    "l2.clear()"
   ]
  },
  {
   "cell_type": "code",
   "execution_count": 40,
   "id": "a2470bb9-5772-42df-87b8-ab709035535a",
   "metadata": {},
   "outputs": [
    {
     "data": {
      "text/plain": [
       "[1, 2, 3, 33, 5, 6]"
      ]
     },
     "execution_count": 40,
     "metadata": {},
     "output_type": "execute_result"
    }
   ],
   "source": [
    "lis"
   ]
  },
  {
   "cell_type": "code",
   "execution_count": 42,
   "id": "0f1063bf-25a3-43e3-9e22-3abb398b0f04",
   "metadata": {},
   "outputs": [
    {
     "data": {
      "text/plain": [
       "[]"
      ]
     },
     "execution_count": 42,
     "metadata": {},
     "output_type": "execute_result"
    }
   ],
   "source": [
    "l2"
   ]
  },
  {
   "cell_type": "code",
   "execution_count": 43,
   "id": "f3338cf5-1d58-44e5-81d7-8933038bdf69",
   "metadata": {},
   "outputs": [
    {
     "data": {
      "text/plain": [
       "1"
      ]
     },
     "execution_count": 43,
     "metadata": {},
     "output_type": "execute_result"
    }
   ],
   "source": [
    "lis.count(3)"
   ]
  },
  {
   "cell_type": "code",
   "execution_count": 44,
   "id": "fab27f5c-277b-4b16-9d50-7a99c85f89f5",
   "metadata": {},
   "outputs": [],
   "source": [
    "lis.sort()"
   ]
  },
  {
   "cell_type": "code",
   "execution_count": 45,
   "id": "3f6f8016-9dbe-4ca0-af2b-e549d739a5b6",
   "metadata": {},
   "outputs": [
    {
     "data": {
      "text/plain": [
       "[1, 2, 3, 5, 6, 33]"
      ]
     },
     "execution_count": 45,
     "metadata": {},
     "output_type": "execute_result"
    }
   ],
   "source": [
    "lis"
   ]
  },
  {
   "cell_type": "code",
   "execution_count": 46,
   "id": "5de44871-f894-4e02-ad10-42db0853462c",
   "metadata": {},
   "outputs": [],
   "source": [
    "lis.reverse()"
   ]
  },
  {
   "cell_type": "code",
   "execution_count": 47,
   "id": "2d5b3476-13e7-4b28-9b9d-19fd24106241",
   "metadata": {},
   "outputs": [
    {
     "data": {
      "text/plain": [
       "[33, 6, 5, 3, 2, 1]"
      ]
     },
     "execution_count": 47,
     "metadata": {},
     "output_type": "execute_result"
    }
   ],
   "source": [
    "lis"
   ]
  },
  {
   "cell_type": "code",
   "execution_count": 49,
   "id": "adb7f341-f018-42eb-9565-77b00334502a",
   "metadata": {},
   "outputs": [],
   "source": [
    "fruits.reverse()"
   ]
  },
  {
   "cell_type": "code",
   "execution_count": 50,
   "id": "495c1872-5ca4-4271-846f-18c0fcd99de9",
   "metadata": {},
   "outputs": [
    {
     "data": {
      "text/plain": [
       "['Peach',\n",
       " 'Grapefruit',\n",
       " 'Sweet Lime',\n",
       " 'Lime',\n",
       " 'Lemon',\n",
       " 'Pomegranate',\n",
       " 'Guava',\n",
       " 'Papaya',\n",
       " 'Watermelon',\n",
       " 'Pineapple',\n",
       " 'Grapes',\n",
       " 'Orange',\n",
       " 'Mango',\n",
       " 'Banana',\n",
       " 'Apple']"
      ]
     },
     "execution_count": 50,
     "metadata": {},
     "output_type": "execute_result"
    }
   ],
   "source": [
    "fruits"
   ]
  },
  {
   "cell_type": "code",
   "execution_count": 52,
   "id": "6db74a61-d32a-42dd-b6e7-5a5a2d80b46c",
   "metadata": {},
   "outputs": [
    {
     "data": {
      "text/plain": [
       "True"
      ]
     },
     "execution_count": 52,
     "metadata": {},
     "output_type": "execute_result"
    }
   ],
   "source": [
    "\"Apple\" in fruits"
   ]
  },
  {
   "cell_type": "code",
   "execution_count": 53,
   "id": "034cd224-bf52-431c-9d72-aa094732bab9",
   "metadata": {},
   "outputs": [
    {
     "data": {
      "text/plain": [
       "False"
      ]
     },
     "execution_count": 53,
     "metadata": {},
     "output_type": "execute_result"
    }
   ],
   "source": [
    "[\"Apple\", \"Grapes\"] in fruits"
   ]
  },
  {
   "cell_type": "code",
   "execution_count": 55,
   "id": "f428c15c-b368-4f72-9ab9-703a98503257",
   "metadata": {},
   "outputs": [],
   "source": [
    "lis.append([2,3])"
   ]
  },
  {
   "cell_type": "code",
   "execution_count": 56,
   "id": "a8a45616-aeca-4839-bb36-73f83b8a2827",
   "metadata": {},
   "outputs": [
    {
     "data": {
      "text/plain": [
       "[33, 6, 5, 3, 2, 1, [2, 3]]"
      ]
     },
     "execution_count": 56,
     "metadata": {},
     "output_type": "execute_result"
    }
   ],
   "source": [
    "lis"
   ]
  },
  {
   "cell_type": "code",
   "execution_count": 57,
   "id": "1fc53e93-4fc1-44af-893b-52b3113757ba",
   "metadata": {},
   "outputs": [
    {
     "data": {
      "text/plain": [
       "True"
      ]
     },
     "execution_count": 57,
     "metadata": {},
     "output_type": "execute_result"
    }
   ],
   "source": [
    "[2, 3] in lis"
   ]
  },
  {
   "cell_type": "markdown",
   "id": "cd35a6ff-9773-4a5e-90ec-4ab1dda9bcef",
   "metadata": {},
   "source": [
    "### Set"
   ]
  },
  {
   "cell_type": "code",
   "execution_count": 58,
   "id": "330ca6b0-75ab-4ce3-9cd1-96a0abd73e18",
   "metadata": {},
   "outputs": [],
   "source": [
    "s1 = {}"
   ]
  },
  {
   "cell_type": "code",
   "execution_count": 59,
   "id": "e999d8bc-9769-4199-abb3-05a9de3b2c08",
   "metadata": {},
   "outputs": [
    {
     "data": {
      "text/plain": [
       "dict"
      ]
     },
     "execution_count": 59,
     "metadata": {},
     "output_type": "execute_result"
    }
   ],
   "source": [
    "type(s1)"
   ]
  },
  {
   "cell_type": "code",
   "execution_count": 61,
   "id": "4fec1f4d-497d-4c40-a9a7-203805b36d3c",
   "metadata": {},
   "outputs": [],
   "source": [
    "s1 = {1,2,3,4,4,4}\n",
    "s2 = {3,4,5,5,5,6}"
   ]
  },
  {
   "cell_type": "code",
   "execution_count": 62,
   "id": "2cba2a93-1e0f-41cf-9e0b-fb7e54b7c10b",
   "metadata": {},
   "outputs": [
    {
     "data": {
      "text/plain": [
       "{1, 2, 3, 4}"
      ]
     },
     "execution_count": 62,
     "metadata": {},
     "output_type": "execute_result"
    }
   ],
   "source": [
    "s1"
   ]
  },
  {
   "cell_type": "code",
   "execution_count": 63,
   "id": "ebefb4d1-acff-43c7-98ab-1bd0546ae9bd",
   "metadata": {},
   "outputs": [
    {
     "data": {
      "text/plain": [
       "{3, 4, 5, 6}"
      ]
     },
     "execution_count": 63,
     "metadata": {},
     "output_type": "execute_result"
    }
   ],
   "source": [
    "s2"
   ]
  },
  {
   "cell_type": "code",
   "execution_count": 64,
   "id": "c9584e9d-8f40-4192-9ae2-253cb205b3fc",
   "metadata": {},
   "outputs": [
    {
     "ename": "TypeError",
     "evalue": "'set' object is not subscriptable",
     "output_type": "error",
     "traceback": [
      "\u001b[1;31m---------------------------------------------------------------------------\u001b[0m",
      "\u001b[1;31mTypeError\u001b[0m                                 Traceback (most recent call last)",
      "Cell \u001b[1;32mIn[64], line 1\u001b[0m\n\u001b[1;32m----> 1\u001b[0m s1[\u001b[38;5;241m0\u001b[39m]\n",
      "\u001b[1;31mTypeError\u001b[0m: 'set' object is not subscriptable"
     ]
    }
   ],
   "source": [
    "s1[0]"
   ]
  },
  {
   "cell_type": "code",
   "execution_count": 65,
   "id": "3cf2936c-10ba-488b-a26a-9db28e8a4c81",
   "metadata": {},
   "outputs": [
    {
     "ename": "TypeError",
     "evalue": "'set' object is not subscriptable",
     "output_type": "error",
     "traceback": [
      "\u001b[1;31m---------------------------------------------------------------------------\u001b[0m",
      "\u001b[1;31mTypeError\u001b[0m                                 Traceback (most recent call last)",
      "Cell \u001b[1;32mIn[65], line 1\u001b[0m\n\u001b[1;32m----> 1\u001b[0m s1[:]\n",
      "\u001b[1;31mTypeError\u001b[0m: 'set' object is not subscriptable"
     ]
    }
   ],
   "source": [
    "s1[:]"
   ]
  },
  {
   "cell_type": "code",
   "execution_count": 66,
   "id": "f5178681-7c5c-4a56-b2b7-c039e2ce147f",
   "metadata": {},
   "outputs": [
    {
     "ename": "TypeError",
     "evalue": "unsupported operand type(s) for +: 'set' and 'set'",
     "output_type": "error",
     "traceback": [
      "\u001b[1;31m---------------------------------------------------------------------------\u001b[0m",
      "\u001b[1;31mTypeError\u001b[0m                                 Traceback (most recent call last)",
      "Cell \u001b[1;32mIn[66], line 1\u001b[0m\n\u001b[1;32m----> 1\u001b[0m s1\u001b[38;5;241m+\u001b[39ms1\n",
      "\u001b[1;31mTypeError\u001b[0m: unsupported operand type(s) for +: 'set' and 'set'"
     ]
    }
   ],
   "source": [
    "s1+s1"
   ]
  },
  {
   "cell_type": "code",
   "execution_count": 67,
   "id": "7ba6443a-d34f-4c0e-b4a0-e4aa4a4031af",
   "metadata": {},
   "outputs": [
    {
     "ename": "TypeError",
     "evalue": "unsupported operand type(s) for *: 'set' and 'int'",
     "output_type": "error",
     "traceback": [
      "\u001b[1;31m---------------------------------------------------------------------------\u001b[0m",
      "\u001b[1;31mTypeError\u001b[0m                                 Traceback (most recent call last)",
      "Cell \u001b[1;32mIn[67], line 1\u001b[0m\n\u001b[1;32m----> 1\u001b[0m s1\u001b[38;5;241m*\u001b[39m\u001b[38;5;241m3\u001b[39m\n",
      "\u001b[1;31mTypeError\u001b[0m: unsupported operand type(s) for *: 'set' and 'int'"
     ]
    }
   ],
   "source": [
    "s1*3"
   ]
  },
  {
   "cell_type": "code",
   "execution_count": 68,
   "id": "0081794f-96ad-40d9-bbfa-287901d6620e",
   "metadata": {},
   "outputs": [
    {
     "ename": "TypeError",
     "evalue": "'set' object does not support item assignment",
     "output_type": "error",
     "traceback": [
      "\u001b[1;31m---------------------------------------------------------------------------\u001b[0m",
      "\u001b[1;31mTypeError\u001b[0m                                 Traceback (most recent call last)",
      "Cell \u001b[1;32mIn[68], line 1\u001b[0m\n\u001b[1;32m----> 1\u001b[0m s2[\u001b[38;5;241m0\u001b[39m] \u001b[38;5;241m=\u001b[39m \u001b[38;5;241m22\u001b[39m\n",
      "\u001b[1;31mTypeError\u001b[0m: 'set' object does not support item assignment"
     ]
    }
   ],
   "source": [
    "s2[0] = 22"
   ]
  },
  {
   "cell_type": "code",
   "execution_count": 72,
   "id": "ae896f1c-54ca-4000-a662-81da04236880",
   "metadata": {},
   "outputs": [],
   "source": [
    "s3 = {1, 4.5, True, 56+7j, \"py\",(3,4),}"
   ]
  },
  {
   "cell_type": "code",
   "execution_count": 73,
   "id": "0a3415e3-ba26-4a64-92b3-dd3836ebcbbc",
   "metadata": {},
   "outputs": [
    {
     "data": {
      "text/plain": [
       "{(3, 4), (56+7j), 1, 4.5, 'py'}"
      ]
     },
     "execution_count": 73,
     "metadata": {},
     "output_type": "execute_result"
    }
   ],
   "source": [
    "s3"
   ]
  },
  {
   "cell_type": "code",
   "execution_count": 74,
   "id": "d9750a2d-297f-45eb-9a93-bf7b57e22e95",
   "metadata": {},
   "outputs": [],
   "source": [
    "s1 = {1, 2, 3}\n",
    "s2 = {3, 4, 5}\n",
    "s1.update(s2) "
   ]
  },
  {
   "cell_type": "code",
   "execution_count": 75,
   "id": "5ad745af-c3ee-4b49-ad50-aa026f0f537e",
   "metadata": {},
   "outputs": [
    {
     "data": {
      "text/plain": [
       "{1, 2, 3, 4, 5}"
      ]
     },
     "execution_count": 75,
     "metadata": {},
     "output_type": "execute_result"
    }
   ],
   "source": [
    "s1"
   ]
  },
  {
   "cell_type": "code",
   "execution_count": 76,
   "id": "31d0559b-c378-4f26-a741-10d2972d3a03",
   "metadata": {},
   "outputs": [],
   "source": [
    "s = {1, 2, 3,4,5}\n",
    "s.remove(5)"
   ]
  },
  {
   "cell_type": "code",
   "execution_count": 78,
   "id": "2538a8de-b2d7-43ab-b5c4-0605c3422176",
   "metadata": {},
   "outputs": [
    {
     "ename": "KeyError",
     "evalue": "5",
     "output_type": "error",
     "traceback": [
      "\u001b[1;31m---------------------------------------------------------------------------\u001b[0m",
      "\u001b[1;31mKeyError\u001b[0m                                  Traceback (most recent call last)",
      "Cell \u001b[1;32mIn[78], line 1\u001b[0m\n\u001b[1;32m----> 1\u001b[0m s\u001b[38;5;241m.\u001b[39mremove(\u001b[38;5;241m5\u001b[39m)\n",
      "\u001b[1;31mKeyError\u001b[0m: 5"
     ]
    }
   ],
   "source": [
    "s.remove(5)"
   ]
  },
  {
   "cell_type": "code",
   "execution_count": 79,
   "id": "86c2fa32-490d-485d-b134-69b63c48aa4d",
   "metadata": {},
   "outputs": [],
   "source": [
    "s = {1, 2, 3,4,5}\n",
    "s.discard(5)"
   ]
  },
  {
   "cell_type": "code",
   "execution_count": 81,
   "id": "81b6599d-0e22-42fa-b374-ea2b932f803d",
   "metadata": {},
   "outputs": [],
   "source": [
    "s.discard(5)"
   ]
  },
  {
   "cell_type": "code",
   "execution_count": 82,
   "id": "d5c367f0-3136-416b-90f6-6b7fd4411380",
   "metadata": {},
   "outputs": [
    {
     "data": {
      "text/plain": [
       "{1, 2, 3, 4}"
      ]
     },
     "execution_count": 82,
     "metadata": {},
     "output_type": "execute_result"
    }
   ],
   "source": [
    "s"
   ]
  },
  {
   "cell_type": "code",
   "execution_count": 83,
   "id": "cbf31c94-e782-4f89-a8bf-1b9bdff221e0",
   "metadata": {},
   "outputs": [],
   "source": [
    "s = {1, 2, 3,4}\n",
    "x = s.pop()"
   ]
  },
  {
   "cell_type": "code",
   "execution_count": 84,
   "id": "0e9187ac-fe82-49c0-896e-14b14ebe77e9",
   "metadata": {},
   "outputs": [
    {
     "data": {
      "text/plain": [
       "1"
      ]
     },
     "execution_count": 84,
     "metadata": {},
     "output_type": "execute_result"
    }
   ],
   "source": [
    "x"
   ]
  },
  {
   "cell_type": "code",
   "execution_count": 86,
   "id": "487d5ec3-2410-4b61-bdf2-dccf3f8e3eb0",
   "metadata": {},
   "outputs": [
    {
     "data": {
      "text/plain": [
       "2"
      ]
     },
     "execution_count": 86,
     "metadata": {},
     "output_type": "execute_result"
    }
   ],
   "source": [
    "s.pop()"
   ]
  },
  {
   "cell_type": "code",
   "execution_count": 87,
   "id": "6adf36c6-3ffb-43c5-a0ef-c574122f12aa",
   "metadata": {},
   "outputs": [
    {
     "data": {
      "text/plain": [
       "{3, 4}"
      ]
     },
     "execution_count": 87,
     "metadata": {},
     "output_type": "execute_result"
    }
   ],
   "source": [
    "s"
   ]
  },
  {
   "cell_type": "code",
   "execution_count": 88,
   "id": "048feb82-516a-452c-9db2-6a7075a97a6c",
   "metadata": {},
   "outputs": [],
   "source": [
    "s = {1, 2, 3}\n",
    "s.clear() "
   ]
  },
  {
   "cell_type": "code",
   "execution_count": 89,
   "id": "048a8154-e04e-4e36-b778-cec23c383ae7",
   "metadata": {},
   "outputs": [
    {
     "data": {
      "text/plain": [
       "set()"
      ]
     },
     "execution_count": 89,
     "metadata": {},
     "output_type": "execute_result"
    }
   ],
   "source": [
    "s"
   ]
  },
  {
   "cell_type": "code",
   "execution_count": 90,
   "id": "6cc6ed3d-5aaf-4796-a448-ababb7247e36",
   "metadata": {},
   "outputs": [
    {
     "data": {
      "text/plain": [
       "{1, 2, 3, 4, 5, 6}"
      ]
     },
     "execution_count": 90,
     "metadata": {},
     "output_type": "execute_result"
    }
   ],
   "source": [
    "s1 = {1, 2, 3,4}\n",
    "s2 = {3, 4, 5,6}\n",
    "s1.union(s2)"
   ]
  },
  {
   "cell_type": "code",
   "execution_count": 91,
   "id": "dd66e3a3-7b8f-43e4-8d16-e8ef515d7f30",
   "metadata": {},
   "outputs": [
    {
     "ename": "TypeError",
     "evalue": "'int' object is not iterable",
     "output_type": "error",
     "traceback": [
      "\u001b[1;31m---------------------------------------------------------------------------\u001b[0m",
      "\u001b[1;31mTypeError\u001b[0m                                 Traceback (most recent call last)",
      "Cell \u001b[1;32mIn[91], line 1\u001b[0m\n\u001b[1;32m----> 1\u001b[0m s1\u001b[38;5;241m.\u001b[39mupdate(\u001b[38;5;241m4\u001b[39m)\n",
      "\u001b[1;31mTypeError\u001b[0m: 'int' object is not iterable"
     ]
    }
   ],
   "source": [
    "s1.update(4)"
   ]
  },
  {
   "cell_type": "code",
   "execution_count": 92,
   "id": "e5071302-b976-4c46-b712-0a577e708655",
   "metadata": {},
   "outputs": [
    {
     "ename": "TypeError",
     "evalue": "'int' object is not iterable",
     "output_type": "error",
     "traceback": [
      "\u001b[1;31m---------------------------------------------------------------------------\u001b[0m",
      "\u001b[1;31mTypeError\u001b[0m                                 Traceback (most recent call last)",
      "Cell \u001b[1;32mIn[92], line 1\u001b[0m\n\u001b[1;32m----> 1\u001b[0m s1\u001b[38;5;241m.\u001b[39munion(\u001b[38;5;241m4\u001b[39m)\n",
      "\u001b[1;31mTypeError\u001b[0m: 'int' object is not iterable"
     ]
    }
   ],
   "source": [
    "s1.union(4)"
   ]
  },
  {
   "cell_type": "code",
   "execution_count": 93,
   "id": "2a4518ce-2ae6-467a-8921-ea114eb6136b",
   "metadata": {},
   "outputs": [
    {
     "data": {
      "text/plain": [
       "{3, 4}"
      ]
     },
     "execution_count": 93,
     "metadata": {},
     "output_type": "execute_result"
    }
   ],
   "source": [
    "s1 = {1, 2, 3,4}\n",
    "s2 = {3, 4, 5}\n",
    "s1.intersection(s2)"
   ]
  },
  {
   "cell_type": "code",
   "execution_count": 94,
   "id": "7e01570f-60df-4b4d-8f5f-768d10bdd123",
   "metadata": {},
   "outputs": [
    {
     "data": {
      "text/plain": [
       "{1, 2}"
      ]
     },
     "execution_count": 94,
     "metadata": {},
     "output_type": "execute_result"
    }
   ],
   "source": [
    "s1 = {1, 2, 3}\n",
    "s2 = {3, 4, 5}\n",
    "s1.difference(s2) "
   ]
  },
  {
   "cell_type": "code",
   "execution_count": 95,
   "id": "96396f97-2428-4d4b-8d27-470e026e9dda",
   "metadata": {},
   "outputs": [
    {
     "data": {
      "text/plain": [
       "{1, 2, 3}"
      ]
     },
     "execution_count": 95,
     "metadata": {},
     "output_type": "execute_result"
    }
   ],
   "source": [
    "s1"
   ]
  },
  {
   "cell_type": "code",
   "execution_count": 96,
   "id": "72404767-0378-4f74-acfc-c492f407a277",
   "metadata": {},
   "outputs": [
    {
     "data": {
      "text/plain": [
       "{3, 4, 5}"
      ]
     },
     "execution_count": 96,
     "metadata": {},
     "output_type": "execute_result"
    }
   ],
   "source": [
    "s2"
   ]
  },
  {
   "cell_type": "code",
   "execution_count": 97,
   "id": "90338606-111f-44c4-98c4-fdf75fecd2c4",
   "metadata": {},
   "outputs": [
    {
     "data": {
      "text/plain": [
       "{1, 2, 4, 5}"
      ]
     },
     "execution_count": 97,
     "metadata": {},
     "output_type": "execute_result"
    }
   ],
   "source": [
    "s1 = {1, 2, 3}\n",
    "s2 = {3, 4, 5}\n",
    "s1.symmetric_difference(s2)"
   ]
  },
  {
   "cell_type": "code",
   "execution_count": 101,
   "id": "918bc582-6d64-4e39-a1dc-15d85228d465",
   "metadata": {},
   "outputs": [],
   "source": [
    "s1 = {1, 2, 3, 4}\n",
    "s2 = {3, 4, 5}"
   ]
  },
  {
   "cell_type": "code",
   "execution_count": 102,
   "id": "5326478b-e9ab-482b-b967-199208e3e80f",
   "metadata": {},
   "outputs": [],
   "source": [
    "s1.intersection_update(s2)"
   ]
  },
  {
   "cell_type": "code",
   "execution_count": 103,
   "id": "46f3f9d9-89ad-4147-93fc-a225bc18dee4",
   "metadata": {},
   "outputs": [
    {
     "data": {
      "text/plain": [
       "{3, 4}"
      ]
     },
     "execution_count": 103,
     "metadata": {},
     "output_type": "execute_result"
    }
   ],
   "source": [
    "s1"
   ]
  },
  {
   "cell_type": "code",
   "execution_count": 106,
   "id": "02eaf5aa-88e4-4d68-b1ef-1b19c959e0ab",
   "metadata": {},
   "outputs": [],
   "source": [
    "s1 = {1, 2, 3, 4}\n",
    "s2 = {3, 4, 5}"
   ]
  },
  {
   "cell_type": "code",
   "execution_count": 107,
   "id": "56cfb3fe-b806-46a0-b37d-a391355ced43",
   "metadata": {},
   "outputs": [],
   "source": [
    "s1.difference_update(s2)"
   ]
  },
  {
   "cell_type": "code",
   "execution_count": 108,
   "id": "14729c3f-d8be-48c2-9d5c-706c28a40a27",
   "metadata": {},
   "outputs": [
    {
     "data": {
      "text/plain": [
       "{1, 2}"
      ]
     },
     "execution_count": 108,
     "metadata": {},
     "output_type": "execute_result"
    }
   ],
   "source": [
    "s1"
   ]
  },
  {
   "cell_type": "code",
   "execution_count": 109,
   "id": "9da4871f-0574-41ad-9ce1-efb5d5866dbb",
   "metadata": {},
   "outputs": [],
   "source": [
    "s = {1, 2, 3}\n",
    "s_copy = s.copy()"
   ]
  },
  {
   "cell_type": "code",
   "execution_count": 110,
   "id": "21bc666a-fe5a-4b3d-9bc3-75be7da1a029",
   "metadata": {},
   "outputs": [
    {
     "data": {
      "text/plain": [
       "{1, 2, 3}"
      ]
     },
     "execution_count": 110,
     "metadata": {},
     "output_type": "execute_result"
    }
   ],
   "source": [
    "s_copy"
   ]
  },
  {
   "cell_type": "code",
   "execution_count": 112,
   "id": "34e58248-18e8-434a-9385-15fa2cda6ead",
   "metadata": {},
   "outputs": [],
   "source": [
    "s1 = {1, 5, 3, 6}\n",
    "\n",
    "s2 = {1, 5, 4, 6, 7, 3 }"
   ]
  },
  {
   "cell_type": "code",
   "execution_count": 113,
   "id": "91d2821e-e9a2-4aac-8fef-aab33f67be31",
   "metadata": {},
   "outputs": [
    {
     "data": {
      "text/plain": [
       "True"
      ]
     },
     "execution_count": 113,
     "metadata": {},
     "output_type": "execute_result"
    }
   ],
   "source": [
    "s1.issubset(s2)"
   ]
  },
  {
   "cell_type": "code",
   "execution_count": 114,
   "id": "14bc2cd8-e9e0-4438-9f23-54fca01ddcce",
   "metadata": {},
   "outputs": [
    {
     "data": {
      "text/plain": [
       "False"
      ]
     },
     "execution_count": 114,
     "metadata": {},
     "output_type": "execute_result"
    }
   ],
   "source": [
    "s2.issubset(s1)"
   ]
  },
  {
   "cell_type": "code",
   "execution_count": 115,
   "id": "36a00eef-3058-40a2-af76-aa5935ccf9d9",
   "metadata": {},
   "outputs": [
    {
     "data": {
      "text/plain": [
       "False"
      ]
     },
     "execution_count": 115,
     "metadata": {},
     "output_type": "execute_result"
    }
   ],
   "source": [
    "s1.issuperset(s2)"
   ]
  },
  {
   "cell_type": "code",
   "execution_count": 116,
   "id": "008bed81-bca1-480e-b4d1-4fde63867246",
   "metadata": {},
   "outputs": [
    {
     "data": {
      "text/plain": [
       "True"
      ]
     },
     "execution_count": 116,
     "metadata": {},
     "output_type": "execute_result"
    }
   ],
   "source": [
    "s2.issuperset(s1)"
   ]
  },
  {
   "cell_type": "code",
   "execution_count": 117,
   "id": "485e7e86-f47c-4f1c-84e8-ebc1f0b2f7a7",
   "metadata": {},
   "outputs": [],
   "source": [
    "s = {1, 2, 3}\n",
    "s.add(4)"
   ]
  },
  {
   "cell_type": "code",
   "execution_count": 118,
   "id": "a293055f-3e37-4463-994d-deb2655c0078",
   "metadata": {},
   "outputs": [
    {
     "data": {
      "text/plain": [
       "{1, 2, 3, 4}"
      ]
     },
     "execution_count": 118,
     "metadata": {},
     "output_type": "execute_result"
    }
   ],
   "source": [
    "s"
   ]
  },
  {
   "cell_type": "code",
   "execution_count": 120,
   "id": "4b67217e-2a03-4e1b-9f3a-c587e204c2a7",
   "metadata": {},
   "outputs": [],
   "source": [
    "ss= frozenset(s)"
   ]
  },
  {
   "cell_type": "code",
   "execution_count": 121,
   "id": "de2666c9-5124-4a1f-9291-4011ec8784f2",
   "metadata": {},
   "outputs": [
    {
     "data": {
      "text/plain": [
       "frozenset({1, 2, 3, 4})"
      ]
     },
     "execution_count": 121,
     "metadata": {},
     "output_type": "execute_result"
    }
   ],
   "source": [
    "ss."
   ]
  },
  {
   "cell_type": "code",
   "execution_count": 122,
   "id": "150852e6-d6cd-411b-9515-05d18055c02f",
   "metadata": {},
   "outputs": [],
   "source": [
    "l3 = [2,3,4,5,5,6,2,4,5,6,6,78,5,6,5,7,3,3,2,2,4,9,6,7,4,]"
   ]
  },
  {
   "cell_type": "code",
   "execution_count": 124,
   "id": "767de7e1-8feb-4f4b-8a39-06ce73efe941",
   "metadata": {},
   "outputs": [
    {
     "data": {
      "text/plain": [
       "{2, 3, 4, 5, 6, 7, 9, 78}"
      ]
     },
     "execution_count": 124,
     "metadata": {},
     "output_type": "execute_result"
    }
   ],
   "source": [
    "set(l3)"
   ]
  },
  {
   "cell_type": "code",
   "execution_count": 126,
   "id": "82344e68-a0c8-415f-9282-c1315ef7e887",
   "metadata": {},
   "outputs": [],
   "source": [
    "s5 = {3,4,5,6,9,2,}"
   ]
  },
  {
   "cell_type": "code",
   "execution_count": 127,
   "id": "668129e4-9e94-45b1-a001-af47a1425c55",
   "metadata": {},
   "outputs": [],
   "source": [
    "s6= {2, 3, 4, 5, 6, 7, 9, 78}"
   ]
  },
  {
   "cell_type": "code",
   "execution_count": 128,
   "id": "598e8b00-bcab-4738-b570-b9cdcc6aaf05",
   "metadata": {},
   "outputs": [
    {
     "data": {
      "text/plain": [
       "{7, 78}"
      ]
     },
     "execution_count": 128,
     "metadata": {},
     "output_type": "execute_result"
    }
   ],
   "source": [
    "s5.symmetric_difference(s6)"
   ]
  },
  {
   "cell_type": "code",
   "execution_count": 129,
   "id": "ea61fd00-bf9c-4ff4-bdb1-0e56eb2b1e54",
   "metadata": {},
   "outputs": [
    {
     "data": {
      "text/plain": [
       "{2, 3, 4, 5, 6, 9}"
      ]
     },
     "execution_count": 129,
     "metadata": {},
     "output_type": "execute_result"
    }
   ],
   "source": [
    "s5.intersection(s6)"
   ]
  },
  {
   "cell_type": "code",
   "execution_count": 132,
   "id": "784947a7-f85f-4882-b1c9-8d4db0b5d998",
   "metadata": {},
   "outputs": [
    {
     "data": {
      "text/plain": [
       "True"
      ]
     },
     "execution_count": 132,
     "metadata": {},
     "output_type": "execute_result"
    }
   ],
   "source": [
    "3 in s5"
   ]
  },
  {
   "cell_type": "code",
   "execution_count": null,
   "id": "59933085-d50f-4fed-a0d8-5220d0a33bae",
   "metadata": {},
   "outputs": [],
   "source": []
  }
 ],
 "metadata": {
  "kernelspec": {
   "display_name": "Python 3 (ipykernel)",
   "language": "python",
   "name": "python3"
  },
  "language_info": {
   "codemirror_mode": {
    "name": "ipython",
    "version": 3
   },
   "file_extension": ".py",
   "mimetype": "text/x-python",
   "name": "python",
   "nbconvert_exporter": "python",
   "pygments_lexer": "ipython3",
   "version": "3.11.7"
  }
 },
 "nbformat": 4,
 "nbformat_minor": 5
}
