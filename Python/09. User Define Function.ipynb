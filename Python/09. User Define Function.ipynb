{
 "cells": [
  {
   "cell_type": "markdown",
   "id": "cf1b2efe-08c8-490e-87c4-47c8108fd1da",
   "metadata": {},
   "source": [
    "### Builin function"
   ]
  },
  {
   "cell_type": "code",
   "execution_count": null,
   "id": "3c40c5b0-90cd-4f72-a249-b70873d36567",
   "metadata": {},
   "outputs": [],
   "source": [
    "print, len, type, max, enumerate, range, input so on........"
   ]
  },
  {
   "cell_type": "code",
   "execution_count": 5,
   "id": "41a069af-ca18-4d06-a6ad-c58ad3aa3f05",
   "metadata": {},
   "outputs": [
    {
     "name": "stdout",
     "output_type": "stream",
     "text": [
      "\n"
     ]
    }
   ],
   "source": [
    "print()"
   ]
  },
  {
   "cell_type": "markdown",
   "id": "421f3e10-d6f2-4ab4-a23d-5085b37b025a",
   "metadata": {},
   "source": [
    "### User Defined Function"
   ]
  },
  {
   "cell_type": "code",
   "execution_count": 1,
   "id": "d41d76f3-01ab-438a-9005-38bfd81628f2",
   "metadata": {},
   "outputs": [
    {
     "name": "stdout",
     "output_type": "stream",
     "text": [
      "hello\n"
     ]
    }
   ],
   "source": [
    "print(\"hello\")"
   ]
  },
  {
   "cell_type": "code",
   "execution_count": 3,
   "id": "bdbc43a0-accd-470e-a0a4-906b6654b4ec",
   "metadata": {},
   "outputs": [],
   "source": [
    "def fun_name():\n",
    "    return \"hello\""
   ]
  },
  {
   "cell_type": "code",
   "execution_count": 6,
   "id": "48b27e6b-97f7-4c23-b757-2f55e143f497",
   "metadata": {},
   "outputs": [
    {
     "data": {
      "text/plain": [
       "'hello'"
      ]
     },
     "execution_count": 6,
     "metadata": {},
     "output_type": "execute_result"
    }
   ],
   "source": [
    "fun_name()"
   ]
  },
  {
   "cell_type": "code",
   "execution_count": 7,
   "id": "7137f823-d337-45f7-a2e8-d4e591005a98",
   "metadata": {},
   "outputs": [
    {
     "data": {
      "text/plain": [
       "'hello'"
      ]
     },
     "execution_count": 7,
     "metadata": {},
     "output_type": "execute_result"
    }
   ],
   "source": [
    "fun_name()"
   ]
  },
  {
   "cell_type": "code",
   "execution_count": 8,
   "id": "8a40fee5-c45e-4f13-aae5-67943c23bbf2",
   "metadata": {},
   "outputs": [],
   "source": [
    "def add_two_num(n1, n2):\n",
    "    return n1 + n2"
   ]
  },
  {
   "cell_type": "code",
   "execution_count": 9,
   "id": "47c706e1-2924-44fc-a0b0-43527c80c53e",
   "metadata": {},
   "outputs": [
    {
     "data": {
      "text/plain": [
       "60"
      ]
     },
     "execution_count": 9,
     "metadata": {},
     "output_type": "execute_result"
    }
   ],
   "source": [
    "add_two_num(39, 21)"
   ]
  },
  {
   "cell_type": "code",
   "execution_count": 10,
   "id": "9b1649a2-373d-4413-8900-6c2bbb73d318",
   "metadata": {},
   "outputs": [
    {
     "data": {
      "text/plain": [
       "22"
      ]
     },
     "execution_count": 10,
     "metadata": {},
     "output_type": "execute_result"
    }
   ],
   "source": [
    "add_two_num(4, 18)"
   ]
  },
  {
   "cell_type": "code",
   "execution_count": 11,
   "id": "8cf40d85-eb3b-41e9-96b9-2e41f5f39ab4",
   "metadata": {},
   "outputs": [],
   "source": [
    "def add_two_num1(n1, n2):\n",
    "    print(n1 + n2)"
   ]
  },
  {
   "cell_type": "code",
   "execution_count": 12,
   "id": "1e6a085a-5ed8-4027-b100-f9bb45a44494",
   "metadata": {},
   "outputs": [
    {
     "name": "stdout",
     "output_type": "stream",
     "text": [
      "12\n"
     ]
    }
   ],
   "source": [
    "add_two_num1(3, 9)"
   ]
  },
  {
   "cell_type": "code",
   "execution_count": 15,
   "id": "7f11a260-9ed5-496f-90ed-1a67f4dfc314",
   "metadata": {},
   "outputs": [
    {
     "ename": "TypeError",
     "evalue": "len() takes exactly one argument (2 given)",
     "output_type": "error",
     "traceback": [
      "\u001b[1;31m---------------------------------------------------------------------------\u001b[0m",
      "\u001b[1;31mTypeError\u001b[0m                                 Traceback (most recent call last)",
      "Cell \u001b[1;32mIn[15], line 1\u001b[0m\n\u001b[1;32m----> 1\u001b[0m \u001b[38;5;28mlen\u001b[39m(\u001b[38;5;124m\"\u001b[39m\u001b[38;5;124mjava\u001b[39m\u001b[38;5;124m\"\u001b[39m, \u001b[38;5;124m\"\u001b[39m\u001b[38;5;124mhtml\u001b[39m\u001b[38;5;124m\"\u001b[39m)\n",
      "\u001b[1;31mTypeError\u001b[0m: len() takes exactly one argument (2 given)"
     ]
    }
   ],
   "source": [
    "len(\"java\", \"html\")"
   ]
  },
  {
   "cell_type": "code",
   "execution_count": 17,
   "id": "9da6f1af-3f79-492b-a017-32b40d69b27c",
   "metadata": {},
   "outputs": [
    {
     "ename": "TypeError",
     "evalue": "add_two_num1() takes 2 positional arguments but 3 were given",
     "output_type": "error",
     "traceback": [
      "\u001b[1;31m---------------------------------------------------------------------------\u001b[0m",
      "\u001b[1;31mTypeError\u001b[0m                                 Traceback (most recent call last)",
      "Cell \u001b[1;32mIn[17], line 1\u001b[0m\n\u001b[1;32m----> 1\u001b[0m add_two_num1(\u001b[38;5;241m3\u001b[39m, \u001b[38;5;241m5\u001b[39m, \u001b[38;5;241m7\u001b[39m)\n",
      "\u001b[1;31mTypeError\u001b[0m: add_two_num1() takes 2 positional arguments but 3 were given"
     ]
    }
   ],
   "source": [
    "add_two_num1(3, 5, 7)"
   ]
  },
  {
   "cell_type": "code",
   "execution_count": null,
   "id": "29259c1f-23d9-4610-9301-57c9d3524b5f",
   "metadata": {},
   "outputs": [],
   "source": [
    "position args         fix type\n",
    "non-keyword args      *args\n",
    "key-word args         **kwargs"
   ]
  },
  {
   "cell_type": "code",
   "execution_count": 18,
   "id": "00cf7a4b-fcb0-446c-b3a6-5de247d06564",
   "metadata": {},
   "outputs": [],
   "source": [
    "def fun1(str):\n",
    "    var = str.upper()\n",
    "    return var"
   ]
  },
  {
   "cell_type": "code",
   "execution_count": 19,
   "id": "a421acc1-43d8-42a3-b840-ed76ce5c387f",
   "metadata": {},
   "outputs": [
    {
     "data": {
      "text/plain": [
       "'PYTHON'"
      ]
     },
     "execution_count": 19,
     "metadata": {},
     "output_type": "execute_result"
    }
   ],
   "source": [
    "fun1(\"python\")"
   ]
  },
  {
   "cell_type": "code",
   "execution_count": 20,
   "id": "df3a5a22-52c6-4d89-ba81-cdb26bd91383",
   "metadata": {},
   "outputs": [
    {
     "ename": "TypeError",
     "evalue": "fun1() missing 1 required positional argument: 'str'",
     "output_type": "error",
     "traceback": [
      "\u001b[1;31m---------------------------------------------------------------------------\u001b[0m",
      "\u001b[1;31mTypeError\u001b[0m                                 Traceback (most recent call last)",
      "Cell \u001b[1;32mIn[20], line 1\u001b[0m\n\u001b[1;32m----> 1\u001b[0m fun1()\n",
      "\u001b[1;31mTypeError\u001b[0m: fun1() missing 1 required positional argument: 'str'"
     ]
    }
   ],
   "source": [
    "fun1()"
   ]
  },
  {
   "cell_type": "code",
   "execution_count": 23,
   "id": "1e3fe266-9cb1-4a1d-b340-e4ba22179de0",
   "metadata": {},
   "outputs": [],
   "source": [
    "def fun2(*interger):\n",
    "    return interger"
   ]
  },
  {
   "cell_type": "code",
   "execution_count": 24,
   "id": "b6ebd3c6-e6e2-4bfd-9eb9-74e5c0213aa9",
   "metadata": {},
   "outputs": [
    {
     "data": {
      "text/plain": [
       "()"
      ]
     },
     "execution_count": 24,
     "metadata": {},
     "output_type": "execute_result"
    }
   ],
   "source": [
    "fun2()"
   ]
  },
  {
   "cell_type": "code",
   "execution_count": 25,
   "id": "51208c7f-c980-46e2-9b03-766234bf08ac",
   "metadata": {},
   "outputs": [
    {
     "data": {
      "text/plain": [
       "(5,)"
      ]
     },
     "execution_count": 25,
     "metadata": {},
     "output_type": "execute_result"
    }
   ],
   "source": [
    "fun2(5)"
   ]
  },
  {
   "cell_type": "code",
   "execution_count": 26,
   "id": "8ddf21a2-fa75-4b14-9ded-57953e4333f4",
   "metadata": {},
   "outputs": [
    {
     "data": {
      "text/plain": [
       "(5, 6, 3, 8, 9)"
      ]
     },
     "execution_count": 26,
     "metadata": {},
     "output_type": "execute_result"
    }
   ],
   "source": [
    "fun2(5,6,3,8,9)"
   ]
  },
  {
   "cell_type": "code",
   "execution_count": 27,
   "id": "63bde071-395d-48ea-b19b-a0abd274da20",
   "metadata": {},
   "outputs": [],
   "source": [
    "def fun3(**a):\n",
    "    return a"
   ]
  },
  {
   "cell_type": "code",
   "execution_count": 28,
   "id": "889e884c-6e47-4ec9-ae14-2486f20f8553",
   "metadata": {},
   "outputs": [
    {
     "data": {
      "text/plain": [
       "{}"
      ]
     },
     "execution_count": 28,
     "metadata": {},
     "output_type": "execute_result"
    }
   ],
   "source": [
    "fun3()"
   ]
  },
  {
   "cell_type": "code",
   "execution_count": 30,
   "id": "fd4dbdd5-b98c-4bb5-8c34-74d6de57cceb",
   "metadata": {},
   "outputs": [
    {
     "data": {
      "text/plain": [
       "{'num': 4}"
      ]
     },
     "execution_count": 30,
     "metadata": {},
     "output_type": "execute_result"
    }
   ],
   "source": [
    "fun3(num = 4)"
   ]
  },
  {
   "cell_type": "code",
   "execution_count": 31,
   "id": "151f2735-58fb-47dd-8c93-46995e468256",
   "metadata": {},
   "outputs": [
    {
     "data": {
      "text/plain": [
       "{'num': 4, 'var': 'abc'}"
      ]
     },
     "execution_count": 31,
     "metadata": {},
     "output_type": "execute_result"
    }
   ],
   "source": [
    "fun3(num = 4, var = \"abc\")"
   ]
  },
  {
   "cell_type": "code",
   "execution_count": 32,
   "id": "86dc74a8-5c42-439e-96e8-e4fe62f5ae8a",
   "metadata": {},
   "outputs": [
    {
     "ename": "SyntaxError",
     "evalue": "arguments cannot follow var-keyword argument (3925610801.py, line 1)",
     "output_type": "error",
     "traceback": [
      "\u001b[1;36m  Cell \u001b[1;32mIn[32], line 1\u001b[1;36m\u001b[0m\n\u001b[1;33m    def fun4(**kw, *nk, a):\u001b[0m\n\u001b[1;37m                   ^\u001b[0m\n\u001b[1;31mSyntaxError\u001b[0m\u001b[1;31m:\u001b[0m arguments cannot follow var-keyword argument\n"
     ]
    }
   ],
   "source": [
    "def fun4(**kw, *nk, a):\n",
    "    return kw, nk, a"
   ]
  },
  {
   "cell_type": "code",
   "execution_count": 33,
   "id": "3ad100db-eb00-430b-bc0b-a23323eaba05",
   "metadata": {},
   "outputs": [],
   "source": [
    "def fun4( *nk, a, **kw):\n",
    "    return kw, nk, a"
   ]
  },
  {
   "cell_type": "code",
   "execution_count": 34,
   "id": "4f82b754-6119-40dc-9324-987f4c95a0c8",
   "metadata": {},
   "outputs": [
    {
     "ename": "TypeError",
     "evalue": "fun4() missing 1 required keyword-only argument: 'a'",
     "output_type": "error",
     "traceback": [
      "\u001b[1;31m---------------------------------------------------------------------------\u001b[0m",
      "\u001b[1;31mTypeError\u001b[0m                                 Traceback (most recent call last)",
      "Cell \u001b[1;32mIn[34], line 1\u001b[0m\n\u001b[1;32m----> 1\u001b[0m fun4(\u001b[38;5;241m5\u001b[39m, \u001b[38;5;241m7\u001b[39m, num \u001b[38;5;241m=\u001b[39m \u001b[38;5;241m67\u001b[39m)\n",
      "\u001b[1;31mTypeError\u001b[0m: fun4() missing 1 required keyword-only argument: 'a'"
     ]
    }
   ],
   "source": [
    "fun4(5, 7, num = 67)"
   ]
  },
  {
   "cell_type": "code",
   "execution_count": 35,
   "id": "395bd0bf-8ef9-4575-8fee-e91fc35581ce",
   "metadata": {},
   "outputs": [],
   "source": [
    "def fun4( a, *nk, **kw):\n",
    "    return kw, nk, a"
   ]
  },
  {
   "cell_type": "code",
   "execution_count": 36,
   "id": "5bbd6722-0c3d-461a-9bfe-32070354f14c",
   "metadata": {},
   "outputs": [
    {
     "data": {
      "text/plain": [
       "({'num': 88}, (77,), 66)"
      ]
     },
     "execution_count": 36,
     "metadata": {},
     "output_type": "execute_result"
    }
   ],
   "source": [
    "fun4(66, 77, num = 88)"
   ]
  },
  {
   "cell_type": "code",
   "execution_count": 41,
   "id": "236fd748-aea1-4859-8618-2efa5c62f7a1",
   "metadata": {},
   "outputs": [],
   "source": [
    "def square(int_only):\n",
    "    \"\"\"this is my first user defined function\n",
    "    which print cube of any whole number\"\"\"\n",
    "    return int_only**3"
   ]
  },
  {
   "cell_type": "code",
   "execution_count": 42,
   "id": "47ad19ca-6092-4dfa-8b80-3d7ac545c866",
   "metadata": {},
   "outputs": [
    {
     "data": {
      "text/plain": [
       "216"
      ]
     },
     "execution_count": 42,
     "metadata": {},
     "output_type": "execute_result"
    }
   ],
   "source": [
    "square(6)"
   ]
  },
  {
   "cell_type": "code",
   "execution_count": 44,
   "id": "d0a13630-1c63-4634-9b05-5bbff0adf792",
   "metadata": {},
   "outputs": [],
   "source": [
    "def pattern(var):\n",
    "    for i in range(var):    \n",
    "        for j in range(i+1):   \n",
    "            print(\"*\",end = \" \")\n",
    "        print()"
   ]
  },
  {
   "cell_type": "code",
   "execution_count": 49,
   "id": "faaf32d4-8cd3-4241-8d8f-5f590ba3cead",
   "metadata": {},
   "outputs": [
    {
     "name": "stdout",
     "output_type": "stream",
     "text": [
      "* \n",
      "* * \n",
      "* * * \n",
      "* * * * \n",
      "* * * * * \n",
      "* * * * * * \n",
      "* * * * * * * \n",
      "* * * * * * * * \n"
     ]
    }
   ],
   "source": [
    "pattern(8)"
   ]
  },
  {
   "cell_type": "code",
   "execution_count": 53,
   "id": "a9cc5060-bf8e-4647-a372-eab14a717595",
   "metadata": {},
   "outputs": [],
   "source": [
    "def pyramind(rows):\n",
    "    for i in range(rows):\n",
    "        for k in range(rows-i):\n",
    "            print(\"\", end = \" \")\n",
    "        for j in range(i+1):      #1,2,3,4,5\n",
    "            print(\"*\",end = \" \")\n",
    "        print()"
   ]
  },
  {
   "cell_type": "code",
   "execution_count": 56,
   "id": "46734475-ee70-464e-8b99-3dca10f5dc77",
   "metadata": {},
   "outputs": [
    {
     "name": "stdout",
     "output_type": "stream",
     "text": [
      "                    * \n",
      "                   * * \n",
      "                  * * * \n",
      "                 * * * * \n",
      "                * * * * * \n",
      "               * * * * * * \n",
      "              * * * * * * * \n",
      "             * * * * * * * * \n",
      "            * * * * * * * * * \n",
      "           * * * * * * * * * * \n",
      "          * * * * * * * * * * * \n",
      "         * * * * * * * * * * * * \n",
      "        * * * * * * * * * * * * * \n",
      "       * * * * * * * * * * * * * * \n",
      "      * * * * * * * * * * * * * * * \n",
      "     * * * * * * * * * * * * * * * * \n",
      "    * * * * * * * * * * * * * * * * * \n",
      "   * * * * * * * * * * * * * * * * * * \n",
      "  * * * * * * * * * * * * * * * * * * * \n",
      " * * * * * * * * * * * * * * * * * * * * \n"
     ]
    }
   ],
   "source": [
    "pyramind(20)"
   ]
  },
  {
   "cell_type": "code",
   "execution_count": 59,
   "id": "1114ec81-7dc9-4e12-acdc-6917db8b9571",
   "metadata": {},
   "outputs": [],
   "source": [
    "lis = [\"a\",3,1,8, \"f\", 5, 4, 7, 9, 8, \"t\", \"q\",2, 7, \"z\", \"d\", \"c\", \"u\"]"
   ]
  },
  {
   "cell_type": "code",
   "execution_count": 73,
   "id": "ffe6fb87-82c4-4025-8194-59f739b57c59",
   "metadata": {},
   "outputs": [],
   "source": [
    "def list2dic(list):\n",
    "    strlist = []\n",
    "    intlist = []\n",
    "    for i in list:\n",
    "        if type(i)==str:\n",
    "            strlist.append(i.upper())\n",
    "        if type(i)==int:\n",
    "            intlist.append(i)\n",
    "    strlist.sort()\n",
    "    intlist.sort()\n",
    "    zifile= zip(strlist,intlist)\n",
    "    return dict(zifile)"
   ]
  },
  {
   "cell_type": "code",
   "execution_count": 74,
   "id": "d4180e17-39ac-4bc5-b70d-1f62861d7114",
   "metadata": {},
   "outputs": [
    {
     "data": {
      "text/plain": [
       "{'A': 1, 'C': 2, 'D': 3, 'F': 4, 'Q': 5, 'T': 7, 'U': 7, 'Z': 8}"
      ]
     },
     "execution_count": 74,
     "metadata": {},
     "output_type": "execute_result"
    }
   ],
   "source": [
    "list2dic(lis)"
   ]
  },
  {
   "cell_type": "code",
   "execution_count": null,
   "id": "bc5ab93e-4c14-46b1-97e2-5b61bde48bcf",
   "metadata": {},
   "outputs": [],
   "source": []
  }
 ],
 "metadata": {
  "kernelspec": {
   "display_name": "Python 3 (ipykernel)",
   "language": "python",
   "name": "python3"
  },
  "language_info": {
   "codemirror_mode": {
    "name": "ipython",
    "version": 3
   },
   "file_extension": ".py",
   "mimetype": "text/x-python",
   "name": "python",
   "nbconvert_exporter": "python",
   "pygments_lexer": "ipython3",
   "version": "3.11.7"
  }
 },
 "nbformat": 4,
 "nbformat_minor": 5
}
