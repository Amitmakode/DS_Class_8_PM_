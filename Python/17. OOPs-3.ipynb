{
 "cells": [
  {
   "cell_type": "code",
   "execution_count": 1,
   "id": "42075fcf-3cd5-402a-a589-61a1d63e580c",
   "metadata": {},
   "outputs": [],
   "source": [
    "class car :             \n",
    "                         \n",
    "    def __init__(self , body , engin , tyre):\n",
    "        self.body = body\n",
    "        self.engin = engin\n",
    "        self.tyre = tyre\n",
    "\n",
    "    def milage (self):\n",
    "        print(\"milage of this car \") "
   ]
  },
  {
   "cell_type": "code",
   "execution_count": 3,
   "id": "c8cf527d-9547-4822-b435-2afe265027ec",
   "metadata": {},
   "outputs": [],
   "source": [
    "obj = car(\"sedan\", \"v8\", \"radial\")"
   ]
  },
  {
   "cell_type": "code",
   "execution_count": 4,
   "id": "f0fd5498-a604-4ab4-a3c5-7f06206a683d",
   "metadata": {},
   "outputs": [
    {
     "data": {
      "text/plain": [
       "'v8'"
      ]
     },
     "execution_count": 4,
     "metadata": {},
     "output_type": "execute_result"
    }
   ],
   "source": [
    "obj.engin"
   ]
  },
  {
   "cell_type": "markdown",
   "id": "af60f647-3129-48d7-b624-1da0ec63a976",
   "metadata": {},
   "source": [
    "#### Static Methods"
   ]
  },
  {
   "cell_type": "code",
   "execution_count": 5,
   "id": "31ebaaf7-05e1-403d-9780-027576fe23d3",
   "metadata": {},
   "outputs": [],
   "source": [
    "class MathUtils:\n",
    "    @staticmethod\n",
    "    def add(a, b):  # Static method\n",
    "        \"\"\"Adds two numbers\"\"\"\n",
    "        return a + b\n",
    "    \n",
    "    @staticmethod\n",
    "    def is_even(num):  # Static method\n",
    "        \"\"\"Checks if number is even\"\"\"\n",
    "        return num % 2 == 0\n",
    "    \n",
    "    @staticmethod\n",
    "    def factorial(n):  # Static method\n",
    "        \"\"\"Calculates factorial\"\"\"\n",
    "        if n <= 1:\n",
    "            return 1\n",
    "        return n * MathUtils.factorial(n - 1)"
   ]
  },
  {
   "cell_type": "code",
   "execution_count": 6,
   "id": "b431ad0f-9068-491e-97ea-f7adc8d86bc4",
   "metadata": {},
   "outputs": [],
   "source": [
    "obj = MathUtils()"
   ]
  },
  {
   "cell_type": "code",
   "execution_count": 7,
   "id": "ff18b58b-126c-450f-a9f2-e3b6003c924f",
   "metadata": {},
   "outputs": [
    {
     "data": {
      "text/plain": [
       "11"
      ]
     },
     "execution_count": 7,
     "metadata": {},
     "output_type": "execute_result"
    }
   ],
   "source": [
    "obj.add(3, 8)"
   ]
  },
  {
   "cell_type": "code",
   "execution_count": 8,
   "id": "2539ab0b-7554-4ffb-a4fe-66d27c664da1",
   "metadata": {},
   "outputs": [],
   "source": [
    "class MathUtils:\n",
    "   \n",
    "    def add(a, b):  \n",
    "        \"\"\"Adds two numbers\"\"\"\n",
    "        return a + b\n",
    "    \n",
    "    @staticmethod\n",
    "    def is_even(num):  # Static method\n",
    "        \"\"\"Checks if number is even\"\"\"\n",
    "        return num % 2 == 0\n",
    "    \n",
    "    @staticmethod\n",
    "    def factorial(n):  # Static method\n",
    "        \"\"\"Calculates factorial\"\"\"\n",
    "        if n <= 1:\n",
    "            return 1\n",
    "        return n * MathUtils.factorial(n - 1)"
   ]
  },
  {
   "cell_type": "code",
   "execution_count": 9,
   "id": "98ef9baf-5d5a-48b7-b37a-881ef8c1ad86",
   "metadata": {},
   "outputs": [],
   "source": [
    "obj = MathUtils()"
   ]
  },
  {
   "cell_type": "code",
   "execution_count": 10,
   "id": "5a8124f6-02cd-4b31-b5b6-4653c6ff9970",
   "metadata": {},
   "outputs": [
    {
     "data": {
      "text/plain": [
       "24"
      ]
     },
     "execution_count": 10,
     "metadata": {},
     "output_type": "execute_result"
    }
   ],
   "source": [
    "obj.factorial(4)"
   ]
  },
  {
   "cell_type": "code",
   "execution_count": 11,
   "id": "4917b63d-a266-4ce4-9a2d-2e280e7c5c8b",
   "metadata": {},
   "outputs": [
    {
     "ename": "TypeError",
     "evalue": "MathUtils.add() takes 2 positional arguments but 3 were given",
     "output_type": "error",
     "traceback": [
      "\u001b[1;31m---------------------------------------------------------------------------\u001b[0m",
      "\u001b[1;31mTypeError\u001b[0m                                 Traceback (most recent call last)",
      "Cell \u001b[1;32mIn[11], line 1\u001b[0m\n\u001b[1;32m----> 1\u001b[0m obj\u001b[38;5;241m.\u001b[39madd(\u001b[38;5;241m3\u001b[39m, \u001b[38;5;241m7\u001b[39m)\n",
      "\u001b[1;31mTypeError\u001b[0m: MathUtils.add() takes 2 positional arguments but 3 were given"
     ]
    }
   ],
   "source": [
    "obj.add(3, 7)"
   ]
  },
  {
   "cell_type": "code",
   "execution_count": 15,
   "id": "c1f533c9-7784-43f0-b7ba-2b7c8577a9d6",
   "metadata": {},
   "outputs": [],
   "source": [
    "class MathUtils:\n",
    "   \n",
    "    def add(self, a, b):  \n",
    "        \"\"\"Adds two numbers\"\"\"\n",
    "        self.a = a\n",
    "        self.b = b\n",
    "        return a + b\n",
    "    \n",
    "    @staticmethod\n",
    "    def is_even(num):  # Static method\n",
    "        \"\"\"Checks if number is even\"\"\"\n",
    "        return num % 2 == 0\n",
    "    \n",
    "    @staticmethod\n",
    "    def factorial(n):  # Static method\n",
    "        \"\"\"Calculates factorial\"\"\"\n",
    "        if n <= 1:\n",
    "            return 1\n",
    "        return n * MathUtils.factorial(n - 1)"
   ]
  },
  {
   "cell_type": "code",
   "execution_count": 16,
   "id": "18ada2df-fb8a-4296-9d78-02f10d5e4bd1",
   "metadata": {},
   "outputs": [],
   "source": [
    "obj = MathUtils()"
   ]
  },
  {
   "cell_type": "code",
   "execution_count": 17,
   "id": "e313b06e-65ae-455f-836d-3fb2e5085404",
   "metadata": {},
   "outputs": [
    {
     "data": {
      "text/plain": [
       "9"
      ]
     },
     "execution_count": 17,
     "metadata": {},
     "output_type": "execute_result"
    }
   ],
   "source": [
    "obj.add(4,5)"
   ]
  },
  {
   "cell_type": "markdown",
   "id": "7fdfe88d-cef4-4649-8ccb-9392de343c54",
   "metadata": {},
   "source": [
    "#### Abstraction"
   ]
  },
  {
   "cell_type": "code",
   "execution_count": 18,
   "id": "f33ac852-4401-497b-86a6-5ea29bf5c50e",
   "metadata": {},
   "outputs": [],
   "source": [
    "from abc import ABC, abstractmethod "
   ]
  },
  {
   "cell_type": "code",
   "execution_count": 19,
   "id": "e928a265-a3bc-450b-8fa2-0a1d7a4c4be0",
   "metadata": {},
   "outputs": [],
   "source": [
    "class Shape(ABC):  # 'Shape' serves as the blueprint for all shapes\n",
    "\n",
    "    @abstractmethod\n",
    "    def area(self):\n",
    "        # Step 3: Declare an abstract method 'area'\n",
    "        # This method will force subclasses to implement their own version\n",
    "        pass"
   ]
  },
  {
   "cell_type": "code",
   "execution_count": 20,
   "id": "d46a1486-29ef-4c44-be0d-a9ef40b8dfd8",
   "metadata": {},
   "outputs": [],
   "source": [
    "class Circle(Shape):\n",
    "    def __init__(self, radius):\n",
    "        # Step 5: Constructor to store radius (unique property for Circle)\n",
    "        self.radius = radius\n",
    "\n",
    "    def area(self):\n",
    "        # Step 6: Concrete implementation of the abstract 'area' method for Circle\n",
    "        return 3.14 * (self.radius ** 2)   #pi*r**2"
   ]
  },
  {
   "cell_type": "code",
   "execution_count": 21,
   "id": "c4566a14-efe1-445a-a680-81ed79c49bbe",
   "metadata": {},
   "outputs": [],
   "source": [
    "obj = Circle(30)"
   ]
  },
  {
   "cell_type": "code",
   "execution_count": 22,
   "id": "8388e72c-751b-4222-a3bc-7851a2ed7dcf",
   "metadata": {},
   "outputs": [
    {
     "data": {
      "text/plain": [
       "2826.0"
      ]
     },
     "execution_count": 22,
     "metadata": {},
     "output_type": "execute_result"
    }
   ],
   "source": [
    "obj.area()"
   ]
  },
  {
   "cell_type": "code",
   "execution_count": 23,
   "id": "b4d40be6-af73-41d4-a859-052a8858e2bd",
   "metadata": {},
   "outputs": [
    {
     "ename": "TypeError",
     "evalue": "Can't instantiate abstract class Shape with abstract method area",
     "output_type": "error",
     "traceback": [
      "\u001b[1;31m---------------------------------------------------------------------------\u001b[0m",
      "\u001b[1;31mTypeError\u001b[0m                                 Traceback (most recent call last)",
      "Cell \u001b[1;32mIn[23], line 1\u001b[0m\n\u001b[1;32m----> 1\u001b[0m obj1 \u001b[38;5;241m=\u001b[39m Shape()\n",
      "\u001b[1;31mTypeError\u001b[0m: Can't instantiate abstract class Shape with abstract method area"
     ]
    }
   ],
   "source": [
    "obj1 = Shape()"
   ]
  },
  {
   "cell_type": "code",
   "execution_count": null,
   "id": "1e616bf6-3448-4616-8e23-63b615ac229a",
   "metadata": {},
   "outputs": [],
   "source": []
  },
  {
   "cell_type": "code",
   "execution_count": 24,
   "id": "ff9245ad-620e-4335-b94b-5549a7d61a79",
   "metadata": {},
   "outputs": [],
   "source": [
    "class PaymentProcessor(ABC):  # Abstract interface\n",
    "    \"\"\"Payment processing interface\"\"\"\n",
    "    \n",
    "    @abstractmethod\n",
    "    def process_payment(self, amount):\n",
    "        pass\n",
    "    \n",
    "    @abstractmethod\n",
    "    def refund_payment(self, transaction_id, amount):\n",
    "        pass"
   ]
  },
  {
   "cell_type": "code",
   "execution_count": 25,
   "id": "0ecf4647-2da7-47ed-ae18-87fcf667e358",
   "metadata": {},
   "outputs": [],
   "source": [
    "class CreditCardProcessor(PaymentProcessor):\n",
    "    def process_payment(self, amount):\n",
    "        return f\"Processing ${amount} via Credit Card\"\n",
    "    \n",
    "    def refund_payment(self, transaction_id, amount):\n",
    "        return f\"Refunding ${amount} to Credit Card (Transaction: {transaction_id})\""
   ]
  },
  {
   "cell_type": "code",
   "execution_count": 30,
   "id": "06e2f129-6ad9-437d-bafe-d4c74a11df58",
   "metadata": {},
   "outputs": [],
   "source": [
    "class PayPalProcessor(PaymentProcessor):\n",
    "    pass"
   ]
  },
  {
   "cell_type": "code",
   "execution_count": 27,
   "id": "2ba5dd19-6dde-485f-a57e-b59d2256a42d",
   "metadata": {},
   "outputs": [
    {
     "ename": "TypeError",
     "evalue": "Can't instantiate abstract class PaymentProcessor with abstract methods process_payment, refund_payment",
     "output_type": "error",
     "traceback": [
      "\u001b[1;31m---------------------------------------------------------------------------\u001b[0m",
      "\u001b[1;31mTypeError\u001b[0m                                 Traceback (most recent call last)",
      "Cell \u001b[1;32mIn[27], line 1\u001b[0m\n\u001b[1;32m----> 1\u001b[0m obj \u001b[38;5;241m=\u001b[39m PaymentProcessor()\n",
      "\u001b[1;31mTypeError\u001b[0m: Can't instantiate abstract class PaymentProcessor with abstract methods process_payment, refund_payment"
     ]
    }
   ],
   "source": [
    "obj = PaymentProcessor()"
   ]
  },
  {
   "cell_type": "code",
   "execution_count": 28,
   "id": "3fc4e861-9d22-4c5f-a1fb-06534dbc1164",
   "metadata": {},
   "outputs": [],
   "source": [
    "obj1 = CreditCardProcessor()"
   ]
  },
  {
   "cell_type": "code",
   "execution_count": 29,
   "id": "35dc3a77-72b4-432b-a9be-f0259096570d",
   "metadata": {},
   "outputs": [
    {
     "data": {
      "text/plain": [
       "'Processing $300000 via Credit Card'"
      ]
     },
     "execution_count": 29,
     "metadata": {},
     "output_type": "execute_result"
    }
   ],
   "source": [
    "obj1.process_payment(300000)"
   ]
  },
  {
   "cell_type": "code",
   "execution_count": 31,
   "id": "ce73b555-6835-48c7-b259-4b1206bc2184",
   "metadata": {},
   "outputs": [
    {
     "ename": "TypeError",
     "evalue": "Can't instantiate abstract class PayPalProcessor with abstract methods process_payment, refund_payment",
     "output_type": "error",
     "traceback": [
      "\u001b[1;31m---------------------------------------------------------------------------\u001b[0m",
      "\u001b[1;31mTypeError\u001b[0m                                 Traceback (most recent call last)",
      "Cell \u001b[1;32mIn[31], line 1\u001b[0m\n\u001b[1;32m----> 1\u001b[0m obj2 \u001b[38;5;241m=\u001b[39m PayPalProcessor()\n",
      "\u001b[1;31mTypeError\u001b[0m: Can't instantiate abstract class PayPalProcessor with abstract methods process_payment, refund_payment"
     ]
    }
   ],
   "source": [
    "obj2 = PayPalProcessor()"
   ]
  },
  {
   "cell_type": "code",
   "execution_count": null,
   "id": "7194cbf4-9999-464c-9f73-b5a263e799d1",
   "metadata": {},
   "outputs": [],
   "source": [
    "if __main__ = __init__"
   ]
  }
 ],
 "metadata": {
  "kernelspec": {
   "display_name": "Python 3 (ipykernel)",
   "language": "python",
   "name": "python3"
  },
  "language_info": {
   "codemirror_mode": {
    "name": "ipython",
    "version": 3
   },
   "file_extension": ".py",
   "mimetype": "text/x-python",
   "name": "python",
   "nbconvert_exporter": "python",
   "pygments_lexer": "ipython3",
   "version": "3.11.7"
  }
 },
 "nbformat": 4,
 "nbformat_minor": 5
}
