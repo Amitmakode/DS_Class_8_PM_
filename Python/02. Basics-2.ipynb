{
 "cells": [
  {
   "cell_type": "code",
   "execution_count": 4,
   "id": "a37d2e3c-643b-48d9-93a2-e1ad0cf46fab",
   "metadata": {},
   "outputs": [
    {
     "name": "stdout",
     "output_type": "stream",
     "text": [
      "Hello\n",
      "World\n"
     ]
    }
   ],
   "source": [
    "# \\n new line\n",
    "print(\"Hello\\nWorld\")"
   ]
  },
  {
   "cell_type": "code",
   "execution_count": 2,
   "id": "12d583bd-761c-4292-992b-9be0ef356e0f",
   "metadata": {},
   "outputs": [
    {
     "data": {
      "text/plain": [
       "'Hello\\nWorld'"
      ]
     },
     "execution_count": 2,
     "metadata": {},
     "output_type": "execute_result"
    }
   ],
   "source": [
    "\"Hello\\nWorld\""
   ]
  },
  {
   "cell_type": "code",
   "execution_count": 5,
   "id": "355077d1-e7bc-4444-9223-a99a8bbd82b8",
   "metadata": {},
   "outputs": [
    {
     "name": "stdout",
     "output_type": "stream",
     "text": [
      "Name:\tAlice\n"
     ]
    }
   ],
   "source": [
    "# \\t tab space\n",
    "print(\"Name:\\tAlice\")  "
   ]
  },
  {
   "cell_type": "code",
   "execution_count": null,
   "id": "5574fb5a-d187-4b40-a33a-067439a59535",
   "metadata": {},
   "outputs": [],
   "source": [
    "file_path = \"F:\\\\0. The Data Psychology\\\\1. Python\\\\10.1 Condition.ipynb\"   \n",
    "\n",
    "file_path =\"F:/0. The Data Psychology/1. Python/10.1 Condition.ipynb\""
   ]
  },
  {
   "cell_type": "code",
   "execution_count": 13,
   "id": "3df5dc60-e3b3-4c9e-9585-57285342b09b",
   "metadata": {},
   "outputs": [],
   "source": [
    "file_path = \"Class/Machine_Learning/Advertising.csv\""
   ]
  },
  {
   "cell_type": "code",
   "execution_count": 16,
   "id": "141c632e-5b20-45d9-95e0-d99fff41fc3a",
   "metadata": {},
   "outputs": [],
   "source": [
    "import pandas as pd"
   ]
  },
  {
   "cell_type": "code",
   "execution_count": 19,
   "id": "ed0b2846-c95a-4339-90af-c8fab68f1401",
   "metadata": {},
   "outputs": [
    {
     "data": {
      "text/html": [
       "<div>\n",
       "<style scoped>\n",
       "    .dataframe tbody tr th:only-of-type {\n",
       "        vertical-align: middle;\n",
       "    }\n",
       "\n",
       "    .dataframe tbody tr th {\n",
       "        vertical-align: top;\n",
       "    }\n",
       "\n",
       "    .dataframe thead th {\n",
       "        text-align: right;\n",
       "    }\n",
       "</style>\n",
       "<table border=\"1\" class=\"dataframe\">\n",
       "  <thead>\n",
       "    <tr style=\"text-align: right;\">\n",
       "      <th></th>\n",
       "      <th>Dress_ID</th>\n",
       "      <th>Style</th>\n",
       "      <th>Price</th>\n",
       "      <th>Rating</th>\n",
       "      <th>Size</th>\n",
       "      <th>Season</th>\n",
       "      <th>NeckLine</th>\n",
       "      <th>SleeveLength</th>\n",
       "      <th>waiseline</th>\n",
       "      <th>Material</th>\n",
       "      <th>FabricType</th>\n",
       "      <th>Decoration</th>\n",
       "      <th>Pattern Type</th>\n",
       "      <th>Recommendation</th>\n",
       "    </tr>\n",
       "  </thead>\n",
       "  <tbody>\n",
       "    <tr>\n",
       "      <th>0</th>\n",
       "      <td>1006032852</td>\n",
       "      <td>Sexy</td>\n",
       "      <td>Low</td>\n",
       "      <td>4.6</td>\n",
       "      <td>M</td>\n",
       "      <td>Summer</td>\n",
       "      <td>o-neck</td>\n",
       "      <td>sleevless</td>\n",
       "      <td>empire</td>\n",
       "      <td>NaN</td>\n",
       "      <td>chiffon</td>\n",
       "      <td>ruffles</td>\n",
       "      <td>animal</td>\n",
       "      <td>1</td>\n",
       "    </tr>\n",
       "    <tr>\n",
       "      <th>1</th>\n",
       "      <td>1212192089</td>\n",
       "      <td>Casual</td>\n",
       "      <td>Low</td>\n",
       "      <td>0.0</td>\n",
       "      <td>L</td>\n",
       "      <td>Summer</td>\n",
       "      <td>o-neck</td>\n",
       "      <td>Petal</td>\n",
       "      <td>natural</td>\n",
       "      <td>microfiber</td>\n",
       "      <td>NaN</td>\n",
       "      <td>ruffles</td>\n",
       "      <td>animal</td>\n",
       "      <td>0</td>\n",
       "    </tr>\n",
       "    <tr>\n",
       "      <th>2</th>\n",
       "      <td>1190380701</td>\n",
       "      <td>vintage</td>\n",
       "      <td>High</td>\n",
       "      <td>0.0</td>\n",
       "      <td>L</td>\n",
       "      <td>Automn</td>\n",
       "      <td>o-neck</td>\n",
       "      <td>full</td>\n",
       "      <td>natural</td>\n",
       "      <td>polyster</td>\n",
       "      <td>NaN</td>\n",
       "      <td>NaN</td>\n",
       "      <td>print</td>\n",
       "      <td>0</td>\n",
       "    </tr>\n",
       "    <tr>\n",
       "      <th>3</th>\n",
       "      <td>966005983</td>\n",
       "      <td>Brief</td>\n",
       "      <td>Average</td>\n",
       "      <td>4.6</td>\n",
       "      <td>L</td>\n",
       "      <td>Spring</td>\n",
       "      <td>o-neck</td>\n",
       "      <td>full</td>\n",
       "      <td>natural</td>\n",
       "      <td>silk</td>\n",
       "      <td>chiffon</td>\n",
       "      <td>embroidary</td>\n",
       "      <td>print</td>\n",
       "      <td>1</td>\n",
       "    </tr>\n",
       "    <tr>\n",
       "      <th>4</th>\n",
       "      <td>876339541</td>\n",
       "      <td>cute</td>\n",
       "      <td>Low</td>\n",
       "      <td>4.5</td>\n",
       "      <td>M</td>\n",
       "      <td>Summer</td>\n",
       "      <td>o-neck</td>\n",
       "      <td>butterfly</td>\n",
       "      <td>natural</td>\n",
       "      <td>chiffonfabric</td>\n",
       "      <td>chiffon</td>\n",
       "      <td>bow</td>\n",
       "      <td>dot</td>\n",
       "      <td>0</td>\n",
       "    </tr>\n",
       "    <tr>\n",
       "      <th>...</th>\n",
       "      <td>...</td>\n",
       "      <td>...</td>\n",
       "      <td>...</td>\n",
       "      <td>...</td>\n",
       "      <td>...</td>\n",
       "      <td>...</td>\n",
       "      <td>...</td>\n",
       "      <td>...</td>\n",
       "      <td>...</td>\n",
       "      <td>...</td>\n",
       "      <td>...</td>\n",
       "      <td>...</td>\n",
       "      <td>...</td>\n",
       "      <td>...</td>\n",
       "    </tr>\n",
       "    <tr>\n",
       "      <th>495</th>\n",
       "      <td>713391965</td>\n",
       "      <td>Casual</td>\n",
       "      <td>Low</td>\n",
       "      <td>4.7</td>\n",
       "      <td>M</td>\n",
       "      <td>Spring</td>\n",
       "      <td>o-neck</td>\n",
       "      <td>full</td>\n",
       "      <td>natural</td>\n",
       "      <td>polyster</td>\n",
       "      <td>NaN</td>\n",
       "      <td>NaN</td>\n",
       "      <td>solid</td>\n",
       "      <td>1</td>\n",
       "    </tr>\n",
       "    <tr>\n",
       "      <th>496</th>\n",
       "      <td>722565148</td>\n",
       "      <td>Sexy</td>\n",
       "      <td>Low</td>\n",
       "      <td>4.3</td>\n",
       "      <td>free</td>\n",
       "      <td>Summer</td>\n",
       "      <td>o-neck</td>\n",
       "      <td>full</td>\n",
       "      <td>empire</td>\n",
       "      <td>cotton</td>\n",
       "      <td>NaN</td>\n",
       "      <td>NaN</td>\n",
       "      <td>NaN</td>\n",
       "      <td>0</td>\n",
       "    </tr>\n",
       "    <tr>\n",
       "      <th>497</th>\n",
       "      <td>532874347</td>\n",
       "      <td>Casual</td>\n",
       "      <td>Average</td>\n",
       "      <td>4.7</td>\n",
       "      <td>M</td>\n",
       "      <td>Summer</td>\n",
       "      <td>v-neck</td>\n",
       "      <td>full</td>\n",
       "      <td>empire</td>\n",
       "      <td>cotton</td>\n",
       "      <td>NaN</td>\n",
       "      <td>lace</td>\n",
       "      <td>solid</td>\n",
       "      <td>1</td>\n",
       "    </tr>\n",
       "    <tr>\n",
       "      <th>498</th>\n",
       "      <td>655464934</td>\n",
       "      <td>Casual</td>\n",
       "      <td>Average</td>\n",
       "      <td>4.6</td>\n",
       "      <td>L</td>\n",
       "      <td>winter</td>\n",
       "      <td>boat-neck</td>\n",
       "      <td>sleevless</td>\n",
       "      <td>empire</td>\n",
       "      <td>silk</td>\n",
       "      <td>broadcloth</td>\n",
       "      <td>applique</td>\n",
       "      <td>print</td>\n",
       "      <td>1</td>\n",
       "    </tr>\n",
       "    <tr>\n",
       "      <th>499</th>\n",
       "      <td>919930954</td>\n",
       "      <td>Casual</td>\n",
       "      <td>Low</td>\n",
       "      <td>4.4</td>\n",
       "      <td>free</td>\n",
       "      <td>Summer</td>\n",
       "      <td>v-neck</td>\n",
       "      <td>short</td>\n",
       "      <td>empire</td>\n",
       "      <td>cotton</td>\n",
       "      <td>Corduroy</td>\n",
       "      <td>lace</td>\n",
       "      <td>solid</td>\n",
       "      <td>0</td>\n",
       "    </tr>\n",
       "  </tbody>\n",
       "</table>\n",
       "<p>500 rows × 14 columns</p>\n",
       "</div>"
      ],
      "text/plain": [
       "       Dress_ID    Style    Price  Rating  Size  Season   NeckLine  \\\n",
       "0    1006032852     Sexy      Low     4.6     M  Summer     o-neck   \n",
       "1    1212192089   Casual      Low     0.0     L  Summer     o-neck   \n",
       "2    1190380701  vintage     High     0.0     L  Automn     o-neck   \n",
       "3     966005983    Brief  Average     4.6     L  Spring     o-neck   \n",
       "4     876339541     cute      Low     4.5     M  Summer     o-neck   \n",
       "..          ...      ...      ...     ...   ...     ...        ...   \n",
       "495   713391965   Casual      Low     4.7     M  Spring     o-neck   \n",
       "496   722565148     Sexy      Low     4.3  free  Summer     o-neck   \n",
       "497   532874347   Casual  Average     4.7     M  Summer     v-neck   \n",
       "498   655464934   Casual  Average     4.6     L  winter  boat-neck   \n",
       "499   919930954   Casual      Low     4.4  free  Summer     v-neck   \n",
       "\n",
       "    SleeveLength waiseline       Material  FabricType  Decoration  \\\n",
       "0      sleevless    empire            NaN     chiffon     ruffles   \n",
       "1          Petal   natural     microfiber         NaN     ruffles   \n",
       "2           full   natural       polyster         NaN         NaN   \n",
       "3           full   natural           silk     chiffon  embroidary   \n",
       "4      butterfly   natural  chiffonfabric     chiffon         bow   \n",
       "..           ...       ...            ...         ...         ...   \n",
       "495         full   natural       polyster         NaN         NaN   \n",
       "496         full    empire         cotton         NaN         NaN   \n",
       "497         full    empire         cotton         NaN        lace   \n",
       "498    sleevless    empire           silk  broadcloth    applique   \n",
       "499        short    empire         cotton    Corduroy        lace   \n",
       "\n",
       "    Pattern Type  Recommendation  \n",
       "0         animal               1  \n",
       "1         animal               0  \n",
       "2          print               0  \n",
       "3          print               1  \n",
       "4            dot               0  \n",
       "..           ...             ...  \n",
       "495        solid               1  \n",
       "496          NaN               0  \n",
       "497        solid               1  \n",
       "498        print               1  \n",
       "499        solid               0  \n",
       "\n",
       "[500 rows x 14 columns]"
      ]
     },
     "execution_count": 19,
     "metadata": {},
     "output_type": "execute_result"
    }
   ],
   "source": [
    "pd.read_csv(\"F:\\\\Dataset\\\\06. dress.csv\")"
   ]
  },
  {
   "cell_type": "code",
   "execution_count": null,
   "id": "247fc3fc-9e9b-4b08-9d76-9a8ff07b7a85",
   "metadata": {},
   "outputs": [],
   "source": []
  },
  {
   "cell_type": "code",
   "execution_count": 8,
   "id": "637d84aa-62e7-48b9-be80-4efaf5c01913",
   "metadata": {},
   "outputs": [
    {
     "name": "stdout",
     "output_type": "stream",
     "text": [
      "hello python '3.0.13'\n"
     ]
    }
   ],
   "source": [
    "print(\"hello python '3.0.13'\")"
   ]
  },
  {
   "cell_type": "code",
   "execution_count": 9,
   "id": "398d16e6-e38b-42f6-90db-4e8643f57887",
   "metadata": {},
   "outputs": [
    {
     "name": "stdout",
     "output_type": "stream",
     "text": [
      "hello python \"3.0.13\"\n"
     ]
    }
   ],
   "source": [
    "print('hello python \"3.0.13\"')"
   ]
  },
  {
   "cell_type": "code",
   "execution_count": 11,
   "id": "39beccdb-204c-4ec7-87c3-8f0f75c82b4c",
   "metadata": {},
   "outputs": [
    {
     "name": "stdout",
     "output_type": "stream",
     "text": [
      "since \"1960\"\n"
     ]
    }
   ],
   "source": [
    "print('since \"1960\"')"
   ]
  },
  {
   "cell_type": "code",
   "execution_count": null,
   "id": "67d47bfa-2fae-4bc2-acb9-41f56f459003",
   "metadata": {},
   "outputs": [],
   "source": []
  },
  {
   "cell_type": "code",
   "execution_count": 20,
   "id": "3e5358c6-47c2-491e-ac98-06fa11502ca2",
   "metadata": {},
   "outputs": [
    {
     "data": {
      "text/plain": [
       "10"
      ]
     },
     "execution_count": 20,
     "metadata": {},
     "output_type": "execute_result"
    }
   ],
   "source": [
    "num = -10\n",
    "\n",
    "abs(num)"
   ]
  },
  {
   "cell_type": "code",
   "execution_count": 23,
   "id": "0f7a641d-5e8d-4f18-b411-7a4133d48d61",
   "metadata": {},
   "outputs": [
    {
     "data": {
      "text/plain": [
       "True"
      ]
     },
     "execution_count": 23,
     "metadata": {},
     "output_type": "execute_result"
    }
   ],
   "source": [
    "all([True, True, True])"
   ]
  },
  {
   "cell_type": "code",
   "execution_count": 24,
   "id": "44820c58-dac6-4229-9999-fca6dabaede7",
   "metadata": {},
   "outputs": [
    {
     "data": {
      "text/plain": [
       "True"
      ]
     },
     "execution_count": 24,
     "metadata": {},
     "output_type": "execute_result"
    }
   ],
   "source": [
    "any([True, True, True])"
   ]
  },
  {
   "cell_type": "code",
   "execution_count": 25,
   "id": "5bb46f72-56c9-4aaa-b071-18d7b81ca0db",
   "metadata": {},
   "outputs": [
    {
     "data": {
      "text/plain": [
       "True"
      ]
     },
     "execution_count": 25,
     "metadata": {},
     "output_type": "execute_result"
    }
   ],
   "source": [
    "any([False, True, True])"
   ]
  },
  {
   "cell_type": "code",
   "execution_count": 26,
   "id": "2babc15b-6c53-4279-b1d1-b88423c692b5",
   "metadata": {},
   "outputs": [
    {
     "data": {
      "text/plain": [
       "True"
      ]
     },
     "execution_count": 26,
     "metadata": {},
     "output_type": "execute_result"
    }
   ],
   "source": [
    "any([1,2,3,0])"
   ]
  },
  {
   "cell_type": "code",
   "execution_count": 27,
   "id": "4b8d7b06-af94-4704-85bf-eb56c8209619",
   "metadata": {},
   "outputs": [
    {
     "data": {
      "text/plain": [
       "False"
      ]
     },
     "execution_count": 27,
     "metadata": {},
     "output_type": "execute_result"
    }
   ],
   "source": [
    "any([0,0,0,0])"
   ]
  },
  {
   "cell_type": "code",
   "execution_count": 35,
   "id": "fce6fd6a-0a85-4fe5-8e65-9f8d760167e2",
   "metadata": {},
   "outputs": [
    {
     "data": {
      "text/plain": [
       "'A'"
      ]
     },
     "execution_count": 35,
     "metadata": {},
     "output_type": "execute_result"
    }
   ],
   "source": [
    "chr(65) "
   ]
  },
  {
   "cell_type": "code",
   "execution_count": 30,
   "id": "92969a35-cffa-44b9-a623-6149289a7293",
   "metadata": {},
   "outputs": [
    {
     "data": {
      "text/plain": [
       "'c'"
      ]
     },
     "execution_count": 30,
     "metadata": {},
     "output_type": "execute_result"
    }
   ],
   "source": [
    "chr(99)"
   ]
  },
  {
   "cell_type": "code",
   "execution_count": 31,
   "id": "50dfbcb9-2c66-49b4-8346-f66c0aa22fca",
   "metadata": {},
   "outputs": [
    {
     "data": {
      "text/plain": [
       "'x'"
      ]
     },
     "execution_count": 31,
     "metadata": {},
     "output_type": "execute_result"
    }
   ],
   "source": [
    "chr(120)"
   ]
  },
  {
   "cell_type": "code",
   "execution_count": 34,
   "id": "f412d8ba-6221-46e8-8f7b-26051d03f83d",
   "metadata": {},
   "outputs": [
    {
     "data": {
      "text/plain": [
       "65"
      ]
     },
     "execution_count": 34,
     "metadata": {},
     "output_type": "execute_result"
    }
   ],
   "source": [
    "ord(\"A\")"
   ]
  },
  {
   "cell_type": "code",
   "execution_count": 36,
   "id": "bf4ff6e7-84be-4962-9506-d8359bc94fad",
   "metadata": {},
   "outputs": [
    {
     "data": {
      "text/plain": [
       "120"
      ]
     },
     "execution_count": 36,
     "metadata": {},
     "output_type": "execute_result"
    }
   ],
   "source": [
    "ord(\"x\")"
   ]
  },
  {
   "cell_type": "code",
   "execution_count": 37,
   "id": "a6d5df31-9b03-4129-95d4-f240a52ffe68",
   "metadata": {},
   "outputs": [
    {
     "data": {
      "text/plain": [
       "(6, 2)"
      ]
     },
     "execution_count": 37,
     "metadata": {},
     "output_type": "execute_result"
    }
   ],
   "source": [
    "divmod(20, 3)"
   ]
  },
  {
   "cell_type": "code",
   "execution_count": 44,
   "id": "5ca90094-3fa4-45ec-b610-cf0eff15bcb3",
   "metadata": {},
   "outputs": [],
   "source": [
    "fruits = ['apple', 'banana', 'cherry', \"chiku\", \"A\", \"B\", 66]"
   ]
  },
  {
   "cell_type": "code",
   "execution_count": 45,
   "id": "26c4902e-d34a-4d21-b851-df3cd547ae16",
   "metadata": {},
   "outputs": [
    {
     "data": {
      "text/plain": [
       "[(0, 'apple'),\n",
       " (1, 'banana'),\n",
       " (2, 'cherry'),\n",
       " (3, 'chiku'),\n",
       " (4, 'A'),\n",
       " (5, 'B'),\n",
       " (6, 66)]"
      ]
     },
     "execution_count": 45,
     "metadata": {},
     "output_type": "execute_result"
    }
   ],
   "source": [
    "list(enumerate(fruits))"
   ]
  },
  {
   "cell_type": "code",
   "execution_count": 46,
   "id": "e0f9ab42-fd19-4ff3-9bc5-9d7f8a8cd4c8",
   "metadata": {},
   "outputs": [
    {
     "data": {
      "text/plain": [
       "[(0, 's'), (1, 'c'), (2, 'i'), (3, 'e'), (4, 'n'), (5, 'c'), (6, 'e')]"
      ]
     },
     "execution_count": 46,
     "metadata": {},
     "output_type": "execute_result"
    }
   ],
   "source": [
    "list(enumerate(\"science\"))"
   ]
  },
  {
   "cell_type": "code",
   "execution_count": 48,
   "id": "21639055-7007-4ed8-8790-342513869d86",
   "metadata": {},
   "outputs": [
    {
     "name": "stdin",
     "output_type": "stream",
     "text": [
      " 45\n"
     ]
    }
   ],
   "source": [
    "n1 = input()"
   ]
  },
  {
   "cell_type": "code",
   "execution_count": 50,
   "id": "ff97e942-fe6b-436e-b65e-061c5f9a0b42",
   "metadata": {},
   "outputs": [
    {
     "data": {
      "text/plain": [
       "str"
      ]
     },
     "execution_count": 50,
     "metadata": {},
     "output_type": "execute_result"
    }
   ],
   "source": [
    "type(n1)"
   ]
  },
  {
   "cell_type": "code",
   "execution_count": 51,
   "id": "0e8e4891-656c-4c74-bcad-2ae84920e2fd",
   "metadata": {},
   "outputs": [
    {
     "name": "stdin",
     "output_type": "stream",
     "text": [
      " 7865\n"
     ]
    }
   ],
   "source": [
    "n2 = int(input())"
   ]
  },
  {
   "cell_type": "code",
   "execution_count": 53,
   "id": "bdaeaa50-bf84-4dd9-a8f4-eb78f8d30b17",
   "metadata": {},
   "outputs": [
    {
     "data": {
      "text/plain": [
       "int"
      ]
     },
     "execution_count": 53,
     "metadata": {},
     "output_type": "execute_result"
    }
   ],
   "source": [
    "type(n2)"
   ]
  },
  {
   "cell_type": "code",
   "execution_count": 56,
   "id": "1b6d02d2-1703-46af-a553-7df242dcd036",
   "metadata": {},
   "outputs": [
    {
     "name": "stdin",
     "output_type": "stream",
     "text": [
      " 2+5+7\n"
     ]
    },
    {
     "data": {
      "text/plain": [
       "14"
      ]
     },
     "execution_count": 56,
     "metadata": {},
     "output_type": "execute_result"
    }
   ],
   "source": [
    "eval(input())"
   ]
  },
  {
   "cell_type": "code",
   "execution_count": 58,
   "id": "6765e8bc-ffab-4fad-a06b-887e69c369c5",
   "metadata": {},
   "outputs": [
    {
     "data": {
      "text/plain": [
       "list"
      ]
     },
     "execution_count": 58,
     "metadata": {},
     "output_type": "execute_result"
    }
   ],
   "source": [
    "type(fruits)"
   ]
  },
  {
   "cell_type": "code",
   "execution_count": 59,
   "id": "de24b1fe-9923-440e-aec9-ba0f6bfa1bbc",
   "metadata": {},
   "outputs": [
    {
     "data": {
      "text/plain": [
       "7"
      ]
     },
     "execution_count": 59,
     "metadata": {},
     "output_type": "execute_result"
    }
   ],
   "source": [
    "len(fruits)"
   ]
  },
  {
   "cell_type": "code",
   "execution_count": 60,
   "id": "ebcc5c41-dcf9-4218-b4a8-add69c7387c0",
   "metadata": {},
   "outputs": [
    {
     "data": {
      "text/plain": [
       "False"
      ]
     },
     "execution_count": 60,
     "metadata": {},
     "output_type": "execute_result"
    }
   ],
   "source": [
    "isinstance(fruits, str)"
   ]
  },
  {
   "cell_type": "code",
   "execution_count": 61,
   "id": "66de622b-a25d-4590-946d-11ffe6c72822",
   "metadata": {},
   "outputs": [
    {
     "data": {
      "text/plain": [
       "True"
      ]
     },
     "execution_count": 61,
     "metadata": {},
     "output_type": "execute_result"
    }
   ],
   "source": [
    "isinstance(fruits, list)"
   ]
  },
  {
   "cell_type": "code",
   "execution_count": 62,
   "id": "565afb87-131d-4cdc-ad15-0368d316c158",
   "metadata": {},
   "outputs": [],
   "source": [
    "l1 = [2,1,3,5,3,7,6,8,9,11]"
   ]
  },
  {
   "cell_type": "code",
   "execution_count": 63,
   "id": "4bae4434-63f7-474a-a9df-819305055644",
   "metadata": {},
   "outputs": [
    {
     "data": {
      "text/plain": [
       "11"
      ]
     },
     "execution_count": 63,
     "metadata": {},
     "output_type": "execute_result"
    }
   ],
   "source": [
    "max(l1)"
   ]
  },
  {
   "cell_type": "code",
   "execution_count": 64,
   "id": "2aef1c19-881d-4cd9-9c69-d484eacaa242",
   "metadata": {},
   "outputs": [
    {
     "data": {
      "text/plain": [
       "1"
      ]
     },
     "execution_count": 64,
     "metadata": {},
     "output_type": "execute_result"
    }
   ],
   "source": [
    "min(l1)"
   ]
  },
  {
   "cell_type": "code",
   "execution_count": 65,
   "id": "f98b7bc1-bfff-4a79-8c53-1c299d986b00",
   "metadata": {},
   "outputs": [
    {
     "data": {
      "text/plain": [
       "55"
      ]
     },
     "execution_count": 65,
     "metadata": {},
     "output_type": "execute_result"
    }
   ],
   "source": [
    "sum(l1)"
   ]
  },
  {
   "cell_type": "code",
   "execution_count": 72,
   "id": "d372b2af-175a-420b-8bce-60660194b1e4",
   "metadata": {},
   "outputs": [
    {
     "data": {
      "text/plain": [
       "55"
      ]
     },
     "execution_count": 72,
     "metadata": {},
     "output_type": "execute_result"
    }
   ],
   "source": [
    "sum(l1,start=0)"
   ]
  },
  {
   "cell_type": "code",
   "execution_count": 74,
   "id": "8948c767-3a85-47cb-8fe2-4b088b414b91",
   "metadata": {},
   "outputs": [
    {
     "data": {
      "text/plain": [
       "1"
      ]
     },
     "execution_count": 74,
     "metadata": {},
     "output_type": "execute_result"
    }
   ],
   "source": [
    "sum([1])"
   ]
  },
  {
   "cell_type": "code",
   "execution_count": 66,
   "id": "3902e913-fbb8-4b61-a871-f9e1a4f928c4",
   "metadata": {},
   "outputs": [
    {
     "data": {
      "text/plain": [
       "[1, 2, 3, 3, 5, 6, 7, 8, 9, 11]"
      ]
     },
     "execution_count": 66,
     "metadata": {},
     "output_type": "execute_result"
    }
   ],
   "source": [
    "sorted(l1)"
   ]
  },
  {
   "cell_type": "code",
   "execution_count": 67,
   "id": "ff153850-59c3-42ad-bf36-15ce727494ad",
   "metadata": {},
   "outputs": [
    {
     "data": {
      "text/plain": [
       "[11, 9, 8, 7, 6, 5, 3, 3, 2, 1]"
      ]
     },
     "execution_count": 67,
     "metadata": {},
     "output_type": "execute_result"
    }
   ],
   "source": [
    "sorted(l1,reverse=True)"
   ]
  },
  {
   "cell_type": "code",
   "execution_count": 69,
   "id": "49863365-d800-40fb-8088-a46ed0642dc9",
   "metadata": {},
   "outputs": [
    {
     "data": {
      "text/plain": [
       "[2, 1, 3, 5, 3, 7, 6, 8, 9, 11]"
      ]
     },
     "execution_count": 69,
     "metadata": {},
     "output_type": "execute_result"
    }
   ],
   "source": [
    "l1"
   ]
  },
  {
   "cell_type": "code",
   "execution_count": 77,
   "id": "17b9a23d-a83d-4340-a5b7-b57396fa5b2c",
   "metadata": {},
   "outputs": [
    {
     "data": {
      "text/plain": [
       "[11, 9, 8, 6, 7, 3, 5, 3, 1, 2]"
      ]
     },
     "execution_count": 77,
     "metadata": {},
     "output_type": "execute_result"
    }
   ],
   "source": [
    "list(reversed(l1))"
   ]
  },
  {
   "cell_type": "code",
   "execution_count": 78,
   "id": "99de4152-de35-43de-b82a-11c9127a7e48",
   "metadata": {},
   "outputs": [
    {
     "data": {
      "text/plain": [
       "8"
      ]
     },
     "execution_count": 78,
     "metadata": {},
     "output_type": "execute_result"
    }
   ],
   "source": [
    "pow(2, 3)"
   ]
  },
  {
   "cell_type": "code",
   "execution_count": 79,
   "id": "3aa9fa00-0ce4-4438-9977-000682d2c637",
   "metadata": {},
   "outputs": [
    {
     "data": {
      "text/plain": [
       "16"
      ]
     },
     "execution_count": 79,
     "metadata": {},
     "output_type": "execute_result"
    }
   ],
   "source": [
    "pow(4, 2)"
   ]
  },
  {
   "cell_type": "code",
   "execution_count": 80,
   "id": "16db0475-f93c-4b56-8ed4-d5fbbebff82d",
   "metadata": {},
   "outputs": [
    {
     "data": {
      "text/plain": [
       "16"
      ]
     },
     "execution_count": 80,
     "metadata": {},
     "output_type": "execute_result"
    }
   ],
   "source": [
    "4**2"
   ]
  },
  {
   "cell_type": "code",
   "execution_count": 85,
   "id": "e6a22a3a-ba4f-492a-bf92-8ae8608bd98f",
   "metadata": {},
   "outputs": [
    {
     "data": {
      "text/plain": [
       "122.4544"
      ]
     },
     "execution_count": 85,
     "metadata": {},
     "output_type": "execute_result"
    }
   ],
   "source": [
    "round(122.45436785,   4)"
   ]
  },
  {
   "cell_type": "code",
   "execution_count": 86,
   "id": "048d9cc8-a446-4344-8ce3-42cdd531c6ce",
   "metadata": {},
   "outputs": [],
   "source": [
    "lst1 = [1, 2, 3, 4,5,6]\n",
    "lst2 = ['a', 'b', 'c',\"d\", \"e\", 'f']"
   ]
  },
  {
   "cell_type": "code",
   "execution_count": 87,
   "id": "2ec66138-344a-43a1-9f17-e73933207d79",
   "metadata": {},
   "outputs": [
    {
     "data": {
      "text/plain": [
       "[1, 2, 3, 4, 5, 6]"
      ]
     },
     "execution_count": 87,
     "metadata": {},
     "output_type": "execute_result"
    }
   ],
   "source": [
    "lst1"
   ]
  },
  {
   "cell_type": "code",
   "execution_count": 88,
   "id": "0d816e74-5fc2-4a56-93c3-dd290398cf95",
   "metadata": {},
   "outputs": [
    {
     "data": {
      "text/plain": [
       "['a', 'b', 'c', 'd', 'e', 'f']"
      ]
     },
     "execution_count": 88,
     "metadata": {},
     "output_type": "execute_result"
    }
   ],
   "source": [
    "lst2"
   ]
  },
  {
   "cell_type": "code",
   "execution_count": 91,
   "id": "8781d4b9-541b-4176-a7de-aec70999edae",
   "metadata": {},
   "outputs": [],
   "source": [
    "v1 = list(zip(lst1,lst2))"
   ]
  },
  {
   "cell_type": "code",
   "execution_count": 93,
   "id": "c0694050-fd0a-4e27-9a8c-0dba23ed1eee",
   "metadata": {},
   "outputs": [
    {
     "data": {
      "text/plain": [
       "{1: 'a', 2: 'b', 3: 'c', 4: 'd', 5: 'e', 6: 'f'}"
      ]
     },
     "execution_count": 93,
     "metadata": {},
     "output_type": "execute_result"
    }
   ],
   "source": [
    "dict(v1)"
   ]
  },
  {
   "cell_type": "code",
   "execution_count": 94,
   "id": "70a46419-3cc7-4bab-9ff2-8ae77ef0bfe0",
   "metadata": {},
   "outputs": [
    {
     "ename": "TypeError",
     "evalue": "dict expected at most 1 argument, got 2",
     "output_type": "error",
     "traceback": [
      "\u001b[1;31m---------------------------------------------------------------------------\u001b[0m",
      "\u001b[1;31mTypeError\u001b[0m                                 Traceback (most recent call last)",
      "Cell \u001b[1;32mIn[94], line 1\u001b[0m\n\u001b[1;32m----> 1\u001b[0m \u001b[38;5;28mdict\u001b[39m(lst1, lst2)\n",
      "\u001b[1;31mTypeError\u001b[0m: dict expected at most 1 argument, got 2"
     ]
    }
   ],
   "source": [
    "dict(lst1, lst2)"
   ]
  },
  {
   "cell_type": "code",
   "execution_count": 97,
   "id": "63293a8b-45d6-440b-a5e2-2aa7ae7ac4a8",
   "metadata": {},
   "outputs": [
    {
     "data": {
      "text/plain": [
       "(0, 1, 2, 3, 4, 5, 6, 7, 8, 9, 10)"
      ]
     },
     "execution_count": 97,
     "metadata": {},
     "output_type": "execute_result"
    }
   ],
   "source": [
    "tuple(range(11))"
   ]
  },
  {
   "cell_type": "code",
   "execution_count": 98,
   "id": "d4ed2fcc-d384-423d-896a-4cc15289915c",
   "metadata": {},
   "outputs": [
    {
     "data": {
      "text/plain": [
       "(3, 4, 5, 6, 7, 8, 9, 10)"
      ]
     },
     "execution_count": 98,
     "metadata": {},
     "output_type": "execute_result"
    }
   ],
   "source": [
    "tuple(range(3, 11))"
   ]
  },
  {
   "cell_type": "code",
   "execution_count": 113,
   "id": "81aa8a02-6e85-4cf1-a059-261c1399493c",
   "metadata": {},
   "outputs": [
    {
     "data": {
      "text/plain": [
       "(1, 11, 21, 31, 41, 51, 61, 71, 81, 91)"
      ]
     },
     "execution_count": 113,
     "metadata": {},
     "output_type": "execute_result"
    }
   ],
   "source": [
    "tuple(range(1, 101,10))"
   ]
  },
  {
   "cell_type": "code",
   "execution_count": 107,
   "id": "01ec1230-a6b8-47db-b198-bd66e281af9d",
   "metadata": {},
   "outputs": [
    {
     "data": {
      "text/plain": [
       "(100, 90, 80, 70, 60, 50, 40, 30, 20, 10)"
      ]
     },
     "execution_count": 107,
     "metadata": {},
     "output_type": "execute_result"
    }
   ],
   "source": [
    "tuple(range(100, 0,-10))"
   ]
  },
  {
   "cell_type": "code",
   "execution_count": null,
   "id": "f5da4ac5-589e-4018-add6-05f8bcbb25b1",
   "metadata": {},
   "outputs": [],
   "source": [
    "-10      -4,-3,-2,-1, 0, 1, 2, 3, 4   10    100"
   ]
  },
  {
   "cell_type": "code",
   "execution_count": 108,
   "id": "27f3aa1e-d18b-4dd5-ac87-7585bbabc98d",
   "metadata": {},
   "outputs": [
    {
     "data": {
      "text/plain": [
       "[-10, -9, -8, -7, -6, -5, -4, -3, -2]"
      ]
     },
     "execution_count": 108,
     "metadata": {},
     "output_type": "execute_result"
    }
   ],
   "source": [
    "list(range(-10, -1))"
   ]
  },
  {
   "cell_type": "code",
   "execution_count": 109,
   "id": "c49efc3e-d209-4c02-8425-1e08ede3047d",
   "metadata": {},
   "outputs": [
    {
     "data": {
      "text/plain": [
       "[]"
      ]
     },
     "execution_count": 109,
     "metadata": {},
     "output_type": "execute_result"
    }
   ],
   "source": [
    "list(range(10, -10))"
   ]
  },
  {
   "cell_type": "code",
   "execution_count": 111,
   "id": "8ab5deb8-2cd4-4989-ad2a-2089770e472f",
   "metadata": {},
   "outputs": [
    {
     "data": {
      "text/plain": [
       "[10, 8, 6, 4, 2, 0, -2, -4, -6, -8]"
      ]
     },
     "execution_count": 111,
     "metadata": {},
     "output_type": "execute_result"
    }
   ],
   "source": [
    "list(range(10, -10,-2))"
   ]
  },
  {
   "cell_type": "code",
   "execution_count": 116,
   "id": "d991a205-9105-4b6e-aac1-c6b7c93039bd",
   "metadata": {},
   "outputs": [
    {
     "data": {
      "text/plain": [
       "[0, 2, 4, 6, 8, 10, 12, 14, 16, 18]"
      ]
     },
     "execution_count": 116,
     "metadata": {},
     "output_type": "execute_result"
    }
   ],
   "source": [
    "list(range(0,20,2))"
   ]
  },
  {
   "cell_type": "code",
   "execution_count": null,
   "id": "3e4f3d4e-2378-4bf7-bd49-d0f28dcd24df",
   "metadata": {},
   "outputs": [],
   "source": [
    "range()"
   ]
  },
  {
   "cell_type": "code",
   "execution_count": null,
   "id": "92c5a28e-b011-43aa-838d-17552774ccfa",
   "metadata": {},
   "outputs": [],
   "source": [
    "range, type, len, print, input, sorted, "
   ]
  }
 ],
 "metadata": {
  "kernelspec": {
   "display_name": "Python 3 (ipykernel)",
   "language": "python",
   "name": "python3"
  },
  "language_info": {
   "codemirror_mode": {
    "name": "ipython",
    "version": 3
   },
   "file_extension": ".py",
   "mimetype": "text/x-python",
   "name": "python",
   "nbconvert_exporter": "python",
   "pygments_lexer": "ipython3",
   "version": "3.11.7"
  }
 },
 "nbformat": 4,
 "nbformat_minor": 5
}
