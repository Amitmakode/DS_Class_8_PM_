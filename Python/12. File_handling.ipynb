{
 "cells": [
  {
   "cell_type": "markdown",
   "id": "17f91418-a13d-44ef-abdf-46d662dfbe27",
   "metadata": {},
   "source": [
    "### File_handling"
   ]
  },
  {
   "cell_type": "code",
   "execution_count": null,
   "id": "1b77a568-bf84-4423-bc86-39a5e2436b6b",
   "metadata": {},
   "outputs": [],
   "source": [
    "#x, w, r, r+, a"
   ]
  },
  {
   "cell_type": "code",
   "execution_count": 2,
   "id": "8f8d04a5-3478-437d-8a64-56f979078540",
   "metadata": {},
   "outputs": [
    {
     "ename": "FileExistsError",
     "evalue": "[Errno 17] File exists: 'test.txt'",
     "output_type": "error",
     "traceback": [
      "\u001b[1;31m---------------------------------------------------------------------------\u001b[0m",
      "\u001b[1;31mFileExistsError\u001b[0m                           Traceback (most recent call last)",
      "Cell \u001b[1;32mIn[2], line 1\u001b[0m\n\u001b[1;32m----> 1\u001b[0m f \u001b[38;5;241m=\u001b[39m \u001b[38;5;28mopen\u001b[39m(\u001b[38;5;124m\"\u001b[39m\u001b[38;5;124mtest.txt\u001b[39m\u001b[38;5;124m\"\u001b[39m, \u001b[38;5;124m\"\u001b[39m\u001b[38;5;124mx\u001b[39m\u001b[38;5;124m\"\u001b[39m)\n",
      "File \u001b[1;32m~\\anaconda3\\Lib\\site-packages\\IPython\\core\\interactiveshell.py:310\u001b[0m, in \u001b[0;36m_modified_open\u001b[1;34m(file, *args, **kwargs)\u001b[0m\n\u001b[0;32m    303\u001b[0m \u001b[38;5;28;01mif\u001b[39;00m file \u001b[38;5;129;01min\u001b[39;00m {\u001b[38;5;241m0\u001b[39m, \u001b[38;5;241m1\u001b[39m, \u001b[38;5;241m2\u001b[39m}:\n\u001b[0;32m    304\u001b[0m     \u001b[38;5;28;01mraise\u001b[39;00m \u001b[38;5;167;01mValueError\u001b[39;00m(\n\u001b[0;32m    305\u001b[0m         \u001b[38;5;124mf\u001b[39m\u001b[38;5;124m\"\u001b[39m\u001b[38;5;124mIPython won\u001b[39m\u001b[38;5;124m'\u001b[39m\u001b[38;5;124mt let you open fd=\u001b[39m\u001b[38;5;132;01m{\u001b[39;00mfile\u001b[38;5;132;01m}\u001b[39;00m\u001b[38;5;124m by default \u001b[39m\u001b[38;5;124m\"\u001b[39m\n\u001b[0;32m    306\u001b[0m         \u001b[38;5;124m\"\u001b[39m\u001b[38;5;124mas it is likely to crash IPython. If you know what you are doing, \u001b[39m\u001b[38;5;124m\"\u001b[39m\n\u001b[0;32m    307\u001b[0m         \u001b[38;5;124m\"\u001b[39m\u001b[38;5;124myou can use builtins\u001b[39m\u001b[38;5;124m'\u001b[39m\u001b[38;5;124m open.\u001b[39m\u001b[38;5;124m\"\u001b[39m\n\u001b[0;32m    308\u001b[0m     )\n\u001b[1;32m--> 310\u001b[0m \u001b[38;5;28;01mreturn\u001b[39;00m io_open(file, \u001b[38;5;241m*\u001b[39margs, \u001b[38;5;241m*\u001b[39m\u001b[38;5;241m*\u001b[39mkwargs)\n",
      "\u001b[1;31mFileExistsError\u001b[0m: [Errno 17] File exists: 'test.txt'"
     ]
    }
   ],
   "source": [
    "f = open(\"test.txt\", \"x\")"
   ]
  },
  {
   "cell_type": "code",
   "execution_count": 4,
   "id": "3c5a5083-fcea-4110-a334-2b4eb81a9ded",
   "metadata": {},
   "outputs": [],
   "source": [
    "f1 = open(\"test1.txt\", \"w\")  #write"
   ]
  },
  {
   "cell_type": "code",
   "execution_count": 5,
   "id": "e58a2101-788f-4a45-bcd3-27a37ca72a02",
   "metadata": {},
   "outputs": [
    {
     "data": {
      "text/plain": [
       "51"
      ]
     },
     "execution_count": 5,
     "metadata": {},
     "output_type": "execute_result"
    }
   ],
   "source": [
    "f1.write(\"FileExistsError: [Errno 17] File exists: 'test.txt'\")"
   ]
  },
  {
   "cell_type": "code",
   "execution_count": 6,
   "id": "6ee7f8c8-c321-4d8d-8c86-841a2595a73e",
   "metadata": {},
   "outputs": [],
   "source": [
    "f1.close()"
   ]
  },
  {
   "cell_type": "code",
   "execution_count": 8,
   "id": "47b3c032-c959-4757-bd80-fffd0fd9cb68",
   "metadata": {},
   "outputs": [],
   "source": [
    "f2 = open(\"test1.txt\", \"r\")   #read"
   ]
  },
  {
   "cell_type": "code",
   "execution_count": 9,
   "id": "a7ade2f0-c668-4279-b0cc-7bbaa7ce1bce",
   "metadata": {},
   "outputs": [
    {
     "data": {
      "text/plain": [
       "\"FileExistsError: [Errno 17] File exists: 'test.txt'\""
      ]
     },
     "execution_count": 9,
     "metadata": {},
     "output_type": "execute_result"
    }
   ],
   "source": [
    "f2.read()"
   ]
  },
  {
   "cell_type": "code",
   "execution_count": 10,
   "id": "17406be9-253b-4416-b1a1-6f0f9f754b97",
   "metadata": {},
   "outputs": [
    {
     "ename": "UnsupportedOperation",
     "evalue": "not writable",
     "output_type": "error",
     "traceback": [
      "\u001b[1;31m---------------------------------------------------------------------------\u001b[0m",
      "\u001b[1;31mUnsupportedOperation\u001b[0m                      Traceback (most recent call last)",
      "Cell \u001b[1;32mIn[10], line 1\u001b[0m\n\u001b[1;32m----> 1\u001b[0m f2\u001b[38;5;241m.\u001b[39mwrite(\u001b[38;5;124m\"\u001b[39m\u001b[38;5;124mhello\u001b[39m\u001b[38;5;124m\"\u001b[39m)\n",
      "\u001b[1;31mUnsupportedOperation\u001b[0m: not writable"
     ]
    }
   ],
   "source": [
    "f2.write(\"hello\")"
   ]
  },
  {
   "cell_type": "code",
   "execution_count": 11,
   "id": "1b00303c-f2ec-4305-ab60-fa84c679f643",
   "metadata": {},
   "outputs": [
    {
     "data": {
      "text/plain": [
       "'r'"
      ]
     },
     "execution_count": 11,
     "metadata": {},
     "output_type": "execute_result"
    }
   ],
   "source": [
    "f2.mode"
   ]
  },
  {
   "cell_type": "code",
   "execution_count": 13,
   "id": "806b558e-774e-4e30-8377-333843f5c14c",
   "metadata": {},
   "outputs": [],
   "source": [
    "f3 = open(\"test1.txt\", \"r+\")  #read and write"
   ]
  },
  {
   "cell_type": "code",
   "execution_count": 14,
   "id": "6c08dccc-40ab-4435-9375-952bd974c8c6",
   "metadata": {},
   "outputs": [
    {
     "data": {
      "text/plain": [
       "\"FileExistsError: [Errno 17] File exists: 'test.txt'\""
      ]
     },
     "execution_count": 14,
     "metadata": {},
     "output_type": "execute_result"
    }
   ],
   "source": [
    "f3.read()"
   ]
  },
  {
   "cell_type": "code",
   "execution_count": 15,
   "id": "edfe7cd5-d2b6-4d1f-957e-3918a7f5b289",
   "metadata": {},
   "outputs": [
    {
     "data": {
      "text/plain": [
       "''"
      ]
     },
     "execution_count": 15,
     "metadata": {},
     "output_type": "execute_result"
    }
   ],
   "source": [
    "f3.read()"
   ]
  },
  {
   "cell_type": "code",
   "execution_count": 16,
   "id": "f4436261-ac2d-4acf-8f64-31a349297eae",
   "metadata": {},
   "outputs": [
    {
     "data": {
      "text/plain": [
       "7"
      ]
     },
     "execution_count": 16,
     "metadata": {},
     "output_type": "execute_result"
    }
   ],
   "source": [
    "f3.write(\" hello!\")"
   ]
  },
  {
   "cell_type": "code",
   "execution_count": 17,
   "id": "05f62271-7bd4-48fd-b2ea-1e309c7a62b4",
   "metadata": {},
   "outputs": [],
   "source": [
    "f3.close()"
   ]
  },
  {
   "cell_type": "code",
   "execution_count": 19,
   "id": "d0120221-8d6c-41d9-bd0f-884d4b306e95",
   "metadata": {},
   "outputs": [],
   "source": [
    "f4 = open(\"test1.txt\", \"w\")"
   ]
  },
  {
   "cell_type": "code",
   "execution_count": 20,
   "id": "c848a685-9e5a-4a61-b745-0c16142ba7eb",
   "metadata": {},
   "outputs": [
    {
     "data": {
      "text/plain": [
       "37"
      ]
     },
     "execution_count": 20,
     "metadata": {},
     "output_type": "execute_result"
    }
   ],
   "source": [
    "f4.write(\"UnsupportedOperation: not writable   \")"
   ]
  },
  {
   "cell_type": "code",
   "execution_count": 21,
   "id": "3d326700-d765-458d-8c5c-a9d5415fd7dc",
   "metadata": {},
   "outputs": [],
   "source": [
    "f4.close()"
   ]
  },
  {
   "cell_type": "code",
   "execution_count": 22,
   "id": "a5aa7a25-13d2-4434-81e1-90623a1bec08",
   "metadata": {},
   "outputs": [],
   "source": [
    "f5 = open(\"test1.txt\", \"a\")    #append"
   ]
  },
  {
   "cell_type": "code",
   "execution_count": 23,
   "id": "ae9197e1-e8e1-4244-b1a3-041917698435",
   "metadata": {},
   "outputs": [
    {
     "data": {
      "text/plain": [
       "13"
      ]
     },
     "execution_count": 23,
     "metadata": {},
     "output_type": "execute_result"
    }
   ],
   "source": [
    "f5.write(\" hello! world\")"
   ]
  },
  {
   "cell_type": "code",
   "execution_count": 24,
   "id": "657b2e3a-bcef-489d-a603-b82828e686e0",
   "metadata": {},
   "outputs": [],
   "source": [
    "f5.close()"
   ]
  },
  {
   "cell_type": "code",
   "execution_count": 25,
   "id": "13fa4fd2-a833-4c61-9f9c-f6593b64ecb7",
   "metadata": {},
   "outputs": [
    {
     "name": "stdout",
     "output_type": "stream",
     "text": [
      "Writing demo.txt\n"
     ]
    }
   ],
   "source": [
    "%%writefile demo.txt\n",
    "Hii.. I am amit kumar\n",
    "Data science trainer"
   ]
  },
  {
   "cell_type": "code",
   "execution_count": 31,
   "id": "f307f8f7-b39b-4102-98ee-d5bcb016e9f7",
   "metadata": {},
   "outputs": [],
   "source": [
    "lines = [\"Line 1..........\\n\", \"Line 2..........\\n\", \"Line 3..........\\n\"]"
   ]
  },
  {
   "cell_type": "code",
   "execution_count": 32,
   "id": "dc9d71a6-fa5f-4839-8603-1e400d8c953d",
   "metadata": {},
   "outputs": [
    {
     "name": "stdout",
     "output_type": "stream",
     "text": [
      "['Line 1..........\\n', 'Line 2..........\\n', 'Line 3..........\\n']\n"
     ]
    }
   ],
   "source": [
    "print(lines)"
   ]
  },
  {
   "cell_type": "code",
   "execution_count": 33,
   "id": "d2d70327-ec06-4b87-9635-cdcd2c125a8f",
   "metadata": {},
   "outputs": [],
   "source": [
    "file = open(\"example.txt\", \"w\")"
   ]
  },
  {
   "cell_type": "code",
   "execution_count": 34,
   "id": "1dc060f9-e2ba-42b5-a7f1-16d38dd693fa",
   "metadata": {},
   "outputs": [],
   "source": [
    "file.writelines(lines)\n",
    "file.close()"
   ]
  },
  {
   "cell_type": "code",
   "execution_count": 35,
   "id": "b9591744-3b5a-4a80-b370-fb5218e6c83d",
   "metadata": {},
   "outputs": [
    {
     "name": "stdout",
     "output_type": "stream",
     "text": [
      "Line 1..........\n",
      "\n"
     ]
    }
   ],
   "source": [
    "file = open(\"example.txt\", \"r\")\n",
    "line = file.readline()\n",
    "print(line)\n",
    "#file.close()"
   ]
  },
  {
   "cell_type": "code",
   "execution_count": 36,
   "id": "7c3a7429-3ae0-44b7-a721-8335f75a6abc",
   "metadata": {},
   "outputs": [
    {
     "name": "stdout",
     "output_type": "stream",
     "text": [
      "['Line 1..........\\n', 'Line 2..........\\n', 'Line 3..........\\n']\n"
     ]
    }
   ],
   "source": [
    "file = open(\"example.txt\", \"r\")\n",
    "line = file.readlines()\n",
    "print(line)\n",
    "#file.close()"
   ]
  },
  {
   "cell_type": "code",
   "execution_count": 37,
   "id": "d0c42761-f74c-4602-a050-33aa097699f7",
   "metadata": {},
   "outputs": [
    {
     "name": "stdout",
     "output_type": "stream",
     "text": [
      " Volume in drive C is Local Disk\n",
      " Volume Serial Number is C685-8258\n",
      "\n",
      " Directory of C:\\Users\\amitm\\Class\\06. DS_8_PM\n",
      "\n",
      "10-10-2025  20:34    <DIR>          .\n",
      "05-10-2025  00:52    <DIR>          ..\n",
      "10-10-2025  20:33    <DIR>          .ipynb_checkpoints\n",
      "22-09-2025  20:52            34,432 01. Basics-1.ipynb\n",
      "24-09-2025  20:26            40,264 02. Basics-2.ipynb\n",
      "24-09-2025  21:07            23,859 03. Basics-3.ipynb\n",
      "01-10-2025  20:59            21,089 Conditions.ipynb\n",
      "10-10-2025  20:30                45 demo.txt\n",
      "10-10-2025  20:33                54 example.txt\n",
      "10-10-2025  20:34            10,370 File_handling.ipynb\n",
      "09-10-2025  20:56            16,941 Lambda function and map, filter.ipynb\n",
      "30-09-2025  20:49            37,336 List and Set.ipynb\n",
      "06-10-2025  21:03            15,845 Loop_patterns.ipynb\n",
      "03-10-2025  20:55            20,730 Loops.ipynb\n",
      "10-10-2025  20:18                 0 test.txt\n",
      "10-10-2025  20:28                50 test1.txt\n",
      "27-09-2025  21:01             6,487 Untitled.ipynb\n",
      "29-09-2025  20:48            31,971 Untitled1.ipynb\n",
      "07-10-2025  20:51            16,791 User Define Function.ipynb\n",
      "08-10-2025  21:12            20,560 user_defined_function_2.ipynb\n",
      "              17 File(s)        296,824 bytes\n",
      "               3 Dir(s)  148,543,049,728 bytes free\n"
     ]
    }
   ],
   "source": [
    "ls"
   ]
  },
  {
   "cell_type": "code",
   "execution_count": 38,
   "id": "fdd48734-1db2-414d-9fcf-858e8ed5e2a4",
   "metadata": {},
   "outputs": [],
   "source": [
    "import os"
   ]
  },
  {
   "cell_type": "code",
   "execution_count": 39,
   "id": "435155ec-7b0e-4977-b72e-927186d23cd4",
   "metadata": {},
   "outputs": [
    {
     "data": {
      "text/plain": [
       "'C:\\\\Users\\\\amitm\\\\Class\\\\06. DS_8_PM'"
      ]
     },
     "execution_count": 39,
     "metadata": {},
     "output_type": "execute_result"
    }
   ],
   "source": [
    "os.getcwd()   # know the current directory path"
   ]
  },
  {
   "cell_type": "code",
   "execution_count": 40,
   "id": "99bc8b17-8b36-410b-ac12-c8bc974583d3",
   "metadata": {},
   "outputs": [
    {
     "data": {
      "text/plain": [
       "['.ipynb_checkpoints',\n",
       " '01. Basics-1.ipynb',\n",
       " '02. Basics-2.ipynb',\n",
       " '03. Basics-3.ipynb',\n",
       " 'Conditions.ipynb',\n",
       " 'demo.txt',\n",
       " 'example.txt',\n",
       " 'File_handling.ipynb',\n",
       " 'Lambda function and map, filter.ipynb',\n",
       " 'List and Set.ipynb',\n",
       " 'Loops.ipynb',\n",
       " 'Loop_patterns.ipynb',\n",
       " 'test.txt',\n",
       " 'test1.txt',\n",
       " 'Untitled.ipynb',\n",
       " 'Untitled1.ipynb',\n",
       " 'User Define Function.ipynb',\n",
       " 'user_defined_function_2.ipynb']"
      ]
     },
     "execution_count": 40,
     "metadata": {},
     "output_type": "execute_result"
    }
   ],
   "source": [
    "os.listdir()"
   ]
  },
  {
   "cell_type": "code",
   "execution_count": 41,
   "id": "45eeb2be-5c36-4a19-8089-cdb8224de47a",
   "metadata": {},
   "outputs": [],
   "source": [
    "os.chdir(\"C:/Users/amitm/Downloads\")"
   ]
  },
  {
   "cell_type": "code",
   "execution_count": 42,
   "id": "56a5d97a-c667-479b-b2c3-c494dc643c9a",
   "metadata": {},
   "outputs": [
    {
     "data": {
      "text/plain": [
       "'C:\\\\Users\\\\amitm\\\\Downloads'"
      ]
     },
     "execution_count": 42,
     "metadata": {},
     "output_type": "execute_result"
    }
   ],
   "source": [
    "os.getcwd()"
   ]
  },
  {
   "cell_type": "code",
   "execution_count": 43,
   "id": "46594f19-d495-49a6-80be-fec056b06600",
   "metadata": {},
   "outputs": [
    {
     "data": {
      "text/plain": [
       "['03. Text_preprocessing.ipynb',\n",
       " '06. Probability.pdf',\n",
       " '29. Encoding.pdf',\n",
       " '30. Python implementation Encoding.ipynb',\n",
       " 'A-Simple-Deep-Learning-Based-Chatbot-master',\n",
       " 'A-Simple-Deep-Learning-Based-Chatbot-master.zip',\n",
       " 'deep_sort_pytorch-20230517T185925Z-001.zip',\n",
       " 'desktop.ini',\n",
       " 'Encoding.docx',\n",
       " 'End-to-end-Sign-Language-Detection-main (1) (1).zip',\n",
       " 'End-to-end-Sign-Language-Detection-main (1).zip',\n",
       " 'End-to-end-Sign-Language-Detection-main.zip',\n",
       " 'End-to-end-Text-Summarizer-main.zip',\n",
       " 'FinanceProject.ipynb',\n",
       " 'GoogleNet Inception V1.txt',\n",
       " 'googlenet_ppt.tsx',\n",
       " 'Helio clinic',\n",
       " 'Horse.jpeg',\n",
       " 'math&datetime_modules.ipynb',\n",
       " 'Memory',\n",
       " 'nception-v3-model-architecture.png',\n",
       " 'NLP-20251010T045745Z-1-001',\n",
       " 'NLP-20251010T045745Z-1-001.zip',\n",
       " 'Open_Source_API-master.zip',\n",
       " 'Trainers Interview Feedback.xlsx']"
      ]
     },
     "execution_count": 43,
     "metadata": {},
     "output_type": "execute_result"
    }
   ],
   "source": [
    "os.listdir()"
   ]
  },
  {
   "cell_type": "code",
   "execution_count": 44,
   "id": "8cb22b8d-53d9-4003-ae12-1e7d846c9ade",
   "metadata": {},
   "outputs": [],
   "source": [
    "os.mkdir(\"new_folder\")"
   ]
  },
  {
   "cell_type": "code",
   "execution_count": 45,
   "id": "c9d3695b-9f46-4904-9ca4-5796b10f0098",
   "metadata": {},
   "outputs": [
    {
     "data": {
      "text/plain": [
       "['03. Text_preprocessing.ipynb',\n",
       " '06. Probability.pdf',\n",
       " '29. Encoding.pdf',\n",
       " '30. Python implementation Encoding.ipynb',\n",
       " 'A-Simple-Deep-Learning-Based-Chatbot-master',\n",
       " 'A-Simple-Deep-Learning-Based-Chatbot-master.zip',\n",
       " 'deep_sort_pytorch-20230517T185925Z-001.zip',\n",
       " 'desktop.ini',\n",
       " 'Encoding.docx',\n",
       " 'End-to-end-Sign-Language-Detection-main (1) (1).zip',\n",
       " 'End-to-end-Sign-Language-Detection-main (1).zip',\n",
       " 'End-to-end-Sign-Language-Detection-main.zip',\n",
       " 'End-to-end-Text-Summarizer-main.zip',\n",
       " 'FinanceProject.ipynb',\n",
       " 'GoogleNet Inception V1.txt',\n",
       " 'googlenet_ppt.tsx',\n",
       " 'Helio clinic',\n",
       " 'Horse.jpeg',\n",
       " 'math&datetime_modules.ipynb',\n",
       " 'Memory',\n",
       " 'nception-v3-model-architecture.png',\n",
       " 'new_folder',\n",
       " 'NLP-20251010T045745Z-1-001',\n",
       " 'NLP-20251010T045745Z-1-001.zip',\n",
       " 'Open_Source_API-master.zip',\n",
       " 'Trainers Interview Feedback.xlsx']"
      ]
     },
     "execution_count": 45,
     "metadata": {},
     "output_type": "execute_result"
    }
   ],
   "source": [
    "os.listdir()"
   ]
  },
  {
   "cell_type": "code",
   "execution_count": 46,
   "id": "f77feb57-43d4-46f9-be14-be548cdb0b27",
   "metadata": {},
   "outputs": [],
   "source": [
    "os.chdir(\"C:\\\\Users\\\\amitm\\\\Downloads\\\\new_folder\")"
   ]
  },
  {
   "cell_type": "code",
   "execution_count": 47,
   "id": "bb57f1ae-ba45-4d7a-b761-b2c0badfc19d",
   "metadata": {},
   "outputs": [
    {
     "data": {
      "text/plain": [
       "'C:\\\\Users\\\\amitm\\\\Downloads\\\\new_folder'"
      ]
     },
     "execution_count": 47,
     "metadata": {},
     "output_type": "execute_result"
    }
   ],
   "source": [
    "os.getcwd()"
   ]
  },
  {
   "cell_type": "code",
   "execution_count": 48,
   "id": "30968e2f-98ec-4463-beaa-f4c434fff9ff",
   "metadata": {},
   "outputs": [
    {
     "data": {
      "text/plain": [
       "[]"
      ]
     },
     "execution_count": 48,
     "metadata": {},
     "output_type": "execute_result"
    }
   ],
   "source": [
    "os.listdir()"
   ]
  },
  {
   "cell_type": "code",
   "execution_count": 49,
   "id": "327d1606-8c08-4b55-ae98-352137b21b79",
   "metadata": {},
   "outputs": [
    {
     "name": "stdout",
     "output_type": "stream",
     "text": [
      "Writing demo.txt\n"
     ]
    }
   ],
   "source": [
    "%%writefile demo.txt\n",
    "hello"
   ]
  },
  {
   "cell_type": "code",
   "execution_count": 50,
   "id": "210e246e-3195-46f2-b33b-b7f593486185",
   "metadata": {},
   "outputs": [
    {
     "data": {
      "text/plain": [
       "['demo.txt']"
      ]
     },
     "execution_count": 50,
     "metadata": {},
     "output_type": "execute_result"
    }
   ],
   "source": [
    "os.listdir()"
   ]
  },
  {
   "cell_type": "code",
   "execution_count": 51,
   "id": "984215c0-e975-4a76-b951-f1eea60e6a4b",
   "metadata": {},
   "outputs": [],
   "source": [
    "os.remove(\"demo.txt\")"
   ]
  },
  {
   "cell_type": "code",
   "execution_count": 52,
   "id": "382747ed-0798-4356-bb49-03a9e4c2ab27",
   "metadata": {},
   "outputs": [
    {
     "data": {
      "text/plain": [
       "[]"
      ]
     },
     "execution_count": 52,
     "metadata": {},
     "output_type": "execute_result"
    }
   ],
   "source": [
    "os.listdir()"
   ]
  },
  {
   "cell_type": "code",
   "execution_count": 53,
   "id": "537042a1-f83f-41bd-b9f7-fde8b25a4c38",
   "metadata": {},
   "outputs": [],
   "source": [
    "os.chdir(\"C:\\\\Users\\\\amitm\\\\Downloads\")"
   ]
  },
  {
   "cell_type": "code",
   "execution_count": 54,
   "id": "843337ad-2b4c-4b11-87fa-7740945c6855",
   "metadata": {},
   "outputs": [],
   "source": [
    "os.rmdir(\"new_folder\")"
   ]
  },
  {
   "cell_type": "code",
   "execution_count": 55,
   "id": "bfc08e19-0f78-434d-8278-c305cb9b216b",
   "metadata": {},
   "outputs": [
    {
     "data": {
      "text/plain": [
       "['03. Text_preprocessing.ipynb',\n",
       " '06. Probability.pdf',\n",
       " '29. Encoding.pdf',\n",
       " '30. Python implementation Encoding.ipynb',\n",
       " 'A-Simple-Deep-Learning-Based-Chatbot-master',\n",
       " 'A-Simple-Deep-Learning-Based-Chatbot-master.zip',\n",
       " 'deep_sort_pytorch-20230517T185925Z-001.zip',\n",
       " 'desktop.ini',\n",
       " 'Encoding.docx',\n",
       " 'End-to-end-Sign-Language-Detection-main (1) (1).zip',\n",
       " 'End-to-end-Sign-Language-Detection-main (1).zip',\n",
       " 'End-to-end-Sign-Language-Detection-main.zip',\n",
       " 'End-to-end-Text-Summarizer-main.zip',\n",
       " 'FinanceProject.ipynb',\n",
       " 'GoogleNet Inception V1.txt',\n",
       " 'googlenet_ppt.tsx',\n",
       " 'Helio clinic',\n",
       " 'Horse.jpeg',\n",
       " 'math&datetime_modules.ipynb',\n",
       " 'Memory',\n",
       " 'nception-v3-model-architecture.png',\n",
       " 'NLP-20251010T045745Z-1-001',\n",
       " 'NLP-20251010T045745Z-1-001.zip',\n",
       " 'Open_Source_API-master.zip',\n",
       " 'Trainers Interview Feedback.xlsx']"
      ]
     },
     "execution_count": 55,
     "metadata": {},
     "output_type": "execute_result"
    }
   ],
   "source": [
    "os.listdir()"
   ]
  },
  {
   "cell_type": "code",
   "execution_count": 56,
   "id": "554846b5-0d80-4694-a9c5-e45eefaea14d",
   "metadata": {},
   "outputs": [],
   "source": [
    "os.chdir('C:/Users/amitm/Class/06. DS_8_PM')"
   ]
  },
  {
   "cell_type": "code",
   "execution_count": 57,
   "id": "32443265-4f68-43e6-a7aa-5c946f9281c5",
   "metadata": {},
   "outputs": [
    {
     "data": {
      "text/plain": [
       "'C:\\\\Users\\\\amitm\\\\Class\\\\06. DS_8_PM'"
      ]
     },
     "execution_count": 57,
     "metadata": {},
     "output_type": "execute_result"
    }
   ],
   "source": [
    "os.getcwd()"
   ]
  },
  {
   "cell_type": "code",
   "execution_count": 58,
   "id": "f2e14c35-6a68-4c0e-ac95-78d7189f8301",
   "metadata": {},
   "outputs": [
    {
     "data": {
      "text/plain": [
       "['.ipynb_checkpoints',\n",
       " '01. Basics-1.ipynb',\n",
       " '02. Basics-2.ipynb',\n",
       " '03. Basics-3.ipynb',\n",
       " 'Conditions.ipynb',\n",
       " 'demo.txt',\n",
       " 'example.txt',\n",
       " 'File_handling.ipynb',\n",
       " 'Lambda function and map, filter.ipynb',\n",
       " 'List and Set.ipynb',\n",
       " 'Loops.ipynb',\n",
       " 'Loop_patterns.ipynb',\n",
       " 'test.txt',\n",
       " 'test1.txt',\n",
       " 'Untitled.ipynb',\n",
       " 'Untitled1.ipynb',\n",
       " 'User Define Function.ipynb',\n",
       " 'user_defined_function_2.ipynb']"
      ]
     },
     "execution_count": 58,
     "metadata": {},
     "output_type": "execute_result"
    }
   ],
   "source": [
    "os.listdir()"
   ]
  },
  {
   "cell_type": "code",
   "execution_count": 60,
   "id": "43fc98a8-d220-45ca-881d-246ab0bd2a59",
   "metadata": {},
   "outputs": [],
   "source": [
    "with open(\"test11.txt\", \"w\") as f:\n",
    "    lines = f.write(\"hello\")\n",
    "    f.close()"
   ]
  },
  {
   "cell_type": "code",
   "execution_count": null,
   "id": "22175644-1cb6-4c64-b7c9-462e727a55fe",
   "metadata": {},
   "outputs": [],
   "source": []
  },
  {
   "cell_type": "code",
   "execution_count": 61,
   "id": "54ebd2dc-8ca3-44f8-b8ed-549c7d8ef8c3",
   "metadata": {},
   "outputs": [],
   "source": [
    "for i in range(1, 21):\n",
    "    with open(f'file{i}.txt', 'w') as f:\n",
    "        f.write(f'This is file number {i}')"
   ]
  },
  {
   "cell_type": "code",
   "execution_count": 62,
   "id": "7513d303-c494-4a77-9033-0f0c0f876c3e",
   "metadata": {},
   "outputs": [
    {
     "name": "stdout",
     "output_type": "stream",
     "text": [
      "Deleted file1.txt\n",
      "Deleted file2.txt\n",
      "Deleted file3.txt\n",
      "Deleted file4.txt\n",
      "Deleted file5.txt\n",
      "Deleted file6.txt\n",
      "Deleted file7.txt\n",
      "Deleted file8.txt\n",
      "Deleted file9.txt\n",
      "Deleted file10.txt\n"
     ]
    }
   ],
   "source": [
    "i = 1\n",
    "while i <= 10:\n",
    "    file_name = f'file{i}.txt'\n",
    "    if os.path.exists(file_name):\n",
    "        os.remove(file_name)\n",
    "        print(f'Deleted {file_name}')\n",
    "    else:\n",
    "        print(f'{file_name} does not exist')\n",
    "    i += 1"
   ]
  },
  {
   "cell_type": "code",
   "execution_count": 63,
   "id": "70109138-8545-4072-8c29-2a769d3baf8b",
   "metadata": {},
   "outputs": [
    {
     "data": {
      "text/plain": [
       "['.ipynb_checkpoints',\n",
       " '01. Basics-1.ipynb',\n",
       " '02. Basics-2.ipynb',\n",
       " '03. Basics-3.ipynb',\n",
       " 'Conditions.ipynb',\n",
       " 'demo.txt',\n",
       " 'example.txt',\n",
       " 'file11.txt',\n",
       " 'file12.txt',\n",
       " 'file13.txt',\n",
       " 'file14.txt',\n",
       " 'file15.txt',\n",
       " 'file16.txt',\n",
       " 'file17.txt',\n",
       " 'file18.txt',\n",
       " 'file19.txt',\n",
       " 'file20.txt',\n",
       " 'File_handling.ipynb',\n",
       " 'Lambda function and map, filter.ipynb',\n",
       " 'List and Set.ipynb',\n",
       " 'Loops.ipynb',\n",
       " 'Loop_patterns.ipynb',\n",
       " 'test.txt',\n",
       " 'test1.txt',\n",
       " 'test11.txt',\n",
       " 'Untitled.ipynb',\n",
       " 'Untitled1.ipynb',\n",
       " 'User Define Function.ipynb',\n",
       " 'user_defined_function_2.ipynb']"
      ]
     },
     "execution_count": 63,
     "metadata": {},
     "output_type": "execute_result"
    }
   ],
   "source": [
    "os.listdir()"
   ]
  },
  {
   "cell_type": "code",
   "execution_count": 66,
   "id": "10b7e17c-cc72-4431-a1a8-2fd95e6f0dc2",
   "metadata": {},
   "outputs": [
    {
     "name": "stdout",
     "output_type": "stream",
     "text": [
      ".ipynb_checkpoints\n",
      "01. Basics-1.ipynb\n",
      "02. Basics-2.ipynb\n",
      "03. Basics-3.ipynb\n",
      "Conditions.ipynb\n",
      "demo.txt\n",
      "example.txt\n",
      "file11.txt\n",
      "file12.txt\n",
      "file13.txt\n",
      "file14.txt\n",
      "file15.txt\n",
      "file16.txt\n",
      "file17.txt\n",
      "file18.txt\n",
      "file19.txt\n",
      "file20.txt\n",
      "File_handling.ipynb\n",
      "Lambda function and map, filter.ipynb\n",
      "List and Set.ipynb\n",
      "Loops.ipynb\n",
      "Loop_patterns.ipynb\n",
      "test.txt\n",
      "test1.txt\n",
      "test11.txt\n",
      "Untitled.ipynb\n",
      "Untitled1.ipynb\n",
      "User Define Function.ipynb\n",
      "user_defined_function_2.ipynb\n"
     ]
    }
   ],
   "source": [
    "for i in os.listdir():\n",
    "    print(i)"
   ]
  },
  {
   "cell_type": "code",
   "execution_count": 1,
   "id": "3c2d1360-1d8f-44f6-a616-aed01dce5a0a",
   "metadata": {},
   "outputs": [],
   "source": [
    "import os"
   ]
  },
  {
   "cell_type": "code",
   "execution_count": 2,
   "id": "5cacd451-5f81-4198-9b83-6b36a5ae3ae6",
   "metadata": {},
   "outputs": [],
   "source": [
    "def del_all_txt_file(format):\n",
    "    import os\n",
    "    count = 0\n",
    "    for i in os.listdir():\n",
    "        if i.endswith(format): #by changing extension we can delete multiple file \n",
    "            os.remove(i)\n",
    "            print(f\"{i} file is deleted\")\n",
    "            count += 1\n",
    "            \n",
    "    print(f\"{count} text files are deleted\")"
   ]
  },
  {
   "cell_type": "code",
   "execution_count": 65,
   "id": "919f562e-cc8f-48a7-9add-3abcac86746c",
   "metadata": {},
   "outputs": [
    {
     "data": {
      "text/plain": [
       "True"
      ]
     },
     "execution_count": 65,
     "metadata": {},
     "output_type": "execute_result"
    }
   ],
   "source": [
    "\"python\".endswith(\"n\")"
   ]
  },
  {
   "cell_type": "code",
   "execution_count": 3,
   "id": "478c5490-9128-4182-93cf-583713d18669",
   "metadata": {},
   "outputs": [
    {
     "name": "stdout",
     "output_type": "stream",
     "text": [
      "example.txt file is deleted\n",
      "file11.txt file is deleted\n",
      "file12.txt file is deleted\n",
      "file13.txt file is deleted\n",
      "file14.txt file is deleted\n",
      "file15.txt file is deleted\n",
      "file16.txt file is deleted\n",
      "file17.txt file is deleted\n",
      "file18.txt file is deleted\n",
      "file19.txt file is deleted\n",
      "file20.txt file is deleted\n",
      "test.txt file is deleted\n",
      "test1.txt file is deleted\n",
      "test11.txt file is deleted\n",
      "14 text files are deleted\n"
     ]
    }
   ],
   "source": [
    "del_all_txt_file(\".txt\")"
   ]
  },
  {
   "cell_type": "code",
   "execution_count": null,
   "id": "e4b20759-9cb7-4e3c-9783-ad4b5b97507f",
   "metadata": {},
   "outputs": [],
   "source": []
  }
 ],
 "metadata": {
  "kernelspec": {
   "display_name": "Python 3 (ipykernel)",
   "language": "python",
   "name": "python3"
  },
  "language_info": {
   "codemirror_mode": {
    "name": "ipython",
    "version": 3
   },
   "file_extension": ".py",
   "mimetype": "text/x-python",
   "name": "python",
   "nbconvert_exporter": "python",
   "pygments_lexer": "ipython3",
   "version": "3.11.7"
  }
 },
 "nbformat": 4,
 "nbformat_minor": 5
}
