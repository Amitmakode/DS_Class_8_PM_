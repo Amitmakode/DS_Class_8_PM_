{
 "cells": [
  {
   "cell_type": "code",
   "execution_count": 1,
   "id": "bce885c3-656c-4088-b56b-5cd57fbc8340",
   "metadata": {},
   "outputs": [],
   "source": [
    "class person:\n",
    "    # constructor method , self is pointer\n",
    "    def __init__(self, name, lastname, age, email):\n",
    "        self.name = name\n",
    "        self.lastname = lastname\n",
    "        self.age = age\n",
    "        self.email = email\n"
   ]
  },
  {
   "cell_type": "code",
   "execution_count": 4,
   "id": "28c8961d-817e-411d-9b35-bc9a3d30f106",
   "metadata": {},
   "outputs": [],
   "source": [
    "object = person(\"amit\", \"kumar\", 30, \"amit@mail.com\")"
   ]
  },
  {
   "cell_type": "code",
   "execution_count": 5,
   "id": "9e8c591f-4a67-4cc1-a6cf-2d139ddd3ec4",
   "metadata": {},
   "outputs": [
    {
     "data": {
      "text/plain": [
       "'amit@mail.com'"
      ]
     },
     "execution_count": 5,
     "metadata": {},
     "output_type": "execute_result"
    }
   ],
   "source": [
    "object.email"
   ]
  },
  {
   "cell_type": "code",
   "execution_count": 6,
   "id": "0f502ef5-d244-4465-9b60-0d89dbf5506f",
   "metadata": {},
   "outputs": [
    {
     "data": {
      "text/plain": [
       "30"
      ]
     },
     "execution_count": 6,
     "metadata": {},
     "output_type": "execute_result"
    }
   ],
   "source": [
    "object.age"
   ]
  },
  {
   "cell_type": "code",
   "execution_count": 7,
   "id": "ca49c73e-1485-44b0-8ba5-80d8b992a9a5",
   "metadata": {},
   "outputs": [
    {
     "data": {
      "text/plain": [
       "'amit'"
      ]
     },
     "execution_count": 7,
     "metadata": {},
     "output_type": "execute_result"
    }
   ],
   "source": [
    "object.name"
   ]
  },
  {
   "cell_type": "code",
   "execution_count": 8,
   "id": "4e6e52eb-12f3-4ba2-b838-3d212814a9b7",
   "metadata": {},
   "outputs": [],
   "source": [
    "object1 = person(\"rohit\",\"sharma\", 35, \"rohit@mail.com\")"
   ]
  },
  {
   "cell_type": "code",
   "execution_count": 9,
   "id": "69c9ff37-5b6c-4fca-aefe-c4986058f372",
   "metadata": {},
   "outputs": [
    {
     "data": {
      "text/plain": [
       "'sharma'"
      ]
     },
     "execution_count": 9,
     "metadata": {},
     "output_type": "execute_result"
    }
   ],
   "source": [
    "object1.lastname"
   ]
  },
  {
   "cell_type": "code",
   "execution_count": 10,
   "id": "512412b9-1894-4c53-92bd-72e3fbfd8222",
   "metadata": {},
   "outputs": [
    {
     "data": {
      "text/plain": [
       "'rohit'"
      ]
     },
     "execution_count": 10,
     "metadata": {},
     "output_type": "execute_result"
    }
   ],
   "source": [
    "object1.name"
   ]
  },
  {
   "cell_type": "code",
   "execution_count": 11,
   "id": "33a35027-defe-4089-ab9b-0fc7ed63ebcc",
   "metadata": {},
   "outputs": [],
   "source": [
    "class person:\n",
    "    # constructor method , self is pointer\n",
    "    def __init__(self, name, lastname, age, email):\n",
    "        self.age = name\n",
    "        self.mail = lastname\n",
    "        self.name = age\n",
    "        self.lastname = email"
   ]
  },
  {
   "cell_type": "code",
   "execution_count": 13,
   "id": "b5aaa45b-3d62-44b1-8d04-f6e656639f3b",
   "metadata": {},
   "outputs": [],
   "source": [
    "obj = person(\"rohit\",\"sharma\", 35, \"rohit@mail.com\")"
   ]
  },
  {
   "cell_type": "code",
   "execution_count": 14,
   "id": "e61ba4d3-a3a6-4140-bc8b-f3acb206e209",
   "metadata": {},
   "outputs": [
    {
     "data": {
      "text/plain": [
       "'rohit@mail.com'"
      ]
     },
     "execution_count": 14,
     "metadata": {},
     "output_type": "execute_result"
    }
   ],
   "source": [
    "obj.lastname"
   ]
  },
  {
   "cell_type": "code",
   "execution_count": 15,
   "id": "32b48820-787c-4e84-8372-df4385612b2b",
   "metadata": {},
   "outputs": [
    {
     "data": {
      "text/plain": [
       "'sharma'"
      ]
     },
     "execution_count": 15,
     "metadata": {},
     "output_type": "execute_result"
    }
   ],
   "source": [
    "obj.mail"
   ]
  },
  {
   "cell_type": "code",
   "execution_count": null,
   "id": "ae926d8e-8df8-410c-aa97-2b5c05cee950",
   "metadata": {},
   "outputs": [],
   "source": []
  },
  {
   "cell_type": "code",
   "execution_count": 20,
   "id": "58c4d2bc-c812-408b-ba87-6200d53dab20",
   "metadata": {},
   "outputs": [],
   "source": [
    "class person:\n",
    "    # constructor method , self is pointer\n",
    "    def __init__(self, name, lastname, age, email):\n",
    "        self.name = name\n",
    "        self.lastname = lastname\n",
    "        self.age = age\n",
    "        self.email = email\n",
    "\n",
    "    def __init__(self, name, lastname, age ):\n",
    "        self.name = name\n",
    "        self.lastname = lastname\n",
    "        self.age = age\n",
    "       \n",
    "\n",
    "    def __init__(self, name, lastname, email):\n",
    "        self.name = name\n",
    "        self.lastname = lastname\n",
    "        self.email = email"
   ]
  },
  {
   "cell_type": "code",
   "execution_count": 21,
   "id": "3092d25c-4523-4d7a-aea7-ff69a0a1f4dd",
   "metadata": {},
   "outputs": [],
   "source": [
    "obj2 = person(\"rohit\",\"sharma\",\"rohit@mail.com\")"
   ]
  },
  {
   "cell_type": "code",
   "execution_count": 22,
   "id": "8414d680-301c-48f6-9780-cb7cd0c1e7c3",
   "metadata": {},
   "outputs": [
    {
     "data": {
      "text/plain": [
       "'rohit@mail.com'"
      ]
     },
     "execution_count": 22,
     "metadata": {},
     "output_type": "execute_result"
    }
   ],
   "source": [
    "obj2.email"
   ]
  },
  {
   "cell_type": "code",
   "execution_count": null,
   "id": "44ecbb56-a3d4-4f5e-bf6c-0df7cca5cd89",
   "metadata": {},
   "outputs": [],
   "source": []
  },
  {
   "cell_type": "code",
   "execution_count": null,
   "id": "d8128d38-85f1-4ef0-86bc-ee1ef7d7c779",
   "metadata": {},
   "outputs": [],
   "source": []
  },
  {
   "cell_type": "code",
   "execution_count": 23,
   "id": "990bc964-fb5b-4080-bdee-92759bdf5a7e",
   "metadata": {},
   "outputs": [],
   "source": [
    "class person1:\n",
    "\n",
    "    def __init__(self, name, mail, YOB):\n",
    "        self.name = name #attributes\n",
    "        self.mail = mail\n",
    "        self.YOB = YOB\n",
    "\n",
    "    # public method\n",
    "    def age(self, current_year):\n",
    "        return current_year- self.YOB\n"
   ]
  },
  {
   "cell_type": "code",
   "execution_count": 24,
   "id": "977edcdd-6024-46ce-bcb0-e0e270dc252f",
   "metadata": {},
   "outputs": [],
   "source": [
    "obj3 = person1(\"rohit\",\"rohit@mail.com\", 1988)"
   ]
  },
  {
   "cell_type": "code",
   "execution_count": 25,
   "id": "70ad72e6-d49f-4c76-9b0d-65f3c84da84a",
   "metadata": {},
   "outputs": [
    {
     "data": {
      "text/plain": [
       "'rohit@mail.com'"
      ]
     },
     "execution_count": 25,
     "metadata": {},
     "output_type": "execute_result"
    }
   ],
   "source": [
    "obj3.mail"
   ]
  },
  {
   "cell_type": "code",
   "execution_count": 26,
   "id": "ea35b385-a918-4e96-8566-d4b7fcbd0b7c",
   "metadata": {},
   "outputs": [
    {
     "data": {
      "text/plain": [
       "37"
      ]
     },
     "execution_count": 26,
     "metadata": {},
     "output_type": "execute_result"
    }
   ],
   "source": [
    "obj3.age(2025)"
   ]
  },
  {
   "cell_type": "code",
   "execution_count": 33,
   "id": "9a970896-e45f-4cd3-a1b0-049e6a353798",
   "metadata": {},
   "outputs": [],
   "source": [
    "class person1:\n",
    "\n",
    "    def __init__(self, name, lastname, YOB):\n",
    "        self.name = name #attributes\n",
    "        self.lastname = lastname\n",
    "        self.YOB = YOB\n",
    "\n",
    "    # public method\n",
    "    def age(self, current_year):\n",
    "        return current_year- self.YOB\n",
    "\n",
    "    # public method\n",
    "    def fullname(self):\n",
    "        return self.name + \" \"+self.lastname\n"
   ]
  },
  {
   "cell_type": "code",
   "execution_count": 28,
   "id": "b6b0d333-0f27-4f6e-9f24-412032d3bf5a",
   "metadata": {},
   "outputs": [],
   "source": [
    "obj4 = person1(\"rohit\",\"sharma\",1988)"
   ]
  },
  {
   "cell_type": "code",
   "execution_count": 29,
   "id": "796d63c3-99cf-4281-8d0c-bc3efcb0276d",
   "metadata": {},
   "outputs": [
    {
     "data": {
      "text/plain": [
       "'rohit'"
      ]
     },
     "execution_count": 29,
     "metadata": {},
     "output_type": "execute_result"
    }
   ],
   "source": [
    "obj4.name"
   ]
  },
  {
   "cell_type": "code",
   "execution_count": 30,
   "id": "12e089f6-f497-4eeb-9f6c-9ae146a61d77",
   "metadata": {},
   "outputs": [
    {
     "data": {
      "text/plain": [
       "37"
      ]
     },
     "execution_count": 30,
     "metadata": {},
     "output_type": "execute_result"
    }
   ],
   "source": [
    "obj4.age(2025)"
   ]
  },
  {
   "cell_type": "code",
   "execution_count": 32,
   "id": "4473c154-23d4-464a-bc6e-6d93918dd4e8",
   "metadata": {},
   "outputs": [
    {
     "data": {
      "text/plain": [
       "'rohit sharma'"
      ]
     },
     "execution_count": 32,
     "metadata": {},
     "output_type": "execute_result"
    }
   ],
   "source": [
    "obj4.fullname()"
   ]
  },
  {
   "cell_type": "code",
   "execution_count": null,
   "id": "a14f7ca9-5475-4558-ad7f-72249b409b94",
   "metadata": {},
   "outputs": [],
   "source": []
  },
  {
   "cell_type": "code",
   "execution_count": 34,
   "id": "dd96f089-e58b-4e7e-8657-4f7dc9eae564",
   "metadata": {},
   "outputs": [],
   "source": [
    "class person2:\n",
    "\n",
    "    def __init__(self, name, lastname, YOB):\n",
    "        self.name = name          # public attribute\n",
    "        self._lastname = lastname # protective attribute\n",
    "        self.__YOB = YOB          # private attribute\n",
    "\n",
    "    # public method\n",
    "    def age(self, current_year):\n",
    "        return current_year- self.__YOB\n",
    "\n",
    "    # public method\n",
    "    def fullname(self):\n",
    "        return self.name + \" \"+self._lastname"
   ]
  },
  {
   "cell_type": "code",
   "execution_count": 35,
   "id": "cf565880-00c7-4e2d-887c-d6fa9cd7de67",
   "metadata": {},
   "outputs": [],
   "source": [
    "obj5 = person2(\"rohit\", \"sharma\", 1988)"
   ]
  },
  {
   "cell_type": "code",
   "execution_count": 36,
   "id": "47f6ba42-377a-4627-8e2b-ae885a6b0a3c",
   "metadata": {},
   "outputs": [
    {
     "data": {
      "text/plain": [
       "'rohit'"
      ]
     },
     "execution_count": 36,
     "metadata": {},
     "output_type": "execute_result"
    }
   ],
   "source": [
    "obj5.name"
   ]
  },
  {
   "cell_type": "code",
   "execution_count": 37,
   "id": "eec042b4-43be-4f54-87ec-7981ec0a01b0",
   "metadata": {},
   "outputs": [
    {
     "data": {
      "text/plain": [
       "'sharma'"
      ]
     },
     "execution_count": 37,
     "metadata": {},
     "output_type": "execute_result"
    }
   ],
   "source": [
    "obj5._lastname"
   ]
  },
  {
   "cell_type": "code",
   "execution_count": 38,
   "id": "786b276d-c77a-4857-9f72-6869fa01d196",
   "metadata": {},
   "outputs": [
    {
     "data": {
      "text/plain": [
       "'rohit sharma'"
      ]
     },
     "execution_count": 38,
     "metadata": {},
     "output_type": "execute_result"
    }
   ],
   "source": [
    "obj5.fullname()"
   ]
  },
  {
   "cell_type": "code",
   "execution_count": 39,
   "id": "9d3772e6-3d65-4fdb-a3f9-ff479f459a80",
   "metadata": {},
   "outputs": [
    {
     "data": {
      "text/plain": [
       "1988"
      ]
     },
     "execution_count": 39,
     "metadata": {},
     "output_type": "execute_result"
    }
   ],
   "source": [
    "obj5._person2__YOB"
   ]
  },
  {
   "cell_type": "code",
   "execution_count": 40,
   "id": "1a8b1c98-208f-49b8-b1f5-16f346580bed",
   "metadata": {},
   "outputs": [
    {
     "data": {
      "text/plain": [
       "37"
      ]
     },
     "execution_count": 40,
     "metadata": {},
     "output_type": "execute_result"
    }
   ],
   "source": [
    "obj5.age(2025)"
   ]
  },
  {
   "cell_type": "code",
   "execution_count": 41,
   "id": "c153a411-6a75-4f8a-97e5-2232fb08f984",
   "metadata": {},
   "outputs": [
    {
     "name": "stdout",
     "output_type": "stream",
     "text": [
      "I'm public\n",
      "This is a public method\n"
     ]
    }
   ],
   "source": [
    "class PublicExample:\n",
    "    def __init__(self):\n",
    "        self.public_var = \"I'm public\"  # Public attribute\n",
    "    \n",
    "    def public_method(self):  # Public method\n",
    "        return \"This is a public method\"\n",
    "\n",
    "obj = PublicExample()\n",
    "print(obj.public_var)        # Direct access: I'm public\n",
    "print(obj.public_method())   # Direct access: This is a public method"
   ]
  },
  {
   "cell_type": "code",
   "execution_count": 42,
   "id": "14b5a7f6-e029-4059-bce8-3fc2d8f4c047",
   "metadata": {},
   "outputs": [],
   "source": [
    "class ProtectedExample:\n",
    "    def __init__(self):\n",
    "        self._protected_var = \"I'm protected\"  # Protected attribute\n",
    "    \n",
    "    def _protected_method(self):  # Protected method\n",
    "        return \"This is a protected method\"\n",
    "    \n",
    "    def access_protected(self):\n",
    "        \"\"\"Public method to access protected members\"\"\"\n",
    "        return self._protected_var\n",
    "\n",
    "# Recommended way"
   ]
  },
  {
   "cell_type": "code",
   "execution_count": 43,
   "id": "85fc7fa7-8437-4eab-8834-3b142efe42f6",
   "metadata": {},
   "outputs": [
    {
     "name": "stdout",
     "output_type": "stream",
     "text": [
      "I'm protected\n",
      "I'm protected\n"
     ]
    }
   ],
   "source": [
    "obj = ProtectedExample()\n",
    "print(obj._protected_var)      # Still accessible but not recommended\n",
    "print(obj.access_protected())  "
   ]
  },
  {
   "cell_type": "code",
   "execution_count": 44,
   "id": "cb60f001-09d5-4b54-8d5a-730cc0d21d08",
   "metadata": {},
   "outputs": [
    {
     "data": {
      "text/plain": [
       "'This is a protected method'"
      ]
     },
     "execution_count": 44,
     "metadata": {},
     "output_type": "execute_result"
    }
   ],
   "source": [
    "obj._protected_method()"
   ]
  },
  {
   "cell_type": "code",
   "execution_count": null,
   "id": "09e2357a-b0b2-4a82-8640-7c2b0ee7193b",
   "metadata": {},
   "outputs": [],
   "source": []
  },
  {
   "cell_type": "code",
   "execution_count": 45,
   "id": "55a2969f-02a9-4de3-af08-798f34378cc5",
   "metadata": {},
   "outputs": [],
   "source": [
    "class PrivateExample:\n",
    "    def __init__(self):\n",
    "        self.__private_var = \"I'm private\"  # Private attribute\n",
    "        self.public_var = \"I'm public\"\n",
    "    \n",
    "    def __private_method(self):  # Private method\n",
    "        return \"This is a private method\"\n",
    "    \n",
    "    def access_private(self):\n",
    "        \"\"\"Public method to access private members\"\"\"\n",
    "        return self.__private_var + \" - \" + self.__private_method()"
   ]
  },
  {
   "cell_type": "code",
   "execution_count": 46,
   "id": "7850cb06-b7de-4ff0-89d6-6a909fa787a6",
   "metadata": {},
   "outputs": [],
   "source": [
    "obj = PrivateExample()"
   ]
  },
  {
   "cell_type": "code",
   "execution_count": 47,
   "id": "6575e54f-5994-42d7-9725-2c61bbf2252c",
   "metadata": {},
   "outputs": [
    {
     "data": {
      "text/plain": [
       "\"I'm private - This is a private method\""
      ]
     },
     "execution_count": 47,
     "metadata": {},
     "output_type": "execute_result"
    }
   ],
   "source": [
    "obj.access_private()"
   ]
  },
  {
   "cell_type": "code",
   "execution_count": 48,
   "id": "8d782f45-2dd3-4591-869a-90c0c6f475df",
   "metadata": {},
   "outputs": [
    {
     "data": {
      "text/plain": [
       "'This is a private method'"
      ]
     },
     "execution_count": 48,
     "metadata": {},
     "output_type": "execute_result"
    }
   ],
   "source": [
    "obj._PrivateExample__private_method()"
   ]
  },
  {
   "cell_type": "code",
   "execution_count": null,
   "id": "87dc1416-1c18-47e1-8819-fa6e0278a9fe",
   "metadata": {},
   "outputs": [],
   "source": []
  },
  {
   "cell_type": "code",
   "execution_count": 52,
   "id": "6d460d8b-a79c-4ce9-bcdd-abc3d6ece25a",
   "metadata": {},
   "outputs": [],
   "source": [
    "class person:\n",
    "    # constructor method , self is pointer\n",
    "    def __init__(key, name, lastname, age, email):\n",
    "        key.name = name\n",
    "        key.lastname = lastname\n",
    "        key.age = age\n",
    "        key.email = email"
   ]
  },
  {
   "cell_type": "code",
   "execution_count": 53,
   "id": "4f3f1a96-42f7-472b-bd81-49ca849edbec",
   "metadata": {},
   "outputs": [],
   "source": [
    "o = person(\"rohit\",\"sharma\", 35, \"rohit@mail.com\")"
   ]
  },
  {
   "cell_type": "code",
   "execution_count": 54,
   "id": "d7dfe1d3-decd-4d67-8951-0343f22465ba",
   "metadata": {},
   "outputs": [
    {
     "data": {
      "text/plain": [
       "'sharma'"
      ]
     },
     "execution_count": 54,
     "metadata": {},
     "output_type": "execute_result"
    }
   ],
   "source": [
    "o.lastname"
   ]
  },
  {
   "cell_type": "code",
   "execution_count": null,
   "id": "6e2faa91-0e0c-49e5-a42e-b67b7388ef44",
   "metadata": {},
   "outputs": [],
   "source": []
  }
 ],
 "metadata": {
  "kernelspec": {
   "display_name": "Python 3 (ipykernel)",
   "language": "python",
   "name": "python3"
  },
  "language_info": {
   "codemirror_mode": {
    "name": "ipython",
    "version": 3
   },
   "file_extension": ".py",
   "mimetype": "text/x-python",
   "name": "python",
   "nbconvert_exporter": "python",
   "pygments_lexer": "ipython3",
   "version": "3.11.7"
  }
 },
 "nbformat": 4,
 "nbformat_minor": 5
}
