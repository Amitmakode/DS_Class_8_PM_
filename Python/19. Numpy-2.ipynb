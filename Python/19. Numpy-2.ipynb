{
 "cells": [
  {
   "cell_type": "code",
   "execution_count": 1,
   "id": "e7cca452-f5a9-4166-94a7-5a2510ce1412",
   "metadata": {},
   "outputs": [],
   "source": [
    "import numpy as np"
   ]
  },
  {
   "cell_type": "code",
   "execution_count": 2,
   "id": "334c5859-7735-49b6-941f-3057b3f55b72",
   "metadata": {},
   "outputs": [],
   "source": [
    "#Random Array Generation"
   ]
  },
  {
   "cell_type": "code",
   "execution_count": 10,
   "id": "ab192d5d-4f4f-4203-9212-955f13dea8a8",
   "metadata": {},
   "outputs": [
    {
     "data": {
      "text/plain": [
       "array([[2, 7, 3, 7, 7],\n",
       "       [5, 2, 1, 1, 3],\n",
       "       [2, 4, 3, 2, 7],\n",
       "       ...,\n",
       "       [7, 7, 7, 5, 9],\n",
       "       [5, 8, 5, 3, 6],\n",
       "       [4, 5, 8, 6, 8]])"
      ]
     },
     "execution_count": 10,
     "metadata": {},
     "output_type": "execute_result"
    }
   ],
   "source": [
    "np.random.randint(1,10, size= (300,5))"
   ]
  },
  {
   "cell_type": "code",
   "execution_count": 12,
   "id": "4a3b3577-da42-4e6c-a89b-f10d4a7433c3",
   "metadata": {},
   "outputs": [
    {
     "data": {
      "text/plain": [
       "array([[0.74024063, 0.41783799, 0.73548385, 0.64751498],\n",
       "       [0.84209435, 0.59984142, 0.87348391, 0.58233692],\n",
       "       [0.06991929, 0.92663918, 0.44468435, 0.28246127],\n",
       "       [0.10126809, 0.81597949, 0.81849293, 0.92946429]])"
      ]
     },
     "execution_count": 12,
     "metadata": {},
     "output_type": "execute_result"
    }
   ],
   "source": [
    "np.random.rand(4,4)"
   ]
  },
  {
   "cell_type": "code",
   "execution_count": 16,
   "id": "7ab27232-4081-4fb0-9297-f281597c391a",
   "metadata": {},
   "outputs": [
    {
     "data": {
      "text/plain": [
       "array([[0.16061301, 0.46707805, 0.43984088, 0.90580535],\n",
       "       [0.42876979, 0.16674432, 0.59763785, 0.93642342]])"
      ]
     },
     "execution_count": 16,
     "metadata": {},
     "output_type": "execute_result"
    }
   ],
   "source": [
    "np.random.random((2,4))"
   ]
  },
  {
   "cell_type": "code",
   "execution_count": 18,
   "id": "0626a03c-7bc2-45ba-8ea7-52885140d34f",
   "metadata": {},
   "outputs": [
    {
     "data": {
      "text/plain": [
       "array([[-0.02564505,  1.84934881, -0.27546158, -0.5778158 ],\n",
       "       [-0.01717509,  0.68541217,  1.02374841, -2.05594013],\n",
       "       [ 2.03458683,  1.12398474, -1.14427011, -1.03620017]])"
      ]
     },
     "execution_count": 18,
     "metadata": {},
     "output_type": "execute_result"
    }
   ],
   "source": [
    "np.random.randn(3,4)"
   ]
  },
  {
   "cell_type": "code",
   "execution_count": 19,
   "id": "a0eac49d-15a0-40cf-8c85-f482a55eb634",
   "metadata": {},
   "outputs": [
    {
     "data": {
      "text/plain": [
       "array([[-3.07631701,  1.43640604, -5.86412031],\n",
       "       [-3.93842628, -0.10956673,  6.63842875],\n",
       "       [ 2.83111238, -3.23447041,  1.84618145]])"
      ]
     },
     "execution_count": 19,
     "metadata": {},
     "output_type": "execute_result"
    }
   ],
   "source": [
    "np.random.normal(1,4, (3,3))   #mean = 0, std = 1"
   ]
  },
  {
   "cell_type": "code",
   "execution_count": 23,
   "id": "a0992813-78a7-4e4a-a1bd-4f626ed834b3",
   "metadata": {},
   "outputs": [
    {
     "data": {
      "text/plain": [
       "0.644143536068335"
      ]
     },
     "execution_count": 23,
     "metadata": {},
     "output_type": "execute_result"
    }
   ],
   "source": [
    "np.random.seed(30)\n",
    "np.random.random()"
   ]
  },
  {
   "cell_type": "code",
   "execution_count": 27,
   "id": "1c1db4ac-366d-4139-adb9-86319ac2c918",
   "metadata": {},
   "outputs": [
    {
     "data": {
      "text/plain": [
       "0.9626078136743187"
      ]
     },
     "execution_count": 27,
     "metadata": {},
     "output_type": "execute_result"
    }
   ],
   "source": [
    "np.random.random()"
   ]
  },
  {
   "cell_type": "code",
   "execution_count": 28,
   "id": "0be2a8df-1f81-4a9b-83a9-7accbe4f5404",
   "metadata": {},
   "outputs": [],
   "source": [
    "arr1 = np.array([[1, 2], [3, 4]])\n",
    "arr2 = np.array([[5, 6], [7, 8]])\n",
    "arr3 = np.array([[9, 10], [11, 12]])"
   ]
  },
  {
   "cell_type": "code",
   "execution_count": 29,
   "id": "554ae298-524b-48fb-8238-d995a3516b63",
   "metadata": {},
   "outputs": [
    {
     "data": {
      "text/plain": [
       "array([[1, 2],\n",
       "       [3, 4]])"
      ]
     },
     "execution_count": 29,
     "metadata": {},
     "output_type": "execute_result"
    }
   ],
   "source": [
    "arr1"
   ]
  },
  {
   "cell_type": "code",
   "execution_count": 30,
   "id": "6b3eb4e3-6f58-453f-b52a-819af5b4c431",
   "metadata": {},
   "outputs": [
    {
     "data": {
      "text/plain": [
       "array([[5, 6],\n",
       "       [7, 8]])"
      ]
     },
     "execution_count": 30,
     "metadata": {},
     "output_type": "execute_result"
    }
   ],
   "source": [
    "arr2"
   ]
  },
  {
   "cell_type": "code",
   "execution_count": 31,
   "id": "1405cd4a-1297-4cf7-94b3-5e2378591765",
   "metadata": {},
   "outputs": [
    {
     "data": {
      "text/plain": [
       "array([[ 9, 10],\n",
       "       [11, 12]])"
      ]
     },
     "execution_count": 31,
     "metadata": {},
     "output_type": "execute_result"
    }
   ],
   "source": [
    "arr3"
   ]
  },
  {
   "cell_type": "code",
   "execution_count": 32,
   "id": "3a30c93d-8cac-4d98-8b2a-506f7da654d8",
   "metadata": {},
   "outputs": [
    {
     "data": {
      "text/plain": [
       "array([[1, 2],\n",
       "       [3, 4],\n",
       "       [5, 6],\n",
       "       [7, 8]])"
      ]
     },
     "execution_count": 32,
     "metadata": {},
     "output_type": "execute_result"
    }
   ],
   "source": [
    "np.vstack((arr1, arr2))"
   ]
  },
  {
   "cell_type": "code",
   "execution_count": 33,
   "id": "696f1891-6340-4f1d-a475-e4b32e7603e2",
   "metadata": {},
   "outputs": [
    {
     "data": {
      "text/plain": [
       "array([[1, 2, 5, 6],\n",
       "       [3, 4, 7, 8]])"
      ]
     },
     "execution_count": 33,
     "metadata": {},
     "output_type": "execute_result"
    }
   ],
   "source": [
    "np.hstack((arr1, arr2))"
   ]
  },
  {
   "cell_type": "code",
   "execution_count": 34,
   "id": "1fbdee48-3f78-466c-a901-ce376d7d58d6",
   "metadata": {},
   "outputs": [
    {
     "data": {
      "text/plain": [
       "array([[1, 2],\n",
       "       [3, 4],\n",
       "       [5, 6],\n",
       "       [7, 8]])"
      ]
     },
     "execution_count": 34,
     "metadata": {},
     "output_type": "execute_result"
    }
   ],
   "source": [
    "np.concatenate((arr1, arr2), axis=0)"
   ]
  },
  {
   "cell_type": "code",
   "execution_count": 35,
   "id": "5eeccca0-bbc7-4793-a5e1-7ba1be052154",
   "metadata": {},
   "outputs": [
    {
     "data": {
      "text/plain": [
       "array([[1, 2, 5, 6],\n",
       "       [3, 4, 7, 8]])"
      ]
     },
     "execution_count": 35,
     "metadata": {},
     "output_type": "execute_result"
    }
   ],
   "source": [
    "np.concatenate((arr1, arr2), axis=1)"
   ]
  },
  {
   "cell_type": "code",
   "execution_count": 37,
   "id": "1103bd9c-03ec-4de1-8e14-908ad6c76971",
   "metadata": {},
   "outputs": [
    {
     "name": "stdout",
     "output_type": "stream",
     "text": [
      "[20 40 30 30 50 50 50 10 40 10 40 50 30 20 50 20 30 40 20 10 40 50 40 20\n",
      " 20 20 10 50 10 20 10 20 30 30 40 40 20 50 50 30]\n"
     ]
    }
   ],
   "source": [
    "arr = np.random.choice([10, 20, 30, 40, 50], size=40)\n",
    "print(arr)"
   ]
  },
  {
   "cell_type": "code",
   "execution_count": 38,
   "id": "cf76f98b-b6a5-4de1-9d8c-6cc6012b769d",
   "metadata": {},
   "outputs": [
    {
     "name": "stdout",
     "output_type": "stream",
     "text": [
      "[[6.06040416 6.33646584 6.86947039]\n",
      " [7.86544253 9.58679039 9.09487968]]\n"
     ]
    }
   ],
   "source": [
    "arr = np.random.uniform(5, 10, size=(2, 3))\n",
    "print(arr)"
   ]
  },
  {
   "cell_type": "code",
   "execution_count": 39,
   "id": "aeb49686-623d-4b6c-8db2-685dd00a9a09",
   "metadata": {},
   "outputs": [
    {
     "name": "stdout",
     "output_type": "stream",
     "text": [
      "[0 6 5 1 3 7 8 2 4 9]\n"
     ]
    }
   ],
   "source": [
    "arr = np.random.permutation(10)\n",
    "print(arr)"
   ]
  },
  {
   "cell_type": "code",
   "execution_count": 40,
   "id": "622f170b-6114-4fa2-b247-2399a208837f",
   "metadata": {},
   "outputs": [
    {
     "name": "stdout",
     "output_type": "stream",
     "text": [
      "[2 3 5 4 1]\n"
     ]
    }
   ],
   "source": [
    "arr = np.array([1, 2, 3, 4, 5])\n",
    "np.random.shuffle(arr)\n",
    "print(arr)"
   ]
  },
  {
   "cell_type": "code",
   "execution_count": 41,
   "id": "c213960a-e7a9-4c71-8544-23ba2a7bdb97",
   "metadata": {},
   "outputs": [
    {
     "name": "stdout",
     "output_type": "stream",
     "text": [
      "[[0.61230216 0.31101022 0.32492247]\n",
      " [0.78300166 0.91315956 0.87141294]]\n"
     ]
    }
   ],
   "source": [
    "arr = np.random.sample((2, 3))\n",
    "print(arr)"
   ]
  },
  {
   "cell_type": "code",
   "execution_count": 53,
   "id": "d481a658-0cd1-4d41-adb3-95d8bed8d708",
   "metadata": {},
   "outputs": [
    {
     "data": {
      "text/plain": [
       "0.9890115134756001"
      ]
     },
     "execution_count": 53,
     "metadata": {},
     "output_type": "execute_result"
    }
   ],
   "source": [
    "np.random.seed(45)\n",
    "np.random.random()"
   ]
  },
  {
   "cell_type": "code",
   "execution_count": 69,
   "id": "0fa6d84e-0f26-40dc-9753-270c8fdb4aa5",
   "metadata": {},
   "outputs": [
    {
     "data": {
      "text/plain": [
       "0.2826672065311674"
      ]
     },
     "execution_count": 69,
     "metadata": {},
     "output_type": "execute_result"
    }
   ],
   "source": [
    "np.random.RandomState(50)\n",
    "np.random.random()"
   ]
  },
  {
   "cell_type": "code",
   "execution_count": null,
   "id": "f6b8195e-3451-4096-bd30-0fddfb4d1262",
   "metadata": {},
   "outputs": [],
   "source": []
  },
  {
   "cell_type": "code",
   "execution_count": null,
   "id": "7d09e8d6-1a27-414a-9a05-6354f2d946c7",
   "metadata": {},
   "outputs": [],
   "source": []
  }
 ],
 "metadata": {
  "kernelspec": {
   "display_name": "Python 3 (ipykernel)",
   "language": "python",
   "name": "python3"
  },
  "language_info": {
   "codemirror_mode": {
    "name": "ipython",
    "version": 3
   },
   "file_extension": ".py",
   "mimetype": "text/x-python",
   "name": "python",
   "nbconvert_exporter": "python",
   "pygments_lexer": "ipython3",
   "version": "3.11.7"
  }
 },
 "nbformat": 4,
 "nbformat_minor": 5
}
