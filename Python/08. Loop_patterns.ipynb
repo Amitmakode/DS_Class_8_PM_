{
 "cells": [
  {
   "cell_type": "code",
   "execution_count": null,
   "id": "77883527-1965-4669-80ff-15962c44fd2e",
   "metadata": {},
   "outputs": [],
   "source": [
    "for \n",
    "while"
   ]
  },
  {
   "cell_type": "code",
   "execution_count": null,
   "id": "b7b29369-5286-45b6-a2fe-c0e8a741a688",
   "metadata": {},
   "outputs": [],
   "source": [
    "for i in iterable:\n",
    "    print(\"logic\")"
   ]
  },
  {
   "cell_type": "code",
   "execution_count": 3,
   "id": "b432ae66-0c7a-4911-be41-2c5926060ca9",
   "metadata": {},
   "outputs": [
    {
     "data": {
      "text/plain": [
       "[0, 1, 2, 3, 4]"
      ]
     },
     "execution_count": 3,
     "metadata": {},
     "output_type": "execute_result"
    }
   ],
   "source": [
    "list(range(5))"
   ]
  },
  {
   "cell_type": "code",
   "execution_count": 1,
   "id": "cbd1ca82-a921-466e-9180-b6184caa35d3",
   "metadata": {},
   "outputs": [
    {
     "name": "stdout",
     "output_type": "stream",
     "text": [
      "0\n",
      "1\n",
      "2\n",
      "3\n",
      "4\n"
     ]
    }
   ],
   "source": [
    "for i in range(5):\n",
    "    print(i)"
   ]
  },
  {
   "cell_type": "code",
   "execution_count": 4,
   "id": "f90841d7-c26f-44f8-b04e-ecaa35184784",
   "metadata": {},
   "outputs": [],
   "source": [
    "var = \"datascience\""
   ]
  },
  {
   "cell_type": "code",
   "execution_count": 6,
   "id": "6b9f4f90-494d-4f63-b628-e0e2472b5c17",
   "metadata": {},
   "outputs": [
    {
     "name": "stdout",
     "output_type": "stream",
     "text": [
      "d a t a s c i e n c e "
     ]
    }
   ],
   "source": [
    "for i in var:\n",
    "    print(i, end = \" \")"
   ]
  },
  {
   "cell_type": "code",
   "execution_count": 7,
   "id": "f4d9a615-1aa1-4baf-914d-ce681baf9643",
   "metadata": {},
   "outputs": [
    {
     "data": {
      "text/plain": [
       "11"
      ]
     },
     "execution_count": 7,
     "metadata": {},
     "output_type": "execute_result"
    }
   ],
   "source": [
    "len(var)"
   ]
  },
  {
   "cell_type": "code",
   "execution_count": 10,
   "id": "9b3b4b0a-520d-4bdf-9261-0fc8ae4cb01b",
   "metadata": {},
   "outputs": [
    {
     "data": {
      "text/plain": [
       "'t'"
      ]
     },
     "execution_count": 10,
     "metadata": {},
     "output_type": "execute_result"
    }
   ],
   "source": [
    "var[2]"
   ]
  },
  {
   "cell_type": "code",
   "execution_count": 11,
   "id": "0b2ff1dd-f5e1-4a7e-b919-b1f799e18507",
   "metadata": {},
   "outputs": [
    {
     "name": "stdout",
     "output_type": "stream",
     "text": [
      "d\n",
      "a\n",
      "t\n",
      "a\n",
      "s\n",
      "c\n",
      "i\n",
      "e\n",
      "n\n",
      "c\n",
      "e\n"
     ]
    }
   ],
   "source": [
    "a = 0\n",
    "\n",
    "while a < len(var):\n",
    "    print(var[a])\n",
    "    a=a+1"
   ]
  },
  {
   "cell_type": "code",
   "execution_count": 12,
   "id": "a2ee040d-c217-4c2c-915b-6052e4796f95",
   "metadata": {},
   "outputs": [
    {
     "name": "stdout",
     "output_type": "stream",
     "text": [
      "d a t a s c i e n c e "
     ]
    }
   ],
   "source": [
    "a = 0\n",
    "\n",
    "while a < len(var):\n",
    "    print(var[a], end = \" \")\n",
    "    a=a+1"
   ]
  },
  {
   "cell_type": "code",
   "execution_count": 14,
   "id": "864e71ba-1e52-47c2-80c2-49a55ea1ef78",
   "metadata": {},
   "outputs": [
    {
     "name": "stdout",
     "output_type": "stream",
     "text": [
      "D A T A S C I E N C E "
     ]
    }
   ],
   "source": [
    "a = 0\n",
    "\n",
    "while a < len(var):\n",
    "    print(var[a].upper(), end = \" \")\n",
    "    a=a+1"
   ]
  },
  {
   "cell_type": "code",
   "execution_count": 18,
   "id": "ca415df6-5da5-4826-8f59-daa3d86d2353",
   "metadata": {},
   "outputs": [
    {
     "name": "stdout",
     "output_type": "stream",
     "text": [
      "0\n",
      "1\n",
      "0\n",
      "1\n",
      "0\n",
      "1\n"
     ]
    }
   ],
   "source": [
    "for i in range(3):\n",
    "    for j in range(2):\n",
    "        print(j)"
   ]
  },
  {
   "cell_type": "code",
   "execution_count": 21,
   "id": "28e09527-0b87-494e-bd57-ae0ae00e3b08",
   "metadata": {},
   "outputs": [
    {
     "name": "stdout",
     "output_type": "stream",
     "text": [
      "* \n",
      "* * \n",
      "* * * \n",
      "* * * * \n",
      "* * * * * \n"
     ]
    }
   ],
   "source": [
    "for i in range(5):   #0,1,2,3,4\n",
    "    for j in range(i+1):  #1,2,3,4,5\n",
    "        print(\"*\",end = \" \")\n",
    "    print()"
   ]
  },
  {
   "cell_type": "code",
   "execution_count": 22,
   "id": "35433df7-4d0b-4d7d-9071-d9b6224fcb67",
   "metadata": {},
   "outputs": [
    {
     "name": "stdout",
     "output_type": "stream",
     "text": [
      "          * \n",
      "        * * \n",
      "      * * * \n",
      "    * * * * \n",
      "  * * * * * \n"
     ]
    }
   ],
   "source": [
    "for i in range(5):\n",
    "    for k in range(5-i):\n",
    "        print(\" \", end = \" \")\n",
    "    for j in range(i+1):      #1,2,3,4,5\n",
    "        print(\"*\",end = \" \")\n",
    "    print()"
   ]
  },
  {
   "cell_type": "code",
   "execution_count": 23,
   "id": "edc9fbc6-4d89-4cbf-85da-4208a3102f2a",
   "metadata": {},
   "outputs": [
    {
     "name": "stdout",
     "output_type": "stream",
     "text": [
      "     * \n",
      "    * * \n",
      "   * * * \n",
      "  * * * * \n",
      " * * * * * \n"
     ]
    }
   ],
   "source": [
    "for i in range(5):\n",
    "    for k in range(5-i):\n",
    "        print(\"\", end = \" \")\n",
    "    for j in range(i+1):      #1,2,3,4,5\n",
    "        print(\"*\",end = \" \")\n",
    "    print()"
   ]
  },
  {
   "cell_type": "code",
   "execution_count": null,
   "id": "6adca567-afbe-47e8-b0e1-4983737c82b9",
   "metadata": {},
   "outputs": [],
   "source": [
    "a\n",
    "b c\n",
    "d e f\n",
    "g h i j "
   ]
  },
  {
   "cell_type": "code",
   "execution_count": 25,
   "id": "3f2aa296-1c4d-4ed6-b592-ea0c6bc57613",
   "metadata": {},
   "outputs": [
    {
     "data": {
      "text/plain": [
       "'a'"
      ]
     },
     "execution_count": 25,
     "metadata": {},
     "output_type": "execute_result"
    }
   ],
   "source": [
    "chr(97)"
   ]
  },
  {
   "cell_type": "code",
   "execution_count": 26,
   "id": "1f7b166a-da7d-423a-9889-bf801b614a4f",
   "metadata": {},
   "outputs": [
    {
     "data": {
      "text/plain": [
       "97"
      ]
     },
     "execution_count": 26,
     "metadata": {},
     "output_type": "execute_result"
    }
   ],
   "source": [
    "ord(\"a\")"
   ]
  },
  {
   "cell_type": "code",
   "execution_count": 33,
   "id": "a6a91da3-9db1-417c-b27b-a65f7db92873",
   "metadata": {},
   "outputs": [
    {
     "name": "stdout",
     "output_type": "stream",
     "text": [
      "a \n",
      "b c \n",
      "d e f \n",
      "g h i j \n",
      "k l m n o \n",
      "p q r s t u \n",
      "v w x y z \n"
     ]
    }
   ],
   "source": [
    "a = 97\n",
    "\n",
    "for i in range(7):\n",
    "    for j in range(i+1):\n",
    "        print(chr(a), end = \" \")\n",
    "        a=a+1\n",
    "        if a > 122:\n",
    "            break\n",
    "    print()"
   ]
  },
  {
   "cell_type": "code",
   "execution_count": 39,
   "id": "dc3ba567-672e-43f1-8513-e4a308671a15",
   "metadata": {},
   "outputs": [
    {
     "data": {
      "text/plain": [
       "90"
      ]
     },
     "execution_count": 39,
     "metadata": {},
     "output_type": "execute_result"
    }
   ],
   "source": [
    "a = ord(\"Z\")\n",
    "a"
   ]
  },
  {
   "cell_type": "code",
   "execution_count": 37,
   "id": "d0c9fe17-96bf-4f97-942b-2fec51d99da3",
   "metadata": {},
   "outputs": [
    {
     "data": {
      "text/plain": [
       "'A'"
      ]
     },
     "execution_count": 37,
     "metadata": {},
     "output_type": "execute_result"
    }
   ],
   "source": [
    "a"
   ]
  },
  {
   "cell_type": "code",
   "execution_count": 41,
   "id": "b7d59f33-26cf-47f5-bc05-06e0d8a51826",
   "metadata": {},
   "outputs": [
    {
     "name": "stdout",
     "output_type": "stream",
     "text": [
      "A \n",
      "B C \n",
      "D E F \n",
      "G H I J \n",
      "K L M N O \n",
      "P Q R S T U \n",
      "V W X Y Z \n"
     ]
    }
   ],
   "source": [
    "a = ord(\"A\")\n",
    "\n",
    "for i in range(7):\n",
    "    for j in range(i+1):\n",
    "        print(chr(a), end = \" \")\n",
    "        a=a+1\n",
    "        if a > ord(\"Z\"):\n",
    "            break\n",
    "    print()"
   ]
  },
  {
   "cell_type": "code",
   "execution_count": 42,
   "id": "39128bcc-c6a1-4652-b62c-099eccf7ac07",
   "metadata": {},
   "outputs": [],
   "source": [
    "lis = [0, \"j\", 8, \"k\", \"G\",1,2,3,\"q\", \"a\", \"c\", 7, \"f\", \"y\", 6, 2, \"d\", \"e\", \"h\"]"
   ]
  },
  {
   "cell_type": "code",
   "execution_count": 43,
   "id": "45a18a4b-f4ad-4746-92be-90400e0940d6",
   "metadata": {},
   "outputs": [
    {
     "data": {
      "text/plain": [
       "['G', 'a', 'c', 'd', 'e', 'f', 'h', 'j', 'k', 'q', 'y']"
      ]
     },
     "execution_count": 43,
     "metadata": {},
     "output_type": "execute_result"
    }
   ],
   "source": [
    "str_lis = []\n",
    "for i in lis:\n",
    "    if type(i)==str:\n",
    "        str_lis.append(i)\n",
    "\n",
    "str_lis.sort()\n",
    "\n",
    "str_lis\n",
    "        "
   ]
  },
  {
   "cell_type": "code",
   "execution_count": 46,
   "id": "9fe6aab0-c8c2-4bc8-b8cc-3bf80605332e",
   "metadata": {},
   "outputs": [
    {
     "data": {
      "text/plain": [
       "['y', 'q', 'k', 'j', 'h', 'g', 'f', 'e', 'd', 'c', 'a']"
      ]
     },
     "execution_count": 46,
     "metadata": {},
     "output_type": "execute_result"
    }
   ],
   "source": [
    "str_lis = []\n",
    "for i in lis:\n",
    "    if type(i)==str:\n",
    "        str_lis.append(i.lower())\n",
    "\n",
    "str_lis.sort(reverse=True)\n",
    "\n",
    "str_lis"
   ]
  },
  {
   "cell_type": "code",
   "execution_count": 53,
   "id": "9289bf18-1c1f-4496-b5c5-1374f98f52eb",
   "metadata": {},
   "outputs": [
    {
     "data": {
      "text/plain": [
       "[0, 'j', 8, 'k', 'G', 1, 2, 3, 'q', 'a', 'c', 7, 'f', 'y', 6, 2, 'd', 'e', 'h']"
      ]
     },
     "execution_count": 53,
     "metadata": {},
     "output_type": "execute_result"
    }
   ],
   "source": [
    "lis"
   ]
  },
  {
   "cell_type": "code",
   "execution_count": 48,
   "id": "e8ac52a2-bf6d-46af-8cb3-367ce9a08e40",
   "metadata": {},
   "outputs": [
    {
     "name": "stdout",
     "output_type": "stream",
     "text": [
      "['a', 'c', 'd', 'e', 'f', 'g', 'h', 'j', 'k', 'q', 'y'] [0, 1, 2, 2, 3, 6, 7, 8]\n"
     ]
    }
   ],
   "source": [
    "str1 = []\n",
    "int2 = []\n",
    "for i in lis:\n",
    "    if type(i)==str:\n",
    "        str1.append(i.lower())\n",
    "    if type(i)==int:\n",
    "        int2.append(i)\n",
    "\n",
    "\n",
    "\n",
    "str1.sort()\n",
    "int2.sort()\n",
    "\n",
    "print(str1, int2)"
   ]
  },
  {
   "cell_type": "code",
   "execution_count": 51,
   "id": "8574b8da-5844-4b5b-8f18-0efe9c2775c3",
   "metadata": {},
   "outputs": [
    {
     "data": {
      "text/plain": [
       "{'a': 0, 'c': 1, 'd': 2, 'e': 2, 'f': 3, 'g': 6, 'h': 7, 'j': 8}"
      ]
     },
     "execution_count": 51,
     "metadata": {},
     "output_type": "execute_result"
    }
   ],
   "source": [
    "dict(list(zip(str1, int2)))"
   ]
  },
  {
   "cell_type": "code",
   "execution_count": 52,
   "id": "72028919-ba55-48eb-82df-f82a2273389e",
   "metadata": {},
   "outputs": [
    {
     "data": {
      "text/plain": [
       "[0, 'j', 8, 'k', 'G', 1, 2, 3, 'q', 'a', 'c', 7, 'f', 'y', 6, 2, 'd', 'e', 'h']"
      ]
     },
     "execution_count": 52,
     "metadata": {},
     "output_type": "execute_result"
    }
   ],
   "source": [
    "lis"
   ]
  },
  {
   "cell_type": "code",
   "execution_count": 54,
   "id": "defa4708-e4c3-4a4b-b306-86cca02111d2",
   "metadata": {},
   "outputs": [],
   "source": [
    "lis2 = ['a', 'c', 'd', 'e', 'f', 'g', 'h', 'j', 'k', 'q', 'y', \"z\", \"q\", \"i\", \"o\", \"p\", \"w\", \"u\"]"
   ]
  },
  {
   "cell_type": "code",
   "execution_count": 55,
   "id": "3521099f-9802-4df9-8180-bd5abe1eff4b",
   "metadata": {},
   "outputs": [],
   "source": [
    "vowel = []\n",
    "for i in lis2:\n",
    "    if i==\"a\" or i==\"e\" or i==\"i\" or i==\"o\" or i==\"u\":\n",
    "        vowel.append(i)\n"
   ]
  },
  {
   "cell_type": "code",
   "execution_count": 56,
   "id": "5cb716cd-fb85-4a75-afeb-5dd8ab3b5d4d",
   "metadata": {},
   "outputs": [
    {
     "data": {
      "text/plain": [
       "['a', 'e', 'i', 'o', 'u']"
      ]
     },
     "execution_count": 56,
     "metadata": {},
     "output_type": "execute_result"
    }
   ],
   "source": [
    "vowel"
   ]
  },
  {
   "cell_type": "code",
   "execution_count": 57,
   "id": "9832d02f-906b-4227-a0e7-bbb6ac4f37e7",
   "metadata": {},
   "outputs": [],
   "source": [
    "v = []\n",
    "c = []\n",
    "for i in lis2:\n",
    "    if i==\"a\" or i==\"e\" or i==\"i\" or i==\"o\" or i==\"u\":\n",
    "        v.append(i)\n",
    "    else:\n",
    "        c.append(i)\n",
    "      "
   ]
  },
  {
   "cell_type": "code",
   "execution_count": 58,
   "id": "013ee239-7302-4d1a-8292-4662edca08e1",
   "metadata": {},
   "outputs": [
    {
     "data": {
      "text/plain": [
       "['a', 'e', 'i', 'o', 'u']"
      ]
     },
     "execution_count": 58,
     "metadata": {},
     "output_type": "execute_result"
    }
   ],
   "source": [
    "v"
   ]
  },
  {
   "cell_type": "code",
   "execution_count": 59,
   "id": "6294f6d8-c7d2-451a-b822-9920a81e4daa",
   "metadata": {},
   "outputs": [
    {
     "data": {
      "text/plain": [
       "['c', 'd', 'f', 'g', 'h', 'j', 'k', 'q', 'y', 'z', 'q', 'p', 'w']"
      ]
     },
     "execution_count": 59,
     "metadata": {},
     "output_type": "execute_result"
    }
   ],
   "source": [
    "c"
   ]
  },
  {
   "cell_type": "code",
   "execution_count": 60,
   "id": "00ae42d2-e6ed-43af-8687-000c572e2ac0",
   "metadata": {},
   "outputs": [
    {
     "name": "stdout",
     "output_type": "stream",
     "text": [
      "a\n",
      "e\n",
      "i\n",
      "o\n",
      "u\n"
     ]
    }
   ],
   "source": [
    "for i in lis2:\n",
    "    if i==\"a\" or i==\"e\" or i==\"i\" or i==\"o\" or i==\"u\":\n",
    "        print(i)"
   ]
  },
  {
   "cell_type": "code",
   "execution_count": 66,
   "id": "34d62c04-c8c0-4936-be81-dde59581b873",
   "metadata": {},
   "outputs": [
    {
     "name": "stdin",
     "output_type": "stream",
     "text": [
      " 2021\n"
     ]
    },
    {
     "name": "stdout",
     "output_type": "stream",
     "text": [
      "not year\n"
     ]
    }
   ],
   "source": [
    "year = int(input())\n",
    "\n",
    "if (year%4==0 and year%100!=0) or (year%400==0):\n",
    "    print(\"this is leap year\")\n",
    "else:\n",
    "    print(\"not year\")"
   ]
  },
  {
   "cell_type": "code",
   "execution_count": null,
   "id": "2422ba68-dd89-4e05-b99e-31d301bc1a99",
   "metadata": {},
   "outputs": [],
   "source": []
  },
  {
   "cell_type": "code",
   "execution_count": null,
   "id": "11c9978a-830a-4c63-bafa-07a799c18e85",
   "metadata": {},
   "outputs": [],
   "source": []
  }
 ],
 "metadata": {
  "kernelspec": {
   "display_name": "Python 3 (ipykernel)",
   "language": "python",
   "name": "python3"
  },
  "language_info": {
   "codemirror_mode": {
    "name": "ipython",
    "version": 3
   },
   "file_extension": ".py",
   "mimetype": "text/x-python",
   "name": "python",
   "nbconvert_exporter": "python",
   "pygments_lexer": "ipython3",
   "version": "3.11.7"
  }
 },
 "nbformat": 4,
 "nbformat_minor": 5
}
