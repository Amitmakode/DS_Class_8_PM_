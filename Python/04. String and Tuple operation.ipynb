{
 "cells": [
  {
   "cell_type": "markdown",
   "id": "0830aefd-91af-49b1-bdd6-531bf3514b61",
   "metadata": {},
   "source": [
    "## String"
   ]
  },
  {
   "cell_type": "code",
   "execution_count": 1,
   "id": "f662e656-1abc-492a-af9a-2f49de657189",
   "metadata": {},
   "outputs": [],
   "source": [
    "var1 = \"this is my first string\""
   ]
  },
  {
   "cell_type": "code",
   "execution_count": 2,
   "id": "ba3f6f7a-431f-49f0-b9f8-c5ca0b323a00",
   "metadata": {},
   "outputs": [
    {
     "data": {
      "text/plain": [
       "'this is my first string'"
      ]
     },
     "execution_count": 2,
     "metadata": {},
     "output_type": "execute_result"
    }
   ],
   "source": [
    "var1"
   ]
  },
  {
   "cell_type": "code",
   "execution_count": 3,
   "id": "5ee45bd2-8f99-40d6-acdd-4ad0aaf39892",
   "metadata": {},
   "outputs": [
    {
     "data": {
      "text/plain": [
       "str"
      ]
     },
     "execution_count": 3,
     "metadata": {},
     "output_type": "execute_result"
    }
   ],
   "source": [
    "type(var1)"
   ]
  },
  {
   "cell_type": "code",
   "execution_count": 4,
   "id": "308109c9-1500-4bac-a1c2-e8f0c25c66b1",
   "metadata": {},
   "outputs": [
    {
     "data": {
      "text/plain": [
       "' '"
      ]
     },
     "execution_count": 4,
     "metadata": {},
     "output_type": "execute_result"
    }
   ],
   "source": [
    "var1[4]"
   ]
  },
  {
   "cell_type": "code",
   "execution_count": 5,
   "id": "e226bab0-7deb-4b2e-a179-e29f3cab68a7",
   "metadata": {},
   "outputs": [
    {
     "data": {
      "text/plain": [
       "'m'"
      ]
     },
     "execution_count": 5,
     "metadata": {},
     "output_type": "execute_result"
    }
   ],
   "source": [
    "var1[8]"
   ]
  },
  {
   "cell_type": "code",
   "execution_count": 6,
   "id": "f402721e-1c19-424b-a919-b1dbfbe91486",
   "metadata": {},
   "outputs": [
    {
     "data": {
      "text/plain": [
       "'i'"
      ]
     },
     "execution_count": 6,
     "metadata": {},
     "output_type": "execute_result"
    }
   ],
   "source": [
    "var1[-3]"
   ]
  },
  {
   "cell_type": "code",
   "execution_count": 7,
   "id": "4b88a537-5fec-415b-a996-1d424370ee84",
   "metadata": {},
   "outputs": [
    {
     "data": {
      "text/plain": [
       "'is is my f'"
      ]
     },
     "execution_count": 7,
     "metadata": {},
     "output_type": "execute_result"
    }
   ],
   "source": [
    "var1[2:12]"
   ]
  },
  {
   "cell_type": "code",
   "execution_count": 8,
   "id": "62bdd93e-33e4-43ae-9255-76547e475e16",
   "metadata": {},
   "outputs": [
    {
     "data": {
      "text/plain": [
       "'this is my first string'"
      ]
     },
     "execution_count": 8,
     "metadata": {},
     "output_type": "execute_result"
    }
   ],
   "source": [
    "var1"
   ]
  },
  {
   "cell_type": "code",
   "execution_count": 10,
   "id": "b1e35732-0dc6-4d17-8210-c54b6aabff31",
   "metadata": {},
   "outputs": [
    {
     "data": {
      "text/plain": [
       "'this is my first string this is my first string'"
      ]
     },
     "execution_count": 10,
     "metadata": {},
     "output_type": "execute_result"
    }
   ],
   "source": [
    "var1 + \" \"+var1"
   ]
  },
  {
   "cell_type": "code",
   "execution_count": 12,
   "id": "3aa625a6-a5f5-4cda-a9e4-999c37e3d892",
   "metadata": {},
   "outputs": [
    {
     "data": {
      "text/plain": [
       "'this is my first string this is my first string this is my first string '"
      ]
     },
     "execution_count": 12,
     "metadata": {},
     "output_type": "execute_result"
    }
   ],
   "source": [
    "(var1 + \" \")*3"
   ]
  },
  {
   "cell_type": "code",
   "execution_count": 14,
   "id": "ca9e2c9c-936a-459d-8d7f-f39899fa2395",
   "metadata": {},
   "outputs": [
    {
     "ename": "TypeError",
     "evalue": "'str' object does not support item assignment",
     "output_type": "error",
     "traceback": [
      "\u001b[1;31m---------------------------------------------------------------------------\u001b[0m",
      "\u001b[1;31mTypeError\u001b[0m                                 Traceback (most recent call last)",
      "Cell \u001b[1;32mIn[14], line 1\u001b[0m\n\u001b[1;32m----> 1\u001b[0m var1[\u001b[38;5;241m3\u001b[39m] \u001b[38;5;241m=\u001b[39m \u001b[38;5;124m\"\u001b[39m\u001b[38;5;124mS\u001b[39m\u001b[38;5;124m\"\u001b[39m\n",
      "\u001b[1;31mTypeError\u001b[0m: 'str' object does not support item assignment"
     ]
    }
   ],
   "source": [
    "var1[3] = \"S\"  # string is immutable"
   ]
  },
  {
   "cell_type": "code",
   "execution_count": null,
   "id": "39177168-35b7-4c10-9104-2cb166329f38",
   "metadata": {},
   "outputs": [],
   "source": []
  },
  {
   "cell_type": "code",
   "execution_count": 18,
   "id": "9ce4c1d6-d9c9-4820-bdb8-b30df8437a28",
   "metadata": {},
   "outputs": [
    {
     "data": {
      "text/plain": [
       "'this is my first string'"
      ]
     },
     "execution_count": 18,
     "metadata": {},
     "output_type": "execute_result"
    }
   ],
   "source": [
    "var1"
   ]
  },
  {
   "cell_type": "code",
   "execution_count": 19,
   "id": "771f1be6-fd8c-4cc6-afd8-5cc0dcd34809",
   "metadata": {},
   "outputs": [
    {
     "data": {
      "text/plain": [
       "'THIS IS MY FIRST STRING'"
      ]
     },
     "execution_count": 19,
     "metadata": {},
     "output_type": "execute_result"
    }
   ],
   "source": [
    "var1.upper()"
   ]
  },
  {
   "cell_type": "code",
   "execution_count": 20,
   "id": "5069c9d2-4a9c-4a2b-bd38-f35bb0e23475",
   "metadata": {},
   "outputs": [
    {
     "data": {
      "text/plain": [
       "'this is my first string'"
      ]
     },
     "execution_count": 20,
     "metadata": {},
     "output_type": "execute_result"
    }
   ],
   "source": [
    "var1.lower()"
   ]
  },
  {
   "cell_type": "code",
   "execution_count": 21,
   "id": "a615f39c-fe31-490c-97be-430005a4c93b",
   "metadata": {},
   "outputs": [
    {
     "data": {
      "text/plain": [
       "'This is my first string'"
      ]
     },
     "execution_count": 21,
     "metadata": {},
     "output_type": "execute_result"
    }
   ],
   "source": [
    "var1.capitalize()"
   ]
  },
  {
   "cell_type": "code",
   "execution_count": 22,
   "id": "5e001b99-f30d-471c-90a4-a6929ea1889f",
   "metadata": {},
   "outputs": [
    {
     "data": {
      "text/plain": [
       "'This Is My First String'"
      ]
     },
     "execution_count": 22,
     "metadata": {},
     "output_type": "execute_result"
    }
   ],
   "source": [
    "var1.title()"
   ]
  },
  {
   "cell_type": "code",
   "execution_count": 23,
   "id": "7581347c-d975-457b-b376-836071483f58",
   "metadata": {},
   "outputs": [
    {
     "data": {
      "text/plain": [
       "'this is my first string'"
      ]
     },
     "execution_count": 23,
     "metadata": {},
     "output_type": "execute_result"
    }
   ],
   "source": [
    "var1"
   ]
  },
  {
   "cell_type": "code",
   "execution_count": 25,
   "id": "604a52f4-7a78-4788-86cd-39878cb76f65",
   "metadata": {},
   "outputs": [
    {
     "data": {
      "text/plain": [
       "'                                      this is my first string                                       '"
      ]
     },
     "execution_count": 25,
     "metadata": {},
     "output_type": "execute_result"
    }
   ],
   "source": [
    "var1.center(100)"
   ]
  },
  {
   "cell_type": "code",
   "execution_count": 26,
   "id": "979d630b-e236-440c-a64f-0ca5da14d8cc",
   "metadata": {},
   "outputs": [],
   "source": [
    "var2 = \"This Is My String\""
   ]
  },
  {
   "cell_type": "code",
   "execution_count": 27,
   "id": "eef788ed-f2a4-43e4-91cc-0a0b40af096d",
   "metadata": {},
   "outputs": [
    {
     "data": {
      "text/plain": [
       "'tHIS iS mY sTRING'"
      ]
     },
     "execution_count": 27,
     "metadata": {},
     "output_type": "execute_result"
    }
   ],
   "source": [
    "var2.swapcase()"
   ]
  },
  {
   "cell_type": "code",
   "execution_count": 34,
   "id": "0c5196a7-ba24-4f42-874c-23f9b8add1e1",
   "metadata": {},
   "outputs": [],
   "source": [
    "var3 = \"analytics\""
   ]
  },
  {
   "cell_type": "code",
   "execution_count": 35,
   "id": "51912e3d-5e71-46cf-a9dc-f83a9b55f325",
   "metadata": {},
   "outputs": [
    {
     "data": {
      "text/plain": [
       "True"
      ]
     },
     "execution_count": 35,
     "metadata": {},
     "output_type": "execute_result"
    }
   ],
   "source": [
    "var3.isalpha()"
   ]
  },
  {
   "cell_type": "code",
   "execution_count": 41,
   "id": "da34fe7a-95c5-4216-ab79-e9db5d7e3b58",
   "metadata": {},
   "outputs": [],
   "source": [
    "var4 = \"  adf\""
   ]
  },
  {
   "cell_type": "code",
   "execution_count": 42,
   "id": "e7d4c500-ec22-4cf4-b2c8-80671d78e79c",
   "metadata": {},
   "outputs": [
    {
     "data": {
      "text/plain": [
       "False"
      ]
     },
     "execution_count": 42,
     "metadata": {},
     "output_type": "execute_result"
    }
   ],
   "source": [
    "var4.isspace()"
   ]
  },
  {
   "cell_type": "code",
   "execution_count": 45,
   "id": "c94e934a-a90f-48f3-a77e-4a902b7688ea",
   "metadata": {},
   "outputs": [],
   "source": [
    "var5 = \"a7856\""
   ]
  },
  {
   "cell_type": "code",
   "execution_count": 46,
   "id": "a48c5bc0-1c06-4202-bf61-9b3ead07b3db",
   "metadata": {},
   "outputs": [
    {
     "data": {
      "text/plain": [
       "False"
      ]
     },
     "execution_count": 46,
     "metadata": {},
     "output_type": "execute_result"
    }
   ],
   "source": [
    "var5.isdigit()"
   ]
  },
  {
   "cell_type": "code",
   "execution_count": 48,
   "id": "26c627e9-4e3b-4684-ab03-ddd995068131",
   "metadata": {},
   "outputs": [
    {
     "data": {
      "text/plain": [
       "8"
      ]
     },
     "execution_count": 48,
     "metadata": {},
     "output_type": "execute_result"
    }
   ],
   "source": [
    "var1.index(\"m\")"
   ]
  },
  {
   "cell_type": "code",
   "execution_count": 49,
   "id": "cd5f9dfb-5e8a-45eb-8596-dcc0a61f48a5",
   "metadata": {},
   "outputs": [
    {
     "data": {
      "text/plain": [
       "'this is my first string'"
      ]
     },
     "execution_count": 49,
     "metadata": {},
     "output_type": "execute_result"
    }
   ],
   "source": [
    "var1"
   ]
  },
  {
   "cell_type": "code",
   "execution_count": 52,
   "id": "6964a168-eed6-4d55-b5ce-44a013234315",
   "metadata": {},
   "outputs": [
    {
     "data": {
      "text/plain": [
       "4"
      ]
     },
     "execution_count": 52,
     "metadata": {},
     "output_type": "execute_result"
    }
   ],
   "source": [
    "var1.count(\"i\")"
   ]
  },
  {
   "cell_type": "code",
   "execution_count": 54,
   "id": "f0b5b161-b5b9-43d7-9319-754e903b2293",
   "metadata": {},
   "outputs": [
    {
     "data": {
      "text/plain": [
       "True"
      ]
     },
     "execution_count": 54,
     "metadata": {},
     "output_type": "execute_result"
    }
   ],
   "source": [
    "var1.endswith(\"ing\")"
   ]
  },
  {
   "cell_type": "code",
   "execution_count": 56,
   "id": "0a5b9e48-f65c-4bdc-b065-16abaa86ac71",
   "metadata": {},
   "outputs": [
    {
     "data": {
      "text/plain": [
       "False"
      ]
     },
     "execution_count": 56,
     "metadata": {},
     "output_type": "execute_result"
    }
   ],
   "source": [
    "var1.startswith(\"his\")"
   ]
  },
  {
   "cell_type": "code",
   "execution_count": 57,
   "id": "238904d1-30df-4cf7-aa54-6d811db4e341",
   "metadata": {},
   "outputs": [
    {
     "data": {
      "text/plain": [
       "'this is my first string'"
      ]
     },
     "execution_count": 57,
     "metadata": {},
     "output_type": "execute_result"
    }
   ],
   "source": [
    "var1"
   ]
  },
  {
   "cell_type": "code",
   "execution_count": 59,
   "id": "7b1c0173-ca99-44b6-97ac-113e165cb472",
   "metadata": {},
   "outputs": [
    {
     "data": {
      "text/plain": [
       "('this', ' ', 'is my first string')"
      ]
     },
     "execution_count": 59,
     "metadata": {},
     "output_type": "execute_result"
    }
   ],
   "source": [
    "var1.partition(\" \")"
   ]
  },
  {
   "cell_type": "code",
   "execution_count": 60,
   "id": "889d88fb-1e3b-4534-a1ed-29c9bec23ba8",
   "metadata": {},
   "outputs": [
    {
     "data": {
      "text/plain": [
       "('this is ', 'my', ' first string')"
      ]
     },
     "execution_count": 60,
     "metadata": {},
     "output_type": "execute_result"
    }
   ],
   "source": [
    "var1.partition(\"my\")"
   ]
  },
  {
   "cell_type": "code",
   "execution_count": 61,
   "id": "7cd4d9b0-9753-47e1-b1ed-c873b2def782",
   "metadata": {},
   "outputs": [
    {
     "data": {
      "text/plain": [
       "('this is my first', ' ', 'string')"
      ]
     },
     "execution_count": 61,
     "metadata": {},
     "output_type": "execute_result"
    }
   ],
   "source": [
    "var1.rpartition(\" \")"
   ]
  },
  {
   "cell_type": "code",
   "execution_count": 62,
   "id": "294542d3-65ad-4241-bc45-1419bdc4a734",
   "metadata": {},
   "outputs": [
    {
     "data": {
      "text/plain": [
       "'this is my first string'"
      ]
     },
     "execution_count": 62,
     "metadata": {},
     "output_type": "execute_result"
    }
   ],
   "source": [
    "var1"
   ]
  },
  {
   "cell_type": "code",
   "execution_count": 63,
   "id": "1cd2d49d-8153-467a-b55e-0267116c89a3",
   "metadata": {},
   "outputs": [
    {
     "data": {
      "text/plain": [
       "['this', 'is', 'my', 'first', 'string']"
      ]
     },
     "execution_count": 63,
     "metadata": {},
     "output_type": "execute_result"
    }
   ],
   "source": [
    "var1.split()"
   ]
  },
  {
   "cell_type": "code",
   "execution_count": 64,
   "id": "403dda16-14dc-4b18-a278-cfe01cfd7304",
   "metadata": {},
   "outputs": [
    {
     "data": {
      "text/plain": [
       "['th', 's ', 's my f', 'rst str', 'ng']"
      ]
     },
     "execution_count": 64,
     "metadata": {},
     "output_type": "execute_result"
    }
   ],
   "source": [
    "var1.split(\"i\")"
   ]
  },
  {
   "cell_type": "code",
   "execution_count": 67,
   "id": "57ca9fa3-86d7-43ba-9381-e0cdfaad49bc",
   "metadata": {},
   "outputs": [
    {
     "ename": "TypeError",
     "evalue": "'str' object does not support item assignment",
     "output_type": "error",
     "traceback": [
      "\u001b[1;31m---------------------------------------------------------------------------\u001b[0m",
      "\u001b[1;31mTypeError\u001b[0m                                 Traceback (most recent call last)",
      "Cell \u001b[1;32mIn[67], line 1\u001b[0m\n\u001b[1;32m----> 1\u001b[0m var1[\u001b[38;5;241m2\u001b[39m] \u001b[38;5;241m=\u001b[39m \u001b[38;5;124m\"\u001b[39m\u001b[38;5;124mI\u001b[39m\u001b[38;5;124m\"\u001b[39m\n",
      "\u001b[1;31mTypeError\u001b[0m: 'str' object does not support item assignment"
     ]
    }
   ],
   "source": [
    "var1[2] = \"I\""
   ]
  },
  {
   "cell_type": "code",
   "execution_count": 68,
   "id": "7814e405-ee6e-43e6-a8ad-9c81b275784d",
   "metadata": {},
   "outputs": [
    {
     "data": {
      "text/plain": [
       "'this is my first string'"
      ]
     },
     "execution_count": 68,
     "metadata": {},
     "output_type": "execute_result"
    }
   ],
   "source": [
    "var1"
   ]
  },
  {
   "cell_type": "code",
   "execution_count": 69,
   "id": "6fd64cc9-5c22-4f48-bc71-3a67955bd2c1",
   "metadata": {},
   "outputs": [
    {
     "data": {
      "text/plain": [
       "'thIs Is my fIrst strIng'"
      ]
     },
     "execution_count": 69,
     "metadata": {},
     "output_type": "execute_result"
    }
   ],
   "source": [
    "var1.replace(\"i\", \"I\")"
   ]
  },
  {
   "cell_type": "code",
   "execution_count": 71,
   "id": "61439948-ef7e-42fb-8197-964374abb28c",
   "metadata": {},
   "outputs": [
    {
     "data": {
      "text/plain": [
       "' is my first string'"
      ]
     },
     "execution_count": 71,
     "metadata": {},
     "output_type": "execute_result"
    }
   ],
   "source": [
    "var1.removeprefix(\"this\")"
   ]
  },
  {
   "cell_type": "code",
   "execution_count": 73,
   "id": "7c6e0d16-2b41-426e-b089-dd466f0a46ba",
   "metadata": {},
   "outputs": [
    {
     "data": {
      "text/plain": [
       "'this is '"
      ]
     },
     "execution_count": 73,
     "metadata": {},
     "output_type": "execute_result"
    }
   ],
   "source": [
    "var1.removesuffix(\"my first string\")"
   ]
  },
  {
   "cell_type": "code",
   "execution_count": 74,
   "id": "d6300750-967f-430e-a3dc-c26e4c132a60",
   "metadata": {},
   "outputs": [],
   "source": [
    "var6 = \"    python###  \""
   ]
  },
  {
   "cell_type": "code",
   "execution_count": 76,
   "id": "3f173e9b-016e-46d7-88cb-62f0ed8e4795",
   "metadata": {},
   "outputs": [
    {
     "data": {
      "text/plain": [
       "'python###'"
      ]
     },
     "execution_count": 76,
     "metadata": {},
     "output_type": "execute_result"
    }
   ],
   "source": [
    "var6.strip()"
   ]
  },
  {
   "cell_type": "code",
   "execution_count": 78,
   "id": "3dc3e435-de40-41df-b55a-38df31384359",
   "metadata": {},
   "outputs": [
    {
     "data": {
      "text/plain": [
       "'python###  '"
      ]
     },
     "execution_count": 78,
     "metadata": {},
     "output_type": "execute_result"
    }
   ],
   "source": [
    "var6.lstrip()"
   ]
  },
  {
   "cell_type": "code",
   "execution_count": 79,
   "id": "84d4f8f0-d1b7-4c8b-9138-cca7c344c47c",
   "metadata": {},
   "outputs": [
    {
     "data": {
      "text/plain": [
       "'    python###'"
      ]
     },
     "execution_count": 79,
     "metadata": {},
     "output_type": "execute_result"
    }
   ],
   "source": [
    "var6.rstrip()"
   ]
  },
  {
   "cell_type": "code",
   "execution_count": 81,
   "id": "46072463-8c5e-4071-a453-c4231159f669",
   "metadata": {},
   "outputs": [
    {
     "data": {
      "text/plain": [
       "'    python'"
      ]
     },
     "execution_count": 81,
     "metadata": {},
     "output_type": "execute_result"
    }
   ],
   "source": [
    "var6.rstrip(\" #\")"
   ]
  },
  {
   "cell_type": "code",
   "execution_count": 82,
   "id": "f31bbc2d-7682-420f-b265-64d169b374a2",
   "metadata": {},
   "outputs": [
    {
     "data": {
      "text/plain": [
       "'python'"
      ]
     },
     "execution_count": 82,
     "metadata": {},
     "output_type": "execute_result"
    }
   ],
   "source": [
    "var6.strip(\" #\")"
   ]
  },
  {
   "cell_type": "code",
   "execution_count": 84,
   "id": "d744b514-24a5-4906-8b6d-c768f194e086",
   "metadata": {},
   "outputs": [],
   "source": [
    "friuts = [ \"Apple\", \"Banana\", \"Mango\", \"Orange\", \"Grapes\", \n",
    "    \"Pineapple\", \"Watermelon\", \"Papaya\", \"Guava\", \"Pomegranate\",\n",
    "    \"Lemon\", \"Lime\", \"Sweet Lime\", \"Grapefruit\", \"Peach\"]"
   ]
  },
  {
   "cell_type": "code",
   "execution_count": 85,
   "id": "17bdc0b4-0b2f-4519-af04-bf34df14d59f",
   "metadata": {},
   "outputs": [
    {
     "data": {
      "text/plain": [
       "\"['Apple', 'Banana', 'Mango', 'Orange', 'Grapes', 'Pineapple', 'Watermelon', 'Papaya', 'Guava', 'Pomegranate', 'Lemon', 'Lime', 'Sweet Lime', 'Grapefruit', 'Peach']\""
      ]
     },
     "execution_count": 85,
     "metadata": {},
     "output_type": "execute_result"
    }
   ],
   "source": [
    "str(friuts)"
   ]
  },
  {
   "cell_type": "code",
   "execution_count": 87,
   "id": "4b3f9e3b-9127-476e-90a7-bc92eff1b556",
   "metadata": {},
   "outputs": [
    {
     "data": {
      "text/plain": [
       "'Apple Banana Mango Orange Grapes Pineapple Watermelon Papaya Guava Pomegranate Lemon Lime Sweet Lime Grapefruit Peach'"
      ]
     },
     "execution_count": 87,
     "metadata": {},
     "output_type": "execute_result"
    }
   ],
   "source": [
    "\" \".join(friuts)"
   ]
  },
  {
   "cell_type": "code",
   "execution_count": 89,
   "id": "21b60b1e-6ba4-460d-a226-b8ae699bb8fd",
   "metadata": {},
   "outputs": [],
   "source": [
    "t1= (\"a\", \"b\", \"c\", \"d\", \"e\")"
   ]
  },
  {
   "cell_type": "code",
   "execution_count": 91,
   "id": "d22e23ae-2278-4cea-b522-81f787e80edd",
   "metadata": {},
   "outputs": [
    {
     "data": {
      "text/plain": [
       "'abcde'"
      ]
     },
     "execution_count": 91,
     "metadata": {},
     "output_type": "execute_result"
    }
   ],
   "source": [
    "\"\".join(t1)"
   ]
  },
  {
   "cell_type": "code",
   "execution_count": 93,
   "id": "b52ee462-b725-4ddd-b9ca-aae0c9586001",
   "metadata": {},
   "outputs": [],
   "source": [
    "v1 = \"\"\"Write a Python program to print the following string in a specific format (see the output).\n",
    "Sample String : \"Twinkle, twinkle, little star, How I wonder what you are! Up above the world so high, Like a diamond in the sky. Twinkle, twinkle, little star, How I wonder what you are\"\"\""
   ]
  },
  {
   "cell_type": "code",
   "execution_count": 95,
   "id": "cc1278e7-a391-44a5-8dcd-9158ed3332ba",
   "metadata": {},
   "outputs": [
    {
     "data": {
      "text/plain": [
       "'write a python program to print the following string in a specific format (see the output).\\nsample string : \"twinkle, twinkle, little star, how i wonder what you are! up above the world so high, like a diamond in the sky. twinkle, twinkle, little star, how i wonder what you are'"
      ]
     },
     "execution_count": 95,
     "metadata": {},
     "output_type": "execute_result"
    }
   ],
   "source": [
    "v1.lower()"
   ]
  },
  {
   "cell_type": "code",
   "execution_count": 97,
   "id": "e3b60b0a-d415-48b2-bd19-010e12c2cd3e",
   "metadata": {},
   "outputs": [],
   "source": [
    "l2 = v1.split(\",\")"
   ]
  },
  {
   "cell_type": "code",
   "execution_count": 98,
   "id": "a7d308ed-2701-4a22-8072-8c089415311b",
   "metadata": {},
   "outputs": [
    {
     "data": {
      "text/plain": [
       "['Write a Python program to print the following string in a specific format (see the output).\\nSample String : \"Twinkle',\n",
       " ' twinkle',\n",
       " ' little star',\n",
       " ' How I wonder what you are! Up above the world so high',\n",
       " ' Like a diamond in the sky. Twinkle',\n",
       " ' twinkle',\n",
       " ' little star',\n",
       " ' How I wonder what you are']"
      ]
     },
     "execution_count": 98,
     "metadata": {},
     "output_type": "execute_result"
    }
   ],
   "source": [
    "l2"
   ]
  },
  {
   "cell_type": "code",
   "execution_count": 99,
   "id": "a2c08fde-8528-47cc-b377-0de71c63c7b9",
   "metadata": {},
   "outputs": [
    {
     "data": {
      "text/plain": [
       "'Write a Python program to print the following string in a specific format (see the output).\\nSample String : \"Twinkle@ twinkle@ little star@ How I wonder what you are! Up above the world so high@ Like a diamond in the sky. Twinkle@ twinkle@ little star@ How I wonder what you are'"
      ]
     },
     "execution_count": 99,
     "metadata": {},
     "output_type": "execute_result"
    }
   ],
   "source": [
    "\"@\".join(l2)"
   ]
  },
  {
   "cell_type": "code",
   "execution_count": null,
   "id": "59b779b9-560d-471e-9508-b1f4ddeb17ae",
   "metadata": {},
   "outputs": [],
   "source": []
  },
  {
   "cell_type": "markdown",
   "id": "b9b588c6-f4fd-4016-9621-376a6c71c38c",
   "metadata": {},
   "source": [
    "## Tuple"
   ]
  },
  {
   "cell_type": "code",
   "execution_count": 100,
   "id": "f0bf748d-36e3-4656-8f1c-77c1ad66cd59",
   "metadata": {},
   "outputs": [
    {
     "data": {
      "text/plain": [
       "('a', 'b', 'c', 'd', 'e')"
      ]
     },
     "execution_count": 100,
     "metadata": {},
     "output_type": "execute_result"
    }
   ],
   "source": [
    "t1"
   ]
  },
  {
   "cell_type": "code",
   "execution_count": 101,
   "id": "87de8682-2899-40d2-bfe1-3bc12dc2a5c5",
   "metadata": {},
   "outputs": [
    {
     "data": {
      "text/plain": [
       "'d'"
      ]
     },
     "execution_count": 101,
     "metadata": {},
     "output_type": "execute_result"
    }
   ],
   "source": [
    "t1[3]"
   ]
  },
  {
   "cell_type": "code",
   "execution_count": 102,
   "id": "57defe12-7404-43dd-8241-0ffca98be1af",
   "metadata": {},
   "outputs": [
    {
     "data": {
      "text/plain": [
       "'d'"
      ]
     },
     "execution_count": 102,
     "metadata": {},
     "output_type": "execute_result"
    }
   ],
   "source": [
    "t1[-2]"
   ]
  },
  {
   "cell_type": "code",
   "execution_count": 103,
   "id": "278beee1-7edf-42df-9818-9c88ae4f5b56",
   "metadata": {},
   "outputs": [
    {
     "data": {
      "text/plain": [
       "('a', 'b', 'c', 'd')"
      ]
     },
     "execution_count": 103,
     "metadata": {},
     "output_type": "execute_result"
    }
   ],
   "source": [
    "t1[0:4]"
   ]
  },
  {
   "cell_type": "code",
   "execution_count": 104,
   "id": "6659ba0f-6e3b-4728-b8ed-3abdd7542f21",
   "metadata": {},
   "outputs": [
    {
     "data": {
      "text/plain": [
       "('e', 'd', 'c', 'b', 'a')"
      ]
     },
     "execution_count": 104,
     "metadata": {},
     "output_type": "execute_result"
    }
   ],
   "source": [
    "t1[::-1]"
   ]
  },
  {
   "cell_type": "code",
   "execution_count": 105,
   "id": "063f22e4-8a8e-40f9-adce-8a298fc22adf",
   "metadata": {},
   "outputs": [
    {
     "data": {
      "text/plain": [
       "('a', 'b', 'c', 'd', 'e', 'a', 'b', 'c', 'd', 'e')"
      ]
     },
     "execution_count": 105,
     "metadata": {},
     "output_type": "execute_result"
    }
   ],
   "source": [
    "t1 + t1"
   ]
  },
  {
   "cell_type": "code",
   "execution_count": 106,
   "id": "2d598f8f-ba2a-4bb6-8310-d02c21fd3ef8",
   "metadata": {},
   "outputs": [
    {
     "data": {
      "text/plain": [
       "('a', 'b', 'c', 'd', 'e', 'a', 'b', 'c', 'd', 'e', 'a', 'b', 'c', 'd', 'e')"
      ]
     },
     "execution_count": 106,
     "metadata": {},
     "output_type": "execute_result"
    }
   ],
   "source": [
    "t1*3"
   ]
  },
  {
   "cell_type": "code",
   "execution_count": 108,
   "id": "cef12eee-6beb-4d33-92df-8ecde788dda0",
   "metadata": {},
   "outputs": [
    {
     "ename": "TypeError",
     "evalue": "'tuple' object does not support item assignment",
     "output_type": "error",
     "traceback": [
      "\u001b[1;31m---------------------------------------------------------------------------\u001b[0m",
      "\u001b[1;31mTypeError\u001b[0m                                 Traceback (most recent call last)",
      "Cell \u001b[1;32mIn[108], line 1\u001b[0m\n\u001b[1;32m----> 1\u001b[0m t1[\u001b[38;5;241m1\u001b[39m] \u001b[38;5;241m=\u001b[39m \u001b[38;5;124m\"\u001b[39m\u001b[38;5;124mB\u001b[39m\u001b[38;5;124m\"\u001b[39m\n",
      "\u001b[1;31mTypeError\u001b[0m: 'tuple' object does not support item assignment"
     ]
    }
   ],
   "source": [
    "t1[1] = \"B\""
   ]
  },
  {
   "cell_type": "code",
   "execution_count": 110,
   "id": "7e251d14-6513-499f-86c0-24ab00ce9643",
   "metadata": {},
   "outputs": [],
   "source": [
    "t2 = t1*3"
   ]
  },
  {
   "cell_type": "code",
   "execution_count": 111,
   "id": "1a09bb5c-3423-4c1a-b043-7be59adf1972",
   "metadata": {},
   "outputs": [
    {
     "data": {
      "text/plain": [
       "('a', 'b', 'c', 'd', 'e', 'a', 'b', 'c', 'd', 'e', 'a', 'b', 'c', 'd', 'e')"
      ]
     },
     "execution_count": 111,
     "metadata": {},
     "output_type": "execute_result"
    }
   ],
   "source": [
    "t2"
   ]
  },
  {
   "cell_type": "code",
   "execution_count": 114,
   "id": "a65d8728-8586-4837-afe2-b077db7818a0",
   "metadata": {},
   "outputs": [
    {
     "data": {
      "text/plain": [
       "3"
      ]
     },
     "execution_count": 114,
     "metadata": {},
     "output_type": "execute_result"
    }
   ],
   "source": [
    "t2.count(\"c\")"
   ]
  },
  {
   "cell_type": "code",
   "execution_count": 115,
   "id": "4d15a50b-e4d5-4922-86a5-a2781c1674ab",
   "metadata": {},
   "outputs": [
    {
     "data": {
      "text/plain": [
       "3"
      ]
     },
     "execution_count": 115,
     "metadata": {},
     "output_type": "execute_result"
    }
   ],
   "source": [
    "t2.index(\"d\")"
   ]
  },
  {
   "cell_type": "code",
   "execution_count": 119,
   "id": "d3d488e3-a38a-44eb-8a57-8b24d630615f",
   "metadata": {},
   "outputs": [
    {
     "data": {
      "text/plain": [
       "7"
      ]
     },
     "execution_count": 119,
     "metadata": {},
     "output_type": "execute_result"
    }
   ],
   "source": [
    "t2.index(\"c\", 4)"
   ]
  },
  {
   "cell_type": "code",
   "execution_count": 123,
   "id": "b41c7b41-1402-4cd4-b75b-ac2c1354cc8b",
   "metadata": {},
   "outputs": [
    {
     "data": {
      "text/plain": [
       "3"
      ]
     },
     "execution_count": 123,
     "metadata": {},
     "output_type": "execute_result"
    }
   ],
   "source": [
    "var1.index(\"s\")"
   ]
  },
  {
   "cell_type": "code",
   "execution_count": 129,
   "id": "5619f30b-3859-4fcb-a218-3c360bfc3658",
   "metadata": {},
   "outputs": [
    {
     "data": {
      "text/plain": [
       "2"
      ]
     },
     "execution_count": 129,
     "metadata": {},
     "output_type": "execute_result"
    }
   ],
   "source": [
    "var1[4:].index(\"s\")"
   ]
  },
  {
   "cell_type": "code",
   "execution_count": 128,
   "id": "150ade21-7404-4762-831b-813ee3690b60",
   "metadata": {},
   "outputs": [
    {
     "data": {
      "text/plain": [
       "' is my first string'"
      ]
     },
     "execution_count": 128,
     "metadata": {},
     "output_type": "execute_result"
    }
   ],
   "source": [
    "var1[4:]"
   ]
  },
  {
   "cell_type": "code",
   "execution_count": 133,
   "id": "2cf0490b-3e43-40c8-8f2f-165885ed40c9",
   "metadata": {},
   "outputs": [],
   "source": [
    "l1 = l2.copy()"
   ]
  },
  {
   "cell_type": "code",
   "execution_count": 134,
   "id": "8ac49063-1da0-4d8f-9f12-d16630403118",
   "metadata": {},
   "outputs": [
    {
     "data": {
      "text/plain": [
       "['Write a Python program to print the following string in a specific format (see the output).\\nSample String : \"Twinkle',\n",
       " ' twinkle',\n",
       " ' little star',\n",
       " ' How I wonder what you are! Up above the world so high',\n",
       " ' Like a diamond in the sky. Twinkle',\n",
       " ' twinkle',\n",
       " ' little star',\n",
       " ' How I wonder what you are']"
      ]
     },
     "execution_count": 134,
     "metadata": {},
     "output_type": "execute_result"
    }
   ],
   "source": [
    "l1"
   ]
  },
  {
   "cell_type": "code",
   "execution_count": 135,
   "id": "faf55b3a-43e8-4bfa-94ec-fbceedc3677b",
   "metadata": {},
   "outputs": [
    {
     "data": {
      "text/plain": [
       "['Write a Python program to print the following string in a specific format (see the output).\\nSample String : \"Twinkle',\n",
       " ' twinkle',\n",
       " ' little star',\n",
       " ' How I wonder what you are! Up above the world so high',\n",
       " ' Like a diamond in the sky. Twinkle',\n",
       " ' twinkle',\n",
       " ' little star',\n",
       " ' How I wonder what you are']"
      ]
     },
     "execution_count": 135,
     "metadata": {},
     "output_type": "execute_result"
    }
   ],
   "source": [
    "l2"
   ]
  },
  {
   "cell_type": "code",
   "execution_count": null,
   "id": "06164a88-24b1-4764-bdd7-b310c74100a6",
   "metadata": {},
   "outputs": [],
   "source": []
  }
 ],
 "metadata": {
  "kernelspec": {
   "display_name": "Python 3 (ipykernel)",
   "language": "python",
   "name": "python3"
  },
  "language_info": {
   "codemirror_mode": {
    "name": "ipython",
    "version": 3
   },
   "file_extension": ".py",
   "mimetype": "text/x-python",
   "name": "python",
   "nbconvert_exporter": "python",
   "pygments_lexer": "ipython3",
   "version": "3.11.7"
  }
 },
 "nbformat": 4,
 "nbformat_minor": 5
}
