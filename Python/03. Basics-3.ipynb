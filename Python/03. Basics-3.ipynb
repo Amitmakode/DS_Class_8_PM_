{
 "cells": [
  {
   "cell_type": "code",
   "execution_count": 1,
   "id": "088f9c58-3ed6-4efe-aeee-1d9eb97c82ef",
   "metadata": {},
   "outputs": [],
   "source": [
    "# %s %d %.f"
   ]
  },
  {
   "cell_type": "code",
   "execution_count": 9,
   "id": "78f4b6a1-c3a8-4cfe-80bd-2064973dc01b",
   "metadata": {},
   "outputs": [],
   "source": [
    "name = \"amit\"\n",
    "last_name = \"kumar\"\n",
    "profession = \"data scientist\"\n",
    "age = 30.5"
   ]
  },
  {
   "cell_type": "code",
   "execution_count": 10,
   "id": "dfb07cae-1ff1-4e3e-ab74-2393641e44d0",
   "metadata": {},
   "outputs": [
    {
     "name": "stdout",
     "output_type": "stream",
     "text": [
      "my name is amit kumar my profession is data scientist\n"
     ]
    }
   ],
   "source": [
    "print(\"my name is\", name, last_name, \"my profession is\", profession)"
   ]
  },
  {
   "cell_type": "code",
   "execution_count": 18,
   "id": "1ed5c4d5-6637-4a6d-b1da-2c33beecef5d",
   "metadata": {},
   "outputs": [
    {
     "data": {
      "text/plain": [
       "'my name is kumar amit and i am a data scientist.. 30.50'"
      ]
     },
     "execution_count": 18,
     "metadata": {},
     "output_type": "execute_result"
    }
   ],
   "source": [
    "\"my name is %s %s and i am a %s.. %.2f\" % (last_name, name,  profession, age)"
   ]
  },
  {
   "cell_type": "code",
   "execution_count": 19,
   "id": "a68f4f26-17e7-4b39-8074-2849c18c2c45",
   "metadata": {},
   "outputs": [
    {
     "data": {
      "text/plain": [
       "'50'"
      ]
     },
     "execution_count": 19,
     "metadata": {},
     "output_type": "execute_result"
    }
   ],
   "source": [
    "\"50\""
   ]
  },
  {
   "cell_type": "code",
   "execution_count": 21,
   "id": "004f9abc-c45f-4e4b-8552-54e183b58c7b",
   "metadata": {},
   "outputs": [
    {
     "data": {
      "text/plain": [
       "'my name is amit kumar and i am a data scientist'"
      ]
     },
     "execution_count": 21,
     "metadata": {},
     "output_type": "execute_result"
    }
   ],
   "source": [
    "\"my name is {} {} and i am a {}\".format(name, last_name, profession, name)"
   ]
  },
  {
   "cell_type": "code",
   "execution_count": 25,
   "id": "b770cfac-52ab-44b0-8d5f-8c6bf37d1ec4",
   "metadata": {},
   "outputs": [
    {
     "data": {
      "text/plain": [
       "'my name is amit kumar and i am a 30.5'"
      ]
     },
     "execution_count": 25,
     "metadata": {},
     "output_type": "execute_result"
    }
   ],
   "source": [
    "f\"my name is {name} {last_name} and i am a {age}\""
   ]
  },
  {
   "cell_type": "markdown",
   "id": "da76037c-62aa-489c-b630-2b875c6ed87d",
   "metadata": {},
   "source": [
    "### Indexing"
   ]
  },
  {
   "cell_type": "code",
   "execution_count": 27,
   "id": "84775749-7996-4f00-a0fe-59fbbcd7a7f8",
   "metadata": {},
   "outputs": [],
   "source": [
    "str1 = \"data science\"\n",
    "list1 = [3,4,5,6, 3,1,2]\n",
    "tup1 = (3,4,5,6, 3,1,2)\n",
    "set1 = {3,4,5,6, 3,1,2}\n",
    "dict1 = {1:\"a\", 2:\"b\", 3:\"c\"}"
   ]
  },
  {
   "cell_type": "code",
   "execution_count": 29,
   "id": "a72f5315-ac1f-4966-969f-fdbced564b71",
   "metadata": {},
   "outputs": [
    {
     "data": {
      "text/plain": [
       "'s'"
      ]
     },
     "execution_count": 29,
     "metadata": {},
     "output_type": "execute_result"
    }
   ],
   "source": [
    "str1[5]"
   ]
  },
  {
   "cell_type": "code",
   "execution_count": 36,
   "id": "3b3819bb-6b68-4452-9a84-7917b3e9b72a",
   "metadata": {},
   "outputs": [
    {
     "data": {
      "text/plain": [
       "'c'"
      ]
     },
     "execution_count": 36,
     "metadata": {},
     "output_type": "execute_result"
    }
   ],
   "source": [
    "str1[-2]"
   ]
  },
  {
   "cell_type": "code",
   "execution_count": 32,
   "id": "13f2b05a-eed6-46f3-a141-5c7d94061772",
   "metadata": {},
   "outputs": [
    {
     "data": {
      "text/plain": [
       "'d'"
      ]
     },
     "execution_count": 32,
     "metadata": {},
     "output_type": "execute_result"
    }
   ],
   "source": [
    "str1[0]"
   ]
  },
  {
   "cell_type": "code",
   "execution_count": 37,
   "id": "38f5fae5-2205-4274-8421-d4df3baac54b",
   "metadata": {},
   "outputs": [
    {
     "data": {
      "text/plain": [
       "2"
      ]
     },
     "execution_count": 37,
     "metadata": {},
     "output_type": "execute_result"
    }
   ],
   "source": [
    "list1[6]"
   ]
  },
  {
   "cell_type": "code",
   "execution_count": 38,
   "id": "313d1540-84e3-46ea-b480-061da9687f56",
   "metadata": {},
   "outputs": [
    {
     "data": {
      "text/plain": [
       "6"
      ]
     },
     "execution_count": 38,
     "metadata": {},
     "output_type": "execute_result"
    }
   ],
   "source": [
    "list1[3]"
   ]
  },
  {
   "cell_type": "code",
   "execution_count": 39,
   "id": "113d2c38-b5e5-4bdb-90d9-bdd80f5b164f",
   "metadata": {},
   "outputs": [
    {
     "data": {
      "text/plain": [
       "6"
      ]
     },
     "execution_count": 39,
     "metadata": {},
     "output_type": "execute_result"
    }
   ],
   "source": [
    "list1[-4]"
   ]
  },
  {
   "cell_type": "code",
   "execution_count": 40,
   "id": "029faa1c-6cc7-4cc2-afd4-7d3caeb8d441",
   "metadata": {},
   "outputs": [
    {
     "data": {
      "text/plain": [
       "4"
      ]
     },
     "execution_count": 40,
     "metadata": {},
     "output_type": "execute_result"
    }
   ],
   "source": [
    "tup1[1]"
   ]
  },
  {
   "cell_type": "code",
   "execution_count": 42,
   "id": "20971697-23d5-413b-b66d-5b49e0e7cc1a",
   "metadata": {},
   "outputs": [
    {
     "data": {
      "text/plain": [
       "3"
      ]
     },
     "execution_count": 42,
     "metadata": {},
     "output_type": "execute_result"
    }
   ],
   "source": [
    "tup1[-7]"
   ]
  },
  {
   "cell_type": "code",
   "execution_count": null,
   "id": "bc6491bf-a183-4c33-b6df-ccf96f4fda9f",
   "metadata": {},
   "outputs": [],
   "source": [
    "list1 = [3,4,5,6, 3,1,2]"
   ]
  },
  {
   "cell_type": "code",
   "execution_count": 45,
   "id": "8f7bbca3-daac-4776-995d-e3774f6aa0a8",
   "metadata": {},
   "outputs": [
    {
     "data": {
      "text/plain": [
       "[3, 4, 5, 6, 3, 1, 2]"
      ]
     },
     "execution_count": 45,
     "metadata": {},
     "output_type": "execute_result"
    }
   ],
   "source": [
    "list1"
   ]
  },
  {
   "cell_type": "code",
   "execution_count": null,
   "id": "8ac07af0-9933-415b-8c74-6355e944739c",
   "metadata": {},
   "outputs": [],
   "source": [
    "set1 = {3,4,5,6, 3,1,2}"
   ]
  },
  {
   "cell_type": "code",
   "execution_count": 43,
   "id": "a4e78bd0-2a66-437c-9305-066aa8449b68",
   "metadata": {},
   "outputs": [
    {
     "data": {
      "text/plain": [
       "{1, 2, 3, 4, 5, 6}"
      ]
     },
     "execution_count": 43,
     "metadata": {},
     "output_type": "execute_result"
    }
   ],
   "source": [
    "set1"
   ]
  },
  {
   "cell_type": "code",
   "execution_count": 44,
   "id": "4fb0675f-fec1-4482-b686-b01441968b62",
   "metadata": {},
   "outputs": [
    {
     "ename": "TypeError",
     "evalue": "'set' object is not subscriptable",
     "output_type": "error",
     "traceback": [
      "\u001b[1;31m---------------------------------------------------------------------------\u001b[0m",
      "\u001b[1;31mTypeError\u001b[0m                                 Traceback (most recent call last)",
      "Cell \u001b[1;32mIn[44], line 1\u001b[0m\n\u001b[1;32m----> 1\u001b[0m set1[\u001b[38;5;241m0\u001b[39m]\n",
      "\u001b[1;31mTypeError\u001b[0m: 'set' object is not subscriptable"
     ]
    }
   ],
   "source": [
    "set1[0]"
   ]
  },
  {
   "cell_type": "code",
   "execution_count": null,
   "id": "ea952b2e-ffd2-46b6-b3d8-40c426278c56",
   "metadata": {},
   "outputs": [],
   "source": [
    "dict1 = {1:\"a\", 2:\"b\", 3:\"c\"}"
   ]
  },
  {
   "cell_type": "code",
   "execution_count": 46,
   "id": "c33d4a96-3034-4008-83c3-aa13b45d6418",
   "metadata": {},
   "outputs": [
    {
     "data": {
      "text/plain": [
       "{1: 'a', 2: 'b', 3: 'c'}"
      ]
     },
     "execution_count": 46,
     "metadata": {},
     "output_type": "execute_result"
    }
   ],
   "source": [
    "dict1"
   ]
  },
  {
   "cell_type": "code",
   "execution_count": 50,
   "id": "155af623-2f0c-4ec9-9a10-8ceb641d3ab8",
   "metadata": {},
   "outputs": [
    {
     "ename": "KeyError",
     "evalue": "0",
     "output_type": "error",
     "traceback": [
      "\u001b[1;31m---------------------------------------------------------------------------\u001b[0m",
      "\u001b[1;31mKeyError\u001b[0m                                  Traceback (most recent call last)",
      "Cell \u001b[1;32mIn[50], line 1\u001b[0m\n\u001b[1;32m----> 1\u001b[0m dict1[\u001b[38;5;241m0\u001b[39m]\n",
      "\u001b[1;31mKeyError\u001b[0m: 0"
     ]
    }
   ],
   "source": [
    "dict1[0]"
   ]
  },
  {
   "cell_type": "code",
   "execution_count": 52,
   "id": "0e5a217f-a04e-4637-9888-4a6e03f97686",
   "metadata": {},
   "outputs": [
    {
     "data": {
      "text/plain": [
       "'data science'"
      ]
     },
     "execution_count": 52,
     "metadata": {},
     "output_type": "execute_result"
    }
   ],
   "source": [
    "str1"
   ]
  },
  {
   "cell_type": "markdown",
   "id": "47d953e9-6830-4eb4-b2b7-d97dffaf93ee",
   "metadata": {},
   "source": [
    "### Slicing"
   ]
  },
  {
   "cell_type": "code",
   "execution_count": 54,
   "id": "3723ec75-2585-4660-9fdc-7292e90a06a5",
   "metadata": {},
   "outputs": [
    {
     "data": {
      "text/plain": [
       "'a science'"
      ]
     },
     "execution_count": 54,
     "metadata": {},
     "output_type": "execute_result"
    }
   ],
   "source": [
    "str1[3:]"
   ]
  },
  {
   "cell_type": "code",
   "execution_count": 55,
   "id": "eb4845a5-925d-4453-9e4d-823a4dea9d42",
   "metadata": {},
   "outputs": [
    {
     "data": {
      "text/plain": [
       "'ta scie'"
      ]
     },
     "execution_count": 55,
     "metadata": {},
     "output_type": "execute_result"
    }
   ],
   "source": [
    "str1[2:9]"
   ]
  },
  {
   "cell_type": "code",
   "execution_count": 56,
   "id": "353c6623-bc96-4cf7-a3a7-f7fd4f136057",
   "metadata": {},
   "outputs": [
    {
     "data": {
      "text/plain": [
       "'dt ce'"
      ]
     },
     "execution_count": 56,
     "metadata": {},
     "output_type": "execute_result"
    }
   ],
   "source": [
    "str1[0:10:2]"
   ]
  },
  {
   "cell_type": "code",
   "execution_count": 57,
   "id": "aeec1356-010b-4b00-9bf4-72ad079a10ee",
   "metadata": {},
   "outputs": [
    {
     "data": {
      "text/plain": [
       "'dt cec'"
      ]
     },
     "execution_count": 57,
     "metadata": {},
     "output_type": "execute_result"
    }
   ],
   "source": [
    "str1[0::2]"
   ]
  },
  {
   "cell_type": "code",
   "execution_count": 58,
   "id": "0af78772-7424-46d3-91a2-8c7c10c9bbb3",
   "metadata": {},
   "outputs": [
    {
     "data": {
      "text/plain": [
       "'data science'"
      ]
     },
     "execution_count": 58,
     "metadata": {},
     "output_type": "execute_result"
    }
   ],
   "source": [
    "str1"
   ]
  },
  {
   "cell_type": "code",
   "execution_count": 59,
   "id": "1ec4ca8b-a37a-4dc9-868a-b63715f33010",
   "metadata": {},
   "outputs": [],
   "source": [
    "friuts = [ \"Apple\", \"Banana\", \"Mango\", \"Orange\", \"Grapes\", \n",
    "    \"Pineapple\", \"Watermelon\", \"Papaya\", \"Guava\", \"Pomegranate\",\n",
    "    \"Lemon\", \"Lime\", \"Sweet Lime\", \"Grapefruit\", \"Peach\"]"
   ]
  },
  {
   "cell_type": "code",
   "execution_count": 63,
   "id": "a4edc3a3-8fc0-4c79-8368-bad99ca915d8",
   "metadata": {},
   "outputs": [
    {
     "data": {
      "text/plain": [
       "15"
      ]
     },
     "execution_count": 63,
     "metadata": {},
     "output_type": "execute_result"
    }
   ],
   "source": [
    "len(friuts)"
   ]
  },
  {
   "cell_type": "code",
   "execution_count": 64,
   "id": "95de53e4-1747-4f7b-ac99-634bc7d0d1dd",
   "metadata": {},
   "outputs": [
    {
     "data": {
      "text/plain": [
       "['Mango', 'Pineapple', 'Guava', 'Lime', 'Peach']"
      ]
     },
     "execution_count": 64,
     "metadata": {},
     "output_type": "execute_result"
    }
   ],
   "source": [
    "friuts[2:16:3]"
   ]
  },
  {
   "cell_type": "code",
   "execution_count": 65,
   "id": "29ea5a29-ac13-45ce-af26-5f617b209eb6",
   "metadata": {},
   "outputs": [
    {
     "data": {
      "text/plain": [
       "['Peach',\n",
       " 'Grapefruit',\n",
       " 'Sweet Lime',\n",
       " 'Lime',\n",
       " 'Lemon',\n",
       " 'Pomegranate',\n",
       " 'Guava',\n",
       " 'Papaya',\n",
       " 'Watermelon',\n",
       " 'Pineapple',\n",
       " 'Grapes',\n",
       " 'Orange',\n",
       " 'Mango',\n",
       " 'Banana',\n",
       " 'Apple']"
      ]
     },
     "execution_count": 65,
     "metadata": {},
     "output_type": "execute_result"
    }
   ],
   "source": [
    "friuts[::-1]"
   ]
  },
  {
   "cell_type": "code",
   "execution_count": 66,
   "id": "709e5363-7a6b-41b4-bfc6-9a367d3d1b34",
   "metadata": {},
   "outputs": [
    {
     "data": {
      "text/plain": [
       "'ecneics atad'"
      ]
     },
     "execution_count": 66,
     "metadata": {},
     "output_type": "execute_result"
    }
   ],
   "source": [
    "str1[::-1]"
   ]
  },
  {
   "cell_type": "code",
   "execution_count": 68,
   "id": "7d9a7406-2a02-4029-a9ab-07c423741fc4",
   "metadata": {},
   "outputs": [
    {
     "data": {
      "text/plain": [
       "(5, 6, 3, 1)"
      ]
     },
     "execution_count": 68,
     "metadata": {},
     "output_type": "execute_result"
    }
   ],
   "source": [
    "tup1[2:6]"
   ]
  },
  {
   "cell_type": "code",
   "execution_count": 70,
   "id": "63b25484-de4f-448c-9e7e-d2069ed9cc48",
   "metadata": {},
   "outputs": [
    {
     "data": {
      "text/plain": [
       "{1, 2, 3, 4, 5, 6}"
      ]
     },
     "execution_count": 70,
     "metadata": {},
     "output_type": "execute_result"
    }
   ],
   "source": [
    "set1"
   ]
  },
  {
   "cell_type": "code",
   "execution_count": 71,
   "id": "7ea11270-2015-4110-8140-d1fff71d8683",
   "metadata": {},
   "outputs": [
    {
     "ename": "TypeError",
     "evalue": "'set' object is not subscriptable",
     "output_type": "error",
     "traceback": [
      "\u001b[1;31m---------------------------------------------------------------------------\u001b[0m",
      "\u001b[1;31mTypeError\u001b[0m                                 Traceback (most recent call last)",
      "Cell \u001b[1;32mIn[71], line 1\u001b[0m\n\u001b[1;32m----> 1\u001b[0m set1[\u001b[38;5;241m1\u001b[39m:\u001b[38;5;241m4\u001b[39m]\n",
      "\u001b[1;31mTypeError\u001b[0m: 'set' object is not subscriptable"
     ]
    }
   ],
   "source": [
    "set1[1:4]"
   ]
  },
  {
   "cell_type": "code",
   "execution_count": 73,
   "id": "5e255840-79c9-4e3e-87fb-48a652f179f0",
   "metadata": {},
   "outputs": [
    {
     "ename": "TypeError",
     "evalue": "unhashable type: 'slice'",
     "output_type": "error",
     "traceback": [
      "\u001b[1;31m---------------------------------------------------------------------------\u001b[0m",
      "\u001b[1;31mTypeError\u001b[0m                                 Traceback (most recent call last)",
      "Cell \u001b[1;32mIn[73], line 1\u001b[0m\n\u001b[1;32m----> 1\u001b[0m dict1[\u001b[38;5;241m1\u001b[39m:\u001b[38;5;241m3\u001b[39m]\n",
      "\u001b[1;31mTypeError\u001b[0m: unhashable type: 'slice'"
     ]
    }
   ],
   "source": [
    "dict1[1:3]"
   ]
  },
  {
   "cell_type": "code",
   "execution_count": 74,
   "id": "462eb586-9bff-4e70-a622-bf0e0a503ddc",
   "metadata": {},
   "outputs": [
    {
     "data": {
      "text/plain": [
       "'c'"
      ]
     },
     "execution_count": 74,
     "metadata": {},
     "output_type": "execute_result"
    }
   ],
   "source": [
    "dict1[3]"
   ]
  },
  {
   "cell_type": "code",
   "execution_count": null,
   "id": "15547ad3-b425-4b38-8aa5-6fd1bad01ff8",
   "metadata": {},
   "outputs": [],
   "source": [
    "indexing - str, list, tuple"
   ]
  },
  {
   "cell_type": "code",
   "execution_count": null,
   "id": "5697def6-e230-468e-bbfc-8d03c5a89cc1",
   "metadata": {},
   "outputs": [],
   "source": [
    "slicing - str,list, tuple"
   ]
  },
  {
   "cell_type": "markdown",
   "id": "a1d5499e-3be7-41e4-9625-4ba7b9aecfcf",
   "metadata": {},
   "source": [
    "### concadination"
   ]
  },
  {
   "cell_type": "code",
   "execution_count": 75,
   "id": "5c7699b7-bcfb-4b54-a461-d6b9f2971478",
   "metadata": {},
   "outputs": [
    {
     "data": {
      "text/plain": [
       "'data science'"
      ]
     },
     "execution_count": 75,
     "metadata": {},
     "output_type": "execute_result"
    }
   ],
   "source": [
    "str1"
   ]
  },
  {
   "cell_type": "code",
   "execution_count": 77,
   "id": "4eafad83-d1a9-49b7-9e08-8300a3f194fa",
   "metadata": {},
   "outputs": [
    {
     "data": {
      "text/plain": [
       "'data science data science'"
      ]
     },
     "execution_count": 77,
     "metadata": {},
     "output_type": "execute_result"
    }
   ],
   "source": [
    "str1 + \" \" + str1"
   ]
  },
  {
   "cell_type": "code",
   "execution_count": 78,
   "id": "770a5eb5-3137-4b83-88b3-47a7b27a9a0c",
   "metadata": {},
   "outputs": [
    {
     "data": {
      "text/plain": [
       "[3, 4, 5, 6, 3, 1, 2, 3, 4, 5, 6, 3, 1, 2]"
      ]
     },
     "execution_count": 78,
     "metadata": {},
     "output_type": "execute_result"
    }
   ],
   "source": [
    "list1 + list1"
   ]
  },
  {
   "cell_type": "code",
   "execution_count": 80,
   "id": "ec440c12-a2c7-4509-807c-8043ec12b870",
   "metadata": {},
   "outputs": [
    {
     "data": {
      "text/plain": [
       "(3, 4, 5, 6, 3, 1, 2, 3, 4, 5, 6, 3, 1, 2, 3, 4, 5, 6, 3, 1, 2)"
      ]
     },
     "execution_count": 80,
     "metadata": {},
     "output_type": "execute_result"
    }
   ],
   "source": [
    "tup1 + tup1 + tup1"
   ]
  },
  {
   "cell_type": "code",
   "execution_count": 81,
   "id": "8140632b-d4f0-49f7-9284-5ab56e0faad9",
   "metadata": {},
   "outputs": [
    {
     "ename": "TypeError",
     "evalue": "unsupported operand type(s) for +: 'set' and 'set'",
     "output_type": "error",
     "traceback": [
      "\u001b[1;31m---------------------------------------------------------------------------\u001b[0m",
      "\u001b[1;31mTypeError\u001b[0m                                 Traceback (most recent call last)",
      "Cell \u001b[1;32mIn[81], line 1\u001b[0m\n\u001b[1;32m----> 1\u001b[0m set1 \u001b[38;5;241m+\u001b[39m set1\n",
      "\u001b[1;31mTypeError\u001b[0m: unsupported operand type(s) for +: 'set' and 'set'"
     ]
    }
   ],
   "source": [
    "set1 + set1"
   ]
  },
  {
   "cell_type": "code",
   "execution_count": 82,
   "id": "8fc06f5f-8a3a-4495-94f6-8b73bd1ec1ee",
   "metadata": {},
   "outputs": [
    {
     "ename": "TypeError",
     "evalue": "unsupported operand type(s) for +: 'dict' and 'dict'",
     "output_type": "error",
     "traceback": [
      "\u001b[1;31m---------------------------------------------------------------------------\u001b[0m",
      "\u001b[1;31mTypeError\u001b[0m                                 Traceback (most recent call last)",
      "Cell \u001b[1;32mIn[82], line 1\u001b[0m\n\u001b[1;32m----> 1\u001b[0m dict1 \u001b[38;5;241m+\u001b[39m dict1\n",
      "\u001b[1;31mTypeError\u001b[0m: unsupported operand type(s) for +: 'dict' and 'dict'"
     ]
    }
   ],
   "source": [
    "dict1 + dict1"
   ]
  },
  {
   "cell_type": "markdown",
   "id": "8f7ec8fc-532f-4110-bc6a-a74a080aa9da",
   "metadata": {},
   "source": [
    "### Repeatation"
   ]
  },
  {
   "cell_type": "code",
   "execution_count": 83,
   "id": "ef71e6de-2e59-4069-9087-4b05073cd41e",
   "metadata": {},
   "outputs": [
    {
     "data": {
      "text/plain": [
       "'data science'"
      ]
     },
     "execution_count": 83,
     "metadata": {},
     "output_type": "execute_result"
    }
   ],
   "source": [
    "str1"
   ]
  },
  {
   "cell_type": "code",
   "execution_count": 90,
   "id": "b89ff8b6-c7e7-4973-b8cc-9894eb0a5bc0",
   "metadata": {},
   "outputs": [
    {
     "data": {
      "text/plain": [
       "'data science data science data science '"
      ]
     },
     "execution_count": 90,
     "metadata": {},
     "output_type": "execute_result"
    }
   ],
   "source": [
    "(str1 + \" \")*3"
   ]
  },
  {
   "cell_type": "code",
   "execution_count": 86,
   "id": "bee1dc56-d7a4-4f08-a849-1a10f158779a",
   "metadata": {},
   "outputs": [
    {
     "data": {
      "text/plain": [
       "[3, 4, 5, 6, 3, 1, 2, 3, 4, 5, 6, 3, 1, 2, 3, 4, 5, 6, 3, 1, 2]"
      ]
     },
     "execution_count": 86,
     "metadata": {},
     "output_type": "execute_result"
    }
   ],
   "source": [
    "list1*3"
   ]
  },
  {
   "cell_type": "code",
   "execution_count": 87,
   "id": "90af1b67-20b8-43cf-a1a0-2b1c72579c5a",
   "metadata": {},
   "outputs": [
    {
     "data": {
      "text/plain": [
       "(3, 4, 5, 6, 3, 1, 2, 3, 4, 5, 6, 3, 1, 2, 3, 4, 5, 6, 3, 1, 2)"
      ]
     },
     "execution_count": 87,
     "metadata": {},
     "output_type": "execute_result"
    }
   ],
   "source": [
    "tup1*3"
   ]
  },
  {
   "cell_type": "code",
   "execution_count": 91,
   "id": "8f680231-5657-46ad-9a52-177020d976d8",
   "metadata": {},
   "outputs": [
    {
     "ename": "TypeError",
     "evalue": "unsupported operand type(s) for *: 'set' and 'int'",
     "output_type": "error",
     "traceback": [
      "\u001b[1;31m---------------------------------------------------------------------------\u001b[0m",
      "\u001b[1;31mTypeError\u001b[0m                                 Traceback (most recent call last)",
      "Cell \u001b[1;32mIn[91], line 1\u001b[0m\n\u001b[1;32m----> 1\u001b[0m set1\u001b[38;5;241m*\u001b[39m\u001b[38;5;241m2\u001b[39m\n",
      "\u001b[1;31mTypeError\u001b[0m: unsupported operand type(s) for *: 'set' and 'int'"
     ]
    }
   ],
   "source": [
    "set1*2"
   ]
  },
  {
   "cell_type": "code",
   "execution_count": 92,
   "id": "952bc1fa-c80e-494f-9b31-828cf126e22f",
   "metadata": {},
   "outputs": [
    {
     "ename": "TypeError",
     "evalue": "unsupported operand type(s) for *: 'dict' and 'int'",
     "output_type": "error",
     "traceback": [
      "\u001b[1;31m---------------------------------------------------------------------------\u001b[0m",
      "\u001b[1;31mTypeError\u001b[0m                                 Traceback (most recent call last)",
      "Cell \u001b[1;32mIn[92], line 1\u001b[0m\n\u001b[1;32m----> 1\u001b[0m dict1\u001b[38;5;241m*\u001b[39m\u001b[38;5;241m2\u001b[39m\n",
      "\u001b[1;31mTypeError\u001b[0m: unsupported operand type(s) for *: 'dict' and 'int'"
     ]
    }
   ],
   "source": [
    "dict1*2"
   ]
  },
  {
   "cell_type": "code",
   "execution_count": null,
   "id": "0d2e069a-5ec3-4fca-95e8-c8c975df8b69",
   "metadata": {},
   "outputs": [],
   "source": []
  },
  {
   "cell_type": "code",
   "execution_count": null,
   "id": "11eeb868-38e0-407c-ac16-22b0da4af1b8",
   "metadata": {},
   "outputs": [],
   "source": []
  },
  {
   "cell_type": "code",
   "execution_count": null,
   "id": "4c2ed22d-43d0-4c4d-a45b-b2321729d081",
   "metadata": {},
   "outputs": [],
   "source": []
  }
 ],
 "metadata": {
  "kernelspec": {
   "display_name": "Python 3 (ipykernel)",
   "language": "python",
   "name": "python3"
  },
  "language_info": {
   "codemirror_mode": {
    "name": "ipython",
    "version": 3
   },
   "file_extension": ".py",
   "mimetype": "text/x-python",
   "name": "python",
   "nbconvert_exporter": "python",
   "pygments_lexer": "ipython3",
   "version": "3.11.7"
  }
 },
 "nbformat": 4,
 "nbformat_minor": 5
}
