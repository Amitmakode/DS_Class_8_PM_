{
 "cells": [
  {
   "cell_type": "code",
   "execution_count": null,
   "id": "450a900c-5b3d-4a8e-9a92-c2ba19f9be45",
   "metadata": {},
   "outputs": [],
   "source": [
    "def fun_name():\n",
    "    return/print()"
   ]
  },
  {
   "cell_type": "code",
   "execution_count": 1,
   "id": "b2f50f6a-2441-420e-ac9c-30c327cd2279",
   "metadata": {},
   "outputs": [],
   "source": [
    "def fun1():\n",
    "    return 3**2"
   ]
  },
  {
   "cell_type": "code",
   "execution_count": 2,
   "id": "6f84c47c-3cfb-4bb7-aebb-8977f4708068",
   "metadata": {},
   "outputs": [
    {
     "data": {
      "text/plain": [
       "9"
      ]
     },
     "execution_count": 2,
     "metadata": {},
     "output_type": "execute_result"
    }
   ],
   "source": [
    "fun1()"
   ]
  },
  {
   "cell_type": "code",
   "execution_count": 3,
   "id": "7f15e486-b72c-48de-9b8b-5460e13319ff",
   "metadata": {},
   "outputs": [
    {
     "ename": "TypeError",
     "evalue": "fun1() takes 0 positional arguments but 1 was given",
     "output_type": "error",
     "traceback": [
      "\u001b[1;31m---------------------------------------------------------------------------\u001b[0m",
      "\u001b[1;31mTypeError\u001b[0m                                 Traceback (most recent call last)",
      "Cell \u001b[1;32mIn[3], line 1\u001b[0m\n\u001b[1;32m----> 1\u001b[0m fun1(\u001b[38;5;241m4\u001b[39m)\n",
      "\u001b[1;31mTypeError\u001b[0m: fun1() takes 0 positional arguments but 1 was given"
     ]
    }
   ],
   "source": [
    "fun1(4)"
   ]
  },
  {
   "cell_type": "code",
   "execution_count": 4,
   "id": "8bb65e09-f474-4990-afd1-02c076041b26",
   "metadata": {},
   "outputs": [],
   "source": [
    "def fun1(x):\n",
    "    return x**2"
   ]
  },
  {
   "cell_type": "code",
   "execution_count": 5,
   "id": "c9f22ba9-0544-4789-9d43-f2dbd4acd527",
   "metadata": {},
   "outputs": [
    {
     "data": {
      "text/plain": [
       "25"
      ]
     },
     "execution_count": 5,
     "metadata": {},
     "output_type": "execute_result"
    }
   ],
   "source": [
    "fun1(5)"
   ]
  },
  {
   "cell_type": "code",
   "execution_count": 7,
   "id": "6e4e4823-a0ea-4a6a-a5c1-caec93ce70ea",
   "metadata": {},
   "outputs": [
    {
     "ename": "TypeError",
     "evalue": "fun1() takes 1 positional argument but 2 were given",
     "output_type": "error",
     "traceback": [
      "\u001b[1;31m---------------------------------------------------------------------------\u001b[0m",
      "\u001b[1;31mTypeError\u001b[0m                                 Traceback (most recent call last)",
      "Cell \u001b[1;32mIn[7], line 1\u001b[0m\n\u001b[1;32m----> 1\u001b[0m fun1(\u001b[38;5;241m8\u001b[39m, \u001b[38;5;241m7\u001b[39m)\n",
      "\u001b[1;31mTypeError\u001b[0m: fun1() takes 1 positional argument but 2 were given"
     ]
    }
   ],
   "source": [
    "fun1(8, 7)"
   ]
  },
  {
   "cell_type": "code",
   "execution_count": 17,
   "id": "eda0bd82-3d37-437d-a07b-5d3351520b9d",
   "metadata": {},
   "outputs": [],
   "source": [
    "def fun2(*y):  #*args\n",
    "    print(y)"
   ]
  },
  {
   "cell_type": "code",
   "execution_count": 18,
   "id": "5bc31062-8bcc-4936-886a-6ac2a17034f9",
   "metadata": {},
   "outputs": [
    {
     "name": "stdout",
     "output_type": "stream",
     "text": [
      "()\n"
     ]
    }
   ],
   "source": [
    "fun2()"
   ]
  },
  {
   "cell_type": "code",
   "execution_count": 19,
   "id": "59f2f1f9-34da-41f1-8b42-e1bac7dda4da",
   "metadata": {},
   "outputs": [
    {
     "name": "stdout",
     "output_type": "stream",
     "text": [
      "(4,)\n"
     ]
    }
   ],
   "source": [
    "fun2(4)"
   ]
  },
  {
   "cell_type": "code",
   "execution_count": 22,
   "id": "90ad8e85-1202-42a1-9184-57c56655ab7b",
   "metadata": {},
   "outputs": [
    {
     "name": "stdout",
     "output_type": "stream",
     "text": [
      "(3, 4, 5, 6)\n"
     ]
    }
   ],
   "source": [
    "fun2(3,4,5,6)"
   ]
  },
  {
   "cell_type": "code",
   "execution_count": 21,
   "id": "61b3f072-f65d-49a4-a99c-cb1cea18c065",
   "metadata": {},
   "outputs": [
    {
     "name": "stdout",
     "output_type": "stream",
     "text": [
      "3 4 5 9\n"
     ]
    }
   ],
   "source": [
    "print(3,4,5,9)"
   ]
  },
  {
   "cell_type": "code",
   "execution_count": 16,
   "id": "cfb84e3e-b76d-4bc7-945d-e7872a3f919e",
   "metadata": {},
   "outputs": [
    {
     "data": {
      "text/plain": [
       "3"
      ]
     },
     "execution_count": 16,
     "metadata": {},
     "output_type": "execute_result"
    }
   ],
   "source": [
    "len(\"abc\")"
   ]
  },
  {
   "cell_type": "code",
   "execution_count": 24,
   "id": "34aca94a-2ba4-42de-bd38-40e559ee88e6",
   "metadata": {},
   "outputs": [
    {
     "name": "stdout",
     "output_type": "stream",
     "text": [
      "3 2 4 5 "
     ]
    }
   ],
   "source": [
    "for i in (3,2,4,5):\n",
    "    print(i, end = \" \")"
   ]
  },
  {
   "cell_type": "code",
   "execution_count": 25,
   "id": "d0d9757d-3dbc-4bcf-8a97-829aa816c839",
   "metadata": {},
   "outputs": [],
   "source": [
    "def fun4(**v):\n",
    "    return v"
   ]
  },
  {
   "cell_type": "code",
   "execution_count": 26,
   "id": "a9734bbf-bd80-42db-b3da-bf2abea72a70",
   "metadata": {},
   "outputs": [
    {
     "data": {
      "text/plain": [
       "{}"
      ]
     },
     "execution_count": 26,
     "metadata": {},
     "output_type": "execute_result"
    }
   ],
   "source": [
    "fun4()"
   ]
  },
  {
   "cell_type": "code",
   "execution_count": 28,
   "id": "bcef7dbc-839c-4b2c-9a21-6ace999b9ce5",
   "metadata": {},
   "outputs": [
    {
     "data": {
      "text/plain": [
       "{'num': 5}"
      ]
     },
     "execution_count": 28,
     "metadata": {},
     "output_type": "execute_result"
    }
   ],
   "source": [
    "fun4(num = 5)"
   ]
  },
  {
   "cell_type": "code",
   "execution_count": 29,
   "id": "76001a5f-6543-4fa2-8560-0ff110996508",
   "metadata": {},
   "outputs": [
    {
     "data": {
      "text/plain": [
       "{'num': 5, 'num2': 66}"
      ]
     },
     "execution_count": 29,
     "metadata": {},
     "output_type": "execute_result"
    }
   ],
   "source": [
    "fun4(num = 5, num2 = 66)"
   ]
  },
  {
   "cell_type": "code",
   "execution_count": 30,
   "id": "29240128-663b-4066-aad2-e317fadd9a0d",
   "metadata": {},
   "outputs": [],
   "source": [
    "def fun5(a, *b, **c):\n",
    "    return b, c, a"
   ]
  },
  {
   "cell_type": "code",
   "execution_count": 31,
   "id": "a1561d47-9af9-4a6e-ad8a-c44cc26b7fc4",
   "metadata": {},
   "outputs": [],
   "source": [
    "def add(x):\n",
    "    y = 4   #local variable\n",
    "    z = x*y\n",
    "    return z"
   ]
  },
  {
   "cell_type": "code",
   "execution_count": 32,
   "id": "37e25d05-6015-4e46-91ea-0141258ac7dc",
   "metadata": {},
   "outputs": [
    {
     "data": {
      "text/plain": [
       "28"
      ]
     },
     "execution_count": 32,
     "metadata": {},
     "output_type": "execute_result"
    }
   ],
   "source": [
    "add(7)"
   ]
  },
  {
   "cell_type": "code",
   "execution_count": 33,
   "id": "1a9bde91-8717-4a10-901b-5461c75ff943",
   "metadata": {},
   "outputs": [
    {
     "ename": "NameError",
     "evalue": "name 'y' is not defined",
     "output_type": "error",
     "traceback": [
      "\u001b[1;31m---------------------------------------------------------------------------\u001b[0m",
      "\u001b[1;31mNameError\u001b[0m                                 Traceback (most recent call last)",
      "Cell \u001b[1;32mIn[33], line 1\u001b[0m\n\u001b[1;32m----> 1\u001b[0m y\n",
      "\u001b[1;31mNameError\u001b[0m: name 'y' is not defined"
     ]
    }
   ],
   "source": [
    "y"
   ]
  },
  {
   "cell_type": "code",
   "execution_count": 34,
   "id": "2514a992-98f9-4f48-94f9-82b0f069eece",
   "metadata": {},
   "outputs": [],
   "source": [
    "w = 55  #global variable"
   ]
  },
  {
   "cell_type": "code",
   "execution_count": 35,
   "id": "6bc1e42a-2cb0-4a57-b541-896020e43da0",
   "metadata": {},
   "outputs": [
    {
     "data": {
      "text/plain": [
       "55"
      ]
     },
     "execution_count": 35,
     "metadata": {},
     "output_type": "execute_result"
    }
   ],
   "source": [
    "w"
   ]
  },
  {
   "cell_type": "code",
   "execution_count": 36,
   "id": "fc14a1ab-14de-4be6-ada3-48444ccc44fd",
   "metadata": {},
   "outputs": [],
   "source": [
    "def add1(x):\n",
    "    z = x*w\n",
    "    return z"
   ]
  },
  {
   "cell_type": "code",
   "execution_count": 37,
   "id": "7b3012a6-5c88-45b5-8f13-b7a6bf0b6c27",
   "metadata": {},
   "outputs": [
    {
     "data": {
      "text/plain": [
       "165"
      ]
     },
     "execution_count": 37,
     "metadata": {},
     "output_type": "execute_result"
    }
   ],
   "source": [
    "add1(3)"
   ]
  },
  {
   "cell_type": "code",
   "execution_count": 39,
   "id": "a5c76dfd-54c2-42a5-89db-f01d277fe1fa",
   "metadata": {},
   "outputs": [],
   "source": [
    "def mult(x):\n",
    "    u = 10\n",
    "    z = x*u\n",
    "    return z"
   ]
  },
  {
   "cell_type": "code",
   "execution_count": 40,
   "id": "42d1ece3-64e6-4631-91fb-6f6117682d69",
   "metadata": {},
   "outputs": [
    {
     "data": {
      "text/plain": [
       "20"
      ]
     },
     "execution_count": 40,
     "metadata": {},
     "output_type": "execute_result"
    }
   ],
   "source": [
    "mult(2)"
   ]
  },
  {
   "cell_type": "code",
   "execution_count": 41,
   "id": "765a37d4-89e5-41b0-88ad-2ef7b0a09da8",
   "metadata": {},
   "outputs": [
    {
     "ename": "NameError",
     "evalue": "name 'u' is not defined",
     "output_type": "error",
     "traceback": [
      "\u001b[1;31m---------------------------------------------------------------------------\u001b[0m",
      "\u001b[1;31mNameError\u001b[0m                                 Traceback (most recent call last)",
      "Cell \u001b[1;32mIn[41], line 1\u001b[0m\n\u001b[1;32m----> 1\u001b[0m u\n",
      "\u001b[1;31mNameError\u001b[0m: name 'u' is not defined"
     ]
    }
   ],
   "source": [
    "u"
   ]
  },
  {
   "cell_type": "code",
   "execution_count": 42,
   "id": "11553d74-9c8c-47e4-b020-a9fbb0b0a9c7",
   "metadata": {},
   "outputs": [],
   "source": [
    "def mult(x):\n",
    "    global u\n",
    "    u = 10\n",
    "    z = x*u\n",
    "    return z"
   ]
  },
  {
   "cell_type": "code",
   "execution_count": 43,
   "id": "792cfff6-cb32-4bb2-baf8-452af8677237",
   "metadata": {},
   "outputs": [
    {
     "data": {
      "text/plain": [
       "30"
      ]
     },
     "execution_count": 43,
     "metadata": {},
     "output_type": "execute_result"
    }
   ],
   "source": [
    "mult(3)"
   ]
  },
  {
   "cell_type": "code",
   "execution_count": 44,
   "id": "faa06a39-90fb-4ff7-9089-60401b01b210",
   "metadata": {},
   "outputs": [
    {
     "data": {
      "text/plain": [
       "10"
      ]
     },
     "execution_count": 44,
     "metadata": {},
     "output_type": "execute_result"
    }
   ],
   "source": [
    "u"
   ]
  },
  {
   "cell_type": "markdown",
   "id": "d7a4ee94-30bb-4db4-917c-1ac4128bae44",
   "metadata": {},
   "source": [
    "## list comprehension"
   ]
  },
  {
   "cell_type": "code",
   "execution_count": 45,
   "id": "ab05b780-1cd9-4c23-9a0a-cf428b3edfd7",
   "metadata": {},
   "outputs": [
    {
     "name": "stdout",
     "output_type": "stream",
     "text": [
      "0\n",
      "1\n",
      "2\n",
      "3\n",
      "4\n"
     ]
    }
   ],
   "source": [
    "for i in range(5):\n",
    "    print(i)"
   ]
  },
  {
   "cell_type": "code",
   "execution_count": 46,
   "id": "9275ec4c-e992-4ef6-a039-d75c22a5fb70",
   "metadata": {},
   "outputs": [
    {
     "data": {
      "text/plain": [
       "[0, 1, 2, 3, 4]"
      ]
     },
     "execution_count": 46,
     "metadata": {},
     "output_type": "execute_result"
    }
   ],
   "source": [
    "l1 = []\n",
    "for i in range(5):\n",
    "    l1.append(i)\n",
    "\n",
    "l1"
   ]
  },
  {
   "cell_type": "code",
   "execution_count": 47,
   "id": "6b555b5c-daaa-4820-a67e-b1e8ddc8ff40",
   "metadata": {},
   "outputs": [
    {
     "data": {
      "text/plain": [
       "[0, 1, 2, 3, 4]"
      ]
     },
     "execution_count": 47,
     "metadata": {},
     "output_type": "execute_result"
    }
   ],
   "source": [
    "[i for i in range(5)]"
   ]
  },
  {
   "cell_type": "code",
   "execution_count": 48,
   "id": "e4c18f7a-1adb-41c1-a090-799534a0749e",
   "metadata": {},
   "outputs": [],
   "source": [
    "var = \"analytics\""
   ]
  },
  {
   "cell_type": "code",
   "execution_count": 49,
   "id": "5ebe82cc-d13f-4f05-b434-e917b40aa48f",
   "metadata": {},
   "outputs": [
    {
     "name": "stdout",
     "output_type": "stream",
     "text": [
      "A\n",
      "N\n",
      "A\n",
      "L\n",
      "Y\n",
      "T\n",
      "I\n",
      "C\n",
      "S\n"
     ]
    }
   ],
   "source": [
    "for i in var:\n",
    "    print(i.upper())"
   ]
  },
  {
   "cell_type": "code",
   "execution_count": 50,
   "id": "f1b3d6b6-3e58-4aa5-b627-38777972969b",
   "metadata": {},
   "outputs": [
    {
     "data": {
      "text/plain": [
       "['A', 'N', 'A', 'L', 'Y', 'T', 'I', 'C', 'S']"
      ]
     },
     "execution_count": 50,
     "metadata": {},
     "output_type": "execute_result"
    }
   ],
   "source": [
    "[i.upper() for i in var]"
   ]
  },
  {
   "cell_type": "code",
   "execution_count": 51,
   "id": "ba886653-5013-49e8-98f2-e47cc9c93167",
   "metadata": {},
   "outputs": [],
   "source": [
    "l2 = []\n",
    "for i in range(20):\n",
    "    if i%2==0:\n",
    "        l2.append(i)\n",
    "        "
   ]
  },
  {
   "cell_type": "code",
   "execution_count": 52,
   "id": "b37d15e3-0aa9-40f4-a366-4b4fe8062ffa",
   "metadata": {},
   "outputs": [
    {
     "data": {
      "text/plain": [
       "[0, 2, 4, 6, 8, 10, 12, 14, 16, 18]"
      ]
     },
     "execution_count": 52,
     "metadata": {},
     "output_type": "execute_result"
    }
   ],
   "source": [
    "l2"
   ]
  },
  {
   "cell_type": "code",
   "execution_count": 53,
   "id": "4c6d9fec-cad3-4443-ac36-fdf925aa99fe",
   "metadata": {},
   "outputs": [
    {
     "data": {
      "text/plain": [
       "[0, 2, 4, 6, 8, 10, 12, 14, 16, 18]"
      ]
     },
     "execution_count": 53,
     "metadata": {},
     "output_type": "execute_result"
    }
   ],
   "source": [
    "[i for i in range(20) if i%2==0]"
   ]
  },
  {
   "cell_type": "code",
   "execution_count": 54,
   "id": "0fb4381e-c3c5-4cf5-a1b3-f4f9de6a4de9",
   "metadata": {},
   "outputs": [
    {
     "ename": "SyntaxError",
     "evalue": "invalid syntax (2001162158.py, line 1)",
     "output_type": "error",
     "traceback": [
      "\u001b[1;36m  Cell \u001b[1;32mIn[54], line 1\u001b[1;36m\u001b[0m\n\u001b[1;33m    [\"even\" for i in range(10) if i%2==0 else \"odd\"]\u001b[0m\n\u001b[1;37m                                         ^\u001b[0m\n\u001b[1;31mSyntaxError\u001b[0m\u001b[1;31m:\u001b[0m invalid syntax\n"
     ]
    }
   ],
   "source": [
    "[\"even\" for i in range(10) if i%2==0 else \"odd\"]"
   ]
  },
  {
   "cell_type": "code",
   "execution_count": 55,
   "id": "6b12d50f-adcd-4e7d-9eb2-ea9935ece57f",
   "metadata": {},
   "outputs": [
    {
     "data": {
      "text/plain": [
       "['even', 'odd', 'even', 'odd', 'even', 'odd', 'even', 'odd', 'even', 'odd']"
      ]
     },
     "execution_count": 55,
     "metadata": {},
     "output_type": "execute_result"
    }
   ],
   "source": [
    "[\"even\" if i%2==0 else \"odd\" for i in range(10) ]"
   ]
  },
  {
   "cell_type": "code",
   "execution_count": 57,
   "id": "72b1d9f7-1165-42a2-be8e-7ec98af04b16",
   "metadata": {},
   "outputs": [
    {
     "name": "stdout",
     "output_type": "stream",
     "text": [
      "0 1 2 3 0 1 2 3 0 1 2 3 0 1 2 3 0 1 2 3 "
     ]
    }
   ],
   "source": [
    "for i in range(5):\n",
    "    for j in range(4):\n",
    "        print(j, end = \" \")"
   ]
  },
  {
   "cell_type": "code",
   "execution_count": 58,
   "id": "cbd6dd0a-fbc0-43f2-807b-dc4cf935e2cc",
   "metadata": {},
   "outputs": [
    {
     "data": {
      "text/plain": [
       "[0, 1, 2, 3, 0, 1, 2, 3, 0, 1, 2, 3, 0, 1, 2, 3, 0, 1, 2, 3]"
      ]
     },
     "execution_count": 58,
     "metadata": {},
     "output_type": "execute_result"
    }
   ],
   "source": [
    "[j for i in range(5) for j in range(4)]"
   ]
  },
  {
   "cell_type": "code",
   "execution_count": 59,
   "id": "f9f3e649-6b97-451f-9b85-60017773be92",
   "metadata": {},
   "outputs": [
    {
     "data": {
      "text/plain": [
       "{0, 1, 2, 3}"
      ]
     },
     "execution_count": 59,
     "metadata": {},
     "output_type": "execute_result"
    }
   ],
   "source": [
    "{j for i in range(5) for j in range(4)}"
   ]
  },
  {
   "cell_type": "code",
   "execution_count": null,
   "id": "5e53698e-be78-4023-8511-c5fcaec3affb",
   "metadata": {},
   "outputs": [],
   "source": [
    "[output for i in iterable]"
   ]
  },
  {
   "cell_type": "code",
   "execution_count": 60,
   "id": "a4e36749-c008-4e5d-8d97-669a180dc087",
   "metadata": {},
   "outputs": [
    {
     "data": {
      "text/plain": [
       "[0, 6, 12, 18]"
      ]
     },
     "execution_count": 60,
     "metadata": {},
     "output_type": "execute_result"
    }
   ],
   "source": [
    "[i for i in range(20) if i%2==0 if i%3==0]"
   ]
  },
  {
   "cell_type": "code",
   "execution_count": 61,
   "id": "55fe7d45-f732-443a-b2b2-05d7e92f0282",
   "metadata": {},
   "outputs": [
    {
     "name": "stdout",
     "output_type": "stream",
     "text": [
      "0\n",
      "6\n",
      "12\n",
      "18\n"
     ]
    }
   ],
   "source": [
    "for i in range(20):\n",
    "    if i%2==0:\n",
    "        if i%3==0:\n",
    "            print(i)"
   ]
  },
  {
   "cell_type": "code",
   "execution_count": 71,
   "id": "6dbc228f-21d4-4961-b7a1-ef9a99963cbe",
   "metadata": {},
   "outputs": [],
   "source": [
    "def area(object, x):\n",
    "    if object == \"circle\":\n",
    "        radius = int(input(\"enter radius\"))\n",
    "        if x == \"area\":\n",
    "            import math\n",
    "            area = math.pi*radius**2\n",
    "            print(f\"area of circle {area}\")\n",
    "        if x == \"parameter\":\n",
    "            import math\n",
    "            parameter = math.pi*radius*2\n",
    "            print(f\"parameter of circle {parameter}\")\n",
    "    if object == \"ractangle\":\n",
    "        length = int(input(\"enter length\"))\n",
    "        width = int(input(\"enter width\"))\n",
    "        if x == \"area\":\n",
    "            area = length*width\n",
    "            print(f\"area of ractangle {area}\")\n",
    "        if x == \"parameter\":\n",
    "            parameter = 2*(length+width)\n",
    "            print(f\"parameter of ractangle {parameter}\")"
   ]
  },
  {
   "cell_type": "code",
   "execution_count": 70,
   "id": "3bc4c224-2043-4b2f-bd66-5032ee0d24a2",
   "metadata": {},
   "outputs": [],
   "source": [
    "area(\"ractanlge\", \"parameter\")"
   ]
  },
  {
   "cell_type": "code",
   "execution_count": null,
   "id": "a3bca567-8645-4548-9dea-f274415fa779",
   "metadata": {},
   "outputs": [],
   "source": []
  }
 ],
 "metadata": {
  "kernelspec": {
   "display_name": "Python 3 (ipykernel)",
   "language": "python",
   "name": "python3"
  },
  "language_info": {
   "codemirror_mode": {
    "name": "ipython",
    "version": 3
   },
   "file_extension": ".py",
   "mimetype": "text/x-python",
   "name": "python",
   "nbconvert_exporter": "python",
   "pygments_lexer": "ipython3",
   "version": "3.11.7"
  }
 },
 "nbformat": 4,
 "nbformat_minor": 5
}
