{
 "cells": [
  {
   "cell_type": "markdown",
   "id": "67abfebf-9830-4d7f-90fe-1f6f114ed727",
   "metadata": {},
   "source": [
    "## inheritence "
   ]
  },
  {
   "cell_type": "code",
   "execution_count": 20,
   "id": "14f8b234-2019-48ca-8563-3d7be778d6e3",
   "metadata": {},
   "outputs": [],
   "source": [
    "class car :                 #perent class   \n",
    "                         \n",
    "    def __init__(self , body , engin , tyre):\n",
    "        self.body = body\n",
    "        self.engin = engin\n",
    "        self.tyre = tyre\n",
    "\n",
    "    def milage (self):\n",
    "        print(\"milage of this car \") \n",
    "        \n",
    "        \n",
    "class tata(car):                #child class\n",
    "    pass\n"
   ]
  },
  {
   "cell_type": "code",
   "execution_count": 2,
   "id": "c53b17e1-5fb1-4343-a050-9e1b737b2012",
   "metadata": {},
   "outputs": [],
   "source": [
    "obj =car(\"solid1\" , \"v8\" , \"radial1\")"
   ]
  },
  {
   "cell_type": "code",
   "execution_count": 3,
   "id": "37327055-908a-48ff-86de-c39e75bca899",
   "metadata": {},
   "outputs": [
    {
     "data": {
      "text/plain": [
       "'v8'"
      ]
     },
     "execution_count": 3,
     "metadata": {},
     "output_type": "execute_result"
    }
   ],
   "source": [
    "obj.engin"
   ]
  },
  {
   "cell_type": "code",
   "execution_count": 5,
   "id": "315c970d-103c-40f9-97bc-97bebf40fb4c",
   "metadata": {},
   "outputs": [],
   "source": [
    "t = tata(\"solid1\" , \"v8\" , \"radial1\")"
   ]
  },
  {
   "cell_type": "code",
   "execution_count": 6,
   "id": "81c06693-553d-471f-a280-ec0c08e101a4",
   "metadata": {},
   "outputs": [
    {
     "name": "stdout",
     "output_type": "stream",
     "text": [
      "milage of this car \n"
     ]
    }
   ],
   "source": [
    "t.milage()"
   ]
  },
  {
   "cell_type": "markdown",
   "id": "c4b2d2eb-2134-48b8-b801-a5caf73c8ebb",
   "metadata": {},
   "source": [
    "### Multilevel"
   ]
  },
  {
   "cell_type": "code",
   "execution_count": 7,
   "id": "b245e9ed-70ff-446a-b0e5-6e7d05069c0c",
   "metadata": {},
   "outputs": [],
   "source": [
    "class bank :             # perents class \n",
    "    def transaction(self) :\n",
    "        print(\"total transaction value \")\n",
    "    def account_opening(self):\n",
    "        print(\"this will show you your account open status \")\n",
    "    def deposite(self):\n",
    "        print(\"this will show your deposited amount\")\n",
    "\n",
    "\n",
    "class HDFC_bank(bank):             # child class\n",
    "    def hdfc_to_icici(self):\n",
    "        print(\"this will show you all the transaction happend to icici throuhg hdfc\")\n",
    "\n",
    "class icici(HDFC_bank):          # child class\n",
    "    pass   "
   ]
  },
  {
   "cell_type": "code",
   "execution_count": 8,
   "id": "3798a86c-0898-48eb-86c8-13987b90cec7",
   "metadata": {},
   "outputs": [],
   "source": [
    "obj = icici()"
   ]
  },
  {
   "cell_type": "code",
   "execution_count": 9,
   "id": "d6ebad2d-2fe3-4040-8c9e-1213a15aac48",
   "metadata": {},
   "outputs": [
    {
     "name": "stdout",
     "output_type": "stream",
     "text": [
      "this will show your deposited amount\n"
     ]
    }
   ],
   "source": [
    "obj.deposite()"
   ]
  },
  {
   "cell_type": "markdown",
   "id": "c2e76f51-e7f4-4775-9b5e-2b7bbd72b81b",
   "metadata": {},
   "source": [
    "### Multiple "
   ]
  },
  {
   "cell_type": "code",
   "execution_count": 15,
   "id": "2370972f-33c0-44a1-8897-5f69c9d001ae",
   "metadata": {},
   "outputs": [],
   "source": [
    "class bank :\n",
    "    def transaction(self) :\n",
    "        print(\"total transaction value \")\n",
    "    def account_opening(self):\n",
    "        print(\"this will show you your account open status \")\n",
    "    def deposite(self):\n",
    "        print(\"this will show your deposited amount\")\n",
    "    def test(self):                          # override code\n",
    "        print(\"this is a test methond form bank class \")\n",
    "\n",
    "\n",
    "class HDFC_bank:\n",
    "    def hdfc_to_icici(self):\n",
    "        print(\"this will show you all the transaction happend to icici throuhg hdfc\")\n",
    "    def test(self):           #override code\n",
    "        print(\"this is a test method form hdfc bank \")\n",
    "\n",
    "class ineron_bank:\n",
    "    def account_status_icici(self):\n",
    "        print(\"print a account status in icici \")\n",
    "\n",
    "class icici(HDFC_bank, bank,  ineron_bank): \n",
    "    pass"
   ]
  },
  {
   "cell_type": "code",
   "execution_count": 16,
   "id": "88762aa4-a2f7-4bae-9191-b1ab84a7a2b5",
   "metadata": {},
   "outputs": [],
   "source": [
    "obj = ineron_bank()"
   ]
  },
  {
   "cell_type": "code",
   "execution_count": 17,
   "id": "5b021017-7a63-47ee-a40d-bfe09ea3d468",
   "metadata": {},
   "outputs": [
    {
     "name": "stdout",
     "output_type": "stream",
     "text": [
      "print a account status in icici \n"
     ]
    }
   ],
   "source": [
    "obj.account_status_icici()"
   ]
  },
  {
   "cell_type": "code",
   "execution_count": 18,
   "id": "19b23efc-976a-4201-a0db-3703d683ab14",
   "metadata": {},
   "outputs": [],
   "source": [
    "obj1 = icici()"
   ]
  },
  {
   "cell_type": "code",
   "execution_count": 19,
   "id": "bec38cb9-d86f-4933-b8fb-f5ef1f20b6c3",
   "metadata": {},
   "outputs": [
    {
     "name": "stdout",
     "output_type": "stream",
     "text": [
      "this is a test method form hdfc bank \n"
     ]
    }
   ],
   "source": [
    "obj1.test()"
   ]
  },
  {
   "cell_type": "markdown",
   "id": "56e2f8dd-0cba-4d90-8ec5-052370058ff6",
   "metadata": {},
   "source": [
    "### hirerchical inheritence"
   ]
  },
  {
   "cell_type": "code",
   "execution_count": 21,
   "id": "d56b3fbc-ec6b-4ed7-b028-78ca0341b0bd",
   "metadata": {},
   "outputs": [],
   "source": [
    "# Parent class\n",
    "class Vehicle:\n",
    "    def start(self):\n",
    "        print(\"Vehicle started\")\n",
    "\n",
    "# Child class 1\n",
    "class Car(Vehicle):\n",
    "    def drive(self):\n",
    "        print(\"Driving a car\")\n",
    "\n",
    "# Child class 2\n",
    "class Bike(Vehicle):\n",
    "    def ride(self):\n",
    "        print(\"Riding a bike\")\n",
    "\n",
    "class tata(Car):\n",
    "    pass\n",
    "\n",
    "class honda(Car):\n",
    "    pass\n",
    "\n",
    "\n",
    "class bajaj(Bike):\n",
    "    pass\n",
    "\n",
    "class Royal(Bike):\n",
    "    pass"
   ]
  },
  {
   "cell_type": "code",
   "execution_count": 22,
   "id": "2cec4c07-6b1b-4595-a2d1-3bdd130aa7cc",
   "metadata": {},
   "outputs": [],
   "source": [
    "obj = Royal()"
   ]
  },
  {
   "cell_type": "code",
   "execution_count": 23,
   "id": "4e87a7e2-20a9-4375-85a6-0d60bfe0aad4",
   "metadata": {},
   "outputs": [
    {
     "name": "stdout",
     "output_type": "stream",
     "text": [
      "Riding a bike\n"
     ]
    }
   ],
   "source": [
    "obj.ride()"
   ]
  },
  {
   "cell_type": "markdown",
   "id": "1ca285e8-d516-4ee2-9281-134d52a2c973",
   "metadata": {},
   "source": [
    "### hybrid inheritence"
   ]
  },
  {
   "cell_type": "code",
   "execution_count": 24,
   "id": "afdcf1f1-8121-4477-b9d7-e9c9386097e6",
   "metadata": {},
   "outputs": [],
   "source": [
    "# Parent class\n",
    "class Vehicle:\n",
    "    def general_info(self):\n",
    "        print(\"Vehicles are used for transportation.\")\n",
    "\n",
    "# Child class 1 (inherits from Vehicle)\n",
    "class Car(Vehicle):\n",
    "    def car_info(self):\n",
    "        print(\"Car has 4 wheels.\")\n",
    "\n",
    "# Child class 2 (inherits from Vehicle)\n",
    "class Bike(Vehicle):\n",
    "    def bike_info(self):\n",
    "        print(\"Bike has 2 wheels.\")\n",
    "\n",
    "# Grandchild class (inherits from both Car and Bike)\n",
    "class ElectricBike(Car, Bike):\n",
    "    def electric_info(self):\n",
    "        print(\"Electric bike runs on battery.\")\n",
    "\n",
    "class tata(Car):\n",
    "    pass\n",
    "\n",
    "class honda(Car):\n",
    "    pass\n",
    "\n",
    "\n",
    "class bajaj(Bike):\n",
    "    pass\n",
    "\n",
    "class Royal(Bike):\n",
    "    pass"
   ]
  },
  {
   "cell_type": "code",
   "execution_count": 25,
   "id": "db6239a3-989f-4ee7-b365-5b1b25ccf825",
   "metadata": {},
   "outputs": [],
   "source": [
    "obj =ElectricBike()"
   ]
  },
  {
   "cell_type": "code",
   "execution_count": 26,
   "id": "6409cea3-0b6a-41b1-963e-8afa9a0eb104",
   "metadata": {},
   "outputs": [
    {
     "name": "stdout",
     "output_type": "stream",
     "text": [
      "Vehicles are used for transportation.\n"
     ]
    }
   ],
   "source": [
    "obj.general_info()"
   ]
  },
  {
   "cell_type": "markdown",
   "id": "195714b5-41ea-4867-bd3a-7448b48e1908",
   "metadata": {},
   "source": [
    "### method required order"
   ]
  },
  {
   "cell_type": "code",
   "execution_count": 27,
   "id": "5cb83cbd-7b30-49d4-9bbd-37a8c1fa38cb",
   "metadata": {},
   "outputs": [
    {
     "data": {
      "text/plain": [
       "[__main__.bajaj, __main__.Bike, __main__.Vehicle, object]"
      ]
     },
     "execution_count": 27,
     "metadata": {},
     "output_type": "execute_result"
    }
   ],
   "source": [
    "bajaj.mro()"
   ]
  },
  {
   "cell_type": "code",
   "execution_count": 28,
   "id": "2e9d79ba-7df6-4085-a904-28dc2b8460a1",
   "metadata": {},
   "outputs": [
    {
     "data": {
      "text/plain": [
       "[__main__.ElectricBike, __main__.Car, __main__.Bike, __main__.Vehicle, object]"
      ]
     },
     "execution_count": 28,
     "metadata": {},
     "output_type": "execute_result"
    }
   ],
   "source": [
    "ElectricBike.mro()"
   ]
  },
  {
   "cell_type": "code",
   "execution_count": null,
   "id": "b3f1b449-bc5f-4029-8a5c-d7d86f4f0a0d",
   "metadata": {},
   "outputs": [],
   "source": []
  },
  {
   "cell_type": "markdown",
   "id": "405e77e4-60f2-490a-8dbe-ef1b905b6b3e",
   "metadata": {},
   "source": [
    "### Encapsulation"
   ]
  },
  {
   "cell_type": "code",
   "execution_count": 30,
   "id": "270791de-1be4-4659-9093-2774e622f204",
   "metadata": {},
   "outputs": [],
   "source": [
    "class Car:\n",
    "    def __init__(self, brand, speed=0):\n",
    "        self.__brand = brand  # Private attribute\n",
    "        self.__speed = speed  # Private attribute\n",
    "\n",
    "    def accelerate(self, increase):\n",
    "        self.__speed += increase\n",
    "\n",
    "    def get_speed(self):\n",
    "        return self.__speed\n",
    "\n",
    "    def get_brand(self):\n",
    "        return self.__brand"
   ]
  },
  {
   "cell_type": "code",
   "execution_count": 35,
   "id": "8f087b85-e459-4d20-9b26-cbe789e8ba75",
   "metadata": {},
   "outputs": [],
   "source": [
    "obj = Car(\"BMW\", speed = 40)"
   ]
  },
  {
   "cell_type": "code",
   "execution_count": 36,
   "id": "0d0c813d-23ab-406e-b18d-9040b8dbc127",
   "metadata": {},
   "outputs": [
    {
     "data": {
      "text/plain": [
       "'BMW'"
      ]
     },
     "execution_count": 36,
     "metadata": {},
     "output_type": "execute_result"
    }
   ],
   "source": [
    "obj.get_brand()"
   ]
  },
  {
   "cell_type": "code",
   "execution_count": 37,
   "id": "efaaa4c7-a50f-47e6-ab1a-70d9a13e5cc5",
   "metadata": {},
   "outputs": [
    {
     "data": {
      "text/plain": [
       "40"
      ]
     },
     "execution_count": 37,
     "metadata": {},
     "output_type": "execute_result"
    }
   ],
   "source": [
    "obj.get_speed()"
   ]
  },
  {
   "cell_type": "code",
   "execution_count": 38,
   "id": "d4144989-4deb-455b-b720-cdce6d2b6927",
   "metadata": {},
   "outputs": [],
   "source": [
    "obj.accelerate(70)"
   ]
  },
  {
   "cell_type": "code",
   "execution_count": 39,
   "id": "cd6055a8-ce19-4bc5-a2f9-baf57ba0f966",
   "metadata": {},
   "outputs": [
    {
     "data": {
      "text/plain": [
       "110"
      ]
     },
     "execution_count": 39,
     "metadata": {},
     "output_type": "execute_result"
    }
   ],
   "source": [
    "obj.get_speed()"
   ]
  },
  {
   "cell_type": "raw",
   "id": "19229289-6a9f-4db1-9f06-1dbd7063fd6a",
   "metadata": {},
   "source": [
    "Encapsulation in Python, a core principle of Object-Oriented Programming (OOP), involves bundling data (attributes) and the methods that operate on that data within a single unit, which is a class. It also emphasizes controlling access to the internal state of an object from outside the class."
   ]
  },
  {
   "cell_type": "code",
   "execution_count": null,
   "id": "ec4e4e51-75ee-4b7d-bbfe-4d135026c61d",
   "metadata": {},
   "outputs": [],
   "source": []
  },
  {
   "cell_type": "markdown",
   "id": "7345f0b5-2176-4729-8327-76cf9875c499",
   "metadata": {},
   "source": [
    "### Polymorphism   "
   ]
  },
  {
   "cell_type": "code",
   "execution_count": 46,
   "id": "be5afec0-7aea-4f5e-8ba3-660b3fbd69cf",
   "metadata": {},
   "outputs": [],
   "source": [
    "class Vehicle:\n",
    "    def move(self):\n",
    "        return \"Vehicle is moving.\"\n",
    "\n",
    "class Car(Vehicle):\n",
    "    def move(self):  # Overrides parent method\n",
    "        return \"Car is driving on the road.\"\n",
    "\n",
    "class Boat(Vehicle):\n",
    "    def move(self):  # Overrides parent method\n",
    "        return \"Boat is sailing on water.\""
   ]
  },
  {
   "cell_type": "code",
   "execution_count": 47,
   "id": "902244d4-23e5-4137-96ad-fba77bfae9c1",
   "metadata": {},
   "outputs": [],
   "source": [
    "car = Car()"
   ]
  },
  {
   "cell_type": "code",
   "execution_count": 48,
   "id": "eea6507c-2643-4801-bbc1-affe82942dbe",
   "metadata": {},
   "outputs": [],
   "source": [
    "boat = Boat()"
   ]
  },
  {
   "cell_type": "code",
   "execution_count": 49,
   "id": "c530c0d1-a9fb-4f3b-a62c-90aef9f75125",
   "metadata": {},
   "outputs": [
    {
     "data": {
      "text/plain": [
       "'Car is driving on the road.'"
      ]
     },
     "execution_count": 49,
     "metadata": {},
     "output_type": "execute_result"
    }
   ],
   "source": [
    "car.move()"
   ]
  },
  {
   "cell_type": "code",
   "execution_count": 55,
   "id": "96b29268-0662-4938-92dd-c38389e218b8",
   "metadata": {},
   "outputs": [],
   "source": [
    "vehical = [Car(), Boat(), Vehicle()]"
   ]
  },
  {
   "cell_type": "code",
   "execution_count": 56,
   "id": "8d0969c2-b4cb-4b5f-ab67-b35e6e04dcbd",
   "metadata": {},
   "outputs": [
    {
     "name": "stdout",
     "output_type": "stream",
     "text": [
      "Car is driving on the road.\n",
      "Boat is sailing on water.\n",
      "Vehicle is moving.\n"
     ]
    }
   ],
   "source": [
    "for i in vehical:\n",
    "    print(i.move())"
   ]
  },
  {
   "cell_type": "code",
   "execution_count": null,
   "id": "bfc5cd80-2a8f-4809-be0b-1c2d57657b69",
   "metadata": {},
   "outputs": [],
   "source": []
  },
  {
   "cell_type": "markdown",
   "id": "c56b9e3f-3290-47d4-b0fb-7b2e1bfd09b9",
   "metadata": {},
   "source": [
    "### Duck Typing"
   ]
  },
  {
   "cell_type": "code",
   "execution_count": 53,
   "id": "30a9dde6-faad-42e5-b3ba-7eb6dfbafd17",
   "metadata": {},
   "outputs": [],
   "source": [
    "def new(obj1, obj2):\n",
    "    print(obj1.move())\n",
    "    print(obj2.move())"
   ]
  },
  {
   "cell_type": "code",
   "execution_count": 54,
   "id": "276b6efe-7755-48b3-89e8-0f2049e2a738",
   "metadata": {},
   "outputs": [
    {
     "name": "stdout",
     "output_type": "stream",
     "text": [
      "Car is driving on the road.\n",
      "Boat is sailing on water.\n"
     ]
    }
   ],
   "source": [
    "new(car, boat)"
   ]
  },
  {
   "cell_type": "markdown",
   "id": "5042f58d-3678-46d2-a672-7996c21f27ce",
   "metadata": {},
   "source": [
    "### super()  key word "
   ]
  },
  {
   "cell_type": "code",
   "execution_count": 57,
   "id": "3337501e-02e3-4381-88e8-1485279c9acd",
   "metadata": {},
   "outputs": [],
   "source": [
    "# Parent class\n",
    "class Vehicle:\n",
    "    def general_info(self):\n",
    "        print(\"Vehicles are used for transportation.\")\n",
    "\n",
    "# Child class 1  \n",
    "class Car(Vehicle):\n",
    "    def general_info(self):\n",
    "        #super().general_info()\n",
    "        print(\"car class--- Vehicles are used for transportation.\")\n",
    "    \n",
    "    def car_info(self):\n",
    "        print(\"Car has 4 wheels.\")"
   ]
  },
  {
   "cell_type": "code",
   "execution_count": 58,
   "id": "5053fcc6-6974-4b48-bb21-091d7845a64a",
   "metadata": {},
   "outputs": [],
   "source": [
    "obj = Car()"
   ]
  },
  {
   "cell_type": "code",
   "execution_count": 59,
   "id": "a8e0d010-35b6-4a97-8937-c45890ca5b74",
   "metadata": {},
   "outputs": [
    {
     "name": "stdout",
     "output_type": "stream",
     "text": [
      "car class--- Vehicles are used for transportation.\n"
     ]
    }
   ],
   "source": [
    "obj.general_info()"
   ]
  },
  {
   "cell_type": "code",
   "execution_count": 67,
   "id": "612df240-2565-4271-97de-f32b5e2b05b2",
   "metadata": {},
   "outputs": [],
   "source": [
    "# Parent class\n",
    "class Vehicle:\n",
    "    def general_info(self):\n",
    "        print(\"Vehicles are used for transportation.\")\n",
    "\n",
    "\n",
    "\n",
    "# Child class 1  \n",
    "class Car(Vehicle):\n",
    "\n",
    "    def general_info(self):\n",
    "        print(\"car class--- Vehicles are used for transportation.\")\n",
    "        super().general_info()\n",
    "    \n",
    "    def car_info(self):\n",
    "        print(\"Car has 4 wheels.\")"
   ]
  },
  {
   "cell_type": "code",
   "execution_count": 68,
   "id": "4fae4a2f-77dd-41b6-b0af-cba8afee3214",
   "metadata": {},
   "outputs": [],
   "source": [
    "obj = Car()"
   ]
  },
  {
   "cell_type": "code",
   "execution_count": 65,
   "id": "943fd8d2-d8f1-42aa-b2b8-3aef782895e2",
   "metadata": {},
   "outputs": [
    {
     "name": "stdout",
     "output_type": "stream",
     "text": [
      "car class--- Vehicles are used for transportation.\n",
      "Vehicles are used for transportation.\n"
     ]
    }
   ],
   "source": [
    "obj.general_info()"
   ]
  },
  {
   "cell_type": "code",
   "execution_count": null,
   "id": "556822c7-252e-4e01-90bb-fd50b77ada0b",
   "metadata": {},
   "outputs": [],
   "source": []
  }
 ],
 "metadata": {
  "kernelspec": {
   "display_name": "Python 3 (ipykernel)",
   "language": "python",
   "name": "python3"
  },
  "language_info": {
   "codemirror_mode": {
    "name": "ipython",
    "version": 3
   },
   "file_extension": ".py",
   "mimetype": "text/x-python",
   "name": "python",
   "nbconvert_exporter": "python",
   "pygments_lexer": "ipython3",
   "version": "3.11.7"
  }
 },
 "nbformat": 4,
 "nbformat_minor": 5
}
