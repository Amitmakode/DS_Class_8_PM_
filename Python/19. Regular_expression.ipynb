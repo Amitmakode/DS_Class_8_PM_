{
 "cells": [
  {
   "cell_type": "code",
   "execution_count": 1,
   "id": "a51da876-4724-4eb7-a725-4c8334ced413",
   "metadata": {},
   "outputs": [],
   "source": [
    "import re"
   ]
  },
  {
   "cell_type": "code",
   "execution_count": 3,
   "id": "823ccbe4-c9ef-47ab-8d88-6b29ff18084f",
   "metadata": {},
   "outputs": [
    {
     "name": "stdout",
     "output_type": "stream",
     "text": [
      "<re.Match object; span=(0, 3), match='The'>\n"
     ]
    }
   ],
   "source": [
    "#Search the string to see if it starts with \"The\" and ends with \"Spain\":#\n",
    "\n",
    "txt = \"The rain in Spain\"\n",
    "\n",
    "pattern = \"^The\"\n",
    "\n",
    "x = re.search(pattern, txt)\n",
    "\n",
    "print(x)"
   ]
  },
  {
   "cell_type": "code",
   "execution_count": 4,
   "id": "a4fe6921-bff0-48bd-811e-b72fe1488501",
   "metadata": {},
   "outputs": [
    {
     "name": "stdout",
     "output_type": "stream",
     "text": [
      "<re.Match object; span=(12, 17), match='Spain'>\n"
     ]
    }
   ],
   "source": [
    "txt = \"The rain in Spain\"\n",
    "\n",
    "pattern = \"Spain$\"\n",
    "\n",
    "x = re.search(pattern, txt)\n",
    "\n",
    "print(x)"
   ]
  },
  {
   "cell_type": "code",
   "execution_count": 7,
   "id": "faca9e6f-8023-4d1b-a79d-faf7746678e9",
   "metadata": {},
   "outputs": [
    {
     "name": "stdout",
     "output_type": "stream",
     "text": [
      "['ai', 'ai']\n"
     ]
    }
   ],
   "source": [
    "txt = \"The rain in Spain\"\n",
    "\n",
    "x = re.findall(\"ai\", txt)\n",
    "\n",
    "print(x)"
   ]
  },
  {
   "cell_type": "code",
   "execution_count": 9,
   "id": "40cf51ee-d3ac-4662-93f9-4ab83e33d3c2",
   "metadata": {},
   "outputs": [
    {
     "name": "stdout",
     "output_type": "stream",
     "text": [
      "<re.Match object; span=(3, 4), match=' '>\n",
      "The first white-space character is located in position: 3\n"
     ]
    }
   ],
   "source": [
    "txt = \"The rain in Spain\"\n",
    "\n",
    "x = re.search(\"\\s\", txt)\n",
    "print(x)\n",
    "print(\"The first white-space character is located in position:\", x.start())"
   ]
  },
  {
   "cell_type": "code",
   "execution_count": 10,
   "id": "72da6b32-d725-480e-9cb4-f9c9f38f911f",
   "metadata": {},
   "outputs": [
    {
     "name": "stdout",
     "output_type": "stream",
     "text": [
      "['The', 'rain', 'in', 'Spain']\n"
     ]
    }
   ],
   "source": [
    "txt = \"The rain in Spain\"\n",
    "\n",
    "x = re.split(\"\\s\", txt)\n",
    "\n",
    "print(x)"
   ]
  },
  {
   "cell_type": "code",
   "execution_count": 12,
   "id": "eca65a7e-55db-4b76-ba48-6362bb81c814",
   "metadata": {},
   "outputs": [
    {
     "name": "stdout",
     "output_type": "stream",
     "text": [
      "['The', 'rain', 'in Spain']\n"
     ]
    }
   ],
   "source": [
    "txt = \"The rain in Spain\"\n",
    "\n",
    "x = re.split(\"\\s\", txt, 2)\n",
    "\n",
    "print(x)"
   ]
  },
  {
   "cell_type": "code",
   "execution_count": 15,
   "id": "e47d2953-3c66-4383-a6d5-231565380156",
   "metadata": {},
   "outputs": [
    {
     "name": "stdout",
     "output_type": "stream",
     "text": [
      "The9rain9in9Spain\n"
     ]
    }
   ],
   "source": [
    "txt = \"The rain in Spain\"\n",
    "\n",
    "x = re.sub(\"\\s\", \"9\", txt)\n",
    "\n",
    "print(x)"
   ]
  },
  {
   "cell_type": "code",
   "execution_count": 18,
   "id": "5400f9fb-5bb5-49c8-b83d-e678e58b5715",
   "metadata": {},
   "outputs": [
    {
     "name": "stdout",
     "output_type": "stream",
     "text": [
      "The r9n in Sp9n\n"
     ]
    }
   ],
   "source": [
    "txt = \"The rain in Spain\"\n",
    "\n",
    "x = re.sub(\"ai\", \"9\", txt)\n",
    "\n",
    "print(x)"
   ]
  },
  {
   "cell_type": "code",
   "execution_count": 19,
   "id": "2af1753c-990b-49ca-aaea-7182a3d5f01d",
   "metadata": {},
   "outputs": [
    {
     "name": "stdout",
     "output_type": "stream",
     "text": [
      "The r9n in Spain\n"
     ]
    }
   ],
   "source": [
    "txt = \"The rain in Spain\"\n",
    "\n",
    "x = re.sub(\"ai\", \"9\", txt,1)\n",
    "\n",
    "print(x)"
   ]
  },
  {
   "cell_type": "code",
   "execution_count": 23,
   "id": "03551faa-d999-41ca-a00f-0e815f8e5d08",
   "metadata": {},
   "outputs": [
    {
     "name": "stdout",
     "output_type": "stream",
     "text": [
      "(12, 17)\n"
     ]
    }
   ],
   "source": [
    "txt = \"The rain in Spain\"\n",
    "\n",
    "#f'' = f-string\n",
    "#r\"\" = raw string\n",
    "\n",
    "x = re.search(r\"\\bS\\w+\", txt)\n",
    "x\n",
    "print(x.span())"
   ]
  },
  {
   "cell_type": "code",
   "execution_count": 24,
   "id": "bef41f37-f904-4351-b77e-51da12020c8c",
   "metadata": {},
   "outputs": [
    {
     "data": {
      "text/plain": [
       "12"
      ]
     },
     "execution_count": 24,
     "metadata": {},
     "output_type": "execute_result"
    }
   ],
   "source": [
    "x.start()"
   ]
  },
  {
   "cell_type": "code",
   "execution_count": 25,
   "id": "1c2d47e5-bc67-4f32-bb84-6ad4316a33c3",
   "metadata": {},
   "outputs": [
    {
     "data": {
      "text/plain": [
       "17"
      ]
     },
     "execution_count": 25,
     "metadata": {},
     "output_type": "execute_result"
    }
   ],
   "source": [
    "x.end()"
   ]
  },
  {
   "cell_type": "code",
   "execution_count": 26,
   "id": "e0346493-3277-433f-9058-0f31e7babdd6",
   "metadata": {},
   "outputs": [
    {
     "name": "stdout",
     "output_type": "stream",
     "text": [
      "Spain\n"
     ]
    }
   ],
   "source": [
    "txt = \"The rain in Spain\"\n",
    "\n",
    "x = re.search(r\"\\bS\\w+\", txt)\n",
    "\n",
    "print(x.group())"
   ]
  },
  {
   "cell_type": "code",
   "execution_count": 28,
   "id": "6f46ec5c-bc99-460c-8329-8c393ebdba26",
   "metadata": {},
   "outputs": [
    {
     "name": "stdout",
     "output_type": "stream",
     "text": [
      "rain\n"
     ]
    }
   ],
   "source": [
    "txt = \"The rain in Spain\"\n",
    "\n",
    "x = re.search(r\"\\br\\w+\", txt)\n",
    "\n",
    "print(x.group())"
   ]
  },
  {
   "cell_type": "code",
   "execution_count": 29,
   "id": "515b974f-5bcc-4d3b-b115-bc887c1f39af",
   "metadata": {},
   "outputs": [
    {
     "name": "stdout",
     "output_type": "stream",
     "text": [
      "['support@example.com', 'sales@mydomain.org', 'myname@google.com']\n"
     ]
    }
   ],
   "source": [
    "text = \"Contact us at support@example.com or sales@mydomain.org, myname@google.com\"\n",
    "\n",
    "emails = re.findall(r'\\b[\\w.-]+@[\\w.-]+\\.\\w+\\b', text)\n",
    "print(emails)\n",
    "\n",
    "# r'\\b\\w+@\\w+\\.\\w+'\n",
    "# OR\n",
    "# '\\\\b\\\\w+@\\\\w+\\\\.\\\\w+'"
   ]
  },
  {
   "cell_type": "code",
   "execution_count": 30,
   "id": "4fbfd199-bf32-448f-8525-872e35acd784",
   "metadata": {},
   "outputs": [
    {
     "name": "stdout",
     "output_type": "stream",
     "text": [
      "['support@example.com', 'sales@mydomain.org', 'myname@google.co.in']\n"
     ]
    }
   ],
   "source": [
    "text = \"Contact us at support@example.com or sales@mydomain.org, myname@google.co.in\"\n",
    "\n",
    "emails = re.findall(r'\\b[\\w.-]+@[\\w.-]+\\.\\w+\\b', text)\n",
    "print(emails)\n",
    "\n"
   ]
  },
  {
   "cell_type": "code",
   "execution_count": null,
   "id": "c35b8347-1e93-44ee-a474-2327300b6efa",
   "metadata": {},
   "outputs": [],
   "source": [
    "r\"\"\n",
    "\\b______\\b\n",
    "[\\w.-]+\n",
    "@\n",
    "[\\w.-]+\n",
    "\\.\n",
    "\\w+"
   ]
  },
  {
   "cell_type": "code",
   "execution_count": 35,
   "id": "7491f45d-95d3-4619-860b-95ea01afcd67",
   "metadata": {},
   "outputs": [
    {
     "name": "stdout",
     "output_type": "stream",
     "text": [
      "['9876543210', '919876543210', '918989898980']\n"
     ]
    }
   ],
   "source": [
    "text = \"Call me at 9876543210 or 919876543210, new number +918989898980\"\n",
    "\n",
    "raw_string = r'\\b(?:\\+91|91)?[6-9]\\d{9}\\b'\n",
    "\n",
    "phones = re.findall(raw_string, text)\n",
    "\n",
    "print(phones)"
   ]
  },
  {
   "cell_type": "code",
   "execution_count": 36,
   "id": "e2aec364-4bd3-442d-bc8d-5754ad5c0fff",
   "metadata": {},
   "outputs": [
    {
     "name": "stdout",
     "output_type": "stream",
     "text": [
      "True\n"
     ]
    }
   ],
   "source": [
    "# Validate if a String is a Strong Password\n",
    "password = \"My$tr0ngP@ss\"\n",
    "\n",
    "pattern = r'^(?=.*[A-Z])(?=.*[a-z])(?=.*\\d)(?=.*[@$#]).{8,}$'\n",
    "\n",
    "print(bool(re.match(pattern, password)))\n",
    "\n",
    "#Checks for uppercase, lowercase, digit, special character, and min length."
   ]
  },
  {
   "cell_type": "code",
   "execution_count": 50,
   "id": "d59a80a2-9a7b-438b-ab48-7595b6338729",
   "metadata": {},
   "outputs": [
    {
     "name": "stdout",
     "output_type": "stream",
     "text": [
      "True\n"
     ]
    }
   ],
   "source": [
    "password = \"Mytr&076@sDf587\"\n",
    "\n",
    "pattern = r'^(?=.*[A-Z])(?=.*[a-z])(?=.*\\d)(?=.*[@$#]).{8,}$'\n",
    "\n",
    "print(bool(re.match(pattern, password)))"
   ]
  },
  {
   "cell_type": "code",
   "execution_count": 55,
   "id": "1356837b-e689-4fe5-8ec7-43ffb1e2d092",
   "metadata": {},
   "outputs": [
    {
     "name": "stdout",
     "output_type": "stream",
     "text": [
      "['21-06-2025', '15-08-2024', '28', '10', '25']\n"
     ]
    }
   ],
   "source": [
    "#Find Dates in dd-mm-yyyy Format\n",
    "text = \"The events are on 21-06-2025 and 15-08-2024, 28-10-25\"\n",
    "\n",
    "dates = re.findall(r'\\b\\d{2}-\\d{2}-\\d{4}|\\d{2}\\b', text)\n",
    "\n",
    "print(dates)\n"
   ]
  },
  {
   "cell_type": "code",
   "execution_count": 56,
   "id": "704aa07a-1559-4403-a617-510cd85c0fe5",
   "metadata": {},
   "outputs": [
    {
     "name": "stdout",
     "output_type": "stream",
     "text": [
      "['#Python', '#Regex', '#DataScience']\n"
     ]
    }
   ],
   "source": [
    "#Extract All Hashtags from Social Media Post\n",
    "\n",
    "text = \"Loving the #Python #Regex #DataScience journey!\"\n",
    "\n",
    "hashtags = re.findall(r'#\\w+', text)\n",
    "\n",
    "print(hashtags)"
   ]
  },
  {
   "cell_type": "code",
   "execution_count": 59,
   "id": "4fcea173-f4de-4979-b996-ce79f047e55b",
   "metadata": {},
   "outputs": [
    {
     "name": "stdout",
     "output_type": "stream",
     "text": [
      "True\n"
     ]
    }
   ],
   "source": [
    "#Check if a String is a Valid PAN Number\n",
    "\n",
    "pan = \"ABCDE1234F\"\n",
    "\n",
    "pattern = r'^[A-Z]{5}[0-9]{4}[A-Z]$'\n",
    "\n",
    "print(bool(re.match(pattern, pan)))"
   ]
  },
  {
   "cell_type": "code",
   "execution_count": null,
   "id": "239ae50e-7d76-4fa5-84c6-8e9814a14a14",
   "metadata": {},
   "outputs": [],
   "source": []
  }
 ],
 "metadata": {
  "kernelspec": {
   "display_name": "Python 3 (ipykernel)",
   "language": "python",
   "name": "python3"
  },
  "language_info": {
   "codemirror_mode": {
    "name": "ipython",
    "version": 3
   },
   "file_extension": ".py",
   "mimetype": "text/x-python",
   "name": "python",
   "nbconvert_exporter": "python",
   "pygments_lexer": "ipython3",
   "version": "3.11.7"
  }
 },
 "nbformat": 4,
 "nbformat_minor": 5
}
