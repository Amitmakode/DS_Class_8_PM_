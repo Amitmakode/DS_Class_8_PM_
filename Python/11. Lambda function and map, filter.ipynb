{
 "cells": [
  {
   "cell_type": "markdown",
   "id": "9647889b-42bb-4278-b1ad-c88be13b2a92",
   "metadata": {},
   "source": [
    "## lambda"
   ]
  },
  {
   "cell_type": "code",
   "execution_count": 1,
   "id": "182015bb-0324-4445-9f9b-7216663a5db0",
   "metadata": {},
   "outputs": [],
   "source": [
    "def fun1(x):\n",
    "    z = x**2\n",
    "    return z"
   ]
  },
  {
   "cell_type": "code",
   "execution_count": 2,
   "id": "d808f7d0-a81e-40e0-bc69-d2df61563be3",
   "metadata": {},
   "outputs": [
    {
     "data": {
      "text/plain": [
       "25"
      ]
     },
     "execution_count": 2,
     "metadata": {},
     "output_type": "execute_result"
    }
   ],
   "source": [
    "fun1(5)"
   ]
  },
  {
   "cell_type": "code",
   "execution_count": 3,
   "id": "e6b21797-40c3-4431-a181-4bd8f6c131b5",
   "metadata": {},
   "outputs": [
    {
     "data": {
      "text/plain": [
       "[0, 1, 2, 3, 4]"
      ]
     },
     "execution_count": 3,
     "metadata": {},
     "output_type": "execute_result"
    }
   ],
   "source": [
    "[i for i in range(5)]"
   ]
  },
  {
   "cell_type": "code",
   "execution_count": 5,
   "id": "3d069452-4a13-4ef2-b74a-4ab75f2e0650",
   "metadata": {},
   "outputs": [],
   "source": [
    "f1 = lambda x: x**2"
   ]
  },
  {
   "cell_type": "code",
   "execution_count": 6,
   "id": "31673062-8a1c-4fd6-93a3-bf850b1166c5",
   "metadata": {},
   "outputs": [
    {
     "data": {
      "text/plain": [
       "9"
      ]
     },
     "execution_count": 6,
     "metadata": {},
     "output_type": "execute_result"
    }
   ],
   "source": [
    "f1(3)"
   ]
  },
  {
   "cell_type": "code",
   "execution_count": 8,
   "id": "18a8d9c5-4d24-43a9-94d6-0657c9905fc9",
   "metadata": {},
   "outputs": [],
   "source": [
    "f2 = lambda var: var.upper()"
   ]
  },
  {
   "cell_type": "code",
   "execution_count": 9,
   "id": "2a102ace-4cf8-4f70-ae39-3157b3beb605",
   "metadata": {},
   "outputs": [
    {
     "data": {
      "text/plain": [
       "'RUBY'"
      ]
     },
     "execution_count": 9,
     "metadata": {},
     "output_type": "execute_result"
    }
   ],
   "source": [
    "f2(\"ruby\")"
   ]
  },
  {
   "cell_type": "code",
   "execution_count": 11,
   "id": "49a7a514-297e-49b5-922f-4827f7faf34c",
   "metadata": {},
   "outputs": [],
   "source": [
    "f3 = lambda list : [i for i in list if i%2==0]"
   ]
  },
  {
   "cell_type": "code",
   "execution_count": 12,
   "id": "92fce66c-1a40-4ca4-a98f-ddd2b6dfc108",
   "metadata": {},
   "outputs": [
    {
     "data": {
      "text/plain": [
       "[2, 4, 2, 6, 8]"
      ]
     },
     "execution_count": 12,
     "metadata": {},
     "output_type": "execute_result"
    }
   ],
   "source": [
    "f3([2,3,4,5,1,2,6,7,8,9,5,7])"
   ]
  },
  {
   "cell_type": "code",
   "execution_count": 14,
   "id": "26ca0d49-2b30-4bb0-bcd1-29367aebf080",
   "metadata": {},
   "outputs": [],
   "source": [
    "f5= lambda var: [\"even\" if i%2==0 else \"odd\" for i in var ]"
   ]
  },
  {
   "cell_type": "code",
   "execution_count": 15,
   "id": "ebe4e6f1-c238-41d0-9afb-a06c1bdfd271",
   "metadata": {},
   "outputs": [],
   "source": [
    "l = [2,3,4,5,1,2,6,7,8,9,5,7]"
   ]
  },
  {
   "cell_type": "code",
   "execution_count": 16,
   "id": "27c8734a-2a55-46ca-a9d7-64351e1621cb",
   "metadata": {},
   "outputs": [
    {
     "data": {
      "text/plain": [
       "['even',\n",
       " 'odd',\n",
       " 'even',\n",
       " 'odd',\n",
       " 'odd',\n",
       " 'even',\n",
       " 'even',\n",
       " 'odd',\n",
       " 'even',\n",
       " 'odd',\n",
       " 'odd',\n",
       " 'odd']"
      ]
     },
     "execution_count": 16,
     "metadata": {},
     "output_type": "execute_result"
    }
   ],
   "source": [
    "f5(l)"
   ]
  },
  {
   "cell_type": "code",
   "execution_count": 20,
   "id": "0ac5a368-46cf-44a8-9fff-d960e0f8c869",
   "metadata": {},
   "outputs": [],
   "source": [
    "full_name = lambda first, last : first + \" \"+ last"
   ]
  },
  {
   "cell_type": "code",
   "execution_count": 21,
   "id": "8a46edc9-aca3-4427-bfc6-7075885e4460",
   "metadata": {},
   "outputs": [
    {
     "data": {
      "text/plain": [
       "'amit kumar'"
      ]
     },
     "execution_count": 21,
     "metadata": {},
     "output_type": "execute_result"
    }
   ],
   "source": [
    "full_name(\"amit\", \"kumar\")"
   ]
  },
  {
   "cell_type": "markdown",
   "id": "9e64e0ce-475a-40b7-aba4-5aba41ec28aa",
   "metadata": {},
   "source": [
    "### Map"
   ]
  },
  {
   "cell_type": "code",
   "execution_count": 22,
   "id": "bbfa4b3a-bc66-4596-a373-3c5f4dfad6c0",
   "metadata": {},
   "outputs": [],
   "source": [
    "# Simple example - convert numbers to their cubes\n",
    "numbers = [1, 2, 3, 4, 5]"
   ]
  },
  {
   "cell_type": "code",
   "execution_count": null,
   "id": "4da92af6-7329-4f51-833c-6582c8d1b35a",
   "metadata": {},
   "outputs": [],
   "source": [
    "lambda x: x**3"
   ]
  },
  {
   "cell_type": "code",
   "execution_count": 23,
   "id": "a8db970b-7a3d-47d8-888c-302933aaf06c",
   "metadata": {},
   "outputs": [
    {
     "data": {
      "text/plain": [
       "<map at 0x2d230440130>"
      ]
     },
     "execution_count": 23,
     "metadata": {},
     "output_type": "execute_result"
    }
   ],
   "source": [
    "map(lambda x: x**3, numbers)"
   ]
  },
  {
   "cell_type": "code",
   "execution_count": 24,
   "id": "559c88ce-de22-4b97-b01d-e2c813b9f5cd",
   "metadata": {},
   "outputs": [
    {
     "data": {
      "text/plain": [
       "[1, 8, 27, 64, 125]"
      ]
     },
     "execution_count": 24,
     "metadata": {},
     "output_type": "execute_result"
    }
   ],
   "source": [
    "list(map(lambda x: x**3, numbers))"
   ]
  },
  {
   "cell_type": "code",
   "execution_count": null,
   "id": "835ac4ba-341d-4dc0-8d93-379ec19cf580",
   "metadata": {},
   "outputs": [],
   "source": [
    "cubes = list(map(lambda x: x**3, numbers))"
   ]
  },
  {
   "cell_type": "code",
   "execution_count": 25,
   "id": "3d4d02dd-add0-4fa5-b7c1-dbdc22030bbe",
   "metadata": {},
   "outputs": [],
   "source": [
    "l1 = ['even', 'odd', 'even', 'odd', 'odd', 'even', 'even', 'odd', 'even']"
   ]
  },
  {
   "cell_type": "code",
   "execution_count": null,
   "id": "2065c0ea-1065-43a1-9b21-6d6b91861d91",
   "metadata": {},
   "outputs": [],
   "source": [
    "lambda var : var.upper() "
   ]
  },
  {
   "cell_type": "code",
   "execution_count": 27,
   "id": "6edfb8f5-1b83-4faa-a943-dcff459b92a2",
   "metadata": {},
   "outputs": [
    {
     "data": {
      "text/plain": [
       "['EVEN', 'ODD', 'EVEN', 'ODD', 'ODD', 'EVEN', 'EVEN', 'ODD', 'EVEN']"
      ]
     },
     "execution_count": 27,
     "metadata": {},
     "output_type": "execute_result"
    }
   ],
   "source": [
    "list(map(lambda var : var.upper(), l1))"
   ]
  },
  {
   "cell_type": "markdown",
   "id": "1f54e0d2-f599-4277-96ac-a9a1744e3d83",
   "metadata": {},
   "source": [
    "### Filter"
   ]
  },
  {
   "cell_type": "code",
   "execution_count": 28,
   "id": "27902670-0946-4095-8b68-da4a6eb1f98d",
   "metadata": {},
   "outputs": [],
   "source": [
    "# Example - find numbers divisible by 5\n",
    "numbers = [10, 13, 15, 20, 23, 25, 30, 33, 35]"
   ]
  },
  {
   "cell_type": "code",
   "execution_count": null,
   "id": "6d8a3576-4279-48b8-a2df-08ac6330a32e",
   "metadata": {},
   "outputs": [],
   "source": [
    "lambda x: x % 5 == 0"
   ]
  },
  {
   "cell_type": "code",
   "execution_count": 29,
   "id": "a30d6d9a-7d7b-4251-8f7d-97bee5515490",
   "metadata": {},
   "outputs": [
    {
     "data": {
      "text/plain": [
       "<filter at 0x2d2305867d0>"
      ]
     },
     "execution_count": 29,
     "metadata": {},
     "output_type": "execute_result"
    }
   ],
   "source": [
    "filter(lambda x: x % 5 == 0, numbers)"
   ]
  },
  {
   "cell_type": "code",
   "execution_count": 30,
   "id": "848f4f09-c0ff-48a4-beb4-3e6b42b54e4f",
   "metadata": {},
   "outputs": [
    {
     "data": {
      "text/plain": [
       "[10, 15, 20, 25, 30, 35]"
      ]
     },
     "execution_count": 30,
     "metadata": {},
     "output_type": "execute_result"
    }
   ],
   "source": [
    "list(filter(lambda x: x % 5 == 0, numbers))"
   ]
  },
  {
   "cell_type": "code",
   "execution_count": 31,
   "id": "1c03dd00-a5b9-45f5-90c5-9db9a4f7006f",
   "metadata": {},
   "outputs": [
    {
     "data": {
      "text/plain": [
       "[True, False, True, True, False, True, True, False, True]"
      ]
     },
     "execution_count": 31,
     "metadata": {},
     "output_type": "execute_result"
    }
   ],
   "source": [
    "list(map(lambda x: x % 5 == 0, numbers))"
   ]
  },
  {
   "cell_type": "code",
   "execution_count": null,
   "id": "ab6ef3fd-bc79-464f-836c-0ad1391f99de",
   "metadata": {},
   "outputs": [],
   "source": [
    "numbers = [10, 13, 15, 20, 23, 25, 30, 33, 35]"
   ]
  },
  {
   "cell_type": "code",
   "execution_count": null,
   "id": "86b77336-11d9-463d-89ce-50db8edd5b46",
   "metadata": {},
   "outputs": [],
   "source": []
  },
  {
   "cell_type": "code",
   "execution_count": 32,
   "id": "1559b3f3-7e47-4b56-a75d-bc6d6cf34d32",
   "metadata": {},
   "outputs": [],
   "source": [
    "def square_list(numbers):\n",
    "    return list(map(lambda x: x**2, numbers))"
   ]
  },
  {
   "cell_type": "code",
   "execution_count": 33,
   "id": "a841220c-d7a6-4c31-b7de-930848f4e391",
   "metadata": {},
   "outputs": [
    {
     "data": {
      "text/plain": [
       "[4, 9, 16, 25, 36]"
      ]
     },
     "execution_count": 33,
     "metadata": {},
     "output_type": "execute_result"
    }
   ],
   "source": [
    "square_list((2,3,4,5,6))"
   ]
  },
  {
   "cell_type": "code",
   "execution_count": 34,
   "id": "c8ce4969-d6ae-4fac-9911-281681d0d4c5",
   "metadata": {},
   "outputs": [],
   "source": [
    "def filter_even(numbers):\n",
    "    return list(filter(lambda x: x % 2 == 0, numbers))"
   ]
  },
  {
   "cell_type": "code",
   "execution_count": 35,
   "id": "df3514d2-bd57-448c-a1e3-f5c87697642e",
   "metadata": {},
   "outputs": [
    {
     "data": {
      "text/plain": [
       "[10, 20, 30]"
      ]
     },
     "execution_count": 35,
     "metadata": {},
     "output_type": "execute_result"
    }
   ],
   "source": [
    "filter_even(numbers)"
   ]
  },
  {
   "cell_type": "code",
   "execution_count": 36,
   "id": "618fd70b-39f3-4bb1-b4dc-d4c552dd3fec",
   "metadata": {},
   "outputs": [
    {
     "data": {
      "text/plain": [
       "2.0"
      ]
     },
     "execution_count": 36,
     "metadata": {},
     "output_type": "execute_result"
    }
   ],
   "source": [
    "6/2\n",
    "6/3"
   ]
  },
  {
   "cell_type": "code",
   "execution_count": 44,
   "id": "d502cbe7-eb66-4fe1-bc92-99a36c466dcc",
   "metadata": {},
   "outputs": [
    {
     "ename": "SyntaxError",
     "evalue": "expected 'else' after 'if' expression (2483051446.py, line 2)",
     "output_type": "error",
     "traceback": [
      "\u001b[1;36m  Cell \u001b[1;32mIn[44], line 2\u001b[1;36m\u001b[0m\n\u001b[1;33m    return list(filter(lambda x: x if x % 2 == 0 and x%3==0 , list_var))\u001b[0m\n\u001b[1;37m                                 ^\u001b[0m\n\u001b[1;31mSyntaxError\u001b[0m\u001b[1;31m:\u001b[0m expected 'else' after 'if' expression\n"
     ]
    }
   ],
   "source": [
    "def filter_list(list_var):\n",
    "    return list(filter(lambda x: x if x % 2 == 0 and x%3==0 , list_var))"
   ]
  },
  {
   "cell_type": "code",
   "execution_count": null,
   "id": "f6dbf696-a559-43ab-9f87-a080548a9ded",
   "metadata": {},
   "outputs": [],
   "source": [
    "lambda x: x % 2 == 0 and x % 3 == 0"
   ]
  },
  {
   "cell_type": "code",
   "execution_count": null,
   "id": "5a6e9674-6669-4c25-86a9-0718b856d25a",
   "metadata": {},
   "outputs": [],
   "source": [
    "filter(lambda x: x % 2 == 0 and x % 3 == 0, list_var)"
   ]
  },
  {
   "cell_type": "code",
   "execution_count": null,
   "id": "38c1b82b-d42e-4264-97cf-360daec85fc7",
   "metadata": {},
   "outputs": [],
   "source": [
    "list(filter(lambda x: x % 2 == 0 and x % 3 == 0, list_var)"
   ]
  },
  {
   "cell_type": "code",
   "execution_count": 51,
   "id": "f1869a7c-18f8-49c7-a333-8b3fca32e9fe",
   "metadata": {},
   "outputs": [],
   "source": [
    "def filter_list(list_var):\n",
    "    return list(filter(lambda x: x % 2 == 0 and x % 3 == 0, list_var))"
   ]
  },
  {
   "cell_type": "code",
   "execution_count": 39,
   "id": "f937e4d2-593d-4d07-8463-150ae783e2b3",
   "metadata": {},
   "outputs": [],
   "source": [
    "l3 = [2,6,7,9,15, 18, 24, 30, 12, 13, 11, 10]"
   ]
  },
  {
   "cell_type": "code",
   "execution_count": 52,
   "id": "c24bdfe0-5779-44a4-b7b6-08cf0d542457",
   "metadata": {},
   "outputs": [
    {
     "data": {
      "text/plain": [
       "[6, 18, 24, 30, 12]"
      ]
     },
     "execution_count": 52,
     "metadata": {},
     "output_type": "execute_result"
    }
   ],
   "source": [
    "filter_list(l3)"
   ]
  },
  {
   "cell_type": "code",
   "execution_count": 40,
   "id": "50ca3c81-1ef7-41fa-a381-badb783e824a",
   "metadata": {},
   "outputs": [
    {
     "name": "stdout",
     "output_type": "stream",
     "text": [
      "6\n",
      "18\n",
      "24\n",
      "30\n",
      "12\n"
     ]
    }
   ],
   "source": [
    "for i in l3:\n",
    "    if i%2==0:\n",
    "        if i%3==0:\n",
    "            print(i)"
   ]
  },
  {
   "cell_type": "code",
   "execution_count": 43,
   "id": "855c70ef-ef9e-4408-9370-41c0e896156e",
   "metadata": {},
   "outputs": [
    {
     "data": {
      "text/plain": [
       "[6, 18, 24, 30, 12]"
      ]
     },
     "execution_count": 43,
     "metadata": {},
     "output_type": "execute_result"
    }
   ],
   "source": [
    "[x for x in l3 if x % 2 == 0 if x % 3== 0]"
   ]
  },
  {
   "cell_type": "code",
   "execution_count": 50,
   "id": "af98d7bb-68ef-4781-a6a8-6241528e9709",
   "metadata": {},
   "outputs": [
    {
     "ename": "SyntaxError",
     "evalue": "invalid syntax (3565470179.py, line 1)",
     "output_type": "error",
     "traceback": [
      "\u001b[1;36m  Cell \u001b[1;32mIn[50], line 1\u001b[1;36m\u001b[0m\n\u001b[1;33m    [lambda x: x if x % 2 == 0 and x%3==0 else pass]\u001b[0m\n\u001b[1;37m                                               ^\u001b[0m\n\u001b[1;31mSyntaxError\u001b[0m\u001b[1;31m:\u001b[0m invalid syntax\n"
     ]
    }
   ],
   "source": [
    "lambda x: x if x % 2 == 0 and x%3==0 else pass"
   ]
  },
  {
   "cell_type": "code",
   "execution_count": null,
   "id": "b3f958cf-823c-4d05-833c-8c5a98fa974f",
   "metadata": {},
   "outputs": [],
   "source": []
  },
  {
   "cell_type": "code",
   "execution_count": 53,
   "id": "ed9cc2fc-0956-45ae-9104-b02748addc72",
   "metadata": {},
   "outputs": [],
   "source": [
    "def sum_natural(n):\n",
    "    if n == 0:\n",
    "        return 0\n",
    "    else:\n",
    "        return n + sum_natural(n - 1)"
   ]
  },
  {
   "cell_type": "code",
   "execution_count": 60,
   "id": "fef61463-9e28-4c48-9dc2-0ee5de55832b",
   "metadata": {},
   "outputs": [
    {
     "data": {
      "text/plain": [
       "1"
      ]
     },
     "execution_count": 60,
     "metadata": {},
     "output_type": "execute_result"
    }
   ],
   "source": [
    "sum_natural(1)"
   ]
  },
  {
   "cell_type": "code",
   "execution_count": null,
   "id": "1643e0c6-63e2-4333-aa1c-6127ad783f03",
   "metadata": {},
   "outputs": [],
   "source": [
    "Natural numbers = 1, 2, 3, 4, 5, …"
   ]
  },
  {
   "cell_type": "code",
   "execution_count": null,
   "id": "d51f3f6d-b82e-425e-bb4c-da60e80c0271",
   "metadata": {},
   "outputs": [],
   "source": [
    "Sum=1+2+3+...+n"
   ]
  },
  {
   "cell_type": "code",
   "execution_count": null,
   "id": "e58ed813-0607-4087-86a7-8c12c4c11e9f",
   "metadata": {},
   "outputs": [],
   "source": []
  },
  {
   "cell_type": "code",
   "execution_count": null,
   "id": "44180383-a150-41cb-b193-1bc23b1e455c",
   "metadata": {},
   "outputs": [],
   "source": []
  },
  {
   "cell_type": "code",
   "execution_count": null,
   "id": "9973853f-bcec-45cc-a64e-6639a5bd915e",
   "metadata": {},
   "outputs": [],
   "source": [
    "# how to define function **def**\n",
    "# we have 3 different arguments 1. positional , 2. *args, 3. **kwargs\n",
    "# local and global variable\n",
    "# list comrehension\n",
    "# lambda function\n",
    "# map()\n",
    "# filter()\n",
    "# recursive function\n"
   ]
  }
 ],
 "metadata": {
  "kernelspec": {
   "display_name": "Python 3 (ipykernel)",
   "language": "python",
   "name": "python3"
  },
  "language_info": {
   "codemirror_mode": {
    "name": "ipython",
    "version": 3
   },
   "file_extension": ".py",
   "mimetype": "text/x-python",
   "name": "python",
   "nbconvert_exporter": "python",
   "pygments_lexer": "ipython3",
   "version": "3.11.7"
  }
 },
 "nbformat": 4,
 "nbformat_minor": 5
}
