{
 "cells": [
  {
   "cell_type": "markdown",
   "id": "d005a868-091a-44ee-a969-8d9dba3da37a",
   "metadata": {},
   "source": [
    "if\n",
    "elif\n",
    "else"
   ]
  },
  {
   "cell_type": "code",
   "execution_count": 2,
   "id": "059499e3-cdfb-45d2-9252-5ebb9ad8e796",
   "metadata": {},
   "outputs": [],
   "source": [
    "a = 10\n",
    "b = 20"
   ]
  },
  {
   "cell_type": "code",
   "execution_count": 3,
   "id": "9a449f7c-8347-4fff-9b78-fa01c7f529c9",
   "metadata": {},
   "outputs": [],
   "source": [
    "if a > b:\n",
    "    print(\"a is greater than b\")"
   ]
  },
  {
   "cell_type": "code",
   "execution_count": 4,
   "id": "47f602ed-508b-4f8d-a0ca-57f39de38762",
   "metadata": {},
   "outputs": [
    {
     "name": "stdout",
     "output_type": "stream",
     "text": [
      "a is greater than b\n"
     ]
    }
   ],
   "source": [
    "if a < b:\n",
    "    print(\"a is greater than b\")"
   ]
  },
  {
   "cell_type": "code",
   "execution_count": 5,
   "id": "7e74130d-c3bd-49e9-b97a-d46a80d0beec",
   "metadata": {},
   "outputs": [
    {
     "name": "stdout",
     "output_type": "stream",
     "text": [
      "b is greater than a\n"
     ]
    }
   ],
   "source": [
    "if a > b:\n",
    "    print(\"a is greater than b\")\n",
    "elif b > a:\n",
    "    print(\"b is greater than a\")"
   ]
  },
  {
   "cell_type": "code",
   "execution_count": 6,
   "id": "8aeaf470-e019-4f14-b956-af64b1ff5071",
   "metadata": {},
   "outputs": [],
   "source": [
    "if a > b:\n",
    "    print(\"a is greater than b\")\n",
    "elif b == a:\n",
    "    print(\"b is greater than a\")"
   ]
  },
  {
   "cell_type": "code",
   "execution_count": 7,
   "id": "ecaae083-e64f-4c9a-b10a-7da397b92f7a",
   "metadata": {},
   "outputs": [],
   "source": [
    "a = 10\n",
    "b = 10"
   ]
  },
  {
   "cell_type": "code",
   "execution_count": 8,
   "id": "42713d11-62d4-49ff-8510-50b239d2b0e5",
   "metadata": {},
   "outputs": [
    {
     "name": "stdout",
     "output_type": "stream",
     "text": [
      "a and b is equal\n"
     ]
    }
   ],
   "source": [
    "if a > b:\n",
    "    print(\"a is greater than b\")\n",
    "elif a < b:\n",
    "    print(\"b is greater than a\")\n",
    "else:\n",
    "    print(\"a and b is equal\")\n",
    "    "
   ]
  },
  {
   "cell_type": "code",
   "execution_count": 9,
   "id": "6d85e5b9-26c4-40ea-bb9f-e10fc594d167",
   "metadata": {},
   "outputs": [
    {
     "ename": "SyntaxError",
     "evalue": "invalid syntax (1191831060.py, line 1)",
     "output_type": "error",
     "traceback": [
      "\u001b[1;36m  Cell \u001b[1;32mIn[9], line 1\u001b[1;36m\u001b[0m\n\u001b[1;33m    elif a > b:\u001b[0m\n\u001b[1;37m    ^\u001b[0m\n\u001b[1;31mSyntaxError\u001b[0m\u001b[1;31m:\u001b[0m invalid syntax\n"
     ]
    }
   ],
   "source": [
    "elif a > b:\n",
    "    print(\"a is greater than b\")\n",
    "elif a < b:\n",
    "    print(\"b is greater than a\")\n",
    "else:\n",
    "    print(\"a and b is equal\")"
   ]
  },
  {
   "cell_type": "code",
   "execution_count": 10,
   "id": "21830e4e-545e-4d2c-824c-fc21d2f393bd",
   "metadata": {},
   "outputs": [
    {
     "ename": "SyntaxError",
     "evalue": "invalid syntax (3821098832.py, line 10)",
     "output_type": "error",
     "traceback": [
      "\u001b[1;36m  Cell \u001b[1;32mIn[10], line 10\u001b[1;36m\u001b[0m\n\u001b[1;33m    elif :\u001b[0m\n\u001b[1;37m         ^\u001b[0m\n\u001b[1;31mSyntaxError\u001b[0m\u001b[1;31m:\u001b[0m invalid syntax\n"
     ]
    }
   ],
   "source": [
    "number = 10\n",
    "A = 10\n",
    "B = 20\n",
    "C = 30\n",
    "\n",
    "if number == A:\n",
    "    print(\"python-1\")\n",
    "elif number > B :\n",
    "    print(\"python-2\")\n",
    "elif :\n",
    "    print(\"python-3\")\n",
    "else:\n",
    "    print(\"i don't know\")"
   ]
  },
  {
   "cell_type": "code",
   "execution_count": 12,
   "id": "f55df529-bad6-4741-b8b8-2e5841226673",
   "metadata": {},
   "outputs": [
    {
     "name": "stdout",
     "output_type": "stream",
     "text": [
      "number is equal\n",
      "number is less than 11\n"
     ]
    }
   ],
   "source": [
    "number  = 10\n",
    "if number == 10:\n",
    "    print(\"number is equal\")\n",
    "elif number > 11:\n",
    "    print(\"number is greater than 11\")\n",
    "    \n",
    "if number < 11:\n",
    "    print(\"number is less than 11\")"
   ]
  },
  {
   "cell_type": "code",
   "execution_count": 13,
   "id": "37d8d37a-70ba-4733-b682-61e6e55c0b14",
   "metadata": {},
   "outputs": [
    {
     "name": "stdout",
     "output_type": "stream",
     "text": [
      "number is equal\n",
      "number is less than 11\n",
      "   ---\n"
     ]
    }
   ],
   "source": [
    "number  = 11\n",
    "if number == 11:\n",
    "    print(\"number is equal\")\n",
    "elif number > 11:\n",
    "    print(\"number is greater than 11\")\n",
    "    \n",
    "if number == 11:\n",
    "    print(\"number is less than 11\")\n",
    "\n",
    "if number == 11:\n",
    "    print(\"   ---\")"
   ]
  },
  {
   "cell_type": "code",
   "execution_count": 14,
   "id": "2ca98832-a3fc-4b00-92d4-9c37e83b832f",
   "metadata": {},
   "outputs": [
    {
     "name": "stdin",
     "output_type": "stream",
     "text": [
      "Enter an integer\n",
      " 11\n"
     ]
    },
    {
     "name": "stdout",
     "output_type": "stream",
     "text": [
      "we guess correct value\n",
      "guess number is smaller than random variable\n"
     ]
    }
   ],
   "source": [
    "rand_var = 11\n",
    "\n",
    "guess = int(input(\"Enter an integer\\n\"))\n",
    "\n",
    "if guess == rand_var:\n",
    "    print(\"we guess correct value\")\n",
    "    if guess <= rand_var:\n",
    "        print(\"guess number is smaller than random variable\")\n",
    "elif guess > rand_var:\n",
    "    print(\"guess number is greter than random variable\")\n",
    "else:\n",
    "    print(\"Keep trying\")"
   ]
  },
  {
   "cell_type": "code",
   "execution_count": 15,
   "id": "caa93de7-3380-41c4-9f59-ddf664e6ee1c",
   "metadata": {},
   "outputs": [
    {
     "data": {
      "text/plain": [
       "False"
      ]
     },
     "execution_count": 15,
     "metadata": {},
     "output_type": "execute_result"
    }
   ],
   "source": [
    "12 == 12 and 12 > 13"
   ]
  },
  {
   "cell_type": "code",
   "execution_count": 16,
   "id": "a6283ec8-8278-452b-b661-b71b733004b8",
   "metadata": {},
   "outputs": [
    {
     "data": {
      "text/plain": [
       "True"
      ]
     },
     "execution_count": 16,
     "metadata": {},
     "output_type": "execute_result"
    }
   ],
   "source": [
    "12 == 12 and 12 > 13 or 13 > 12"
   ]
  },
  {
   "cell_type": "code",
   "execution_count": 18,
   "id": "1a9b8026-9181-4f73-9dee-789bc0528148",
   "metadata": {},
   "outputs": [
    {
     "name": "stdin",
     "output_type": "stream",
     "text": [
      "Enter the number  6\n"
     ]
    },
    {
     "name": "stdout",
     "output_type": "stream",
     "text": [
      "6  is even number\n"
     ]
    }
   ],
   "source": [
    "number = int(input(\"Enter the number \"))\n",
    "\n",
    "if number % 2 == 0 :   # if entered number is even then only message is shown to the user\n",
    "    print(number ,\" is even number\") \n",
    "else :\n",
    "    print(number ,\" is odd number\")"
   ]
  },
  {
   "cell_type": "code",
   "execution_count": 20,
   "id": "10cdb3b3-55f4-4d79-a1da-054c919c9b71",
   "metadata": {},
   "outputs": [
    {
     "name": "stdin",
     "output_type": "stream",
     "text": [
      "Enter the mark  86\n"
     ]
    },
    {
     "name": "stdout",
     "output_type": "stream",
     "text": [
      "You got distinction!\n"
     ]
    }
   ],
   "source": [
    "mark = int(input(\"Enter the mark \"))\n",
    "\n",
    "if mark < 0 or mark > 100: \n",
    "    print(\"Invalid marks are entered!\")\n",
    "    \n",
    "elif mark >= 0 and mark < 35 :\n",
    "    print(\"Sorry you failed!\")\n",
    "    \n",
    "elif mark >= 36 and mark <= 60:\n",
    "    print(\"You passed in second class\")\n",
    "    \n",
    "elif mark >= 61 and mark <= 80 :\n",
    "    print(\"You passed in first class\")\n",
    "    \n",
    "else :\n",
    "    print(\"You got distinction!\")"
   ]
  },
  {
   "cell_type": "code",
   "execution_count": 22,
   "id": "22c6f610-8415-429f-8108-95d7c5fce484",
   "metadata": {},
   "outputs": [
    {
     "name": "stdin",
     "output_type": "stream",
     "text": [
      "Enter the mark  95\n"
     ]
    },
    {
     "name": "stdout",
     "output_type": "stream",
     "text": [
      "you are in top 10 list\n"
     ]
    }
   ],
   "source": [
    "mark = int(input(\"Enter the mark \"))\n",
    "\n",
    "if mark < 0 or mark > 100: \n",
    "    print(\"Invalid marks are entered!\")\n",
    "elif mark >= 0 and mark < 35 :\n",
    "    print(\"Sorry you failed!\")\n",
    "elif mark >= 36 and mark <= 60:\n",
    "    print(\"You passed in second class\")\n",
    "elif mark >= 61 and mark <= 80 :\n",
    "    print(\"You passed in first class\")\n",
    "elif mark >= 91 and mark <= 100:\n",
    "    print(\"you are in top 10 list\")\n",
    "else :\n",
    "    print(\"You got distinction!\")"
   ]
  },
  {
   "cell_type": "code",
   "execution_count": 23,
   "id": "c85b2d8a-cd9c-4caa-997f-92e6389bce26",
   "metadata": {},
   "outputs": [
    {
     "name": "stdin",
     "output_type": "stream",
     "text": [
      "Enter first number \n",
      " 55\n",
      "Enter second number \n",
      " 25\n"
     ]
    },
    {
     "name": "stdout",
     "output_type": "stream",
     "text": [
      "First number is bigger than second\n"
     ]
    }
   ],
   "source": [
    "number1 = int(input(\"Enter first number \\n\"))\n",
    "number2 = int(input(\"Enter second number \\n\"))\n",
    "\n",
    "if number1 == number2:\n",
    "    print(\"Both numbers are same\")\n",
    "else:\n",
    "    if number1 > number2:\n",
    "        print(\"First number is bigger than second\")\n",
    "    else:\n",
    "        print(\"First number is smaller than second\")"
   ]
  },
  {
   "cell_type": "code",
   "execution_count": 24,
   "id": "861678d3-3b5e-4299-a2eb-b2f426b4744f",
   "metadata": {},
   "outputs": [
    {
     "name": "stdin",
     "output_type": "stream",
     "text": [
      "Enter the lenght in centimeter  80\n"
     ]
    },
    {
     "name": "stdout",
     "output_type": "stream",
     "text": [
      "80.0  cm =  31.496062992125985  inches\n"
     ]
    }
   ],
   "source": [
    "length_in_cm = input(\"Enter the lenght in centimeter \")\n",
    "\n",
    "length_in_cm = float(length_in_cm)\n",
    "    \n",
    "if length_in_cm < 0 :\n",
    "    print(\"You have entered negative value. \")\n",
    "else:\n",
    "    length_in_inches = length_in_cm / 2.54\n",
    "    print(length_in_cm, \" cm = \", length_in_inches, \" inches\")"
   ]
  },
  {
   "cell_type": "code",
   "execution_count": 28,
   "id": "6c5a441d-8abd-4afe-b14d-171d831119d5",
   "metadata": {},
   "outputs": [
    {
     "name": "stdin",
     "output_type": "stream",
     "text": [
      "Enter your username:  amit\n",
      "Enter your password:  1234\n"
     ]
    },
    {
     "name": "stdout",
     "output_type": "stream",
     "text": [
      "Unknown user. Please try again.\n"
     ]
    }
   ],
   "source": [
    "# Password and Username Checking\n",
    "username = input(\"Enter your username: \")\n",
    "password = input(\"Enter your password: \")\n",
    "\n",
    "\n",
    "if username == \"admin\":\n",
    "    if password == \"password\":\n",
    "        print(\"Login successful! Welcome, admin.\")\n",
    "    elif password == \"12345\":\n",
    "        print(\"Weak password. Please reset your password.\")\n",
    "    else:\n",
    "        print(\"Incorrect password. Please try again.\")\n",
    "else:\n",
    "    if username == \"guest\":\n",
    "        if password == \"guest\":\n",
    "            print(\"Login successful! Welcome, guest.\")\n",
    "        else:\n",
    "            print(\"Incorrect password. Please try again.\")\n",
    "    else:\n",
    "        print(\"Unknown user. Please try again.\")"
   ]
  },
  {
   "cell_type": "code",
   "execution_count": 27,
   "id": "578f2212-a109-468a-a382-2a32f8cfbf7d",
   "metadata": {},
   "outputs": [
    {
     "name": "stdout",
     "output_type": "stream",
     "text": [
      "do not perform this task\n"
     ]
    }
   ],
   "source": [
    "lis = [1,2,3,4,5,6]\n",
    "\n",
    "if 60 in lis :\n",
    "    print(\"try to perform a task \")\n",
    "else :\n",
    "    print(\"do not perform this task\")"
   ]
  },
  {
   "cell_type": "code",
   "execution_count": 29,
   "id": "e98a0d4b-f291-43f9-843d-34dc4513b002",
   "metadata": {},
   "outputs": [
    {
     "name": "stdout",
     "output_type": "stream",
     "text": [
      "try to do sub\n",
      "try to do mult\n",
      "this is new statement\n"
     ]
    }
   ],
   "source": [
    "lis = [1,2,3,4,5,6]\n",
    "\n",
    "if 10 in lis :\n",
    "    print(\"thy to do a addition\")\n",
    "elif 2 in lis :\n",
    "    print(\"try to do sub\")\n",
    "    if 3 in lis :\n",
    "        print(\"try to do mult\")\n",
    "if 4 in lis :\n",
    "    print(\"this is new statement\")"
   ]
  },
  {
   "cell_type": "code",
   "execution_count": 31,
   "id": "31b55dd4-c988-4360-9e09-388a7da52595",
   "metadata": {},
   "outputs": [
    {
     "name": "stdin",
     "output_type": "stream",
     "text": [
      " 500\n"
     ]
    },
    {
     "name": "stdout",
     "output_type": "stream",
     "text": [
      "for sure i will be able to buy\n"
     ]
    }
   ],
   "source": [
    "price = int(input())\n",
    "\n",
    "if price > 500 : \n",
    "    print(\" may be i wont be able to buy a jacket \")\n",
    "elif price < 500 :\n",
    "    print(\"i will be able to buy a jacket\")\n",
    "elif  price == 500 :\n",
    "    print(\"for sure i will be able to buy\")\n",
    "else  :\n",
    "    print(\"i dont know\")"
   ]
  },
  {
   "cell_type": "code",
   "execution_count": 33,
   "id": "5876243b-8298-4e51-a601-a002a98126ae",
   "metadata": {},
   "outputs": [
    {
     "name": "stdin",
     "output_type": "stream",
     "text": [
      " 450\n"
     ]
    },
    {
     "name": "stdout",
     "output_type": "stream",
     "text": [
      "i will be able to buy something\n",
      "\n",
      "i wont be able to buy anyting\n"
     ]
    }
   ],
   "source": [
    "price  = int(input())\n",
    "\n",
    "if price  < 500 :\n",
    "    print(\"i will be able to buy something\")\n",
    "    print()\n",
    "    if price < 400 :\n",
    "        print(\"i will be able to buy a jacket\")\n",
    "    elif price < 300 :\n",
    "        print(\"i will be able to buy a shirt\")\n",
    "        if price < 200 :\n",
    "            print(\"i would like to do sometign\")\n",
    "    else :\n",
    "        print(\"i wont be able to buy anyting\")\n",
    "else :\n",
    "     print(\"i wont be able to buy anything with this price tag\")"
   ]
  },
  {
   "cell_type": "code",
   "execution_count": 35,
   "id": "24ecde91-8788-47c9-b7e1-0c15fb0ecc1b",
   "metadata": {},
   "outputs": [
    {
     "name": "stdin",
     "output_type": "stream",
     "text": [
      " 730\n"
     ]
    },
    {
     "name": "stdout",
     "output_type": "stream",
     "text": [
      "you will get IIT\n",
      "you will get IIM\n"
     ]
    }
   ],
   "source": [
    "marks = int(input())\n",
    "\n",
    "if marks < 600:\n",
    "    print(\"NO GRE\")\n",
    "    if marks < 500:\n",
    "        print(\"TOFEL\")\n",
    "        if marks < 400:\n",
    "            print(\"Try something else\")\n",
    "    else:\n",
    "        print(\"YOU GOT TOFEL\")\n",
    "        \n",
    "elif marks > 600:\n",
    "    print(\"you will get IIT\")\n",
    "    if marks > 700:\n",
    "        print(\"you will get IIM\")\n",
    "    else:\n",
    "        print(\"try next time\")\n",
    "else:\n",
    "    print(\"You got GRE congratulations\")"
   ]
  },
  {
   "cell_type": "markdown",
   "id": "9311759d-d397-415d-b76e-d5135d85394e",
   "metadata": {},
   "source": [
    "### Ternary Operator in Python"
   ]
  },
  {
   "cell_type": "code",
   "execution_count": 36,
   "id": "2b152ed7-617e-4761-969d-46d2ca51c96d",
   "metadata": {},
   "outputs": [],
   "source": [
    "x = 20\n",
    "y  = 10"
   ]
  },
  {
   "cell_type": "code",
   "execution_count": 37,
   "id": "5749ca27-f333-4a44-8aed-8b236498dc15",
   "metadata": {},
   "outputs": [
    {
     "data": {
      "text/plain": [
       "'x is greater than y'"
      ]
     },
     "execution_count": 37,
     "metadata": {},
     "output_type": "execute_result"
    }
   ],
   "source": [
    "\"x is greater than y\" if x > y else \"y is greater than x\""
   ]
  },
  {
   "cell_type": "code",
   "execution_count": 39,
   "id": "370f64c4-855a-47e9-bd0f-58ba5c7c1f2c",
   "metadata": {},
   "outputs": [
    {
     "name": "stdin",
     "output_type": "stream",
     "text": [
      " 75\n"
     ]
    },
    {
     "data": {
      "text/plain": [
       "'B'"
      ]
     },
     "execution_count": 39,
     "metadata": {},
     "output_type": "execute_result"
    }
   ],
   "source": [
    "marks = int(input())\n",
    "\n",
    "\"A\" if marks > 90 else \"B\" if marks > 60 else \"C\""
   ]
  },
  {
   "cell_type": "code",
   "execution_count": 44,
   "id": "eb60efb6-b07f-49db-9dca-df113a1ef001",
   "metadata": {},
   "outputs": [
    {
     "name": "stdout",
     "output_type": "stream",
     "text": [
      "B\n"
     ]
    }
   ],
   "source": [
    "if marks > 90:\n",
    "    print(\"A\")\n",
    "else:\n",
    "    if marks > 60:\n",
    "        print(\"B\")\n",
    "    else:\n",
    "        print(\"C\")"
   ]
  },
  {
   "cell_type": "code",
   "execution_count": 41,
   "id": "9e1d20dc-b3a5-426a-820b-5c3c4cb30544",
   "metadata": {},
   "outputs": [
    {
     "name": "stdout",
     "output_type": "stream",
     "text": [
      "good night\n"
     ]
    }
   ],
   "source": [
    "current_hour = 23\n",
    "\n",
    "greetings = (\n",
    "    \"good morning\" if current_hour < 12 else\n",
    "    \"good afternoon\" if current_hour < 18 else\n",
    "    \"good evening\" if current_hour < 21 else\n",
    "    \"good night\"\n",
    ")\n",
    "\n",
    "print(greetings)"
   ]
  },
  {
   "cell_type": "code",
   "execution_count": 43,
   "id": "e3045d93-9baf-4b9a-a729-282d40d344c0",
   "metadata": {},
   "outputs": [
    {
     "name": "stdout",
     "output_type": "stream",
     "text": [
      "this is start of the week\n"
     ]
    }
   ],
   "source": [
    "day = \"monday\"\n",
    "\n",
    "match day:\n",
    "    case \"monday\":\n",
    "        print(\"this is start of the week\")\n",
    "    case \"tuesday\":\n",
    "        print(\"this is a second day of the week\")\n",
    "    case \"wednesday\":\n",
    "        print(\"this is mid of the week\")\n",
    "    case _ :\n",
    "        print(\"its just a another day\")"
   ]
  },
  {
   "cell_type": "raw",
   "id": "ea479fad-2b7b-405a-b9a1-924d05027005",
   "metadata": {},
   "source": [
    "1. Assign a value to variable `x`. If `x` is greater than 0, print \"Positive number\"; else, print \"Not a positive number\". \n",
    "2. Input a number from the user. Print \"Even\" if it's divisible by 2; else, print \"Odd\". \n",
    "3. Assign any number to variable `y`. If `y` is greater than 0, print \"Positive\"; elif `y` equals 0, print \"Zero\"; else, print \"Negative\". \n",
    "4. Input a student's marks. Print \"Grade A\" if marks >= 90, \"Grade B\" if marks >= 75, \"Grade C\" if marks >= 65, else print \"Grade D\". \n",
    "5. Input the temperature. Print \"Hot\" if temperature > 30, \"Warm\" if temperature between 15 and 30, else print \"Cool\". \n",
    "6. Input a year. Print \"Leap Year\" if divisible by 4 and not by 100, or divisible by 400; else print \"Not a Leap Year\". \n",
    "7. Input an age. If age < 13, print \"Child\"; elif age < 20, print \"Teenager\"; elif age < 60, print \"Adult\"; else print \"Senior\". \n",
    "8. Input a number. Print \"Multiple of 5\" if divisible by 5; elif divisible by 3, print \"Multiple of 3\"; else print \"Not a multiple of 3 or 5\". \n",
    "9. Input three numbers. Print the largest one using if, elif, else conditions. \n",
    "10. Input a day number (1 to 7). Print the corresponding day of the week using if, elif, else statements (e.g., 1 = \"Monday\", 2 = \"Tuesday\", ...). \n"
   ]
  }
 ],
 "metadata": {
  "kernelspec": {
   "display_name": "Python 3 (ipykernel)",
   "language": "python",
   "name": "python3"
  },
  "language_info": {
   "codemirror_mode": {
    "name": "ipython",
    "version": 3
   },
   "file_extension": ".py",
   "mimetype": "text/x-python",
   "name": "python",
   "nbconvert_exporter": "python",
   "pygments_lexer": "ipython3",
   "version": "3.11.7"
  }
 },
 "nbformat": 4,
 "nbformat_minor": 5
}
