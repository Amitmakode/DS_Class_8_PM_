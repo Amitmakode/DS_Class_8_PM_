{
 "cells": [
  {
   "cell_type": "markdown",
   "id": "fa2974b1-3849-4e27-a695-75470cae7b3e",
   "metadata": {},
   "source": [
    "## Data Types"
   ]
  },
  {
   "cell_type": "markdown",
   "id": "b609298a-ac90-4df4-bfd1-9c516bcfa74b",
   "metadata": {},
   "source": [
    "### iterable\n",
    "### non-iterable"
   ]
  },
  {
   "cell_type": "code",
   "execution_count": null,
   "id": "9116e87b-db87-47e5-a229-2a90a14e729f",
   "metadata": {},
   "outputs": [],
   "source": [
    "int           = any whole number (0-9)\n",
    "float         = any decimal number (0.5, 1.99. 3.25)\n",
    "str           = any printed values/ syntax \"hello\", '3423', \"7#py\", \"    \"\n",
    "complex       = any number with combination of real and imagine number (2x+4y = 30),  45+5j\n",
    "Bool          = True / False\n",
    "List          = [\"py\", 56, 55.77, 33+77j, True,{\"jan\" :31, \"feb\" :28, \"march\":31}]\n",
    "tuple         = (\"py\", 56, 55.77, 33+77j, True)\n",
    "set           = {\"py\", 56, 55.77, 33+77j, True}\n",
    "dict          = {\"jan\" :31, \"feb\" :28, \"march\":31}   # key value pair"
   ]
  },
  {
   "cell_type": "markdown",
   "id": "d3f43549-3306-4ad3-9144-fd922686fbd7",
   "metadata": {},
   "source": [
    "## Arithmatic Operators "
   ]
  },
  {
   "cell_type": "code",
   "execution_count": null,
   "id": "94f849b2-8eab-45de-8a8b-3d50c524ffdb",
   "metadata": {},
   "outputs": [],
   "source": [
    "+ = add\n",
    "- = sub\n",
    "* = multi\n",
    "/ = devision\n",
    "% = mode\n",
    "** = power\n",
    "// = floor division"
   ]
  },
  {
   "cell_type": "code",
   "execution_count": 1,
   "id": "a3c49f6b-4148-493c-85d7-4479c6214542",
   "metadata": {},
   "outputs": [
    {
     "data": {
      "text/plain": [
       "1"
      ]
     },
     "execution_count": 1,
     "metadata": {},
     "output_type": "execute_result"
    }
   ],
   "source": [
    "10%3"
   ]
  },
  {
   "cell_type": "code",
   "execution_count": 2,
   "id": "638bd609-2c9e-49a9-aca9-9fa316c7bfa3",
   "metadata": {},
   "outputs": [
    {
     "data": {
      "text/plain": [
       "3"
      ]
     },
     "execution_count": 2,
     "metadata": {},
     "output_type": "execute_result"
    }
   ],
   "source": [
    "10//3"
   ]
  },
  {
   "cell_type": "markdown",
   "id": "3050d538-4fd3-49de-8067-42012b9218b3",
   "metadata": {},
   "source": [
    "## Comparision Operators"
   ]
  },
  {
   "cell_type": "code",
   "execution_count": null,
   "id": "0a6a63d0-6309-42ef-9f53-f53ad95d263a",
   "metadata": {},
   "outputs": [],
   "source": [
    "==\n",
    ">\n",
    "<\n",
    ">=\n",
    "<=\n",
    "!="
   ]
  },
  {
   "cell_type": "code",
   "execution_count": 3,
   "id": "147910ae-b922-436d-aad8-a12a20fa1efc",
   "metadata": {},
   "outputs": [
    {
     "data": {
      "text/plain": [
       "True"
      ]
     },
     "execution_count": 3,
     "metadata": {},
     "output_type": "execute_result"
    }
   ],
   "source": [
    "4 < 5"
   ]
  },
  {
   "cell_type": "code",
   "execution_count": 4,
   "id": "22c2dca1-8633-4abe-acbe-bd847cd5b839",
   "metadata": {},
   "outputs": [
    {
     "data": {
      "text/plain": [
       "True"
      ]
     },
     "execution_count": 4,
     "metadata": {},
     "output_type": "execute_result"
    }
   ],
   "source": [
    "4!=5"
   ]
  },
  {
   "cell_type": "markdown",
   "id": "70db9369-7410-47af-b303-0337499ba117",
   "metadata": {},
   "source": [
    "## Logical Operators"
   ]
  },
  {
   "cell_type": "code",
   "execution_count": null,
   "id": "85467b59-67ac-4df4-81d3-ae838219075c",
   "metadata": {},
   "outputs": [],
   "source": [
    "and\n",
    "or\n",
    "not\n",
    "in\n",
    "not in\n",
    "is \n",
    "is not"
   ]
  },
  {
   "cell_type": "code",
   "execution_count": null,
   "id": "6c145db6-8e64-442a-9367-ab989c801141",
   "metadata": {},
   "outputs": [],
   "source": [
    "True and False = F\n",
    "True and True  = T\n",
    "False and True = F\n",
    "False and False = F"
   ]
  },
  {
   "cell_type": "code",
   "execution_count": null,
   "id": "e24e224b-64af-4a93-bef4-b62e6431b6d6",
   "metadata": {},
   "outputs": [],
   "source": [
    "True or True  = T\n",
    "True or False = T\n",
    "False or True = T\n",
    "False or False = F"
   ]
  },
  {
   "cell_type": "code",
   "execution_count": 5,
   "id": "b323b67a-56d6-4882-92e8-30a0605bfa42",
   "metadata": {},
   "outputs": [],
   "source": [
    "lis = [1,2,3,4,5,6,]"
   ]
  },
  {
   "cell_type": "code",
   "execution_count": 6,
   "id": "18c6bf74-0c82-44f1-8714-a0ad5811221b",
   "metadata": {},
   "outputs": [
    {
     "data": {
      "text/plain": [
       "True"
      ]
     },
     "execution_count": 6,
     "metadata": {},
     "output_type": "execute_result"
    }
   ],
   "source": [
    "4 in lis"
   ]
  },
  {
   "cell_type": "code",
   "execution_count": 7,
   "id": "7b9a5080-8efa-44ad-b7cc-b6ab24f0f49a",
   "metadata": {},
   "outputs": [
    {
     "data": {
      "text/plain": [
       "False"
      ]
     },
     "execution_count": 7,
     "metadata": {},
     "output_type": "execute_result"
    }
   ],
   "source": [
    "4 not in lis"
   ]
  },
  {
   "cell_type": "markdown",
   "id": "4deb2d4d-dbcd-4eed-a036-3b983d3dc368",
   "metadata": {},
   "source": [
    "## Assignment Operators"
   ]
  },
  {
   "cell_type": "code",
   "execution_count": null,
   "id": "861c817d-3e91-4638-9197-a5073ba31459",
   "metadata": {},
   "outputs": [],
   "source": [
    "= "
   ]
  },
  {
   "cell_type": "code",
   "execution_count": 8,
   "id": "5ff237f5-9d4d-4cc7-8a2e-111d3f05106b",
   "metadata": {},
   "outputs": [],
   "source": [
    "a = 20"
   ]
  },
  {
   "cell_type": "markdown",
   "id": "a881e698-832c-48c6-be6b-f1ad180e1e42",
   "metadata": {},
   "source": [
    "## Bitwise operators"
   ]
  },
  {
   "cell_type": "code",
   "execution_count": null,
   "id": "5e7306c7-e54f-47f3-9751-b1286dabf37e",
   "metadata": {},
   "outputs": [],
   "source": [
    "& - and\n",
    "| - or"
   ]
  },
  {
   "cell_type": "markdown",
   "id": "8a0e8dc9-f4b2-49ae-8365-21351fae7a95",
   "metadata": {},
   "source": [
    "## Variables"
   ]
  },
  {
   "cell_type": "code",
   "execution_count": null,
   "id": "84900e3e-239c-49fa-9f6b-39ad0a7f3b7e",
   "metadata": {},
   "outputs": [],
   "source": [
    "age = 25\n",
    "name = \"Alice\"\n",
    "is_student = True"
   ]
  },
  {
   "cell_type": "code",
   "execution_count": 9,
   "id": "407c6273-2ae1-4165-a517-4a68628b0e63",
   "metadata": {},
   "outputs": [
    {
     "ename": "SyntaxError",
     "evalue": "invalid decimal literal (2805728648.py, line 1)",
     "output_type": "error",
     "traceback": [
      "\u001b[1;36m  Cell \u001b[1;32mIn[9], line 1\u001b[1;36m\u001b[0m\n\u001b[1;33m    1age = 25\u001b[0m\n\u001b[1;37m    ^\u001b[0m\n\u001b[1;31mSyntaxError\u001b[0m\u001b[1;31m:\u001b[0m invalid decimal literal\n"
     ]
    }
   ],
   "source": [
    "1age = 25"
   ]
  },
  {
   "cell_type": "code",
   "execution_count": 10,
   "id": "0ef9d14a-aedc-4a49-8f76-fd347fa38ed0",
   "metadata": {},
   "outputs": [],
   "source": [
    "age1 = 24"
   ]
  },
  {
   "cell_type": "code",
   "execution_count": 11,
   "id": "b2af479e-dfbc-4a0e-83e1-823bf72948b5",
   "metadata": {},
   "outputs": [
    {
     "ename": "SyntaxError",
     "evalue": "invalid syntax (3095175389.py, line 1)",
     "output_type": "error",
     "traceback": [
      "\u001b[1;36m  Cell \u001b[1;32mIn[11], line 1\u001b[1;36m\u001b[0m\n\u001b[1;33m    last name = \"sharma\"\u001b[0m\n\u001b[1;37m         ^\u001b[0m\n\u001b[1;31mSyntaxError\u001b[0m\u001b[1;31m:\u001b[0m invalid syntax\n"
     ]
    }
   ],
   "source": [
    "last name = \"sharma\""
   ]
  },
  {
   "cell_type": "code",
   "execution_count": 12,
   "id": "0a847210-6cac-45c6-b3f6-ab8c96ba9b68",
   "metadata": {},
   "outputs": [],
   "source": [
    "last_name = \"sharma\""
   ]
  },
  {
   "cell_type": "code",
   "execution_count": 13,
   "id": "160c3d15-b345-453b-a766-99a5d9943b32",
   "metadata": {},
   "outputs": [
    {
     "ename": "SyntaxError",
     "evalue": "invalid syntax (1680704608.py, line 1)",
     "output_type": "error",
     "traceback": [
      "\u001b[1;36m  Cell \u001b[1;32mIn[13], line 1\u001b[1;36m\u001b[0m\n\u001b[1;33m    $student = True\u001b[0m\n\u001b[1;37m    ^\u001b[0m\n\u001b[1;31mSyntaxError\u001b[0m\u001b[1;31m:\u001b[0m invalid syntax\n"
     ]
    }
   ],
   "source": [
    "$student = True"
   ]
  },
  {
   "cell_type": "code",
   "execution_count": 14,
   "id": "0f6a7df7-4733-4854-a5ed-94a0753fa6c5",
   "metadata": {},
   "outputs": [
    {
     "ename": "SyntaxError",
     "evalue": "invalid syntax (3458382738.py, line 1)",
     "output_type": "error",
     "traceback": [
      "\u001b[1;36m  Cell \u001b[1;32mIn[14], line 1\u001b[1;36m\u001b[0m\n\u001b[1;33m    student$ = True\u001b[0m\n\u001b[1;37m           ^\u001b[0m\n\u001b[1;31mSyntaxError\u001b[0m\u001b[1;31m:\u001b[0m invalid syntax\n"
     ]
    }
   ],
   "source": [
    "student$ = True"
   ]
  },
  {
   "cell_type": "code",
   "execution_count": 15,
   "id": "cd43b0f5-e5e6-4cfa-9cbe-efe99f3748be",
   "metadata": {},
   "outputs": [],
   "source": [
    "a, b, c = 30, 20, 10"
   ]
  },
  {
   "cell_type": "code",
   "execution_count": 16,
   "id": "65761981-c4e9-45b4-9bb3-c40d3ac4ba78",
   "metadata": {},
   "outputs": [
    {
     "data": {
      "text/plain": [
       "30"
      ]
     },
     "execution_count": 16,
     "metadata": {},
     "output_type": "execute_result"
    }
   ],
   "source": [
    "a"
   ]
  },
  {
   "cell_type": "code",
   "execution_count": 17,
   "id": "9c30046b-c188-49fe-a354-985588489e22",
   "metadata": {},
   "outputs": [
    {
     "data": {
      "text/plain": [
       "20"
      ]
     },
     "execution_count": 17,
     "metadata": {},
     "output_type": "execute_result"
    }
   ],
   "source": [
    "b"
   ]
  },
  {
   "cell_type": "code",
   "execution_count": 18,
   "id": "e79e0f0d-d293-4ab2-9792-ffe8cefe84d8",
   "metadata": {},
   "outputs": [
    {
     "data": {
      "text/plain": [
       "10"
      ]
     },
     "execution_count": 18,
     "metadata": {},
     "output_type": "execute_result"
    }
   ],
   "source": [
    "c"
   ]
  },
  {
   "cell_type": "code",
   "execution_count": 19,
   "id": "a79d853d-ad53-4c07-9943-882b50181b59",
   "metadata": {},
   "outputs": [],
   "source": [
    "l1 = [10, 12, 20, 25, 56]"
   ]
  },
  {
   "cell_type": "code",
   "execution_count": 20,
   "id": "259940e1-09a8-48d9-b6cf-7eaeefc8af87",
   "metadata": {},
   "outputs": [],
   "source": [
    "v, w, x, y, z = l1"
   ]
  },
  {
   "cell_type": "code",
   "execution_count": 21,
   "id": "fe5ffdf9-7904-4dc9-804d-1a688b11890e",
   "metadata": {},
   "outputs": [
    {
     "data": {
      "text/plain": [
       "10"
      ]
     },
     "execution_count": 21,
     "metadata": {},
     "output_type": "execute_result"
    }
   ],
   "source": [
    "v"
   ]
  },
  {
   "cell_type": "code",
   "execution_count": 22,
   "id": "0d1b3075-cdad-48b5-aed3-9ddc414097b0",
   "metadata": {},
   "outputs": [
    {
     "data": {
      "text/plain": [
       "12"
      ]
     },
     "execution_count": 22,
     "metadata": {},
     "output_type": "execute_result"
    }
   ],
   "source": [
    "w"
   ]
  },
  {
   "cell_type": "markdown",
   "id": "fe9d009e-a362-42ce-8446-b1813ba32caa",
   "metadata": {},
   "source": [
    "## DataType Casting"
   ]
  },
  {
   "cell_type": "code",
   "execution_count": 23,
   "id": "3b6d2a91-6f95-481e-94ee-9c91ead2e2fb",
   "metadata": {},
   "outputs": [],
   "source": [
    "n = 76576"
   ]
  },
  {
   "cell_type": "code",
   "execution_count": 24,
   "id": "59d2de22-5b7d-47bf-a926-fc06db61b789",
   "metadata": {},
   "outputs": [
    {
     "data": {
      "text/plain": [
       "'76576'"
      ]
     },
     "execution_count": 24,
     "metadata": {},
     "output_type": "execute_result"
    }
   ],
   "source": [
    "str(n)"
   ]
  },
  {
   "cell_type": "code",
   "execution_count": 25,
   "id": "31edc1e9-8fc8-4fa5-994f-54173271d45d",
   "metadata": {},
   "outputs": [],
   "source": [
    "f = 76.90"
   ]
  },
  {
   "cell_type": "code",
   "execution_count": 26,
   "id": "18567ba5-cd70-4746-ba26-6960045c4af7",
   "metadata": {},
   "outputs": [
    {
     "data": {
      "text/plain": [
       "'76.9'"
      ]
     },
     "execution_count": 26,
     "metadata": {},
     "output_type": "execute_result"
    }
   ],
   "source": [
    "str(f)"
   ]
  },
  {
   "cell_type": "code",
   "execution_count": 27,
   "id": "0b5c0cf3-bbaf-46a2-ad28-6543856de8c3",
   "metadata": {},
   "outputs": [],
   "source": [
    "b = True"
   ]
  },
  {
   "cell_type": "code",
   "execution_count": 28,
   "id": "8f8b8617-8ea4-4ca0-af6d-65b5c59cf389",
   "metadata": {},
   "outputs": [
    {
     "data": {
      "text/plain": [
       "'True'"
      ]
     },
     "execution_count": 28,
     "metadata": {},
     "output_type": "execute_result"
    }
   ],
   "source": [
    "str(b)"
   ]
  },
  {
   "cell_type": "code",
   "execution_count": 29,
   "id": "2848fdc0-6a87-4482-9192-acd036c739cb",
   "metadata": {},
   "outputs": [
    {
     "ename": "TypeError",
     "evalue": "'int' object is not iterable",
     "output_type": "error",
     "traceback": [
      "\u001b[1;31m---------------------------------------------------------------------------\u001b[0m",
      "\u001b[1;31mTypeError\u001b[0m                                 Traceback (most recent call last)",
      "Cell \u001b[1;32mIn[29], line 1\u001b[0m\n\u001b[1;32m----> 1\u001b[0m \u001b[38;5;28mlist\u001b[39m(n)\n",
      "\u001b[1;31mTypeError\u001b[0m: 'int' object is not iterable"
     ]
    }
   ],
   "source": [
    "list(n)"
   ]
  },
  {
   "cell_type": "code",
   "execution_count": 31,
   "id": "f27500b8-3c7a-4a8e-9e55-7b15262cf5cc",
   "metadata": {},
   "outputs": [],
   "source": [
    "v1 = \"data science\""
   ]
  },
  {
   "cell_type": "code",
   "execution_count": 32,
   "id": "5d30f25a-1cb1-4d48-81d7-cef88695f740",
   "metadata": {},
   "outputs": [
    {
     "data": {
      "text/plain": [
       "'data science'"
      ]
     },
     "execution_count": 32,
     "metadata": {},
     "output_type": "execute_result"
    }
   ],
   "source": [
    "v1"
   ]
  },
  {
   "cell_type": "code",
   "execution_count": 33,
   "id": "1f07faca-758c-442b-8553-aad6de4358ce",
   "metadata": {},
   "outputs": [
    {
     "data": {
      "text/plain": [
       "['d', 'a', 't', 'a', ' ', 's', 'c', 'i', 'e', 'n', 'c', 'e']"
      ]
     },
     "execution_count": 33,
     "metadata": {},
     "output_type": "execute_result"
    }
   ],
   "source": [
    "list(v1)"
   ]
  },
  {
   "cell_type": "code",
   "execution_count": 34,
   "id": "0bc8e9bb-f40c-410b-8a79-87770ee5de48",
   "metadata": {},
   "outputs": [
    {
     "data": {
      "text/plain": [
       "('d', 'a', 't', 'a', ' ', 's', 'c', 'i', 'e', 'n', 'c', 'e')"
      ]
     },
     "execution_count": 34,
     "metadata": {},
     "output_type": "execute_result"
    }
   ],
   "source": [
    "tuple(v1)"
   ]
  },
  {
   "cell_type": "code",
   "execution_count": 63,
   "id": "59f557bf-6a9c-4ae4-8556-b2a0d7422592",
   "metadata": {},
   "outputs": [
    {
     "data": {
      "text/plain": [
       "'data science'"
      ]
     },
     "execution_count": 63,
     "metadata": {},
     "output_type": "execute_result"
    }
   ],
   "source": [
    "v1"
   ]
  },
  {
   "cell_type": "code",
   "execution_count": 37,
   "id": "796ad785-dbc2-4a77-b334-6a43d65c51b2",
   "metadata": {},
   "outputs": [
    {
     "data": {
      "text/plain": [
       "{' ', 'a', 'c', 'd', 'e', 'i', 'n', 's', 't'}"
      ]
     },
     "execution_count": 37,
     "metadata": {},
     "output_type": "execute_result"
    }
   ],
   "source": [
    "set(v1)"
   ]
  },
  {
   "cell_type": "code",
   "execution_count": 36,
   "id": "5f98edca-3519-4f64-a4b4-89146b54d479",
   "metadata": {},
   "outputs": [
    {
     "ename": "TypeError",
     "evalue": "cannot convert dictionary update sequence element #0 to a sequence",
     "output_type": "error",
     "traceback": [
      "\u001b[1;31m---------------------------------------------------------------------------\u001b[0m",
      "\u001b[1;31mTypeError\u001b[0m                                 Traceback (most recent call last)",
      "Cell \u001b[1;32mIn[36], line 1\u001b[0m\n\u001b[1;32m----> 1\u001b[0m \u001b[38;5;28mdict\u001b[39m(l1)\n",
      "\u001b[1;31mTypeError\u001b[0m: cannot convert dictionary update sequence element #0 to a sequence"
     ]
    }
   ],
   "source": [
    "dict(l1)"
   ]
  },
  {
   "cell_type": "code",
   "execution_count": 38,
   "id": "ce54c6be-d4ac-4d37-94d0-caee6880c7f5",
   "metadata": {},
   "outputs": [
    {
     "data": {
      "text/plain": [
       "'data science'"
      ]
     },
     "execution_count": 38,
     "metadata": {},
     "output_type": "execute_result"
    }
   ],
   "source": [
    "v1"
   ]
  },
  {
   "cell_type": "code",
   "execution_count": 39,
   "id": "ec0003e0-3a4f-46c2-96be-d826dfa23989",
   "metadata": {},
   "outputs": [
    {
     "ename": "ValueError",
     "evalue": "invalid literal for int() with base 10: 'data science'",
     "output_type": "error",
     "traceback": [
      "\u001b[1;31m---------------------------------------------------------------------------\u001b[0m",
      "\u001b[1;31mValueError\u001b[0m                                Traceback (most recent call last)",
      "Cell \u001b[1;32mIn[39], line 1\u001b[0m\n\u001b[1;32m----> 1\u001b[0m \u001b[38;5;28mint\u001b[39m(v1)\n",
      "\u001b[1;31mValueError\u001b[0m: invalid literal for int() with base 10: 'data science'"
     ]
    }
   ],
   "source": [
    "int(v1)"
   ]
  },
  {
   "cell_type": "code",
   "execution_count": 40,
   "id": "c216665c-b117-4376-a1bb-0ac8d6073dc9",
   "metadata": {},
   "outputs": [
    {
     "data": {
      "text/plain": [
       "'8767'"
      ]
     },
     "execution_count": 40,
     "metadata": {},
     "output_type": "execute_result"
    }
   ],
   "source": [
    "str(8767)"
   ]
  },
  {
   "cell_type": "code",
   "execution_count": 41,
   "id": "2597fdfe-699b-47b1-b9f0-29092cf323c3",
   "metadata": {},
   "outputs": [
    {
     "data": {
      "text/plain": [
       "[10, 12, 20, 25, 56]"
      ]
     },
     "execution_count": 41,
     "metadata": {},
     "output_type": "execute_result"
    }
   ],
   "source": [
    "l1"
   ]
  },
  {
   "cell_type": "code",
   "execution_count": 42,
   "id": "280035ab-7e32-4be1-adfd-3c01f8487ca3",
   "metadata": {},
   "outputs": [
    {
     "data": {
      "text/plain": [
       "(10, 12, 20, 25, 56)"
      ]
     },
     "execution_count": 42,
     "metadata": {},
     "output_type": "execute_result"
    }
   ],
   "source": [
    "tuple(l1)"
   ]
  },
  {
   "cell_type": "code",
   "execution_count": 43,
   "id": "9edbf3a1-e477-4d1a-9b7a-427d90c02e6a",
   "metadata": {},
   "outputs": [
    {
     "data": {
      "text/plain": [
       "{10, 12, 20, 25, 56}"
      ]
     },
     "execution_count": 43,
     "metadata": {},
     "output_type": "execute_result"
    }
   ],
   "source": [
    "set(l1)"
   ]
  },
  {
   "cell_type": "code",
   "execution_count": 44,
   "id": "c7bacc85-542e-4fcf-aa2a-7fef141ed2dd",
   "metadata": {},
   "outputs": [
    {
     "ename": "TypeError",
     "evalue": "cannot convert dictionary update sequence element #0 to a sequence",
     "output_type": "error",
     "traceback": [
      "\u001b[1;31m---------------------------------------------------------------------------\u001b[0m",
      "\u001b[1;31mTypeError\u001b[0m                                 Traceback (most recent call last)",
      "Cell \u001b[1;32mIn[44], line 1\u001b[0m\n\u001b[1;32m----> 1\u001b[0m \u001b[38;5;28mdict\u001b[39m(l1)\n",
      "\u001b[1;31mTypeError\u001b[0m: cannot convert dictionary update sequence element #0 to a sequence"
     ]
    }
   ],
   "source": [
    "dict(l1)"
   ]
  },
  {
   "cell_type": "code",
   "execution_count": 45,
   "id": "844c9c6d-ee2c-4e91-8823-620bac42cbea",
   "metadata": {},
   "outputs": [],
   "source": [
    "d1 = {1:\"monday\", 2: \"tue\", 3:\"wed\", 4:\"thur\" }"
   ]
  },
  {
   "cell_type": "code",
   "execution_count": 46,
   "id": "1719bc25-55b9-42b7-a561-db6c72660c7a",
   "metadata": {},
   "outputs": [
    {
     "data": {
      "text/plain": [
       "{1: 'monday', 2: 'tue', 3: 'wed', 4: 'thur'}"
      ]
     },
     "execution_count": 46,
     "metadata": {},
     "output_type": "execute_result"
    }
   ],
   "source": [
    "d1"
   ]
  },
  {
   "cell_type": "code",
   "execution_count": 47,
   "id": "4a63d36d-4ab3-4c9d-b083-cd7df41fc3f2",
   "metadata": {},
   "outputs": [
    {
     "data": {
      "text/plain": [
       "\"{1: 'monday', 2: 'tue', 3: 'wed', 4: 'thur'}\""
      ]
     },
     "execution_count": 47,
     "metadata": {},
     "output_type": "execute_result"
    }
   ],
   "source": [
    "str(d1)"
   ]
  },
  {
   "cell_type": "code",
   "execution_count": 48,
   "id": "76bf2ffa-bca5-4bad-b961-219c2b12bffd",
   "metadata": {},
   "outputs": [
    {
     "data": {
      "text/plain": [
       "[1, 2, 3, 4]"
      ]
     },
     "execution_count": 48,
     "metadata": {},
     "output_type": "execute_result"
    }
   ],
   "source": [
    "list(d1)"
   ]
  },
  {
   "cell_type": "code",
   "execution_count": 49,
   "id": "bcfc61c1-2285-45ae-8834-9756dccbc2db",
   "metadata": {},
   "outputs": [
    {
     "data": {
      "text/plain": [
       "(1, 2, 3, 4)"
      ]
     },
     "execution_count": 49,
     "metadata": {},
     "output_type": "execute_result"
    }
   ],
   "source": [
    "tuple(d1)"
   ]
  },
  {
   "cell_type": "code",
   "execution_count": 50,
   "id": "01dc0d27-baee-45e8-8626-3375dd0fd567",
   "metadata": {},
   "outputs": [
    {
     "data": {
      "text/plain": [
       "{1, 2, 3, 4}"
      ]
     },
     "execution_count": 50,
     "metadata": {},
     "output_type": "execute_result"
    }
   ],
   "source": [
    "set(d1)"
   ]
  },
  {
   "cell_type": "code",
   "execution_count": 53,
   "id": "b594ba0b-c9ee-4eeb-ac3a-4a4f42b62f3e",
   "metadata": {},
   "outputs": [
    {
     "data": {
      "text/plain": [
       "list"
      ]
     },
     "execution_count": 53,
     "metadata": {},
     "output_type": "execute_result"
    }
   ],
   "source": [
    "type(l1)"
   ]
  },
  {
   "cell_type": "code",
   "execution_count": 54,
   "id": "204d1f69-94a0-4564-8c27-d62c9d4a4214",
   "metadata": {},
   "outputs": [
    {
     "data": {
      "text/plain": [
       "int"
      ]
     },
     "execution_count": 54,
     "metadata": {},
     "output_type": "execute_result"
    }
   ],
   "source": [
    "type(n )"
   ]
  },
  {
   "cell_type": "code",
   "execution_count": 56,
   "id": "ce93c2c1-b1c0-4158-81e7-dad1499c5a2e",
   "metadata": {},
   "outputs": [
    {
     "data": {
      "text/plain": [
       "[10, 12, 20, 25, 56]"
      ]
     },
     "execution_count": 56,
     "metadata": {},
     "output_type": "execute_result"
    }
   ],
   "source": [
    "l1"
   ]
  },
  {
   "cell_type": "code",
   "execution_count": 60,
   "id": "19a24a84-407b-459c-8de0-9df6b3909230",
   "metadata": {},
   "outputs": [
    {
     "ename": "IndexError",
     "evalue": "list index out of range",
     "output_type": "error",
     "traceback": [
      "\u001b[1;31m---------------------------------------------------------------------------\u001b[0m",
      "\u001b[1;31mIndexError\u001b[0m                                Traceback (most recent call last)",
      "Cell \u001b[1;32mIn[60], line 1\u001b[0m\n\u001b[1;32m----> 1\u001b[0m l1[\u001b[38;5;241m6\u001b[39m]\n",
      "\u001b[1;31mIndexError\u001b[0m: list index out of range"
     ]
    }
   ],
   "source": [
    "l1[6]"
   ]
  },
  {
   "cell_type": "code",
   "execution_count": 61,
   "id": "67f00e13-2a04-4629-8062-f03512a92c93",
   "metadata": {},
   "outputs": [
    {
     "data": {
      "text/plain": [
       "76576"
      ]
     },
     "execution_count": 61,
     "metadata": {},
     "output_type": "execute_result"
    }
   ],
   "source": [
    "n"
   ]
  },
  {
   "cell_type": "code",
   "execution_count": 62,
   "id": "3f98bc47-b2af-4017-99fa-8f49cb810c04",
   "metadata": {},
   "outputs": [
    {
     "ename": "TypeError",
     "evalue": "'int' object is not subscriptable",
     "output_type": "error",
     "traceback": [
      "\u001b[1;31m---------------------------------------------------------------------------\u001b[0m",
      "\u001b[1;31mTypeError\u001b[0m                                 Traceback (most recent call last)",
      "Cell \u001b[1;32mIn[62], line 1\u001b[0m\n\u001b[1;32m----> 1\u001b[0m n[\u001b[38;5;241m0\u001b[39m]\n",
      "\u001b[1;31mTypeError\u001b[0m: 'int' object is not subscriptable"
     ]
    }
   ],
   "source": [
    "n[0]"
   ]
  },
  {
   "cell_type": "markdown",
   "id": "52e4c15b-a813-4a21-8048-4cc9dfa4b11b",
   "metadata": {},
   "source": [
    "## Built-in"
   ]
  },
  {
   "cell_type": "code",
   "execution_count": 64,
   "id": "30bc754c-7e5b-4351-8c05-217ada392897",
   "metadata": {},
   "outputs": [
    {
     "name": "stdout",
     "output_type": "stream",
     "text": [
      "565 True data science [10, 12, 20, 25, 56]\n"
     ]
    }
   ],
   "source": [
    "print(565, True, v1, l1)"
   ]
  },
  {
   "cell_type": "code",
   "execution_count": 66,
   "id": "80ec3da5-f1af-4c17-aee0-234c97f5183f",
   "metadata": {},
   "outputs": [
    {
     "name": "stdin",
     "output_type": "stream",
     "text": [
      " 786\n"
     ]
    }
   ],
   "source": [
    "n1 = input()"
   ]
  },
  {
   "cell_type": "code",
   "execution_count": 67,
   "id": "d6369544-bb72-47fc-87ba-52391d14bab1",
   "metadata": {},
   "outputs": [
    {
     "data": {
      "text/plain": [
       "'786'"
      ]
     },
     "execution_count": 67,
     "metadata": {},
     "output_type": "execute_result"
    }
   ],
   "source": [
    "n1"
   ]
  },
  {
   "cell_type": "code",
   "execution_count": 68,
   "id": "3073e9e6-5cd8-4b7f-b43b-779c068577d4",
   "metadata": {},
   "outputs": [
    {
     "data": {
      "text/plain": [
       "list"
      ]
     },
     "execution_count": 68,
     "metadata": {},
     "output_type": "execute_result"
    }
   ],
   "source": [
    "type(l1)"
   ]
  },
  {
   "cell_type": "code",
   "execution_count": 69,
   "id": "b5c40659-cd25-465d-827f-cd86d5387d9e",
   "metadata": {},
   "outputs": [
    {
     "data": {
      "text/plain": [
       "[10, 12, 20, 25, 56]"
      ]
     },
     "execution_count": 69,
     "metadata": {},
     "output_type": "execute_result"
    }
   ],
   "source": [
    "l1"
   ]
  },
  {
   "cell_type": "code",
   "execution_count": 70,
   "id": "9d21dc29-a972-4a4e-bdc8-bf016ad3aff7",
   "metadata": {},
   "outputs": [
    {
     "ename": "TypeError",
     "evalue": "type() takes 1 or 3 arguments",
     "output_type": "error",
     "traceback": [
      "\u001b[1;31m---------------------------------------------------------------------------\u001b[0m",
      "\u001b[1;31mTypeError\u001b[0m                                 Traceback (most recent call last)",
      "Cell \u001b[1;32mIn[70], line 1\u001b[0m\n\u001b[1;32m----> 1\u001b[0m \u001b[38;5;28mtype\u001b[39m(l1, v1)\n",
      "\u001b[1;31mTypeError\u001b[0m: type() takes 1 or 3 arguments"
     ]
    }
   ],
   "source": [
    "type(l1, v1)"
   ]
  },
  {
   "cell_type": "code",
   "execution_count": 71,
   "id": "515be3cf-d671-46e8-b227-05c584db7ace",
   "metadata": {},
   "outputs": [
    {
     "data": {
      "text/plain": [
       "5"
      ]
     },
     "execution_count": 71,
     "metadata": {},
     "output_type": "execute_result"
    }
   ],
   "source": [
    "len(l1)"
   ]
  },
  {
   "cell_type": "code",
   "execution_count": 72,
   "id": "eeaefe2c-6031-49c5-bce4-dc4c4866dffa",
   "metadata": {},
   "outputs": [
    {
     "data": {
      "text/plain": [
       "'data science'"
      ]
     },
     "execution_count": 72,
     "metadata": {},
     "output_type": "execute_result"
    }
   ],
   "source": [
    "v1"
   ]
  },
  {
   "cell_type": "code",
   "execution_count": 73,
   "id": "9ba7bfff-67ce-4c00-934f-7c5dc800ac58",
   "metadata": {},
   "outputs": [
    {
     "data": {
      "text/plain": [
       "12"
      ]
     },
     "execution_count": 73,
     "metadata": {},
     "output_type": "execute_result"
    }
   ],
   "source": [
    "len(v1)"
   ]
  },
  {
   "cell_type": "code",
   "execution_count": 74,
   "id": "03c577cc-77d6-490c-a578-503f6b57ff26",
   "metadata": {},
   "outputs": [],
   "source": [
    "blank_str = \"     \""
   ]
  },
  {
   "cell_type": "code",
   "execution_count": 75,
   "id": "88288955-bab8-4e60-ac1b-e5bdb6b3b1e1",
   "metadata": {},
   "outputs": [
    {
     "data": {
      "text/plain": [
       "5"
      ]
     },
     "execution_count": 75,
     "metadata": {},
     "output_type": "execute_result"
    }
   ],
   "source": [
    "len(blank_str)"
   ]
  },
  {
   "cell_type": "code",
   "execution_count": 76,
   "id": "9fccd31d-d767-4ce2-b543-d30db6eb5fd7",
   "metadata": {},
   "outputs": [
    {
     "data": {
      "text/plain": [
       "76576"
      ]
     },
     "execution_count": 76,
     "metadata": {},
     "output_type": "execute_result"
    }
   ],
   "source": [
    "n"
   ]
  },
  {
   "cell_type": "code",
   "execution_count": 77,
   "id": "2d959671-beb8-45e9-abf3-598c07e2073b",
   "metadata": {},
   "outputs": [
    {
     "ename": "TypeError",
     "evalue": "object of type 'int' has no len()",
     "output_type": "error",
     "traceback": [
      "\u001b[1;31m---------------------------------------------------------------------------\u001b[0m",
      "\u001b[1;31mTypeError\u001b[0m                                 Traceback (most recent call last)",
      "Cell \u001b[1;32mIn[77], line 1\u001b[0m\n\u001b[1;32m----> 1\u001b[0m \u001b[38;5;28mlen\u001b[39m(n)\n",
      "\u001b[1;31mTypeError\u001b[0m: object of type 'int' has no len()"
     ]
    }
   ],
   "source": [
    "len(n)"
   ]
  },
  {
   "cell_type": "code",
   "execution_count": 78,
   "id": "879f7964-8924-4744-9444-19d6ce520bb7",
   "metadata": {},
   "outputs": [
    {
     "ename": "TypeError",
     "evalue": "object of type 'bool' has no len()",
     "output_type": "error",
     "traceback": [
      "\u001b[1;31m---------------------------------------------------------------------------\u001b[0m",
      "\u001b[1;31mTypeError\u001b[0m                                 Traceback (most recent call last)",
      "Cell \u001b[1;32mIn[78], line 1\u001b[0m\n\u001b[1;32m----> 1\u001b[0m \u001b[38;5;28mlen\u001b[39m(\u001b[38;5;28;01mTrue\u001b[39;00m)\n",
      "\u001b[1;31mTypeError\u001b[0m: object of type 'bool' has no len()"
     ]
    }
   ],
   "source": [
    "len(True)"
   ]
  },
  {
   "cell_type": "code",
   "execution_count": 79,
   "id": "f97a2e4a-2698-44ff-87dd-86ba30642936",
   "metadata": {},
   "outputs": [
    {
     "ename": "TypeError",
     "evalue": "object of type 'complex' has no len()",
     "output_type": "error",
     "traceback": [
      "\u001b[1;31m---------------------------------------------------------------------------\u001b[0m",
      "\u001b[1;31mTypeError\u001b[0m                                 Traceback (most recent call last)",
      "Cell \u001b[1;32mIn[79], line 1\u001b[0m\n\u001b[1;32m----> 1\u001b[0m \u001b[38;5;28mlen\u001b[39m(\u001b[38;5;241m46\u001b[39m\u001b[38;5;241m+\u001b[39m\u001b[38;5;241m8\u001b[39mj)\n",
      "\u001b[1;31mTypeError\u001b[0m: object of type 'complex' has no len()"
     ]
    }
   ],
   "source": [
    "len(46+8j)"
   ]
  },
  {
   "cell_type": "code",
   "execution_count": 80,
   "id": "ea21fc40-3ad1-4783-867c-beda32e1f37f",
   "metadata": {},
   "outputs": [
    {
     "ename": "TypeError",
     "evalue": "object of type 'float' has no len()",
     "output_type": "error",
     "traceback": [
      "\u001b[1;31m---------------------------------------------------------------------------\u001b[0m",
      "\u001b[1;31mTypeError\u001b[0m                                 Traceback (most recent call last)",
      "Cell \u001b[1;32mIn[80], line 1\u001b[0m\n\u001b[1;32m----> 1\u001b[0m \u001b[38;5;28mlen\u001b[39m(\u001b[38;5;241m56.60\u001b[39m)\n",
      "\u001b[1;31mTypeError\u001b[0m: object of type 'float' has no len()"
     ]
    }
   ],
   "source": [
    "len(56.60)"
   ]
  },
  {
   "cell_type": "code",
   "execution_count": 81,
   "id": "71efb28e-d3c2-43b3-8a63-a155e22aeb93",
   "metadata": {},
   "outputs": [
    {
     "data": {
      "text/plain": [
       "{1: 'monday', 2: 'tue', 3: 'wed', 4: 'thur'}"
      ]
     },
     "execution_count": 81,
     "metadata": {},
     "output_type": "execute_result"
    }
   ],
   "source": [
    "d1"
   ]
  },
  {
   "cell_type": "code",
   "execution_count": 82,
   "id": "a2217618-c7f2-4b0b-86cf-bee042f97510",
   "metadata": {},
   "outputs": [
    {
     "data": {
      "text/plain": [
       "4"
      ]
     },
     "execution_count": 82,
     "metadata": {},
     "output_type": "execute_result"
    }
   ],
   "source": [
    "len(d1)"
   ]
  },
  {
   "cell_type": "code",
   "execution_count": null,
   "id": "07e71579-3659-419b-ad1a-a90259a13487",
   "metadata": {},
   "outputs": [],
   "source": [
    "[2, 3, 4, 5]\n",
    "{1: 'monday', 2: 'tue', 3: 'wed', 4: 'thur'}\n",
    "8567487648"
   ]
  },
  {
   "cell_type": "code",
   "execution_count": null,
   "id": "85a20e3a-d93c-4186-b4d7-2a6d4fdeca56",
   "metadata": {},
   "outputs": [],
   "source": [
    "int, float, Bool, Complex "
   ]
  },
  {
   "cell_type": "code",
   "execution_count": null,
   "id": "e553c545-6ded-4575-bd03-500ad5ccd3c1",
   "metadata": {},
   "outputs": [],
   "source": [
    "str, list, tuple, set, dict - collection"
   ]
  }
 ],
 "metadata": {
  "kernelspec": {
   "display_name": "Python 3 (ipykernel)",
   "language": "python",
   "name": "python3"
  },
  "language_info": {
   "codemirror_mode": {
    "name": "ipython",
    "version": 3
   },
   "file_extension": ".py",
   "mimetype": "text/x-python",
   "name": "python",
   "nbconvert_exporter": "python",
   "pygments_lexer": "ipython3",
   "version": "3.11.7"
  }
 },
 "nbformat": 4,
 "nbformat_minor": 5
}
