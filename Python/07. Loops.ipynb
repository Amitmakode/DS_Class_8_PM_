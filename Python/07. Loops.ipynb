{
 "cells": [
  {
   "cell_type": "markdown",
   "id": "c3104101-b225-4b9c-9187-654fc8a4974e",
   "metadata": {},
   "source": [
    "### Loops"
   ]
  },
  {
   "cell_type": "raw",
   "id": "01e8ae74-b4c6-4ae9-80f8-6acdc5ea054a",
   "metadata": {},
   "source": [
    "for\n",
    "while"
   ]
  },
  {
   "cell_type": "code",
   "execution_count": 1,
   "id": "8cfb5b6e-cf0c-4ff1-ae33-bd043968858b",
   "metadata": {},
   "outputs": [],
   "source": [
    "var = \"science\""
   ]
  },
  {
   "cell_type": "code",
   "execution_count": 2,
   "id": "5e071cac-59cb-4f69-a000-3965493cc7d6",
   "metadata": {},
   "outputs": [
    {
     "name": "stdout",
     "output_type": "stream",
     "text": [
      "s\n",
      "c\n",
      "i\n",
      "e\n",
      "n\n",
      "c\n",
      "e\n"
     ]
    }
   ],
   "source": [
    "for i in var:\n",
    "    print(i)"
   ]
  },
  {
   "cell_type": "code",
   "execution_count": 3,
   "id": "05843941-c8a7-49de-8cc5-d2a8b172b731",
   "metadata": {},
   "outputs": [],
   "source": [
    "l1 = [23,1,2,3,5,5,8]"
   ]
  },
  {
   "cell_type": "code",
   "execution_count": 4,
   "id": "2252f037-77f1-49ee-8e9c-a3398494020c",
   "metadata": {},
   "outputs": [
    {
     "name": "stdout",
     "output_type": "stream",
     "text": [
      "23\n",
      "1\n",
      "2\n",
      "3\n",
      "5\n",
      "5\n",
      "8\n"
     ]
    }
   ],
   "source": [
    "for i in l1:\n",
    "    print(i)"
   ]
  },
  {
   "cell_type": "code",
   "execution_count": 5,
   "id": "4ee163a1-2208-45cf-bef4-770b56da3c09",
   "metadata": {},
   "outputs": [
    {
     "ename": "TypeError",
     "evalue": "'int' object is not iterable",
     "output_type": "error",
     "traceback": [
      "\u001b[1;31m---------------------------------------------------------------------------\u001b[0m",
      "\u001b[1;31mTypeError\u001b[0m                                 Traceback (most recent call last)",
      "Cell \u001b[1;32mIn[5], line 1\u001b[0m\n\u001b[1;32m----> 1\u001b[0m \u001b[38;5;28;01mfor\u001b[39;00m i \u001b[38;5;129;01min\u001b[39;00m \u001b[38;5;241m87667\u001b[39m:\n\u001b[0;32m      2\u001b[0m     \u001b[38;5;28mprint\u001b[39m(i)\n",
      "\u001b[1;31mTypeError\u001b[0m: 'int' object is not iterable"
     ]
    }
   ],
   "source": [
    "for i in 87667:\n",
    "    print(i)"
   ]
  },
  {
   "cell_type": "code",
   "execution_count": 6,
   "id": "42d4b7bd-aae8-4494-a6cb-8f598fc35134",
   "metadata": {},
   "outputs": [
    {
     "name": "stdout",
     "output_type": "stream",
     "text": [
      "8\n",
      "7\n",
      "6\n",
      "6\n",
      "7\n"
     ]
    }
   ],
   "source": [
    "for i in \"87667\":\n",
    "    print(i)"
   ]
  },
  {
   "cell_type": "code",
   "execution_count": 7,
   "id": "2c4a50d2-22db-4add-99f2-ff293f2dd1e8",
   "metadata": {},
   "outputs": [
    {
     "name": "stdout",
     "output_type": "stream",
     "text": [
      "0\n",
      "1\n",
      "2\n",
      "3\n",
      "4\n"
     ]
    }
   ],
   "source": [
    "for i in range(5):\n",
    "    print(i)"
   ]
  },
  {
   "cell_type": "code",
   "execution_count": 8,
   "id": "edd9e36c-68d9-42d5-8056-e23143238f61",
   "metadata": {},
   "outputs": [
    {
     "name": "stdout",
     "output_type": "stream",
     "text": [
      "0\n",
      "1\n",
      "2\n",
      "3\n",
      "4\n"
     ]
    }
   ],
   "source": [
    "a = 0\n",
    "\n",
    "while a < 5:\n",
    "    print(a)\n",
    "    a = a+1"
   ]
  },
  {
   "cell_type": "code",
   "execution_count": 9,
   "id": "bf063ba9-6bd4-4232-b28f-81a3104d9cd6",
   "metadata": {},
   "outputs": [
    {
     "name": "stdin",
     "output_type": "stream",
     "text": [
      " amit\n"
     ]
    },
    {
     "name": "stdout",
     "output_type": "stream",
     "text": [
      "amit\n"
     ]
    },
    {
     "name": "stdin",
     "output_type": "stream",
     "text": [
      " python\n"
     ]
    },
    {
     "name": "stdout",
     "output_type": "stream",
     "text": [
      "python\n"
     ]
    },
    {
     "name": "stdin",
     "output_type": "stream",
     "text": [
      " c++\n"
     ]
    },
    {
     "name": "stdout",
     "output_type": "stream",
     "text": [
      "c++\n"
     ]
    },
    {
     "name": "stdin",
     "output_type": "stream",
     "text": [
      " java\n"
     ]
    },
    {
     "name": "stdout",
     "output_type": "stream",
     "text": [
      "java\n"
     ]
    },
    {
     "name": "stdin",
     "output_type": "stream",
     "text": [
      " quit\n"
     ]
    },
    {
     "name": "stdout",
     "output_type": "stream",
     "text": [
      "quit\n"
     ]
    }
   ],
   "source": [
    "st = \"\"\n",
    "\n",
    "while st != \"quit\":\n",
    "    st = input()\n",
    "    print(st)"
   ]
  },
  {
   "cell_type": "code",
   "execution_count": 10,
   "id": "82303411-3625-4cbe-81ba-29a516dc9e80",
   "metadata": {},
   "outputs": [
    {
     "data": {
      "text/plain": [
       "[23, 1, 2, 3, 5, 5, 8]"
      ]
     },
     "execution_count": 10,
     "metadata": {},
     "output_type": "execute_result"
    }
   ],
   "source": [
    "l1"
   ]
  },
  {
   "cell_type": "code",
   "execution_count": 11,
   "id": "a80b6330-bb31-4c50-8c91-43abdb276ba3",
   "metadata": {},
   "outputs": [
    {
     "name": "stdout",
     "output_type": "stream",
     "text": [
      "0 -- 23\n",
      "1 -- 1\n",
      "2 -- 2\n",
      "3 -- 3\n",
      "4 -- 5\n",
      "5 -- 5\n",
      "6 -- 8\n"
     ]
    }
   ],
   "source": [
    "for i, j in enumerate(l1):\n",
    "    print(i, \"--\", j)"
   ]
  },
  {
   "cell_type": "code",
   "execution_count": 12,
   "id": "1045ebf6-6327-4f78-a9fd-7485d8ca2af9",
   "metadata": {},
   "outputs": [
    {
     "data": {
      "text/plain": [
       "'science'"
      ]
     },
     "execution_count": 12,
     "metadata": {},
     "output_type": "execute_result"
    }
   ],
   "source": [
    "var"
   ]
  },
  {
   "cell_type": "code",
   "execution_count": 14,
   "id": "1cf96995-35d0-488c-bc07-24658f3159a0",
   "metadata": {},
   "outputs": [
    {
     "name": "stdout",
     "output_type": "stream",
     "text": [
      "0 -- s\n",
      "1 -- c\n",
      "2 -- i\n",
      "3 -- e\n",
      "4 -- n\n",
      "5 -- c\n",
      "6 -- e\n"
     ]
    }
   ],
   "source": [
    "for i, j in enumerate(var):\n",
    "    print(i, \"--\", j)"
   ]
  },
  {
   "cell_type": "code",
   "execution_count": 17,
   "id": "5dc71278-6f80-44ea-ab32-5187e5bf4934",
   "metadata": {},
   "outputs": [],
   "source": [
    "l2 = list(enumerate(var))"
   ]
  },
  {
   "cell_type": "code",
   "execution_count": 18,
   "id": "f4c305a2-20c3-49b2-be79-38df9879c6b5",
   "metadata": {},
   "outputs": [
    {
     "data": {
      "text/plain": [
       "[(0, 's'), (1, 'c'), (2, 'i'), (3, 'e'), (4, 'n'), (5, 'c'), (6, 'e')]"
      ]
     },
     "execution_count": 18,
     "metadata": {},
     "output_type": "execute_result"
    }
   ],
   "source": [
    "l2"
   ]
  },
  {
   "cell_type": "code",
   "execution_count": 20,
   "id": "6278d81f-11f3-4c6e-a482-e8d8c5d3738a",
   "metadata": {},
   "outputs": [
    {
     "name": "stdout",
     "output_type": "stream",
     "text": [
      "0   s\n",
      "1   c\n",
      "2   i\n",
      "3   e\n",
      "4   n\n",
      "5   c\n",
      "6   e\n"
     ]
    }
   ],
   "source": [
    "for i, j in l2:\n",
    "    print(i, \" \", j)"
   ]
  },
  {
   "cell_type": "code",
   "execution_count": null,
   "id": "1a993e21-af80-4940-9df2-9acaf3d97df3",
   "metadata": {},
   "outputs": [],
   "source": [
    "range(6)"
   ]
  },
  {
   "cell_type": "code",
   "execution_count": 25,
   "id": "ff7dd5c5-eab5-4b9f-855d-4a31d837e66d",
   "metadata": {},
   "outputs": [
    {
     "name": "stdout",
     "output_type": "stream",
     "text": [
      "0 - 0\n",
      "1 - 2\n",
      "4 - 4\n",
      "9 - 6\n",
      "16 - 8\n",
      "25 - 10\n"
     ]
    }
   ],
   "source": [
    "for i in range(6):\n",
    "    print(i**2, \"-\", i*2)"
   ]
  },
  {
   "cell_type": "code",
   "execution_count": 29,
   "id": "f62672b9-b7e5-4b25-8084-1d622445d1f7",
   "metadata": {},
   "outputs": [
    {
     "name": "stdout",
     "output_type": "stream",
     "text": [
      "6\n",
      "5\n",
      "4\n",
      "3\n",
      "2\n",
      "1\n"
     ]
    }
   ],
   "source": [
    "for i in range(6, 0,-1):\n",
    "    print(i)"
   ]
  },
  {
   "cell_type": "code",
   "execution_count": 30,
   "id": "69c83ee2-3f11-4988-99fa-bb99fa78d2f9",
   "metadata": {},
   "outputs": [],
   "source": [
    "fruits = [ \"Apple\", \"Banana\", \"Mango\", \"Orange\", \"Grapes\", \n",
    "    \"Pineapple\", \"Watermelon\", \"Papaya\", \"Guava\", \"Pomegranate\",\n",
    "    \"Lemon\", \"Lime\", \"Sweet Lime\", \"Grapefruit\", \"Peach\"]"
   ]
  },
  {
   "cell_type": "code",
   "execution_count": 31,
   "id": "9603109a-4d5e-4e06-a38e-278402b7acf4",
   "metadata": {},
   "outputs": [
    {
     "name": "stdout",
     "output_type": "stream",
     "text": [
      "Papaya\n"
     ]
    }
   ],
   "source": [
    "for i in fruits:\n",
    "    if i == \"Papaya\":\n",
    "        print(\"Papaya\")"
   ]
  },
  {
   "cell_type": "code",
   "execution_count": 33,
   "id": "98411453-1073-45df-aa21-2df893414e0b",
   "metadata": {},
   "outputs": [],
   "source": [
    "fruits1 = [ \"Apple\",4,6,7, \"Banana\",1,4, \"Mango\", \"Orange\", 5,6, 8,\"Grapes\", ]"
   ]
  },
  {
   "cell_type": "code",
   "execution_count": 34,
   "id": "54e745d5-4792-4386-a399-b09aec31bd05",
   "metadata": {},
   "outputs": [
    {
     "name": "stdout",
     "output_type": "stream",
     "text": [
      "[4, 6, 7, 1, 4, 5, 6, 8]\n"
     ]
    }
   ],
   "source": [
    "int_list = []\n",
    "for i in fruits1:\n",
    "    if type(i)==int:\n",
    "        int_list.append(i)\n",
    "\n",
    "\n",
    "print(int_list)"
   ]
  },
  {
   "cell_type": "code",
   "execution_count": 35,
   "id": "6e070d75-b3a9-448d-b808-84e15becfd6f",
   "metadata": {},
   "outputs": [],
   "source": [
    "f1 = []\n",
    "\n",
    "for i in fruits1:\n",
    "    if type(i)==str:\n",
    "        f1.append(i)"
   ]
  },
  {
   "cell_type": "code",
   "execution_count": 36,
   "id": "2697873d-1bd5-4664-a540-472409bfc40e",
   "metadata": {},
   "outputs": [
    {
     "data": {
      "text/plain": [
       "['Apple', 'Banana', 'Mango', 'Orange', 'Grapes']"
      ]
     },
     "execution_count": 36,
     "metadata": {},
     "output_type": "execute_result"
    }
   ],
   "source": [
    "f1"
   ]
  },
  {
   "cell_type": "code",
   "execution_count": 38,
   "id": "82f71af9-78f4-451b-8002-eb4895ddeefb",
   "metadata": {},
   "outputs": [],
   "source": [
    "for i in fruits1:\n",
    "    pass"
   ]
  },
  {
   "cell_type": "code",
   "execution_count": 39,
   "id": "5c44db89-75a1-4a61-b70c-04d5f8a1cc41",
   "metadata": {},
   "outputs": [
    {
     "name": "stdout",
     "output_type": "stream",
     "text": [
      "Apple\n",
      "4\n",
      "6\n",
      "7\n",
      "Banana\n",
      "1\n",
      "4\n",
      "Mango\n",
      "Orange\n",
      "5\n",
      "6\n",
      "8\n",
      "Grapes\n"
     ]
    }
   ],
   "source": [
    "for i in fruits1:\n",
    "    if i==1:\n",
    "        pass\n",
    "    print(i)    "
   ]
  },
  {
   "cell_type": "code",
   "execution_count": 40,
   "id": "d423ef67-5865-421e-b557-b4b52e6a98ff",
   "metadata": {},
   "outputs": [
    {
     "name": "stdout",
     "output_type": "stream",
     "text": [
      "Apple\n",
      "4\n",
      "6\n",
      "7\n",
      "Banana\n"
     ]
    }
   ],
   "source": [
    "for i in fruits1:\n",
    "    if i==1:\n",
    "        break\n",
    "    print(i)  "
   ]
  },
  {
   "cell_type": "code",
   "execution_count": 42,
   "id": "518d25eb-6e5c-42cd-95f5-f76436f1ece1",
   "metadata": {},
   "outputs": [
    {
     "data": {
      "text/plain": [
       "['Apple', 4, 6, 7, 'Banana', 1, 4, 'Mango', 'Orange', 5, 6, 8, 'Grapes']"
      ]
     },
     "execution_count": 42,
     "metadata": {},
     "output_type": "execute_result"
    }
   ],
   "source": [
    "fruits1"
   ]
  },
  {
   "cell_type": "code",
   "execution_count": 43,
   "id": "4c7a5a53-a777-42ce-8f14-121c83aa9357",
   "metadata": {},
   "outputs": [
    {
     "name": "stdout",
     "output_type": "stream",
     "text": [
      "Apple\n",
      "6\n",
      "7\n",
      "Banana\n",
      "Mango\n",
      "Orange\n",
      "5\n",
      "6\n",
      "8\n",
      "Grapes\n"
     ]
    }
   ],
   "source": [
    "for i in fruits1:\n",
    "    if i==1 or i==4:\n",
    "        continue\n",
    "    print(i) "
   ]
  },
  {
   "cell_type": "code",
   "execution_count": 45,
   "id": "77fcf6c7-74fb-40d2-8fcd-9bb6bc84d845",
   "metadata": {},
   "outputs": [
    {
     "name": "stdout",
     "output_type": "stream",
     "text": [
      "0\n",
      "1\n",
      "2\n",
      "3\n",
      "4\n",
      "end of the loop\n"
     ]
    }
   ],
   "source": [
    "for i in range(5):\n",
    "    print(i)\n",
    "else:\n",
    "    print(\"end of the loop\")"
   ]
  },
  {
   "cell_type": "code",
   "execution_count": 46,
   "id": "8034da70-f956-4e9a-a2b4-bbecb97fcfa6",
   "metadata": {},
   "outputs": [
    {
     "name": "stdout",
     "output_type": "stream",
     "text": [
      "0\n",
      "1\n",
      "2\n",
      "3\n",
      "4\n"
     ]
    }
   ],
   "source": [
    "a = 0\n",
    "while a < 5:\n",
    "    print(a)\n",
    "    a+=1"
   ]
  },
  {
   "cell_type": "code",
   "execution_count": 47,
   "id": "8ec70633-b8cc-4f73-8404-a6902ce54fac",
   "metadata": {},
   "outputs": [],
   "source": [
    "d = {'key1' :\"sudh\" , 'contact' : \"gmail\" , \"position\" : \"mentor\"}"
   ]
  },
  {
   "cell_type": "code",
   "execution_count": 48,
   "id": "23a22576-b836-4776-9df0-9edf18c149be",
   "metadata": {},
   "outputs": [
    {
     "name": "stdout",
     "output_type": "stream",
     "text": [
      "key1\n",
      "contact\n",
      "position\n"
     ]
    }
   ],
   "source": [
    "for i in d:\n",
    "    print(i)"
   ]
  },
  {
   "cell_type": "code",
   "execution_count": 50,
   "id": "b30a01e6-999f-47d6-a630-cf3ac632ccbe",
   "metadata": {},
   "outputs": [
    {
     "name": "stdout",
     "output_type": "stream",
     "text": [
      "sudh\n",
      "gmail\n",
      "mentor\n"
     ]
    }
   ],
   "source": [
    "for i in d.values():\n",
    "    print(i)"
   ]
  },
  {
   "cell_type": "code",
   "execution_count": 52,
   "id": "5d278d9a-0f8a-4207-b9d7-98c5afe2b102",
   "metadata": {},
   "outputs": [
    {
     "name": "stdout",
     "output_type": "stream",
     "text": [
      "('key1', 'sudh')  ---- <class 'tuple'>\n",
      "('contact', 'gmail')  ---- <class 'tuple'>\n",
      "('position', 'mentor')  ---- <class 'tuple'>\n"
     ]
    }
   ],
   "source": [
    "for i in d.items():\n",
    "    print(i, \" ----\", type(i))"
   ]
  },
  {
   "cell_type": "code",
   "execution_count": 67,
   "id": "f1db7b3b-b69f-4b17-86b5-35b50e33d7da",
   "metadata": {},
   "outputs": [
    {
     "name": "stdout",
     "output_type": "stream",
     "text": [
      "key1 -- sudh\n",
      "contact -- gmail\n",
      "position -- mentor\n"
     ]
    }
   ],
   "source": [
    "for k, j in d.items():\n",
    "    print(k, \"--\", j)"
   ]
  },
  {
   "cell_type": "code",
   "execution_count": 54,
   "id": "0e2285ad-74ea-4219-bf14-de685cfcca7b",
   "metadata": {},
   "outputs": [
    {
     "name": "stdout",
     "output_type": "stream",
     "text": [
      "1\n",
      "2\n",
      "3\n",
      "4\n",
      "4\n",
      "5\n",
      "5\n",
      "6\n",
      "6\n",
      "7\n"
     ]
    }
   ],
   "source": [
    "# Example\n",
    "i = 0           #iteration variable initialized\n",
    "while i < 7:    # condition is evaluated \n",
    "    if i > 3 :   \n",
    "        print(i)    # block statements are executed until the condition is true and iteration variable is less that 3\n",
    "    i = i + 1\n",
    "    print(i)     # 1, 2, 3, 4, 4, 5, 5, 6, 6, 7"
   ]
  },
  {
   "cell_type": "code",
   "execution_count": 59,
   "id": "7a6fe5aa-dccf-42c7-9798-0f2214905ac6",
   "metadata": {},
   "outputs": [
    {
     "name": "stdout",
     "output_type": "stream",
     "text": [
      "Apple Banana Mango Orange Grapes Pineapple Watermelon Papaya Guava Pomegranate Lemon Lime Sweet Lime Grapefruit Peach "
     ]
    }
   ],
   "source": [
    "for i in fruits:\n",
    "    print(i, end = \" \")"
   ]
  },
  {
   "cell_type": "code",
   "execution_count": 60,
   "id": "c3981b53-310d-4d79-b697-c32352814fcc",
   "metadata": {},
   "outputs": [
    {
     "name": "stdout",
     "output_type": "stream",
     "text": [
      "1\n",
      "2\n",
      "3\n",
      "4\n"
     ]
    }
   ],
   "source": [
    "# Example\n",
    "i = 0           #iteration variable initialized\n",
    "while i < 7:    # condition is evaluated \n",
    "    if i > 3 :   \n",
    "        break   # no more further execution of the loop, once i is greater than 4 \n",
    "        print(i)    # block statements are executed until the condition is true and iteration variable is less that 3\n",
    "    i = i + 1\n",
    "    print(i)"
   ]
  },
  {
   "cell_type": "code",
   "execution_count": 61,
   "id": "82f29d58-c39a-4772-966e-a8c2f6452da7",
   "metadata": {},
   "outputs": [
    {
     "name": "stdout",
     "output_type": "stream",
     "text": [
      "1\n",
      "2\n",
      "3\n",
      "4\n"
     ]
    },
    {
     "ename": "KeyboardInterrupt",
     "evalue": "",
     "output_type": "error",
     "traceback": [
      "\u001b[1;31m---------------------------------------------------------------------------\u001b[0m",
      "\u001b[1;31mKeyboardInterrupt\u001b[0m                         Traceback (most recent call last)",
      "Cell \u001b[1;32mIn[61], line 5\u001b[0m\n\u001b[0;32m      3\u001b[0m \u001b[38;5;28;01mwhile\u001b[39;00m i \u001b[38;5;241m<\u001b[39m \u001b[38;5;241m7\u001b[39m:    \u001b[38;5;66;03m# condition is evaluated \u001b[39;00m\n\u001b[0;32m      4\u001b[0m     \u001b[38;5;28;01mif\u001b[39;00m i \u001b[38;5;241m>\u001b[39m \u001b[38;5;241m3\u001b[39m :   \n\u001b[1;32m----> 5\u001b[0m         \u001b[38;5;28;01mcontinue\u001b[39;00m   \u001b[38;5;66;03m# no more further execution of the loop, once i is greater than 4 \u001b[39;00m\n\u001b[0;32m      6\u001b[0m         \u001b[38;5;28mprint\u001b[39m(i)    \u001b[38;5;66;03m# block statements are executed until the condition is true and iteration variable is less that 3\u001b[39;00m\n\u001b[0;32m      7\u001b[0m     i \u001b[38;5;241m=\u001b[39m i \u001b[38;5;241m+\u001b[39m \u001b[38;5;241m1\u001b[39m\n",
      "\u001b[1;31mKeyboardInterrupt\u001b[0m: "
     ]
    }
   ],
   "source": [
    "# Example\n",
    "i = 0           #iteration variable initialized\n",
    "while i < 7:    # condition is evaluated \n",
    "    if i > 3 :   \n",
    "        continue   # no more further execution of the loop, once i is greater than 4 \n",
    "        print(i)    # block statements are executed until the condition is true and iteration variable is less that 3\n",
    "    i = i + 1\n",
    "    print(i)"
   ]
  },
  {
   "cell_type": "code",
   "execution_count": 62,
   "id": "6acd00d4-7a58-41c7-9d08-08d6b2b8d11e",
   "metadata": {},
   "outputs": [
    {
     "name": "stdout",
     "output_type": "stream",
     "text": [
      "{1, 2, 3, 4, 5}\n",
      "{1, 2, 3, 4, 5}\n",
      "{1, 2, 3, 4, 5}\n",
      "{1, 2, 3, 4, 5}\n",
      "{1, 2, 3, 4, 5}\n"
     ]
    }
   ],
   "source": [
    "s1 = {1,2,3,4,5,2,3,4,2,1}\n",
    "\n",
    "for i in s1:\n",
    "    print(s1)"
   ]
  },
  {
   "cell_type": "code",
   "execution_count": 66,
   "id": "bcc674d4-9ccd-4d9f-9aed-af4dae9a95fe",
   "metadata": {},
   "outputs": [
    {
     "name": "stdout",
     "output_type": "stream",
     "text": [
      "python-0.5\n",
      "python-1.5\n",
      "python-2.5\n",
      "python-3.5\n",
      "python-4.5\n"
     ]
    }
   ],
   "source": [
    "for i in range(5):\n",
    "    print(\"python-\"+str(i+0.5))"
   ]
  },
  {
   "cell_type": "code",
   "execution_count": null,
   "id": "68b99f9d-390c-4f21-aaa4-58bd5fc1e6c3",
   "metadata": {},
   "outputs": [],
   "source": []
  }
 ],
 "metadata": {
  "kernelspec": {
   "display_name": "Python 3 (ipykernel)",
   "language": "python",
   "name": "python3"
  },
  "language_info": {
   "codemirror_mode": {
    "name": "ipython",
    "version": 3
   },
   "file_extension": ".py",
   "mimetype": "text/x-python",
   "name": "python",
   "nbconvert_exporter": "python",
   "pygments_lexer": "ipython3",
   "version": "3.11.7"
  }
 },
 "nbformat": 4,
 "nbformat_minor": 5
}
