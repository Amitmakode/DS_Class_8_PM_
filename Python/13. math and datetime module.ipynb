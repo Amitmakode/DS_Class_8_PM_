{
 "cells": [
  {
   "cell_type": "markdown",
   "id": "2d32f3de-fd80-4145-a8fa-cdb28d5bcbf8",
   "metadata": {},
   "source": [
    "## Math"
   ]
  },
  {
   "cell_type": "code",
   "execution_count": 1,
   "id": "f9471d06-eb29-471a-8459-8662502ad270",
   "metadata": {},
   "outputs": [],
   "source": [
    "import math"
   ]
  },
  {
   "cell_type": "code",
   "execution_count": 2,
   "id": "bd48646c-cff1-49c0-a770-70546eb80ef1",
   "metadata": {},
   "outputs": [
    {
     "data": {
      "text/plain": [
       "3.141592653589793"
      ]
     },
     "execution_count": 2,
     "metadata": {},
     "output_type": "execute_result"
    }
   ],
   "source": [
    "math.pi"
   ]
  },
  {
   "cell_type": "code",
   "execution_count": 4,
   "id": "7a2a842f-6afa-4c44-9e4a-4994b6356664",
   "metadata": {},
   "outputs": [
    {
     "data": {
      "text/plain": [
       "120"
      ]
     },
     "execution_count": 4,
     "metadata": {},
     "output_type": "execute_result"
    }
   ],
   "source": [
    "math.factorial(5)   "
   ]
  },
  {
   "cell_type": "code",
   "execution_count": 5,
   "id": "ace3b055-6e8c-40a6-9d63-bb9bb0e3cbf8",
   "metadata": {},
   "outputs": [
    {
     "data": {
      "text/plain": [
       "60"
      ]
     },
     "execution_count": 5,
     "metadata": {},
     "output_type": "execute_result"
    }
   ],
   "source": [
    "math.lcm(20, 10, 30)"
   ]
  },
  {
   "cell_type": "code",
   "execution_count": 7,
   "id": "12a0ac59-457c-4bfb-98b0-7fe4833d8035",
   "metadata": {},
   "outputs": [
    {
     "data": {
      "text/plain": [
       "56"
      ]
     },
     "execution_count": 7,
     "metadata": {},
     "output_type": "execute_result"
    }
   ],
   "source": [
    "math.comb(8, 3)    #a,b,c,d\n",
    "\n",
    "#ab, bc, cd, da, bd, ca"
   ]
  },
  {
   "cell_type": "code",
   "execution_count": 9,
   "id": "7e6f56ca-ab63-47b9-b874-cf82dc30a992",
   "metadata": {},
   "outputs": [
    {
     "data": {
      "text/plain": [
       "720"
      ]
     },
     "execution_count": 9,
     "metadata": {},
     "output_type": "execute_result"
    }
   ],
   "source": [
    "math.perm(10,3)    #a,b,c,d\n",
    "\n",
    "#ab, ba, ac, ca, ad, da, bc, cb, bd, db, cd, dc"
   ]
  },
  {
   "cell_type": "code",
   "execution_count": 10,
   "id": "99c29165-0694-4960-af24-64de32943b8f",
   "metadata": {},
   "outputs": [
    {
     "data": {
      "text/plain": [
       "30"
      ]
     },
     "execution_count": 10,
     "metadata": {},
     "output_type": "execute_result"
    }
   ],
   "source": [
    "math.floor(30.670)"
   ]
  },
  {
   "cell_type": "code",
   "execution_count": 11,
   "id": "1408a569-2071-4306-a935-94c9c9abf0de",
   "metadata": {},
   "outputs": [
    {
     "data": {
      "text/plain": [
       "31"
      ]
     },
     "execution_count": 11,
     "metadata": {},
     "output_type": "execute_result"
    }
   ],
   "source": [
    "math.ceil(30.25)"
   ]
  },
  {
   "cell_type": "code",
   "execution_count": 12,
   "id": "76ee9532-69f6-4f2a-817d-1973d9086e90",
   "metadata": {},
   "outputs": [
    {
     "data": {
      "text/plain": [
       "3.0"
      ]
     },
     "execution_count": 12,
     "metadata": {},
     "output_type": "execute_result"
    }
   ],
   "source": [
    "math.sqrt(9)"
   ]
  },
  {
   "cell_type": "code",
   "execution_count": 13,
   "id": "390773ef-6974-45cb-9902-457379684759",
   "metadata": {},
   "outputs": [
    {
     "data": {
      "text/plain": [
       "2.8284271247461903"
      ]
     },
     "execution_count": 13,
     "metadata": {},
     "output_type": "execute_result"
    }
   ],
   "source": [
    "math.sqrt(8)"
   ]
  },
  {
   "cell_type": "code",
   "execution_count": 14,
   "id": "4222a33b-3a34-46e7-8dc3-7cb1f402369d",
   "metadata": {},
   "outputs": [
    {
     "data": {
      "text/plain": [
       "10"
      ]
     },
     "execution_count": 14,
     "metadata": {},
     "output_type": "execute_result"
    }
   ],
   "source": [
    "math.gcd(20, 30)"
   ]
  },
  {
   "cell_type": "code",
   "execution_count": 15,
   "id": "57f4ba5e-ddbb-45af-a655-6839073e10b1",
   "metadata": {},
   "outputs": [
    {
     "data": {
      "text/plain": [
       "2.718281828459045"
      ]
     },
     "execution_count": 15,
     "metadata": {},
     "output_type": "execute_result"
    }
   ],
   "source": [
    "math.e"
   ]
  },
  {
   "cell_type": "code",
   "execution_count": 16,
   "id": "e4b54271-6085-43c7-9cc1-183f6d93db9b",
   "metadata": {},
   "outputs": [
    {
     "data": {
      "text/plain": [
       "0.7853981633974483"
      ]
     },
     "execution_count": 16,
     "metadata": {},
     "output_type": "execute_result"
    }
   ],
   "source": [
    "math.radians(45)"
   ]
  },
  {
   "cell_type": "code",
   "execution_count": 17,
   "id": "cba8bda8-f77a-4185-a2dd-6d130a4aecfc",
   "metadata": {},
   "outputs": [
    {
     "data": {
      "text/plain": [
       "6.283185307179586"
      ]
     },
     "execution_count": 17,
     "metadata": {},
     "output_type": "execute_result"
    }
   ],
   "source": [
    "math.tau"
   ]
  },
  {
   "cell_type": "code",
   "execution_count": 21,
   "id": "64302eff-ecb1-40fb-ac26-3b7f15b31bb9",
   "metadata": {},
   "outputs": [
    {
     "data": {
      "text/plain": [
       "2.0"
      ]
     },
     "execution_count": 21,
     "metadata": {},
     "output_type": "execute_result"
    }
   ],
   "source": [
    "math.gamma(3)"
   ]
  },
  {
   "cell_type": "code",
   "execution_count": null,
   "id": "282aa4a8-0040-4410-9fde-eb4b942ad220",
   "metadata": {},
   "outputs": [],
   "source": [
    "math.pi*r**2"
   ]
  },
  {
   "cell_type": "markdown",
   "id": "7f9b72de-d440-49f0-b57a-1e3cb7966721",
   "metadata": {},
   "source": [
    "## Datetime"
   ]
  },
  {
   "cell_type": "code",
   "execution_count": 23,
   "id": "3f36dd58-2113-452e-9648-8ed8ee8c290a",
   "metadata": {},
   "outputs": [],
   "source": [
    "import datetime as dt  #aliase"
   ]
  },
  {
   "cell_type": "code",
   "execution_count": 24,
   "id": "4ef49b4b-56c9-4abc-97c9-b534c001e427",
   "metadata": {},
   "outputs": [],
   "source": [
    "from datetime import date"
   ]
  },
  {
   "cell_type": "code",
   "execution_count": 26,
   "id": "14a6f35b-99b0-4f30-b086-2ea279c58346",
   "metadata": {},
   "outputs": [],
   "source": [
    "today= date.today()"
   ]
  },
  {
   "cell_type": "code",
   "execution_count": 28,
   "id": "d6cbd816-0b7c-4de2-aa83-b359db34c7cb",
   "metadata": {},
   "outputs": [
    {
     "data": {
      "text/plain": [
       "datetime.date(2025, 10, 13)"
      ]
     },
     "execution_count": 28,
     "metadata": {},
     "output_type": "execute_result"
    }
   ],
   "source": [
    "today"
   ]
  },
  {
   "cell_type": "code",
   "execution_count": 35,
   "id": "144acfcb-398f-4c84-acfd-b87addb2adcf",
   "metadata": {},
   "outputs": [
    {
     "data": {
      "text/plain": [
       "'2025-10-13'"
      ]
     },
     "execution_count": 35,
     "metadata": {},
     "output_type": "execute_result"
    }
   ],
   "source": [
    "today.strftime(\"%Y-%m-%d\")"
   ]
  },
  {
   "cell_type": "code",
   "execution_count": 39,
   "id": "7210b25d-6ff8-4267-be3e-d8072c4917bf",
   "metadata": {},
   "outputs": [
    {
     "data": {
      "text/plain": [
       "'25-10-13'"
      ]
     },
     "execution_count": 39,
     "metadata": {},
     "output_type": "execute_result"
    }
   ],
   "source": [
    "today.strftime(\"%y-%m-%d\")"
   ]
  },
  {
   "cell_type": "code",
   "execution_count": 40,
   "id": "5d0bcc43-2ef1-4a64-bbea-f0245e491758",
   "metadata": {},
   "outputs": [
    {
     "data": {
      "text/plain": [
       "'25-Oct-13'"
      ]
     },
     "execution_count": 40,
     "metadata": {},
     "output_type": "execute_result"
    }
   ],
   "source": [
    "today.strftime(\"%y-%b-%d\")"
   ]
  },
  {
   "cell_type": "code",
   "execution_count": 41,
   "id": "ca74e05b-95d9-4b1b-9fec-000f05312b57",
   "metadata": {},
   "outputs": [
    {
     "data": {
      "text/plain": [
       "'25-October-13'"
      ]
     },
     "execution_count": 41,
     "metadata": {},
     "output_type": "execute_result"
    }
   ],
   "source": [
    "today.strftime(\"%y-%B-%d\")"
   ]
  },
  {
   "cell_type": "code",
   "execution_count": 42,
   "id": "538e5679-4732-4559-8e7c-74d2cbfed561",
   "metadata": {},
   "outputs": [
    {
     "data": {
      "text/plain": [
       "'2025-October-13'"
      ]
     },
     "execution_count": 42,
     "metadata": {},
     "output_type": "execute_result"
    }
   ],
   "source": [
    "today.strftime(\"%Y-%B-%d\")"
   ]
  },
  {
   "cell_type": "code",
   "execution_count": 37,
   "id": "93b3e1b0-cebf-438b-87aa-8cb926c71676",
   "metadata": {},
   "outputs": [],
   "source": [
    "from datetime import time"
   ]
  },
  {
   "cell_type": "code",
   "execution_count": 43,
   "id": "ccd47451-3e44-4945-8e36-c22e1e50cc48",
   "metadata": {},
   "outputs": [],
   "source": [
    "time = time(20, 30, 50)"
   ]
  },
  {
   "cell_type": "code",
   "execution_count": 44,
   "id": "0d89a6f2-36e8-4d55-a331-218e0a0ab139",
   "metadata": {},
   "outputs": [
    {
     "data": {
      "text/plain": [
       "datetime.time(20, 30, 50)"
      ]
     },
     "execution_count": 44,
     "metadata": {},
     "output_type": "execute_result"
    }
   ],
   "source": [
    "time"
   ]
  },
  {
   "cell_type": "code",
   "execution_count": 46,
   "id": "78a24dbe-f9cd-43b7-8bf6-755060194edc",
   "metadata": {},
   "outputs": [
    {
     "data": {
      "text/plain": [
       "'20:30:50'"
      ]
     },
     "execution_count": 46,
     "metadata": {},
     "output_type": "execute_result"
    }
   ],
   "source": [
    "time.strftime(\"%H:%M:%S\")"
   ]
  },
  {
   "cell_type": "code",
   "execution_count": 47,
   "id": "11618368-3ea2-4a05-a333-4481d2b2861c",
   "metadata": {},
   "outputs": [],
   "source": [
    "from datetime import datetime"
   ]
  },
  {
   "cell_type": "code",
   "execution_count": 49,
   "id": "9682059c-7266-40b2-a748-aec12a485465",
   "metadata": {},
   "outputs": [],
   "source": [
    "timestamp= datetime.now()"
   ]
  },
  {
   "cell_type": "code",
   "execution_count": 50,
   "id": "bd739873-8d20-4bb9-a466-55d8e384507e",
   "metadata": {},
   "outputs": [
    {
     "data": {
      "text/plain": [
       "datetime.datetime(2025, 10, 13, 20, 30, 44, 971095)"
      ]
     },
     "execution_count": 50,
     "metadata": {},
     "output_type": "execute_result"
    }
   ],
   "source": [
    "timestamp"
   ]
  },
  {
   "cell_type": "code",
   "execution_count": 52,
   "id": "080283fb-8d94-426d-9f2f-942ebff05361",
   "metadata": {},
   "outputs": [
    {
     "data": {
      "text/plain": [
       "'2025-10-13 20:30:44'"
      ]
     },
     "execution_count": 52,
     "metadata": {},
     "output_type": "execute_result"
    }
   ],
   "source": [
    "timestamp.strftime(\"%Y-%m-%d %H:%M:%S\")"
   ]
  },
  {
   "cell_type": "code",
   "execution_count": 54,
   "id": "d2abc541-49db-470d-a2c3-0f06e8f2dfcc",
   "metadata": {},
   "outputs": [],
   "source": [
    "from datetime import timedelta"
   ]
  },
  {
   "cell_type": "code",
   "execution_count": 57,
   "id": "276e9c71-5522-457b-9f59-1ff8a03d567d",
   "metadata": {},
   "outputs": [],
   "source": [
    "tmd = timedelta(days= 5, hours= 1)"
   ]
  },
  {
   "cell_type": "code",
   "execution_count": 58,
   "id": "ac6554de-87ff-460a-bdf4-942299a80c68",
   "metadata": {},
   "outputs": [
    {
     "data": {
      "text/plain": [
       "435600.0"
      ]
     },
     "execution_count": 58,
     "metadata": {},
     "output_type": "execute_result"
    }
   ],
   "source": [
    "tmd.total_seconds()"
   ]
  },
  {
   "cell_type": "code",
   "execution_count": 59,
   "id": "3fdd5f84-3d01-49b2-9e43-8acfedf816a1",
   "metadata": {},
   "outputs": [
    {
     "data": {
      "text/plain": [
       "5"
      ]
     },
     "execution_count": 59,
     "metadata": {},
     "output_type": "execute_result"
    }
   ],
   "source": [
    "tmd.days"
   ]
  },
  {
   "cell_type": "code",
   "execution_count": 60,
   "id": "d16c0dfa-a685-493a-920b-3bee8c6b2c41",
   "metadata": {},
   "outputs": [
    {
     "data": {
      "text/plain": [
       "3600"
      ]
     },
     "execution_count": 60,
     "metadata": {},
     "output_type": "execute_result"
    }
   ],
   "source": [
    "tmd.seconds"
   ]
  },
  {
   "cell_type": "code",
   "execution_count": 61,
   "id": "848420c6-17cb-411f-904c-a7f5a744269a",
   "metadata": {},
   "outputs": [],
   "source": [
    "from datetime import datetime, timezone"
   ]
  },
  {
   "cell_type": "code",
   "execution_count": 62,
   "id": "9e028223-138d-4088-8558-78d91927336e",
   "metadata": {},
   "outputs": [
    {
     "data": {
      "text/plain": [
       "datetime.datetime(2025, 10, 13, 15, 5, 52, 151689, tzinfo=datetime.timezone.utc)"
      ]
     },
     "execution_count": 62,
     "metadata": {},
     "output_type": "execute_result"
    }
   ],
   "source": [
    "datetime.now(timezone.utc)"
   ]
  },
  {
   "cell_type": "code",
   "execution_count": 64,
   "id": "0775812b-206b-4595-bc8d-4ec7655ec426",
   "metadata": {},
   "outputs": [
    {
     "name": "stdout",
     "output_type": "stream",
     "text": [
      "Difference: 1 day, 0:00:00\n"
     ]
    }
   ],
   "source": [
    "now = datetime.now()\n",
    "tomorrow = now + timedelta(days=1)\n",
    "difference = tomorrow - now\n",
    "print(\"Difference:\", difference)"
   ]
  },
  {
   "cell_type": "code",
   "execution_count": 65,
   "id": "51e91c2f-fc94-4b7f-9cb3-b503cc18d2ae",
   "metadata": {},
   "outputs": [
    {
     "name": "stdout",
     "output_type": "stream",
     "text": [
      "Date 30 days from now: 2025-11-12 20:39:39.064372\n"
     ]
    }
   ],
   "source": [
    "now = datetime.now()\n",
    "future_date = now + timedelta(days=30)\n",
    "print(\"Date 30 days from now:\", future_date)"
   ]
  },
  {
   "cell_type": "code",
   "execution_count": 67,
   "id": "1295e32b-9f2b-49b5-8f34-7f218f361821",
   "metadata": {},
   "outputs": [
    {
     "name": "stdout",
     "output_type": "stream",
     "text": [
      "Updated time: 14:45:00\n"
     ]
    }
   ],
   "source": [
    "from datetime import time\n",
    "\n",
    "t = time(14, 30)\n",
    "new_time = t.replace(minute=45)\n",
    "print(\"Updated time:\", new_time)"
   ]
  },
  {
   "cell_type": "code",
   "execution_count": 68,
   "id": "2d5bda22-9057-422a-aac4-94065cdf89e3",
   "metadata": {},
   "outputs": [],
   "source": [
    "new_hours = t.replace(hour=18)"
   ]
  },
  {
   "cell_type": "code",
   "execution_count": 69,
   "id": "5f350766-5ed2-4c57-860e-b1aa9973f20a",
   "metadata": {},
   "outputs": [
    {
     "data": {
      "text/plain": [
       "datetime.time(18, 30)"
      ]
     },
     "execution_count": 69,
     "metadata": {},
     "output_type": "execute_result"
    }
   ],
   "source": [
    "new_hours"
   ]
  },
  {
   "cell_type": "code",
   "execution_count": null,
   "id": "630bc6bc-ef46-4d00-8ad7-189504542345",
   "metadata": {},
   "outputs": [],
   "source": [
    "y, m, d, h, m, s"
   ]
  },
  {
   "cell_type": "code",
   "execution_count": null,
   "id": "37ffbf75-d8fc-4098-9439-84282892c3ab",
   "metadata": {},
   "outputs": [],
   "source": []
  },
  {
   "cell_type": "code",
   "execution_count": 70,
   "id": "01dcf871-d5ea-4e09-ad67-768f72e1f833",
   "metadata": {},
   "outputs": [],
   "source": [
    "import random"
   ]
  },
  {
   "cell_type": "code",
   "execution_count": 77,
   "id": "09645354-fdb9-4284-99a2-dd54aa6fd0d5",
   "metadata": {},
   "outputs": [
    {
     "data": {
      "text/plain": [
       "2"
      ]
     },
     "execution_count": 77,
     "metadata": {},
     "output_type": "execute_result"
    }
   ],
   "source": [
    "random.randint(1, 6)"
   ]
  },
  {
   "cell_type": "code",
   "execution_count": 81,
   "id": "36b96930-85bc-463a-9483-7094082c55df",
   "metadata": {},
   "outputs": [
    {
     "data": {
      "text/plain": [
       "<random.Random at 0x1fa26db6770>"
      ]
     },
     "execution_count": 81,
     "metadata": {},
     "output_type": "execute_result"
    }
   ],
   "source": [
    "random.Random(7)"
   ]
  },
  {
   "cell_type": "code",
   "execution_count": 88,
   "id": "614de216-189e-4152-a97b-736bb54837be",
   "metadata": {},
   "outputs": [
    {
     "data": {
      "text/plain": [
       "0.8569620688092463"
      ]
     },
     "execution_count": 88,
     "metadata": {},
     "output_type": "execute_result"
    }
   ],
   "source": [
    "random.random()"
   ]
  },
  {
   "cell_type": "code",
   "execution_count": 95,
   "id": "89c2ed86-0d7f-4ade-9831-3aa3b6f12199",
   "metadata": {},
   "outputs": [
    {
     "data": {
      "text/plain": [
       "6"
      ]
     },
     "execution_count": 95,
     "metadata": {},
     "output_type": "execute_result"
    }
   ],
   "source": [
    "random.randrange(2, 10, 2)"
   ]
  },
  {
   "cell_type": "code",
   "execution_count": null,
   "id": "f32f8959-0fc3-4172-99b0-a293995b3a4d",
   "metadata": {},
   "outputs": [],
   "source": []
  }
 ],
 "metadata": {
  "kernelspec": {
   "display_name": "Python 3 (ipykernel)",
   "language": "python",
   "name": "python3"
  },
  "language_info": {
   "codemirror_mode": {
    "name": "ipython",
    "version": 3
   },
   "file_extension": ".py",
   "mimetype": "text/x-python",
   "name": "python",
   "nbconvert_exporter": "python",
   "pygments_lexer": "ipython3",
   "version": "3.11.7"
  }
 },
 "nbformat": 4,
 "nbformat_minor": 5
}
